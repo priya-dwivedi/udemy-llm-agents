{
 "cells": [
  {
   "cell_type": "code",
   "execution_count": 1,
   "metadata": {},
   "outputs": [
    {
     "name": "stderr",
     "output_type": "stream",
     "text": [
      "/Users/pdwivedi/miniconda3/envs/llm_agents/lib/python3.12/site-packages/tqdm/auto.py:21: TqdmWarning: IProgress not found. Please update jupyter and ipywidgets. See https://ipywidgets.readthedocs.io/en/stable/user_install.html\n",
      "  from .autonotebook import tqdm as notebook_tqdm\n"
     ]
    }
   ],
   "source": [
    "from langchain_core.messages import HumanMessage, BaseMessage\n",
    "# from decouple import config\n",
    "from typing import List, Sequence\n",
    "import pprint\n",
    "import os\n",
    "from langchain_core.prompts import ChatPromptTemplate, MessagesPlaceholder\n",
    "from gemini_llm import GeminiLLM\n"
   ]
  },
  {
   "cell_type": "code",
   "execution_count": 2,
   "metadata": {},
   "outputs": [
    {
     "data": {
      "text/plain": [
       "True"
      ]
     },
     "execution_count": 2,
     "metadata": {},
     "output_type": "execute_result"
    }
   ],
   "source": [
    "from dotenv import load_dotenv\n",
    "load_dotenv()"
   ]
  },
  {
   "cell_type": "code",
   "execution_count": 3,
   "metadata": {},
   "outputs": [],
   "source": [
    "os.environ[\"GOOGLE_API_KEY\"] = os.getenv(\"OPENAI_API_KEY\") ## Put your OpenAI API key here\n",
    "os.environ[\"LANGCHAIN_API_KEY\"] = os.getenv(\"LANGCHAIN_API_KEY\") ## Put your Langsmith API key here\n",
    "os.environ[\"LANGCHAIN_HUB_API_KEY\"] = os.getenv(\"LANGCHAIN_API_KEY\") ## Put your Langsmith API key here\n",
    "os.environ[\"LANGCHAIN_TRACING_V2\"] = 'true' ## Set this as True\n",
    "os.environ[\"LANGCHAIN_ENDPOINT\"] = 'https://api.smith.langchain.com/' ## Set this as: https://api.smith.langchain.com/\n",
    "os.environ[\"LANGCHAIN_HUB_API_URL\"] = 'https://api.hub.langchain.com' ## Set this as : https://api.hub.langchain.com\n",
    "os.environ[\"LANGCHAIN_PROJECT\"] = 'llm-agents-planning'"
   ]
  },
  {
   "cell_type": "markdown",
   "metadata": {},
   "source": [
    "## Define prompts for Generation and Reflection"
   ]
  },
  {
   "cell_type": "markdown",
   "metadata": {},
   "source": [
    "![Reflection](images/reflection.png)"
   ]
  },
  {
   "cell_type": "code",
   "execution_count": 14,
   "metadata": {},
   "outputs": [],
   "source": [
    "generation_prompt = ChatPromptTemplate.from_messages(\n",
    "    [\n",
    "        (\n",
    "            \"system\",\n",
    "            \"You are an AI assistant researcher tasked with sharing recipes based on the user's request. Share your top 3 recipes\"\n",
    "            \" If the user provides critique, respond with a revised version of your previous attempts.\",\n",
    "        ),\n",
    "        MessagesPlaceholder(variable_name=\"messages\"),\n",
    "    ]\n",
    ")\n",
    "\n",
    "llm = GeminiLLM(model='gemini-1.5-flash-latest', temperature=0.3)\n",
    "\n",
    "generate_agent = generation_prompt | llm"
   ]
  },
  {
   "cell_type": "code",
   "execution_count": 15,
   "metadata": {},
   "outputs": [
    {
     "name": "stdout",
     "output_type": "stream",
     "text": [
      "('Here are 3 breakfast recipes for you:\\n'\n",
      " '\\n'\n",
      " '**1.  Overnight Oats**\\n'\n",
      " '\\n'\n",
      " '* **Ingredients:**\\n'\n",
      " '    * 1/2 cup rolled oats\\n'\n",
      " '    * 1/2 cup milk (any kind)\\n'\n",
      " '    * 1/4 cup yogurt (Greek or regular)\\n'\n",
      " '    * 1 tablespoon chia seeds\\n'\n",
      " '    * 1 teaspoon honey or maple syrup (optional)\\n'\n",
      " '    * 1/4 teaspoon vanilla extract\\n'\n",
      " '    * Toppings of your choice (fruit, nuts, granola)\\n'\n",
      " '\\n'\n",
      " '* **Instructions:**\\n'\n",
      " '    1. Combine all ingredients in a jar or container.\\n'\n",
      " '    2. Stir well and refrigerate overnight.\\n'\n",
      " '    3. In the morning, top with your favorite toppings and enjoy!\\n'\n",
      " '\\n'\n",
      " '**2.  Scrambled Eggs with Avocado Toast**\\n'\n",
      " '\\n'\n",
      " '* **Ingredients:**\\n'\n",
      " '    * 2 eggs\\n'\n",
      " '    * 1/4 avocado, mashed\\n'\n",
      " '    * 1 slice whole-wheat toast\\n'\n",
      " '    * Salt and pepper to taste\\n'\n",
      " '\\n'\n",
      " '* **Instructions:**\\n'\n",
      " '    1. Toast the bread.\\n'\n",
      " '    2. Scramble the eggs with salt and pepper.\\n'\n",
      " '    3. Spread the mashed avocado on the toast.\\n'\n",
      " '    4. Top with the scrambled eggs.\\n'\n",
      " '\\n'\n",
      " '**3.  Breakfast Burrito**\\n'\n",
      " '\\n'\n",
      " '* **Ingredients:**\\n'\n",
      " '    * 1 large flour tortilla\\n'\n",
      " '    * 1 egg, scrambled\\n'\n",
      " '    * 1/4 cup shredded cheese\\n'\n",
      " '    * 1/4 cup salsa\\n'\n",
      " '    * 1/4 cup black beans, warmed\\n'\n",
      " '    * 1/4 cup chopped onions and peppers (optional)\\n'\n",
      " '\\n'\n",
      " '* **Instructions:**\\n'\n",
      " '    1. Warm the tortilla in a pan or microwave.\\n'\n",
      " '    2. Scramble the egg and add cheese, salsa, beans, and onions/peppers.\\n'\n",
      " '    3. Fill the tortilla with the egg mixture and fold it in half.\\n'\n",
      " '    4. Enjoy! \\n')\n"
     ]
    }
   ],
   "source": [
    "result = generate_agent.invoke({\"messages\": [\"Share breakfast recipes\"]})\n",
    "pprint.pprint(result)"
   ]
  },
  {
   "cell_type": "code",
   "execution_count": 6,
   "metadata": {},
   "outputs": [],
   "source": [
    "reflection_prompt = ChatPromptTemplate.from_messages(\n",
    "    [\n",
    "        #  this needs to be a tuple so do not forget the , at the end\n",
    "        (\n",
    "            \"system\",\n",
    "            \"You are a food critic who focuses specially on healthy organic food.\"\n",
    "            \"Provide detailed feedback to the recipes presented to you to make them healthy.\"\n",
    "            \"You also want to focus on food that is protien rich, not very fatty and not with too much meat\"\n",
    "            \"Provide your feedback as a numbered list\"\n",
    "        ),\n",
    "        MessagesPlaceholder(variable_name=\"messages\"),\n",
    "    ]\n",
    ")\n",
    "\n",
    "reflect_agent = reflection_prompt | llm"
   ]
  },
  {
   "cell_type": "code",
   "execution_count": 16,
   "metadata": {},
   "outputs": [
    {
     "name": "stdout",
     "output_type": "stream",
     "text": [
      "('Here is my feedback on the breakfast options, focusing on healthy, '\n",
      " 'protein-rich, low-fat, and minimal meat:\\n'\n",
      " '\\n'\n",
      " \"1. **Overnight Oats:** This is a great start! It's naturally low in fat and \"\n",
      " \"a good source of fiber. Here's how to make it even healthier and \"\n",
      " 'protein-rich:\\n'\n",
      " '\\n'\n",
      " '    * **Swap the milk:** Opt for unsweetened almond milk, soy milk, or oat '\n",
      " 'milk for a lower calorie and fat option.\\n'\n",
      " '    * **Boost the protein:** Add a scoop of protein powder (whey, soy, or '\n",
      " 'plant-based) to the mix.\\n'\n",
      " '    * **Choose healthy toppings:**  Instead of honey or maple syrup, '\n",
      " 'consider a drizzle of natural peanut butter or a sprinkle of cinnamon for '\n",
      " 'sweetness.  Choose berries, chopped nuts, or seeds for toppings.\\n'\n",
      " '\\n'\n",
      " \"2. **Scrambled Eggs with Avocado Toast:** This is a solid choice, but let's \"\n",
      " 'make it even better:\\n'\n",
      " '\\n'\n",
      " '    * **Whole eggs are best:**  While some people prefer egg whites, whole '\n",
      " 'eggs provide more nutrients, including choline, which is important for brain '\n",
      " 'health.\\n'\n",
      " '    * **Avocado is a winner:**  Avocado is a great source of healthy fats, '\n",
      " 'fiber, and vitamins. \\n'\n",
      " '    * **Whole-grain toast is key:**  Choose a whole-grain bread for added '\n",
      " 'fiber and complex carbohydrates.\\n'\n",
      " '    * **Skip the cheese:**  Cheese can be high in saturated fat.  Consider '\n",
      " 'adding a sprinkle of nutritional yeast for a cheesy flavor.\\n'\n",
      " '\\n'\n",
      " '3. **Breakfast Burrito:**  This one needs some work to make it healthy.  '\n",
      " \"Here's how to revamp it:\\n\"\n",
      " '\\n'\n",
      " '    * **Swap the tortilla:**  Use a whole-wheat tortilla or a lettuce wrap '\n",
      " 'for a lower-carb, higher-fiber option.\\n'\n",
      " '    * **Reduce the cheese:**  Use a small amount of low-fat cheese or omit '\n",
      " 'it altogether.\\n'\n",
      " '    * **Focus on protein and veggies:**  Load up on black beans, chopped '\n",
      " 'veggies (spinach, bell peppers, onions), and a generous amount of scrambled '\n",
      " 'eggs.\\n'\n",
      " '    * **Skip the salsa:**  Salsa can be high in sugar.  Use a small amount '\n",
      " 'of hot sauce or a sprinkle of chili powder for flavor.\\n'\n",
      " '\\n'\n",
      " '**Overall:**  All three options have potential to be healthy and delicious '\n",
      " 'breakfasts.  By making a few simple swaps and focusing on protein, fiber, '\n",
      " 'and healthy fats, you can create a nutritious and satisfying meal to start '\n",
      " 'your day. \\n')\n"
     ]
    }
   ],
   "source": [
    "result = reflect_agent.invoke({\"messages\": [result]})\n",
    "pprint.pprint(result)"
   ]
  },
  {
   "cell_type": "markdown",
   "metadata": {},
   "source": [
    "## Define the Langgraph Graph"
   ]
  },
  {
   "cell_type": "code",
   "execution_count": 18,
   "metadata": {},
   "outputs": [],
   "source": [
    "from langgraph.graph import MessageGraph, END"
   ]
  },
  {
   "cell_type": "markdown",
   "metadata": {},
   "source": [
    "### Define generate and reflect nodes"
   ]
  },
  {
   "cell_type": "code",
   "execution_count": 17,
   "metadata": {},
   "outputs": [],
   "source": [
    "async def generation_node(state: Sequence[BaseMessage]):\n",
    "    return await generate_agent.ainvoke({\"messages\": state})\n",
    "\n",
    "async def reflection_node(state: Sequence[BaseMessage]):\n",
    "    return await reflect_agent.ainvoke({\"messages\": state})\n"
   ]
  },
  {
   "cell_type": "code",
   "execution_count": 19,
   "metadata": {},
   "outputs": [],
   "source": [
    "builder = MessageGraph()\n",
    "builder.add_node(\"generate\", generation_node)\n",
    "builder.add_node(\"reflect\", reflection_node)\n",
    "builder.set_entry_point(\"generate\")\n",
    "\n",
    "\n",
    "def should_continue(state: List[BaseMessage]):\n",
    "    if len(state) > 4:\n",
    "        return END\n",
    "    return \"reflect\"\n",
    "\n",
    "\n",
    "builder.add_conditional_edges(\"generate\", should_continue)\n",
    "builder.add_edge(\"reflect\", \"generate\")\n",
    "graph = builder.compile()"
   ]
  },
  {
   "cell_type": "code",
   "execution_count": 20,
   "metadata": {},
   "outputs": [
    {
     "name": "stdout",
     "output_type": "stream",
     "text": [
      "                +-----------+              \n",
      "                | __start__ |              \n",
      "                +-----------+              \n",
      "                       *                   \n",
      "                       *                   \n",
      "                       *                   \n",
      "                 +----------+              \n",
      "                 | generate |              \n",
      "                 +----------+              \n",
      "                **           **            \n",
      "              **               **          \n",
      "            **                   **        \n",
      "+-----------------+                **      \n",
      "| should_continue |                 *      \n",
      "+-----------------+**               *      \n",
      "          *          *****          *      \n",
      "          *               ****      *      \n",
      "          *                   ***   *      \n",
      "    +---------+               +---------+  \n",
      "    | __end__ |               | reflect |  \n",
      "    +---------+               +---------+  \n"
     ]
    }
   ],
   "source": [
    "graph.get_graph().print_ascii()"
   ]
  },
  {
   "cell_type": "code",
   "execution_count": 21,
   "metadata": {},
   "outputs": [
    {
     "data": {
      "image/jpeg": "[encoded data removed]",
      "text/plain": [
       "<IPython.core.display.Image object>"
      ]
     },
     "metadata": {},
     "output_type": "display_data"
    }
   ],
   "source": [
    "from IPython.display import Image, display\n",
    "\n",
    "try:\n",
    "    display(Image(graph.get_graph().draw_mermaid_png()))\n",
    "except:\n",
    "    # This requires some extra dependencies and is optional\n",
    "    pass"
   ]
  },
  {
   "cell_type": "markdown",
   "metadata": {},
   "source": [
    "### Start graph execution"
   ]
  },
  {
   "cell_type": "code",
   "execution_count": 22,
   "metadata": {},
   "outputs": [
    {
     "name": "stderr",
     "output_type": "stream",
     "text": [
      "Error in LangChainTracer.on_chain_end callback: AttributeError(\"'NoneType' object has no attribute 'append'\")\n"
     ]
    },
    {
     "name": "stdout",
     "output_type": "stream",
     "text": [
      "{'generate': 'Here are three breakfast recipes for you:\\n\\n1. **Overnight Oats:** \\n    * Combine 1/2 cup rolled oats, 1/2 cup milk (dairy or non-dairy), 1/4 cup yogurt, 1 tablespoon chia seeds, and a drizzle of honey or maple syrup in a jar. \\n    * Stir well and refrigerate overnight. \\n    * In the morning, top with your favorite fruits, nuts, or seeds.\\n\\n2. **Breakfast Burrito:**\\n    * Scramble 2 eggs with a sprinkle of salt and pepper. \\n    * Warm a large flour tortilla in a pan. \\n    * Fill the tortilla with scrambled eggs, shredded cheese, diced tomatoes, and your choice of protein (like beans, sausage, or bacon). \\n    * Fold the tortilla and enjoy!\\n\\n3. **Avocado Toast:**\\n    * Toast a slice of bread. \\n    * Mash half an avocado with a fork and spread it on the toast. \\n    * Season with salt, pepper, and a squeeze of lemon juice. \\n    * Top with a sprinkle of red pepper flakes for a bit of heat. \\n'}\n",
      "---\n"
     ]
    },
    {
     "name": "stderr",
     "output_type": "stream",
     "text": [
      "Error in LangChainTracer.on_chain_end callback: AttributeError(\"'NoneType' object has no attribute 'append'\")\n"
     ]
    },
    {
     "name": "stdout",
     "output_type": "stream",
     "text": [
      "{'reflect': \"As a health-focused food critic, here's my feedback on your breakfast recipes:\\n\\n1. **Overnight Oats:** This is a great start!  Overnight oats are a fantastic way to get a protein-rich, fiber-filled breakfast. Here's how to make it even healthier:\\n\\n    * **Swap the milk:** Opt for unsweetened almond milk, soy milk, or oat milk for a lower-calorie, lower-fat option.\\n    * **Reduce the sugar:**  Honey and maple syrup are added sugars. Use a small amount of natural sweetener like stevia or a sprinkle of cinnamon for flavor instead.\\n    * **Boost the protein:** Add a scoop of protein powder to your oats for a more filling and satiating breakfast.\\n    * **Go for healthy toppings:**  Instead of just fruit, add a handful of nuts and seeds for healthy fats and extra protein.\\n\\n2. **Breakfast Burrito:**  While delicious, the breakfast burrito needs some serious adjustments to fit my healthy criteria. \\n\\n    * **Skip the flour tortilla:** Opt for a whole-wheat tortilla or a lettuce wrap for a lower-carb, higher-fiber option.\\n    * **Limit the cheese:**  Choose a low-fat cheese or skip it altogether.\\n    * **Choose lean protein:**  Beans are a great protein source, but avoid sausage and bacon.  Consider tofu scramble, tempeh, or lean ground turkey for a protein boost.\\n    * **Add veggies:**  Load up on veggies like spinach, bell peppers, and onions for added nutrients and fiber.\\n\\n3. **Avocado Toast:**  Avocado toast is a healthy and delicious option, but there are a few tweaks to make it even better:\\n\\n    * **Whole-grain toast:**  Choose whole-grain bread for more fiber and nutrients.\\n    * **Limit the avocado:**  Half an avocado is plenty.  \\n    * **Add protein:**  Top your avocado toast with a hard-boiled egg, a sprinkle of hemp seeds, or a dollop of Greek yogurt for extra protein.\\n    * **Experiment with spices:**  Get creative with spices like cumin, paprika, or chili powder for added flavor and antioxidants. \\n\"}\n",
      "---\n"
     ]
    },
    {
     "name": "stderr",
     "output_type": "stream",
     "text": [
      "Error in LangChainTracer.on_chain_end callback: AttributeError(\"'NoneType' object has no attribute 'append'\")\n"
     ]
    },
    {
     "name": "stdout",
     "output_type": "stream",
     "text": [
      "{'generate': '## Revised Breakfast Recipes (Health-Focused)\\n\\nHere are three revised breakfast recipes, incorporating your feedback for a healthier and more nutritious start to your day:\\n\\n**1. Power-Packed Overnight Oats:**\\n\\n* **Ingredients:**\\n    * 1/2 cup rolled oats\\n    * 1/2 cup unsweetened almond milk (or soy/oat milk)\\n    * 1/4 cup plain Greek yogurt\\n    * 1 tablespoon chia seeds\\n    * 1/4 teaspoon cinnamon (or a small amount of stevia)\\n    * 1 scoop protein powder (optional)\\n* **Instructions:**\\n    * Combine all ingredients in a jar and stir well.\\n    * Refrigerate overnight.\\n    * In the morning, top with a handful of chopped nuts (almonds, walnuts, pecans), seeds (pumpkin, flax, sunflower), and fresh berries.\\n\\n**2. Veggie-Packed Breakfast Burrito:**\\n\\n* **Ingredients:**\\n    * 1 whole-wheat tortilla (or lettuce wrap)\\n    * 2 eggs (scrambled with a sprinkle of salt and pepper)\\n    * 1/2 cup cooked black beans\\n    * 1/4 cup chopped bell pepper\\n    * 1/4 cup chopped onion\\n    * 1/4 cup chopped spinach\\n    * 1/4 cup shredded low-fat cheese (optional)\\n    * Salsa (optional)\\n* **Instructions:**\\n    * Scramble the eggs with a sprinkle of salt and pepper.\\n    * Warm the tortilla in a pan.\\n    * Fill the tortilla with the scrambled eggs, black beans, bell pepper, onion, spinach, and cheese (if using).\\n    * Fold the tortilla and enjoy with salsa on the side.\\n\\n**3. Protein-Packed Avocado Toast:**\\n\\n* **Ingredients:**\\n    * 1 slice whole-grain bread\\n    * 1/4 avocado (mashed with a fork)\\n    * 1 hard-boiled egg (sliced)\\n    * 1 tablespoon hemp seeds\\n    * Salt, pepper, and a squeeze of lemon juice\\n    * Optional: cumin, paprika, or chili powder\\n* **Instructions:**\\n    * Toast the bread.\\n    * Mash the avocado and spread it on the toast.\\n    * Top with the sliced hard-boiled egg, hemp seeds, and season with salt, pepper, and lemon juice.\\n    * Sprinkle with your favorite spices for added flavor. \\n'}\n",
      "---\n"
     ]
    },
    {
     "name": "stderr",
     "output_type": "stream",
     "text": [
      "Error in LangChainTracer.on_chain_end callback: AttributeError(\"'NoneType' object has no attribute 'append'\")\n"
     ]
    },
    {
     "name": "stdout",
     "output_type": "stream",
     "text": [
      "{'reflect': \"##  Health-Focused Food Critic's Feedback on Revised Breakfast Recipes:\\n\\nYou've made some great improvements to these breakfast recipes, focusing on protein, fiber, and minimizing added sugars and unhealthy fats. Here's my detailed feedback:\\n\\n**1. Power-Packed Overnight Oats:**\\n\\n* **Excellent:**  The use of unsweetened almond milk, Greek yogurt, and chia seeds is a fantastic choice for protein and healthy fats. \\n* **Suggestion:** Consider adding a small amount of ground flaxseed for extra fiber and omega-3 fatty acids.\\n* **Suggestion:**  While the optional protein powder is a good addition, you could also consider adding a tablespoon of nut butter for a more satiating and flavorful experience.\\n\\n**2. Veggie-Packed Breakfast Burrito:**\\n\\n* **Excellent:**  The use of whole-wheat tortillas, black beans, and a variety of vegetables is a great way to boost fiber and nutrients. \\n* **Suggestion:**  Consider using a low-sodium salsa for a flavorful and healthy addition.\\n* **Suggestion:**  If using cheese, opt for a low-fat cheddar or a sprinkle of nutritional yeast for a cheesy flavor without the added fat.\\n* **Suggestion:**  For a more protein-packed option, consider adding a small amount of crumbled tempeh or tofu scramble to the burrito.\\n\\n**3. Protein-Packed Avocado Toast:**\\n\\n* **Excellent:**  The combination of whole-grain bread, avocado, hard-boiled egg, and hemp seeds is a great source of protein, healthy fats, and fiber.\\n* **Suggestion:**  Consider using a sprinkle of red pepper flakes or a dash of hot sauce for a bit of heat and flavor.\\n* **Suggestion:**  For a more visually appealing and flavorful experience, consider lightly grilling the avocado toast before adding the toppings.\\n\\n**Overall:**  You've done a great job of creating healthy and delicious breakfast options that are packed with protein, fiber, and nutrients.  These recipes are a fantastic starting point for a nutritious and satisfying morning meal. \\n\"}\n",
      "---\n"
     ]
    },
    {
     "name": "stderr",
     "output_type": "stream",
     "text": [
      "Error in LangChainTracer.on_chain_end callback: AttributeError(\"'NoneType' object has no attribute 'append'\")\n"
     ]
    },
    {
     "name": "stdout",
     "output_type": "stream",
     "text": [
      "{'generate': '##  Health-Focused Breakfast Recipes (Final Version)\\n\\nHere are the final versions of the breakfast recipes, incorporating all the feedback from the health-focused food critic:\\n\\n**1. Power-Packed Overnight Oats:**\\n\\n* **Ingredients:**\\n    * 1/2 cup rolled oats\\n    * 1/2 cup unsweetened almond milk (or soy/oat milk)\\n    * 1/4 cup plain Greek yogurt\\n    * 1 tablespoon chia seeds\\n    * 1 tablespoon ground flaxseed\\n    * 1/4 teaspoon cinnamon (or a small amount of stevia)\\n    * 1 scoop protein powder (optional)\\n    * 1 tablespoon nut butter (optional)\\n* **Instructions:**\\n    * Combine all ingredients in a jar and stir well.\\n    * Refrigerate overnight.\\n    * In the morning, top with a handful of chopped nuts (almonds, walnuts, pecans), seeds (pumpkin, flax, sunflower), and fresh berries.\\n\\n**2. Veggie-Packed Breakfast Burrito:**\\n\\n* **Ingredients:**\\n    * 1 whole-wheat tortilla (or lettuce wrap)\\n    * 2 eggs (scrambled with a sprinkle of salt and pepper)\\n    * 1/2 cup cooked black beans\\n    * 1/4 cup chopped bell pepper\\n    * 1/4 cup chopped onion\\n    * 1/4 cup chopped spinach\\n    * 1/4 cup crumbled tempeh or tofu scramble (optional)\\n    * 1/4 cup shredded low-fat cheddar cheese (optional)\\n    * 1 tablespoon low-sodium salsa (optional)\\n* **Instructions:**\\n    * Scramble the eggs with a sprinkle of salt and pepper.\\n    * Warm the tortilla in a pan.\\n    * Fill the tortilla with the scrambled eggs, black beans, bell pepper, onion, spinach, tempeh/tofu scramble (if using), and cheese (if using).\\n    * Fold the tortilla and enjoy with salsa on the side.\\n\\n**3. Protein-Packed Avocado Toast:**\\n\\n* **Ingredients:**\\n    * 1 slice whole-grain bread\\n    * 1/4 avocado (mashed with a fork)\\n    * 1 hard-boiled egg (sliced)\\n    * 1 tablespoon hemp seeds\\n    * Salt, pepper, and a squeeze of lemon juice\\n    * 1/4 teaspoon red pepper flakes (optional)\\n    * 1/4 teaspoon cumin, paprika, or chili powder (optional)\\n* **Instructions:**\\n    * Toast the bread.\\n    * Mash the avocado and spread it on the toast.\\n    * Lightly grill the avocado toast (optional).\\n    * Top with the sliced hard-boiled egg, hemp seeds, and season with salt, pepper, and lemon juice.\\n    * Sprinkle with red pepper flakes, cumin, paprika, or chili powder for added flavor. \\n\\nThese recipes are now even more nutritious and flavorful, offering a delicious and healthy start to your day. \\n'}\n",
      "---\n"
     ]
    }
   ],
   "source": [
    "async for event in graph.astream(\n",
    "    [\n",
    "        HumanMessage(\n",
    "            content=\"Share some breakfast recipes\"\n",
    "        )\n",
    "    ],\n",
    "):\n",
    "    print(event)\n",
    "    print(\"---\")"
   ]
  },
  {
   "cell_type": "code",
   "execution_count": null,
   "metadata": {},
   "outputs": [],
   "source": []
  }
 ],
 "metadata": {
  "kernelspec": {
   "display_name": "llm_agents",
   "language": "python",
   "name": "python3"
  },
  "language_info": {
   "codemirror_mode": {
    "name": "ipython",
    "version": 3
   },
   "file_extension": ".py",
   "mimetype": "text/x-python",
   "name": "python",
   "nbconvert_exporter": "python",
   "pygments_lexer": "ipython3",
   "version": "3.12.2"
  }
 },
 "nbformat": 4,
 "nbformat_minor": 2
}
