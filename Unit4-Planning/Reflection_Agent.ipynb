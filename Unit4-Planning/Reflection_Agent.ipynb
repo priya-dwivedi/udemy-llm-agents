{
 "cells": [
  {
   "cell_type": "code",
   "execution_count": 1,
   "metadata": {},
   "outputs": [
    {
     "name": "stderr",
     "output_type": "stream",
     "text": [
      "/Users/pdwivedi/miniconda3/envs/test/lib/python3.12/site-packages/tqdm/auto.py:21: TqdmWarning: IProgress not found. Please update jupyter and ipywidgets. See https://ipywidgets.readthedocs.io/en/stable/user_install.html\n",
      "  from .autonotebook import tqdm as notebook_tqdm\n"
     ]
    }
   ],
   "source": [
    "from langchain_core.messages import HumanMessage, BaseMessage\n",
    "# from decouple import config\n",
    "from typing import List, Sequence\n",
    "import pprint\n",
    "import os\n",
    "from langchain_core.prompts import ChatPromptTemplate, MessagesPlaceholder\n",
    "from gemini_llm import GeminiLLM\n"
   ]
  },
  {
   "cell_type": "code",
   "execution_count": 2,
   "metadata": {},
   "outputs": [
    {
     "data": {
      "text/plain": [
       "True"
      ]
     },
     "execution_count": 2,
     "metadata": {},
     "output_type": "execute_result"
    }
   ],
   "source": [
    "from dotenv import load_dotenv\n",
    "load_dotenv()"
   ]
  },
  {
   "cell_type": "code",
   "execution_count": 3,
   "metadata": {},
   "outputs": [],
   "source": [
    "os.environ[\"GOOGLE_API_KEY\"] = os.getenv(\"OPENAI_API_KEY\") ## Put your OpenAI API key here\n",
    "os.environ[\"LANGCHAIN_API_KEY\"] = os.getenv(\"LANGCHAIN_API_KEY\") ## Put your Langsmith API key here\n",
    "os.environ[\"LANGCHAIN_HUB_API_KEY\"] = os.getenv(\"LANGCHAIN_API_KEY\") ## Put your Langsmith API key here\n",
    "os.environ[\"LANGCHAIN_TRACING_V2\"] = 'true' ## Set this as True\n",
    "os.environ[\"LANGCHAIN_ENDPOINT\"] = 'https://api.smith.langchain.com/' ## Set this as: https://api.smith.langchain.com/\n",
    "os.environ[\"LANGCHAIN_HUB_API_URL\"] = 'https://api.hub.langchain.com' ## Set this as : https://api.hub.langchain.com\n",
    "os.environ[\"LANGCHAIN_PROJECT\"] = 'llm-agents-planning'"
   ]
  },
  {
   "cell_type": "markdown",
   "metadata": {},
   "source": [
    "## Define prompts for Generation and Reflection"
   ]
  },
  {
   "cell_type": "markdown",
   "metadata": {},
   "source": [
    "![Reflection](images/reflection.png)"
   ]
  },
  {
   "cell_type": "code",
   "execution_count": 4,
   "metadata": {},
   "outputs": [],
   "source": [
    "generation_prompt = ChatPromptTemplate.from_messages(\n",
    "    [\n",
    "        (\n",
    "            \"system\",\n",
    "            \"You are an AI assistant researcher tasked with sharing recipes based on the user's request. Share your top 3 recipes\"\n",
    "            \" If the user provides critique, respond with a revised version of your previous attempts.\",\n",
    "        ),\n",
    "        MessagesPlaceholder(variable_name=\"messages\"),\n",
    "    ]\n",
    ")\n",
    "\n",
    "llm = GeminiLLM(model='gemini-1.5-flash-latest', temperature=0.3)\n",
    "\n",
    "generate_agent = generation_prompt | llm"
   ]
  },
  {
   "cell_type": "code",
   "execution_count": 5,
   "metadata": {},
   "outputs": [
    {
     "name": "stdout",
     "output_type": "stream",
     "text": [
      "('Here are 3 breakfast recipes for you:\\n'\n",
      " '\\n'\n",
      " '**1.  Overnight Oats:**\\n'\n",
      " '\\n'\n",
      " '* **Ingredients:**\\n'\n",
      " '    * 1/2 cup rolled oats\\n'\n",
      " '    * 1/2 cup milk (any kind)\\n'\n",
      " '    * 1/4 cup yogurt (Greek or regular)\\n'\n",
      " '    * 1 tablespoon chia seeds\\n'\n",
      " '    * 1 teaspoon honey or maple syrup (optional)\\n'\n",
      " '    * 1/4 teaspoon vanilla extract\\n'\n",
      " '    * Toppings of your choice (fruit, nuts, granola)\\n'\n",
      " '\\n'\n",
      " '* **Instructions:**\\n'\n",
      " '    1. Combine all ingredients in a jar or container.\\n'\n",
      " '    2. Stir well and refrigerate overnight.\\n'\n",
      " '    3. In the morning, top with your favorite toppings and enjoy!\\n'\n",
      " '\\n'\n",
      " '**2.  Breakfast Burrito:**\\n'\n",
      " '\\n'\n",
      " '* **Ingredients:**\\n'\n",
      " '    * 1 large flour tortilla\\n'\n",
      " '    * 1 egg\\n'\n",
      " '    * 1/4 cup shredded cheese\\n'\n",
      " '    * 1/4 cup salsa\\n'\n",
      " '    * 1/4 cup black beans (canned or cooked)\\n'\n",
      " '    * 1/4 cup chopped onion\\n'\n",
      " '    * 1/4 cup chopped bell pepper\\n'\n",
      " '\\n'\n",
      " '* **Instructions:**\\n'\n",
      " '    1. Scramble the egg in a pan over medium heat.\\n'\n",
      " '    2. Warm the tortilla in a pan or microwave.\\n'\n",
      " '    3. Fill the tortilla with the egg, cheese, salsa, beans, onion, and bell '\n",
      " 'pepper.\\n'\n",
      " '    4. Roll up the tortilla and enjoy!\\n'\n",
      " '\\n'\n",
      " '**3.  Pancakes:**\\n'\n",
      " '\\n'\n",
      " '* **Ingredients:**\\n'\n",
      " '    * 1 cup all-purpose flour\\n'\n",
      " '    * 2 teaspoons baking powder\\n'\n",
      " '    * 1/2 teaspoon salt\\n'\n",
      " '    * 1 tablespoon sugar\\n'\n",
      " '    * 1 egg\\n'\n",
      " '    * 1 cup milk\\n'\n",
      " '    * 2 tablespoons melted butter\\n'\n",
      " '\\n'\n",
      " '* **Instructions:**\\n'\n",
      " '    1. In a large bowl, whisk together the flour, baking powder, salt, and '\n",
      " 'sugar.\\n'\n",
      " '    2. In a separate bowl, whisk together the egg, milk, and melted butter.\\n'\n",
      " '    3. Gradually add the wet ingredients to the dry ingredients, whisking '\n",
      " 'until just combined.\\n'\n",
      " '    4. Heat a lightly greased griddle or skillet over medium heat.\\n'\n",
      " '    5. Pour 1/4 cup of batter onto the hot griddle for each pancake.\\n'\n",
      " '    6. Cook for 2-3 minutes per side, or until golden brown.\\n'\n",
      " '    7. Serve with your favorite toppings, such as butter, syrup, fruit, or '\n",
      " 'whipped cream. \\n')\n"
     ]
    }
   ],
   "source": [
    "result = generate_agent.invoke({\"messages\": [\"Share breakfast recipes\"]})\n",
    "pprint.pprint(result)"
   ]
  },
  {
   "cell_type": "code",
   "execution_count": 6,
   "metadata": {},
   "outputs": [],
   "source": [
    "reflection_prompt = ChatPromptTemplate.from_messages(\n",
    "    [\n",
    "        #  this needs to be a tuple so do not forget the , at the end\n",
    "        (\n",
    "            \"system\",\n",
    "            \"You are a food critic who focuses specially on healthy organic food.\"\n",
    "            \"Provide detailed feedback to the recipes presented to you to make them healthy.\"\n",
    "            \"You also want to focus on food that is protien rich, not very fatty and not with too much meat\"\n",
    "            \"Provide your feedback as a numbered list\"\n",
    "        ),\n",
    "        MessagesPlaceholder(variable_name=\"messages\"),\n",
    "    ]\n",
    ")\n",
    "\n",
    "reflect_agent = reflection_prompt | llm"
   ]
  },
  {
   "cell_type": "code",
   "execution_count": 7,
   "metadata": {},
   "outputs": [
    {
     "name": "stdout",
     "output_type": "stream",
     "text": [
      "('Here is my feedback on your breakfast recipes, focusing on healthy, '\n",
      " 'protein-rich, and low-fat options:\\n'\n",
      " '\\n'\n",
      " \"1. **Overnight Oats:** This is a great start! It's naturally low in fat and \"\n",
      " 'can be easily customized for protein. Here are some tweaks:\\n'\n",
      " '\\n'\n",
      " '    * **Protein Boost:**  Swap the milk for unsweetened almond milk or soy '\n",
      " 'milk for a boost of protein.  Add a scoop of protein powder or a tablespoon '\n",
      " 'of chia seeds for extra protein.\\n'\n",
      " '    * **Fat Reduction:**  Use plain yogurt instead of flavored yogurt, which '\n",
      " 'can be high in added sugar.  Skip the honey or maple syrup, or use a small '\n",
      " 'amount of stevia or a natural sweetener like monk fruit.\\n'\n",
      " '    * **Fiber Power:**  Add flaxseeds or ground chia seeds for added fiber '\n",
      " 'and omega-3 fatty acids.\\n'\n",
      " '    * **Topping Ideas:**  Choose protein-rich toppings like nuts, seeds, or '\n",
      " 'a sprinkle of shredded coconut. Opt for fresh or frozen fruit over sugary '\n",
      " 'jams or syrups.\\n'\n",
      " '\\n'\n",
      " '2. **Breakfast Burrito:**  This recipe needs some adjustments to be '\n",
      " 'healthier.\\n'\n",
      " '\\n'\n",
      " '    * **Protein Focus:**  Use egg whites instead of whole eggs for less fat '\n",
      " 'and more protein.  Consider adding a small amount of lean ground turkey or '\n",
      " 'chicken to the filling for extra protein.\\n'\n",
      " '    * **Fat Reduction:**  Use a whole wheat tortilla for more fiber and less '\n",
      " 'fat.  Skip the cheese or use a small amount of low-fat cheddar.  Choose '\n",
      " 'salsa with minimal added sugar.\\n'\n",
      " '    * **Veggie Power:**  Load up on veggies like spinach, bell peppers, '\n",
      " 'onions, and mushrooms for added nutrients and fiber.\\n'\n",
      " '    * **Beans are Great:**  Black beans are a good source of protein and '\n",
      " 'fiber, but you can also try other beans like kidney beans or pinto beans.\\n'\n",
      " '\\n'\n",
      " '3. **Pancakes:**  Pancakes can be a healthy breakfast option with some '\n",
      " 'modifications.\\n'\n",
      " '\\n'\n",
      " '    * **Whole Grain Power:**  Use whole wheat flour instead of all-purpose '\n",
      " 'flour for more fiber and nutrients.  You can also try a blend of whole wheat '\n",
      " 'and oat flour.\\n'\n",
      " '    * **Protein Boost:**  Add a scoop of protein powder to the batter for '\n",
      " 'extra protein.  You can also use Greek yogurt instead of milk for added '\n",
      " 'protein and a tangy flavor.\\n'\n",
      " '    * **Fat Reduction:**  Use unsweetened applesauce or mashed banana '\n",
      " 'instead of butter for a healthier fat source.\\n'\n",
      " '    * **Sweeten Naturally:**  Use a small amount of stevia or a natural '\n",
      " 'sweetener like monk fruit instead of sugar.\\n'\n",
      " '    * **Topping Ideas:**  Choose toppings like fresh fruit, nuts, or a '\n",
      " 'drizzle of honey or maple syrup in moderation.\\n'\n",
      " '\\n'\n",
      " 'Remember, these are just suggestions. Feel free to experiment with different '\n",
      " 'ingredients and find what works best for you. Enjoy your healthy '\n",
      " 'breakfasts! \\n')\n"
     ]
    }
   ],
   "source": [
    "result = reflect_agent.invoke({\"messages\": [result]})\n",
    "pprint.pprint(result)"
   ]
  },
  {
   "cell_type": "markdown",
   "metadata": {},
   "source": [
    "## Define the Langgraph Graph"
   ]
  },
  {
   "cell_type": "code",
   "execution_count": 8,
   "metadata": {},
   "outputs": [],
   "source": [
    "from langgraph.graph import MessageGraph, END"
   ]
  },
  {
   "cell_type": "markdown",
   "metadata": {},
   "source": [
    "### Define generate and reflect nodes"
   ]
  },
  {
   "cell_type": "code",
   "execution_count": 9,
   "metadata": {},
   "outputs": [],
   "source": [
    "async def generation_node(state: Sequence[BaseMessage]):\n",
    "    return await generate_agent.ainvoke({\"messages\": state})\n",
    "\n",
    "async def reflection_node(state: Sequence[BaseMessage]):\n",
    "    return await reflect_agent.ainvoke({\"messages\": state})\n"
   ]
  },
  {
   "cell_type": "code",
   "execution_count": 10,
   "metadata": {},
   "outputs": [],
   "source": [
    "builder = MessageGraph()\n",
    "builder.add_node(\"generate\", generation_node)\n",
    "builder.add_node(\"reflect\", reflection_node)\n",
    "builder.set_entry_point(\"generate\")\n",
    "\n",
    "\n",
    "def should_continue(state: List[BaseMessage]):\n",
    "    if len(state) > 4:\n",
    "        return END\n",
    "    return \"reflect\"\n",
    "\n",
    "\n",
    "builder.add_conditional_edges(\"generate\", should_continue)\n",
    "builder.add_edge(\"reflect\", \"generate\")\n",
    "graph = builder.compile()"
   ]
  },
  {
   "cell_type": "code",
   "execution_count": 11,
   "metadata": {},
   "outputs": [
    {
     "name": "stdout",
     "output_type": "stream",
     "text": [
      "          +-----------+            \n",
      "          | __start__ |            \n",
      "          +-----------+            \n",
      "                *                  \n",
      "                *                  \n",
      "                *                  \n",
      "          +----------+             \n",
      "          | generate |             \n",
      "          +----------+             \n",
      "          ...        ...           \n",
      "         .              .          \n",
      "       ..                ..        \n",
      "+---------+           +---------+  \n",
      "| reflect |           | __end__ |  \n",
      "+---------+           +---------+  \n"
     ]
    }
   ],
   "source": [
    "graph.get_graph().print_ascii()"
   ]
  },
  {
   "cell_type": "code",
   "execution_count": 12,
   "metadata": {},
   "outputs": [
    {
     "data": {
      "image/jpeg": "[encoded data removed]",
      "text/plain": [
       "<IPython.core.display.Image object>"
      ]
     },
     "metadata": {},
     "output_type": "display_data"
    }
   ],
   "source": [
    "from IPython.display import Image, display\n",
    "\n",
    "try:\n",
    "    display(Image(graph.get_graph().draw_mermaid_png()))\n",
    "except:\n",
    "    # This requires some extra dependencies and is optional\n",
    "    pass"
   ]
  },
  {
   "cell_type": "markdown",
   "metadata": {},
   "source": [
    "### Start graph execution"
   ]
  },
  {
   "cell_type": "code",
   "execution_count": 13,
   "metadata": {},
   "outputs": [
    {
     "name": "stdout",
     "output_type": "stream",
     "text": [
      "{'generate': 'Here are 3 breakfast recipes for you:\\n\\n1. **Overnight Oats:** \\n    * Combine 1/2 cup rolled oats, 1/2 cup milk (dairy or non-dairy), 1/4 cup yogurt, 1 tablespoon chia seeds, and a drizzle of honey or maple syrup in a jar. \\n    * Stir well and refrigerate overnight. \\n    * In the morning, top with your favorite fruits, nuts, and seeds.\\n\\n2. **Breakfast Burrito:**\\n    * Scramble 2 eggs with a sprinkle of salt and pepper. \\n    * Warm a large flour tortilla in a pan. \\n    * Fill the tortilla with scrambled eggs, shredded cheese, diced tomatoes, onions, and your choice of protein (like beans, chorizo, or leftover chicken). \\n    * Roll up the tortilla and enjoy!\\n\\n3. **Avocado Toast:**\\n    * Toast a slice of bread. \\n    * Mash half an avocado with a fork. \\n    * Spread the mashed avocado on the toast. \\n    * Season with salt, pepper, and a squeeze of lemon juice. \\n    * Top with a sprinkle of red pepper flakes for a kick. \\n'}\n",
      "---\n",
      "{'reflect': \"These are some great breakfast ideas, but let's tweak them to make them even healthier and protein-packed! Here's my feedback:\\n\\n1. **Overnight Oats:** This is a fantastic base for a healthy breakfast. Here's how to make it even better:\\n\\n    * **Protein Boost:**  Instead of relying on just yogurt for protein, consider adding a scoop of protein powder (whey, soy, or plant-based) to the mix. This will give you a more substantial protein boost.\\n    * **Healthy Sweetener:**  Swap the honey or maple syrup for a natural sweetener like stevia or a small amount of fruit puree (like banana or berries). This will reduce added sugar.\\n    * **Fiber Power:**  Add a tablespoon of ground flaxseed or chia seeds for extra fiber and omega-3 fatty acids.\\n    * **Top It Off:**  Choose toppings that are high in protein and healthy fats, such as nuts (almonds, walnuts), seeds (pumpkin, sunflower), or a sprinkle of shredded coconut.\\n\\n2. **Breakfast Burrito:**  This is a classic, but let's make it a bit lighter:\\n\\n    * **Whole Grain Wrap:**  Swap the flour tortilla for a whole-wheat tortilla or a low-carb option like a lettuce wrap.\\n    * **Protein Power:**  Focus on plant-based protein sources like black beans, lentils, or tofu instead of chorizo or chicken. You can also add a sprinkle of hemp seeds or chia seeds for extra protein.\\n    * **Veggie Overload:**  Load up on colorful vegetables like bell peppers, spinach, and mushrooms for added nutrients and fiber.\\n    * **Skip the Cheese:**  While cheese can be delicious, it's high in saturated fat. Consider using a plant-based cheese alternative or simply omit it altogether.\\n\\n3. **Avocado Toast:**  This is already a healthy choice, but let's make it even better:\\n\\n    * **Whole Grain Bread:**  Choose whole-grain bread for added fiber and nutrients.\\n    * **Protein Boost:**  Add a sprinkle of hemp seeds, chia seeds, or a hard-boiled egg for extra protein.\\n    * **Flavorful Additions:**  Experiment with other healthy toppings like sliced tomatoes, red onion, or a drizzle of balsamic vinegar for a tangy twist.\\n\\nRemember, the key to a healthy breakfast is to focus on protein, fiber, and healthy fats. By making these simple adjustments, you can enjoy delicious and nutritious breakfasts that will keep you feeling full and energized all morning long! \\n\"}\n",
      "---\n",
      "{'generate': 'Here are 3 revised breakfast recipes incorporating your feedback for a healthier and protein-packed start to your day:\\n\\n**1. Protein-Packed Overnight Oats:**\\n\\n* **Ingredients:**\\n    * 1/2 cup rolled oats\\n    * 1/2 cup unsweetened almond milk (or your preferred milk)\\n    * 1/4 cup plain Greek yogurt\\n    * 1 scoop protein powder (whey, soy, or plant-based)\\n    * 1 tablespoon chia seeds\\n    * 1 tablespoon ground flaxseed\\n    * 1/4 cup mashed banana (or berries)\\n    * Optional: Stevia or a natural sweetener to taste\\n* **Instructions:**\\n    * Combine all ingredients in a jar or container.\\n    * Stir well and refrigerate overnight.\\n    * In the morning, top with your favorite protein-rich toppings like almonds, walnuts, pumpkin seeds, sunflower seeds, or shredded coconut.\\n\\n**2. Veggie-Loaded Breakfast Burrito:**\\n\\n* **Ingredients:**\\n    * 1 whole-wheat tortilla (or lettuce wrap)\\n    * 2 eggs, scrambled with a sprinkle of salt and pepper\\n    * 1/2 cup cooked black beans (or lentils)\\n    * 1/4 cup chopped bell peppers\\n    * 1/4 cup chopped spinach\\n    * 1/4 cup chopped mushrooms\\n    * 1 tablespoon hemp seeds (or chia seeds)\\n    * Optional: Plant-based cheese alternative\\n* **Instructions:**\\n    * Scramble the eggs.\\n    * Warm the tortilla in a pan.\\n    * Fill the tortilla with scrambled eggs, black beans, bell peppers, spinach, mushrooms, and hemp seeds.\\n    * Roll up the tortilla and enjoy!\\n\\n**3. Power-Packed Avocado Toast:**\\n\\n* **Ingredients:**\\n    * 1 slice whole-grain bread\\n    * 1/2 avocado, mashed\\n    * 1 hard-boiled egg, sliced\\n    * 1 tablespoon hemp seeds (or chia seeds)\\n    * 1/4 cup sliced tomatoes\\n    * 1/4 cup red onion, thinly sliced\\n    * Salt, pepper, and a squeeze of lemon juice\\n    * Optional: A drizzle of balsamic vinegar\\n* **Instructions:**\\n    * Toast the bread.\\n    * Spread the mashed avocado on the toast.\\n    * Top with sliced hard-boiled egg, hemp seeds, sliced tomatoes, red onion, salt, pepper, and lemon juice.\\n    * Drizzle with balsamic vinegar if desired. \\n'}\n",
      "---\n",
      "{'reflect': \"These revised breakfast recipes are a great step in the right direction towards a healthier and protein-packed start to the day! Here's my feedback:\\n\\n**1. Protein-Packed Overnight Oats:**\\n\\n* **Excellent:**  The addition of protein powder, ground flaxseed, and mashed banana for natural sweetness is a fantastic way to boost protein, fiber, and healthy fats.\\n* **Suggestion:**  Consider using unsweetened almond milk or another non-dairy milk option for a lower-calorie choice.  \\n\\n**2. Veggie-Loaded Breakfast Burrito:**\\n\\n* **Excellent:**  The switch to a whole-wheat tortilla or lettuce wrap, the inclusion of plant-based protein sources like black beans or lentils, and the abundance of vegetables are all great choices for a healthier burrito.\\n* **Suggestion:**  If using a lettuce wrap, consider adding a small amount of hummus or avocado to help bind the ingredients and make it more filling.\\n\\n**3. Power-Packed Avocado Toast:**\\n\\n* **Excellent:**  The addition of a hard-boiled egg, hemp seeds, sliced tomatoes, and red onion provides a great boost of protein, fiber, and healthy fats.\\n* **Suggestion:**  Consider using a whole-grain bread with a lower glycemic index for a more sustained energy release.\\n\\n**Overall:**\\n\\n* **Great Job!** You've successfully transformed these classic breakfast recipes into healthier and protein-rich options.\\n* **Keep in mind:**  The key to a healthy breakfast is to focus on a balance of protein, fiber, and healthy fats. These recipes are a great starting point, and you can always experiment with different ingredients and toppings to find what you enjoy most. \\n* **Remember:**  Portion control is also important.  Even healthy foods can contribute to weight gain if eaten in excess. \\n\"}\n",
      "---\n",
      "{'generate': \"You're right, portion control is key! Here are the final revised recipes, incorporating your feedback and emphasizing portion control:\\n\\n**1. Protein-Packed Overnight Oats (1 serving)**\\n\\n* **Ingredients:**\\n    * 1/4 cup rolled oats\\n    * 1/2 cup unsweetened almond milk (or your preferred non-dairy milk)\\n    * 1/8 cup plain Greek yogurt\\n    * 1 scoop protein powder (whey, soy, or plant-based)\\n    * 1/2 tablespoon chia seeds\\n    * 1/2 tablespoon ground flaxseed\\n    * 1/4 cup mashed banana (or berries)\\n    * Optional: Stevia or a natural sweetener to taste\\n* **Instructions:**\\n    * Combine all ingredients in a jar or container.\\n    * Stir well and refrigerate overnight.\\n    * In the morning, top with your favorite protein-rich toppings like 1/4 cup almonds, walnuts, pumpkin seeds, sunflower seeds, or shredded coconut.\\n\\n**2. Veggie-Loaded Breakfast Burrito (1 serving)**\\n\\n* **Ingredients:**\\n    * 1 whole-wheat tortilla (or lettuce wrap)\\n    * 1 egg, scrambled with a sprinkle of salt and pepper\\n    * 1/4 cup cooked black beans (or lentils)\\n    * 1/8 cup chopped bell peppers\\n    * 1/8 cup chopped spinach\\n    * 1/8 cup chopped mushrooms\\n    * 1 tablespoon hemp seeds (or chia seeds)\\n    * Optional: 1 tablespoon plant-based cheese alternative\\n    * Optional: 1 tablespoon hummus or avocado for binding (if using a lettuce wrap)\\n* **Instructions:**\\n    * Scramble the egg.\\n    * Warm the tortilla in a pan.\\n    * Fill the tortilla with scrambled egg, black beans, bell peppers, spinach, mushrooms, and hemp seeds.\\n    * Roll up the tortilla and enjoy!\\n\\n**3. Power-Packed Avocado Toast (1 serving)**\\n\\n* **Ingredients:**\\n    * 1 slice whole-grain bread (low glycemic index preferred)\\n    * 1/4 avocado, mashed\\n    * 1/2 hard-boiled egg, sliced\\n    * 1 tablespoon hemp seeds (or chia seeds)\\n    * 1/4 cup sliced tomatoes\\n    * 1/4 cup red onion, thinly sliced\\n    * Salt, pepper, and a squeeze of lemon juice\\n    * Optional: A drizzle of balsamic vinegar\\n* **Instructions:**\\n    * Toast the bread.\\n    * Spread the mashed avocado on the toast.\\n    * Top with sliced hard-boiled egg, hemp seeds, sliced tomatoes, red onion, salt, pepper, and lemon juice.\\n    * Drizzle with balsamic vinegar if desired. \\n\\nI've adjusted the ingredient amounts to create a balanced and satisfying breakfast portion for one person. Remember, these are just starting points, and you can always adjust the ingredients and toppings to your liking! \\n\"}\n",
      "---\n"
     ]
    }
   ],
   "source": [
    "async for event in graph.astream(\n",
    "    [\n",
    "        HumanMessage(\n",
    "            content=\"Share some breakfast recipes\"\n",
    "        )\n",
    "    ],\n",
    "):\n",
    "    print(event)\n",
    "    print(\"---\")"
   ]
  },
  {
   "cell_type": "code",
   "execution_count": null,
   "metadata": {},
   "outputs": [],
   "source": []
  }
 ],
 "metadata": {
  "kernelspec": {
   "display_name": "llm_agents",
   "language": "python",
   "name": "python3"
  },
  "language_info": {
   "codemirror_mode": {
    "name": "ipython",
    "version": 3
   },
   "file_extension": ".py",
   "mimetype": "text/x-python",
   "name": "python",
   "nbconvert_exporter": "python",
   "pygments_lexer": "ipython3",
   "version": "3.12.4"
  }
 },
 "nbformat": 4,
 "nbformat_minor": 2
}
