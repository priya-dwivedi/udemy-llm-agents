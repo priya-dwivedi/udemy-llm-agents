{
 "cells": [
  {
   "cell_type": "code",
   "execution_count": 1,
   "metadata": {},
   "outputs": [
    {
     "name": "stderr",
     "output_type": "stream",
     "text": [
      "/Users/pdwivedi/miniconda3/envs/llm_agents/lib/python3.12/site-packages/tqdm/auto.py:21: TqdmWarning: IProgress not found. Please update jupyter and ipywidgets. See https://ipywidgets.readthedocs.io/en/stable/user_install.html\n",
      "  from .autonotebook import tqdm as notebook_tqdm\n"
     ]
    }
   ],
   "source": [
    "from langchain_core.messages import HumanMessage, BaseMessage, AIMessage\n",
    "# from decouple import config\n",
    "import pprint\n",
    "import os\n",
    "from langchain_core.prompts import ChatPromptTemplate, MessagesPlaceholder\n",
    "from gemini_llm import GeminiLLM\n",
    "import concurrent.futures\n",
    "import json\n"
   ]
  },
  {
   "cell_type": "code",
   "execution_count": 2,
   "metadata": {},
   "outputs": [
    {
     "data": {
      "text/plain": [
       "True"
      ]
     },
     "execution_count": 2,
     "metadata": {},
     "output_type": "execute_result"
    }
   ],
   "source": [
    "from dotenv import load_dotenv\n",
    "load_dotenv()"
   ]
  },
  {
   "cell_type": "code",
   "execution_count": 3,
   "metadata": {},
   "outputs": [],
   "source": [
    "os.environ[\"GOOGLE_API_KEY\"] = os.getenv(\"OPENAI_API_KEY\") ## Put your OpenAI API key here\n",
    "os.environ[\"LANGCHAIN_API_KEY\"] = os.getenv(\"LANGCHAIN_API_KEY\") ## Put your Langsmith API key here\n",
    "os.environ[\"LANGCHAIN_HUB_API_KEY\"] = os.getenv(\"LANGCHAIN_API_KEY\") ## Put your Langsmith API key here\n",
    "os.environ[\"LANGCHAIN_TRACING_V2\"] = 'true' ## Set this as True\n",
    "os.environ[\"LANGCHAIN_ENDPOINT\"] = 'https://api.smith.langchain.com/' ## Set this as: https://api.smith.langchain.com/\n",
    "os.environ[\"LANGCHAIN_HUB_API_URL\"] = 'https://api.hub.langchain.com' ## Set this as : https://api.hub.langchain.com\n",
    "os.environ[\"LANGCHAIN_PROJECT\"] = 'llm-agents-planning'"
   ]
  },
  {
   "cell_type": "markdown",
   "metadata": {},
   "source": [
    "## Define prompts for Generation, Reflection and Tool Execution"
   ]
  },
  {
   "cell_type": "markdown",
   "metadata": {},
   "source": [
    "![Reflexion](images/Reflexion.png)"
   ]
  },
  {
   "cell_type": "markdown",
   "metadata": {},
   "source": [
    "#### Generation Prompt"
   ]
  },
  {
   "cell_type": "code",
   "execution_count": 4,
   "metadata": {},
   "outputs": [],
   "source": [
    "llm = GeminiLLM(model='gemini-1.5-flash-latest', temperature=0.3, response_mime_type='application/json')"
   ]
  },
  {
   "cell_type": "code",
   "execution_count": 5,
   "metadata": {},
   "outputs": [],
   "source": [
    "generation_prompt = ChatPromptTemplate.from_messages(\n",
    "    [\n",
    "        (\n",
    "            \"system\",\n",
    "            \"You are an AI assistant researcher tasked with writing detailed 2-3 paragraph research on the topic presented by the user.\"\n",
    "            \"Along with the response, you will also give a list of 2-3 search suggestions that can be run to improve the research and ground it\"\n",
    "            \"Give your output in JSON under 2 keys: 'answer' for your research response, 'search' for a list of search suggestions\"\n",
    "        ),\n",
    "        (\n",
    "            \"user\",\n",
    "            \"Write a report on the topic {task}\"\n",
    "\n",
    "        ),\n",
    "    ]\n",
    ")\n",
    "\n",
    "generate_agent = generation_prompt | llm"
   ]
  },
  {
   "cell_type": "code",
   "execution_count": 6,
   "metadata": {},
   "outputs": [
    {
     "name": "stdout",
     "output_type": "stream",
     "text": [
      "{'answer': 'The pace of climate change is undeniably accelerating, evidenced '\n",
      "           'by a multitude of indicators. Global average temperatures are '\n",
      "           'rising at an unprecedented rate, with the past decade witnessing '\n",
      "           'the warmest years on record. This warming trend is driving more '\n",
      "           'frequent and intense heatwaves, droughts, and wildfires. '\n",
      "           'Additionally, sea levels are rising at an accelerating pace, '\n",
      "           'threatening coastal communities and ecosystems. The melting of '\n",
      "           'glaciers and ice sheets is contributing to this rise, further '\n",
      "           'exacerbating the problem. The frequency and intensity of extreme '\n",
      "           'weather events, such as hurricanes and floods, are also '\n",
      "           'increasing, causing significant damage and displacement. These '\n",
      "           'trends are consistent with scientific projections and highlight '\n",
      "           'the urgent need for immediate action to mitigate climate change.',\n",
      " 'search': ['IPCC reports on climate change acceleration',\n",
      "            'Global temperature trends and projections',\n",
      "            'Sea level rise and acceleration rates']}\n"
     ]
    }
   ],
   "source": [
    "result = generate_agent.invoke({\"task\": \"Is the pace of climate change accelerating?\"})\n",
    "result = json.loads(result)\n",
    "pprint.pprint(result)"
   ]
  },
  {
   "cell_type": "code",
   "execution_count": 7,
   "metadata": {},
   "outputs": [
    {
     "name": "stdout",
     "output_type": "stream",
     "text": [
      "The pace of climate change is undeniably accelerating, evidenced by a multitude of indicators. Global average temperatures are rising at an unprecedented rate, with the past decade witnessing the warmest years on record. This warming trend is driving more frequent and intense heatwaves, droughts, and wildfires. Additionally, sea levels are rising at an accelerating pace, threatening coastal communities and ecosystems. The melting of glaciers and ice sheets is contributing to this rise, further exacerbating the problem. The frequency and intensity of extreme weather events, such as hurricanes and floods, are also increasing, causing significant damage and displacement. These trends are consistent with scientific projections and highlight the urgent need for immediate action to mitigate climate change.\n"
     ]
    }
   ],
   "source": [
    "initial_report = result['answer']\n",
    "print(initial_report)"
   ]
  },
  {
   "cell_type": "markdown",
   "metadata": {},
   "source": [
    "#### Tool Usage node"
   ]
  },
  {
   "cell_type": "code",
   "execution_count": 8,
   "metadata": {},
   "outputs": [],
   "source": [
    "from langchain_community.tools.tavily_search import TavilySearchResults\n",
    "\n",
    "tool = TavilySearchResults(max_results=3)"
   ]
  },
  {
   "cell_type": "code",
   "execution_count": 9,
   "metadata": {},
   "outputs": [
    {
     "data": {
      "text/plain": [
       "[{'url': 'https://www.climate.gov/news-features/understanding-climate/climate-change-global-temperature',\n",
       "  'content': \"According to NOAA's\\xa02021 Annual Climate Report the combined\\xa0land and ocean temperature has increased at an average rate of\\xa00.14 degrees Fahrenheit ( 0.08 degrees\\xa0Celsius)\\xa0per decade since 1880; however, the average rate of increase since 1981 has been more than twice as fast: 0.32 °F (0.18 °C) per decade.\\n According to the 2022 Global Climate Report from NOAA National Centers for Environmental Information, every month of 2022 ranked among the ten warmest for that month, despite the cooling influence from the La Niña climate pattern in the tropical Pacific. Because their goal is to track changes in temperature, measurements are converted from absolute\\xa0temperature readings\\xa0to temperature anomalies—the difference between the observed temperature and the long-term average temperature for each location and date. According to the 2017 U.S. Climate Science Special Report, if yearly emissions continue to increase rapidly, as they have since 2000, models project that by the end of this century, global temperature will be at least 5 degrees Fahrenheit warmer than the 1901-1960 average, and possibly as much as 10.2 degrees warmer. (graph) The bars on the graph show global temperatures compared to the 20th-century average each year from 2022 (right) back to 1976 (left)–the last year the world was cooler than average.\"},\n",
       " {'url': 'https://climate.nasa.gov/vital-signs/global-temperature/?intent=121',\n",
       "  'content': 'Overall, Earth was about 2.45 degrees Fahrenheit (or about 1.36 degrees Celsius) warmer in 2023 than in the late 19th-century (1850-1900) preindustrial average. The 10 most recent years are the warmest on record. The animation on the right shows the change in global surface temperatures. Dark blue shows areas cooler than average.'},\n",
       " {'url': 'https://www.nasa.gov/earth/nasa-analysis-confirms-a-year-of-monthly-temperature-records/',\n",
       "  'content': 'The run of record temperatures fits within a long-term warming trend driven by human activity — primarily greenhouse gas emissions. The trend has become evident over the past four decades, ... The average global temperature over the past 12 months was 2.34 degrees Fahrenheit (1.30 degrees Celsius) above the 20th century baseline (1951 to 1980'}]"
      ]
     },
     "execution_count": 9,
     "metadata": {},
     "output_type": "execute_result"
    }
   ],
   "source": [
    "tool.invoke({\"query\": \"Global temperature trends past decade\"})"
   ]
  },
  {
   "cell_type": "code",
   "execution_count": 10,
   "metadata": {},
   "outputs": [],
   "source": [
    "def execute_single_search(query):\n",
    "    tool = TavilySearchResults(max_results=3) ## Keep only top 3 results\n",
    "    result =tool.invoke({\"query\":query})\n",
    "    return result\n",
    "\n",
    "def flatten_list(nested_list):\n",
    "    return [item for sublist in nested_list for item in sublist]\n",
    "    \n",
    "def run_parallel_search(search_queries):\n",
    "    with concurrent.futures.ThreadPoolExecutor(max_workers=len(search_queries)) as executor:\n",
    "        # Submit the API calls to the executor\n",
    "        outputs = [executor.submit(execute_single_search, point) for point in search_queries]\n",
    "        # Wait for the API calls to complete and get the results\n",
    "        results = [future.result() for future in concurrent.futures.as_completed(outputs)]\n",
    "\n",
    "    flatten = flatten_list(results)\n",
    "    return flatten\n"
   ]
  },
  {
   "cell_type": "code",
   "execution_count": 11,
   "metadata": {},
   "outputs": [],
   "source": [
    "search_queries = ['Global temperature trends past decade', 'Sea level rise acceleration rate', 'Frequency and intensity of extreme weather events']\n",
    "search_results = run_parallel_search(search_queries)"
   ]
  },
  {
   "cell_type": "code",
   "execution_count": 12,
   "metadata": {},
   "outputs": [
    {
     "name": "stdout",
     "output_type": "stream",
     "text": [
      "[{'url': 'https://www.climate.gov/news-features/understanding-climate/climate-change-global-temperature', 'content': \"According to NOAA's\\xa02021 Annual Climate Report the combined\\xa0land and ocean temperature has increased at an average rate of\\xa00.14 degrees Fahrenheit ( 0.08 degrees\\xa0Celsius)\\xa0per decade since 1880; however, the average rate of increase since 1981 has been more than twice as fast: 0.32 °F (0.18 °C) per decade.\\n According to the 2022 Global Climate Report from NOAA National Centers for Environmental Information, every month of 2022 ranked among the ten warmest for that month, despite the cooling influence from the La Niña climate pattern in the tropical Pacific. Because their goal is to track changes in temperature, measurements are converted from absolute\\xa0temperature readings\\xa0to temperature anomalies—the difference between the observed temperature and the long-term average temperature for each location and date. According to the 2017 U.S. Climate Science Special Report, if yearly emissions continue to increase rapidly, as they have since 2000, models project that by the end of this century, global temperature will be at least 5 degrees Fahrenheit warmer than the 1901-1960 average, and possibly as much as 10.2 degrees warmer. (graph) The bars on the graph show global temperatures compared to the 20th-century average each year from 2022 (right) back to 1976 (left)–the last year the world was cooler than average.\"}, {'url': 'https://www.nasa.gov/earth/nasa-analysis-confirms-a-year-of-monthly-temperature-records/', 'content': 'The run of record temperatures fits within a long-term warming trend driven by human activity — primarily greenhouse gas emissions. The trend has become evident over the past four decades, ... The average global temperature over the past 12 months was 2.34 degrees Fahrenheit (1.30 degrees Celsius) above the 20th century baseline (1951 to 1980'}, {'url': 'https://climate.nasa.gov/vital-signs/global-temperature/?intent=121', 'content': 'Overall, Earth was about 2.45 degrees Fahrenheit (or about 1.36 degrees Celsius) warmer in 2023 than in the late 19th-century (1850-1900) preindustrial average. The 10 most recent years are the warmest on record. The animation on the right shows the change in global surface temperatures. Dark blue shows areas cooler than average.'}, {'url': 'https://www.nature.com/articles/s41467-023-37649-9', 'content': 'A recent acceleration south of Cape Hatteras. We assess nonlinear rates of MSL rise along the North American East and Gulf coasts based on 66 tide gauge records from the Permanent Service for Mean ...'}, {'url': 'https://yaleclimateconnections.org/2023/07/how-fast-are-the-seas-rising/', 'content': 'The rate of sea level rise depends on your location. Sea levels are rising at different rates in different places. Globally averaged sea level has risen about 6.7 inches (170 mm) over the past 100 years (1920-2020); over the same period, the contiguous U.S. sea level has risen about 11 inches (280 mm). Tide gauges provide the longest-running ...'}, {'url': 'https://agupubs.onlinelibrary.wiley.com/doi/full/10.1002/2017GL076129', 'content': 'Abstract Global mean sea level rise has been accelerating for more than 100 years, and the acceleration in the last two decades seems to further increase. ... GMSL has been rising with significant acceleration; that is, the rate 1.1 ± 0.3 mm/yr in 1901-1990 increased to 3.1 ± 1.4 mm/yr over 1993-2012 (Dangendorf et al., 2017) (Figure 1a).'}, {'url': 'https://climate.nasa.gov/extreme-weather/?trk=public_post_comment-text', 'content': 'Takeaways Climate change from a human-caused rise in greenhouse gases is increasing the frequency and intensity of extreme weather events. Changes to extreme weather are already happening, with greater impacts expected the more Earth warms.'}, {'url': 'https://climate.nasa.gov/extreme-weather.amp', 'content': 'First, scientists examine historical records to determine the frequency and intensity of past events. Many of these long-term records date back to the 1950s, though some start in the 1800s. Then scientists use climate models to see if the number or strength of these events is changing, or will change, due to increasing greenhouse gases when ...'}, {'url': 'https://www.weatherapi.com/', 'content': \"{'location': {'name': 'Global', 'region': 'Maguindanao', 'country': 'Filipinas', 'lat': 7.4, 'lon': 124.31, 'tz_id': 'Asia/Manila', 'localtime_epoch': 1719007104, 'localtime': '2024-06-22 5:58'}, 'current': {'last_updated_epoch': 1719006300, 'last_updated': '2024-06-22 05:45', 'temp_c': 22.9, 'temp_f': 73.2, 'is_day': 1, 'condition': {'text': 'Mist', 'icon': '//cdn.weatherapi.com/weather/64x64/day/143.png', 'code': 1030}, 'wind_mph': 4.3, 'wind_kph': 6.8, 'wind_degree': 119, 'wind_dir': 'ESE', 'pressure_mb': 1009.0, 'pressure_in': 29.81, 'precip_mm': 0.0, 'precip_in': 0.0, 'humidity': 95, 'cloud': 34, 'feelslike_c': 25.3, 'feelslike_f': 77.5, 'windchill_c': 22.9, 'windchill_f': 73.2, 'heatindex_c': 25.3, 'heatindex_f': 77.5, 'dewpoint_c': 22.0, 'dewpoint_f': 71.6, 'vis_km': 2.0, 'vis_miles': 1.0, 'uv': 1.0, 'gust_mph': 7.8, 'gust_kph': 12.5}}\"}]\n"
     ]
    }
   ],
   "source": [
    "print(search_results)"
   ]
  },
  {
   "cell_type": "markdown",
   "metadata": {},
   "source": [
    "### Revision Request"
   ]
  },
  {
   "cell_type": "code",
   "execution_count": 13,
   "metadata": {},
   "outputs": [],
   "source": [
    "reflection_prompt = ChatPromptTemplate.from_messages(\n",
    "    [\n",
    "        #  this needs to be a tuple so do not forget the , at the end\n",
    "        (\n",
    "            \"system\",\n",
    "            \"You are an expert at revising research based on search results. Look at the current report, search queries and search results.\"\n",
    "            \"Use the search results to improve the report. Important: End your report by citing sources you used to write the report\"\n",
    "            \"Also give me 2-3 search suggestions that will further improve the report. These should be different from the search queries that are already done\"\n",
    "            \"Give your output in JSON under 2 keys: 'answer' for your research response with citation. Put citation URLs at the end., 'search' for a list of search suggestions\"\n",
    "        ),\n",
    "        (\n",
    "            \"user\",\n",
    "            \"The question from the user is {task}. The current report is {current_report} \\n\"\n",
    "            \"The search queries done so far are {search_queries}\"\n",
    "            \"The search results are {search_results}\"\n",
    "\n",
    "        ),\n",
    "    ]\n",
    ")\n",
    "\n",
    "reflect_agent = reflection_prompt | llm"
   ]
  },
  {
   "cell_type": "code",
   "execution_count": 14,
   "metadata": {},
   "outputs": [
    {
     "name": "stdout",
     "output_type": "stream",
     "text": [
      "{'answer': 'The pace of climate change is undeniably accelerating, as '\n",
      "           'evidenced by numerous indicators. Global average temperatures are '\n",
      "           'rising at an unprecedented rate, with the past decade witnessing '\n",
      "           'the warmest years on record. This warming trend is driving more '\n",
      "           'frequent and intense heatwaves, droughts, and wildfires. '\n",
      "           'Additionally, sea levels are rising at an accelerating pace, '\n",
      "           'threatening coastal communities and ecosystems. The melting of '\n",
      "           'glaciers and ice sheets is contributing to this rise, further '\n",
      "           'exacerbating the problem. The frequency and intensity of extreme '\n",
      "           'weather events, such as hurricanes and floods, are also '\n",
      "           'increasing, causing significant damage and displacement. These '\n",
      "           'trends are consistent with scientific projections and highlight '\n",
      "           'the urgent need for immediate action to mitigate climate '\n",
      "           'change.  \\n'\n",
      "           '\\n'\n",
      "           \"According to NOAA's 2021 Annual Climate Report, the combined land \"\n",
      "           'and ocean temperature has increased at an average rate of 0.14 '\n",
      "           'degrees Fahrenheit (0.08 degrees Celsius) per decade since 1880; '\n",
      "           'however, the average rate of increase since 1981 has been more '\n",
      "           'than twice as fast: 0.32 °F (0.18 °C) per decade. The 10 most '\n",
      "           'recent years are the warmest on record.  \\n'\n",
      "           '\\n'\n",
      "           'Sea level rise has been accelerating for more than 100 years, and '\n",
      "           'the acceleration in the last two decades seems to further '\n",
      "           'increase. The rate of sea level rise depends on your location. '\n",
      "           'Globally averaged sea level has risen about 6.7 inches (170 mm) '\n",
      "           'over the past 100 years (1920-2020); over the same period, the '\n",
      "           'contiguous U.S. sea level has risen about 11 inches (280 mm).  \\n'\n",
      "           '\\n'\n",
      "           'Climate change from a human-caused rise in greenhouse gases is '\n",
      "           'increasing the frequency and intensity of extreme weather events. '\n",
      "           'Changes to extreme weather are already happening, with greater '\n",
      "           'impacts expected the more Earth warms.  \\n'\n",
      "           '\\n',\n",
      " 'search': ['Climate change impact on agriculture',\n",
      "            'Climate change mitigation strategies',\n",
      "            'Climate change adaptation measures']}\n"
     ]
    }
   ],
   "source": [
    "result = reflect_agent.invoke({\"task\": \"Is the pace of climate change accelerating?\", \"current_report\": initial_report, \"search_results\": search_results, \"search_queries\": search_queries})\n",
    "result = json.loads(result)\n",
    "pprint.pprint(result)"
   ]
  },
  {
   "cell_type": "markdown",
   "metadata": {},
   "source": [
    "## Setup Langgraph "
   ]
  },
  {
   "cell_type": "markdown",
   "metadata": {},
   "source": [
    "### Define state"
   ]
  },
  {
   "cell_type": "code",
   "execution_count": 15,
   "metadata": {},
   "outputs": [],
   "source": [
    "from typing import List, Tuple, Annotated, TypedDict, Sequence\n",
    "import operator\n",
    "from langchain_core.messages import BaseMessage\n",
    "from langgraph.graph import StateGraph, END\n",
    "\n",
    "\n",
    "class AgentState(TypedDict):\n",
    "    task: str\n",
    "    current_report: str\n",
    "    search_queries: list[str]\n",
    "    search_results: list[str]\n",
    "    revision_number: int\n",
    "    max_revisions: int\n"
   ]
  },
  {
   "cell_type": "code",
   "execution_count": 16,
   "metadata": {},
   "outputs": [],
   "source": [
    "def generation_node(state):\n",
    "    result = generate_agent.invoke({\"task\": state['task']})\n",
    "    result = json.loads(result)\n",
    "    return {'current_report': result['answer'], 'search_queries': result['search'], 'revision_number': state.get('revision_number', 0)+1 }\n",
    "\n",
    "\n",
    "def execute_search(state):\n",
    "    search_qs = state['search_queries']\n",
    "    search_results = run_parallel_search(search_qs)\n",
    "    return {'search_results': search_results} \n",
    "\n",
    "\n",
    "def reflection_node(state):\n",
    "    result = reflect_agent.invoke({\"task\": state['task'], \"current_report\": state['current_report'], \"search_results\": state['search_results'], \"search_queries\": state['search_queries']})\n",
    "    result = json.loads(result)\n",
    "    return {'current_report': result['answer'], 'search_queries': result['search'], 'revision_number': state.get('revision_number', 0)+1 }\n"
   ]
  },
  {
   "cell_type": "code",
   "execution_count": 17,
   "metadata": {},
   "outputs": [],
   "source": [
    "builder = StateGraph(AgentState)\n",
    "builder.add_node(\"generate\", generation_node)\n",
    "builder.add_node(\"execute_search\", execute_search)\n",
    "builder.add_node(\"reflect\", reflection_node)\n",
    "builder.set_entry_point(\"generate\")\n",
    "\n",
    "\n",
    "def should_continue(state):\n",
    "    num_turns = state['revision_number']\n",
    "    if num_turns > state['max_revisions']:\n",
    "        return END\n",
    "    return \"execute_search\"\n",
    "\n",
    "builder.add_edge(\"generate\", \"execute_search\")\n",
    "builder.add_edge(\"execute_search\", \"reflect\")\n",
    "builder.add_conditional_edges(\"reflect\", should_continue)\n",
    "graph = builder.compile()"
   ]
  },
  {
   "cell_type": "code",
   "execution_count": 18,
   "metadata": {},
   "outputs": [
    {
     "name": "stdout",
     "output_type": "stream",
     "text": [
      "                        +-----------+                   \n",
      "                        | __start__ |                   \n",
      "                        +-----------+                   \n",
      "                              *                         \n",
      "                              *                         \n",
      "                              *                         \n",
      "                        +----------+                    \n",
      "                        | generate |*                   \n",
      "                        +----------+ ***                \n",
      "                       **               *****           \n",
      "                     **                      ***        \n",
      "                   **                           *****   \n",
      "        +----------------+                           ** \n",
      "        | execute_search |                            * \n",
      "        +----------------+                            * \n",
      "          ***         **                              * \n",
      "         *              **                            * \n",
      "       **                 **                          * \n",
      "+---------+                 *                        ** \n",
      "| reflect |**               *                   *****   \n",
      "+---------+  ***             *               ***        \n",
      "                *****        *          *****           \n",
      "                     ***      *      ***                \n",
      "                        ***   *   ***                   \n",
      "                     +-----------------+                \n",
      "                     | should_continue |                \n",
      "                     +-----------------+                \n",
      "                              *                         \n",
      "                              *                         \n",
      "                              *                         \n",
      "                         +---------+                    \n",
      "                         | __end__ |                    \n",
      "                         +---------+                    \n"
     ]
    }
   ],
   "source": [
    "graph.get_graph().print_ascii()"
   ]
  },
  {
   "cell_type": "code",
   "execution_count": 19,
   "metadata": {},
   "outputs": [
    {
     "data": {
      "image/jpeg": "[encoded data removed]",
      "text/plain": [
       "<IPython.core.display.Image object>"
      ]
     },
     "metadata": {},
     "output_type": "display_data"
    }
   ],
   "source": [
    "from IPython.display import Image, display\n",
    "\n",
    "try:\n",
    "    display(Image(graph.get_graph().draw_mermaid_png()))\n",
    "except:\n",
    "    # This requires some extra dependencies and is optional\n",
    "    pass"
   ]
  },
  {
   "cell_type": "code",
   "execution_count": 20,
   "metadata": {},
   "outputs": [
    {
     "name": "stderr",
     "output_type": "stream",
     "text": [
      "Error in LangChainTracer.on_chain_end callback: AttributeError(\"'NoneType' object has no attribute 'append'\")\n"
     ]
    },
    {
     "name": "stdout",
     "output_type": "stream",
     "text": [
      "{'generate': {'current_report': 'Climate change is a pressing global issue, and mitigating its effects requires a multifaceted approach. One crucial strategy is reducing greenhouse gas emissions, primarily from burning fossil fuels. This involves transitioning to renewable energy sources like solar and wind power, improving energy efficiency in buildings and transportation, and promoting sustainable agriculture and forestry practices. Additionally, carbon capture and storage technologies can play a role in removing existing carbon dioxide from the atmosphere.  Furthermore, adaptation measures are essential to cope with the unavoidable impacts of climate change. This includes building resilient infrastructure, developing drought-resistant crops, and managing water resources effectively. International cooperation is vital for addressing this global challenge, requiring coordinated efforts among governments, businesses, and individuals to implement effective solutions.', 'search_queries': ['Climate change mitigation strategies', 'Renewable energy sources and climate change', 'Carbon capture and storage technologies'], 'revision_number': 1}}\n",
      "{'execute_search': {'search_results': [{'url': 'https://climatepromise.undp.org/news-and-stories/what-climate-change-mitigation-and-why-it-urgent', 'content': 'Furthermore, due to the significant demand for these minerals and the urgency of the energy transition, the scaled-up investment in the sector has the potential to exacerbate environmental degradation, economic and governance risks, and social inequalities, affecting the rights of Indigenous Peoples, local communities, and workers. Specifically, UNDP’s offer of support includes developing and improving legislation and policy, standards and regulations, capacity building, knowledge dissemination, and financial mobilization for countries to pilot and scale-up mitigation solutions such as renewable energy projects, energy efficiency initiatives and sustainable land-use practices.\\n In Mauritius, UNDP, with funding from the Green Climate Fund, has supported the government to install battery energy storage capacity that has enabled 50 MW of intermittent renewable energy to be connected to the grid, helping to avoid 81,000 tonnes of carbon dioxide annually.\\n Explore More Stories\\nUnited Nations\\nDevelopment Programme\\nSign up to our newsletter\\nGet the latest news and updates from the Climate Promise team at the start of every month.\\n Its core ambition is to cap the rise in global average temperatures to well below 2°C above levels observed prior to the industrial era, while pursuing efforts to limit the increase to 1.5°C.\\n'}, {'url': 'https://climate.mit.edu/explainers/mitigation-and-adaptation', 'content': 'Adaptation is action to help people adjust to the current and future effects of climate change.1\\xa0These two prongs of climate action work together to protect people from the harms of climate change: one to make future climate change as mild and manageable as possible, and the other to deal with the climate change we fail to prevent.\\n The sooner the world stops the rise of greenhouse gases, and shields people from the warming we have already caused, the less we will ultimately have to spend to stabilize our climate, and the more lives and livelihoods we will save along the way.\\n In Bangladesh, one of the most vulnerable countries in the world to sea level rise and saltwater intrusion, the port city of Mongla is investing in embankments, drainage, flood-control gates and water treatment to get ahead of rising waters, and economic development to provide refuge and work opportunities for thousands of people displaced from nearby towns. The Paris Agreement of 2015 set worldwide targets for mitigation, with almost every country on Earth agreeing to zero out their greenhouse gas emissions in time to halt global warming at no more than 2° C, and ideally at no more than 1.5° C.\\xa0Today, however, mitigation is not on track to meet either of these goals.4 In fact, despite ambitious pledges and fast progress in sectors like clean electricity, greenhouse gas emissions are still rising worldwide.\\xa0 Still, authorities like the Intergovernmental Panel on Climate Change agree that some carbon removal will be needed to head off the worst climate change scenarios.3\\nIf mitigation is successful worldwide, then one day greenhouse gases will stop building up in the atmosphere, and the planet will slowly stop warming.'}, {'url': 'https://www.wri.org/insights/5-strategies-achieve-climate-mitigation-and-adaptation-simultaneously', 'content': 'Stay Informed\\nFooter menu - main\\nFooter menu - secondary\\nFooter menu - Offices\\nFooter menu - Additional\\nWorld Resources Institute\\n10 G Street NE\\nSuite 800\\nWashington DC 20002\\n+1 (202) 729-7600\\nSocial menu\\n© 2024 World Resources Institute\\nJoin our live presentation on Jan 23rd as we present four stories that will shape 2024, followed by a live Q&A.\\nTogether, we can unleash the positive, tangible and system-wide transformations needed to protect our planet for this and future generations. 5 Strategies that Achieve Climate Mitigation and Adaptation Simultaneously\\nClimate actions have often fallen into one of two strategies: mitigation efforts to lower or remove greenhouse gas emissions from the atmosphere, and adaptation efforts to adjust systems and societies to withstand the impacts of climate change. Relevant Work\\nHow Blue Carbon Can Tackle the Climate, Biodiversity and Development Crises\\n4 Things to Know About the IPCC Special Report on the Ocean and Cryosphere\\nDoes Biden’s American Jobs Plan Stack Up on Climate and Jobs?\\n Main navigation\\nDonate\\nQuick Links\\nMain navigation\\nFooter menu - secondary\\nMega Menu\\nFilter Your Site Experience by Topic\\nApplying the filters below will filter all articles, data, insights and projects by the topic area you select.\\n These improvements can influence usage and better accommodate future growth.\\nCities like Rome and Buenos Aires have integrated additional adaptation measures like heat-proofing buses and greening stops and routes to improve the commute experience.'}, {'url': 'https://www.ipcc.ch/report/renewable-energy-sources-and-climate-change-mitigation/', 'content': 'Learn more\\nReports\\nWorking Groups\\nActivities\\nLisbon, 14 Dec 2023, 12 pm CHECK AGAINST DELIVERY Your Excellency, President of the Republic, Mr. Speaker, Madame Secretary General â€¦\\nThe Intergovernmental Panel on Climate Change (IPCC) has been declared a co-laureate of the 2022 North-South Prize of the Council â€¦\\n30 November 2023, Dubai, Unites Arab Emirates CHECK AGAINST DELIVERY Excellencies, Distinguished Delegates, Ladies and Gentlemen, I am honoured to â€¦ Available fromÂ\\xa0Cambridge University Press, The Edinburgh Building Shaftesbury Road, Cambridge CB2 2RU ENGLAND\\nChapters\\nAnnexes/Index\\nSPM in UN and other languages\\nA number of countries have undertaken translations of the SPMs into languages that are not official languages of the United Nations. The Intergovernmental Panel on Climate Change (IPCC) is active socially â€“Â\\xa0choose your network:\\nThere are many ways to be involved and participate in the IPCC world.\\n In working to achieve the widest possible dissemination of IPCC knowledge, the IPCC is pleased to assist in making these translations available.\\n Renewable Energy Sources and Climate Change Mitigation\\nReport\\nIPCC, 2011 – Ottmar Edenhofer, RamÃ³n Pichs-Madruga, Youba Sokona, Kristin Seyboth, Patrick Matschoss, Susanne Kadner, Timm Zwickel, Patrick Eickemeier, Gerrit Hansen, Steffen Schloemer, Christoph von Stechow (Eds.)\\n'}, {'url': 'https://www.un.org/en/climatechange/raising-ambition/renewable-energy', 'content': '3. Renewable energy is healthier\\nAccording to the World Health Organization (WHO), about 99 percent of people in the world breathe air that exceeds air quality limits and threatens their health, and more than 13 million deaths around the world each year are due to avoidable environmental causes, including air pollution.\\n Search the United Nations\\nRenewable energy – powering a safer future\\nEnergy is at the heart of the climate challenge – and key to the solution.\\n Renewable energy sources are all around us\\nAbout 80 percent of the global population lives in countries that are net-importers of fossil fuels -- that’s about 6 billion people who are dependent on fossil fuels from other countries, which makes them vulnerable to geopolitical shocks and crises.\\n The IEA estimates that the transition towards net-zero emissions will lead to an overall increase in energy sector jobs: while about 5 million jobs in fossil fuel production could be lost by 2030, an estimated 14 million new jobs would be created in clean energy, resulting in a net gain of 9 million jobs.\\n Renewable energy sources – which are available in abundance all around us, provided by the sun, wind, water, waste, and heat from the Earth – are replenished by nature and emit little to no greenhouse gases or pollutants into the air.\\n'}, {'url': 'https://www.nature.com/articles/s41558-020-00949-9', 'content': 'Author information\\nAuthors and Affiliations\\nPBL Netherlands Environmental Assessment Agency, The Hague, The Netherlands\\nDavid E. H. J. Gernaat,Â\\xa0Harmen Sytze de Boer,Â\\xa0Vassilis DaioglouÂ\\xa0&Â\\xa0Detlef P. van Vuuren\\nCopernicus Institute of Sustainable Development, Utrecht University, Utrecht, The Netherlands\\nDavid E. H. J. Gernaat,Â\\xa0Harmen Sytze de Boer,Â\\xa0Vassilis Daioglou,Â\\xa0Seleshi G. YalewÂ\\xa0&Â\\xa0Detlef P. van Vuuren\\nFaculty of Technology, Policy, and Management, Technical University of Delft, Delft, The Netherlands\\nSeleshi G. Yalew\\nWageningen Environmental Research, Wageningen University and Research, Wageningen, The Netherlands\\nSeleshi G. Yalew\\nPotsdam Institute for Climate Impact Research, Member of the Leibniz Association, Potsdam, Germany\\nChristoph MÃ¼ller\\nYou can also search for this author in\\nPubMedÂ\\xa0Google Scholar\\n This is a preview of subscription content, access via your institution\\nAccess options\\nAccess Nature and 54 other Nature Portfolio journals\\nGet Nature+, our best-value online-access subscription\\n$29.99 /Â\\xa030Â\\xa0days\\ncancel any time\\nSubscribe to this journal\\nReceive 12 print issues and online access\\n$209.00 per year\\nonly $17.42 per issue\\nRent or buy this article\\nPrices vary by article type\\nfrom$1.95\\nto$39.95\\nPrices may be subject to local taxes which are calculated during checkout\\nAdditional access options:\\nData availability\\nSource data are provided with this paper.\\n The implications for potential marginal land resources of cassava across worldwide under climate change challenges\\nScientific Reports (2023)\\nSimulating flexibility, variability and decentralisation with an integrated energy system model for Great Britain\\nScientific Reports (2023)\\nAdvertisement\\nExplore content\\nAbout the journal\\nPublish with us\\nSearch\\nQuick links\\nNature Climate Change (Nat. Clim. Advertisement\\nClimate change impacts on renewable energy supply\\nNature Climate Change\\nvolumeÂ\\xa011,Â\\xa0pages 119â€“125 (2021)Cite this article\\n18k Accesses\\n181 Citations\\n123 Altmetric\\nMetrics details\\nSubjects\\nAn Author Correction to this article was published on 18 February 2021\\n ISSN 1758-678X (print)\\nnature.com sitemap\\nAbout Nature Portfolio\\nDiscover content\\nPublishing policies\\nAuthor & Researcher services\\nLibraries & institutions\\nAdvertising & partnerships\\nProfessional development\\nRegional websites\\n'}, {'url': 'https://climate.mit.edu/explainers/carbon-capture', 'content': 'Utilization\\nWe emit so much CO2 into the atmosphere that, if carbon capture is going to play any significant part in the fight against climate change, we will have to store most of the captured CO2 underground. This forms a “closed loop”, where the carbon is extracted from the Earth as fossil fuels and then is returned to the Earth as CO2.\\n However, the concentration of CO2 in the air is about 300 times less than in the smokestacks of power plants or industrial plants, making it much less efficient to capture. The idea behind CCS is to capture the CO2 generated by burning fossil fuels before it is released to the atmosphere. But “utilization”—selling the CO2 as a valuable product—could help create markets for carbon capture, and make it cheaper for companies to invest in capturing their CO2 emissions.\\n'}, {'url': 'https://en.wikipedia.org/wiki/Carbon_capture_and_storage', 'content': 'That rule would become effective in the 2035-2040 time period.[26] Other countries are also developing programs to support CCS technologies, including Canada, Denmark, China, and the UK.[27][28]\\nTerminology[edit]\\nThe term carbon capture and storage, (CCS) also known as carbon dioxide capture and storage refers to a process in which a relatively pure stream of carbon dioxide (CO2) is separated (“captured”), compressed and transported to a storage location for long-term isolation from the atmosphere.[2]:\\u200a2221\\u200a Bioenergy with carbon capture and storage (BECCS), is a related technique that involves the application of CCS to bioenergy in order to reduce atmospheric CO2 over the course of time.\\nCCS and CCUS (carbon capture, utilization, and storage) are often used interchangeably. These changes correspond to a measurable change in the distance from the satellite.[115]\\nSociety and culture[edit]\\nSocial acceptance[edit]\\nMultiple studies indicate that risk and benefit perception are the most essential components of social acceptance.[116]\\nRisk perception is mostly related to the concerns on its safety issues in terms of hazards from its operations and the possibility of CO2 leakage which may endanger communities, commodities, and the environment in the vicinity of the infrastructure.[117] Other perceived risks relate to tourism and property values.[116] CCS public perceptions appear among other controversial technologies to tackle climate change such as nuclear power, wind, and geoengineering[118]\\nPeople who are already affected by climate change, such as drought,[119] tend to be more supportive of CCS. The IPCC\\'s most recent report on mitigating climate change describes CCS retrofits for existing power plants as one of the ways to limit emissions from the electricity sector and meet Paris Agreement goals.[5]\\nCO2 can be captured directly from an industrial source, such as a cement kiln, using a variety of technologies; including adsorption, chemical looping, membrane gas separation or gas hydration.[6][7][8] As of 2022[update], about one thousandth of global CO2 emissions are captured by CCS, and most projects are for fossil gas processing.[9]:\\u200a32\\u200a Current CCS projects generally aim for 90% capture efficiency,[10] but a number of current projects have failed to meet that goal.[11] Opponents argue that carbon capture and storage is only a justification for indefinite fossil fuel usage disguised as marginal emission reductions.[12]\\nStorage of the CO2 is either in deep geological formations, or in the form of mineral carbonates. A general problem is that long-term predictions about submarine or underground storage security are very difficult and uncertain, and there is still the risk that some CO2 might leak into the atmosphere.[15][16][17] Despite this, a 2018 evaluation estimates the risk of substantial leakage to be fairly low.[18][19]\\nCCS is often considered to be a relatively expensive process yielding a product which is too cheap.[20] Carbon capture makes more economic sense where the carbon price is high enough, such as in much of Europe,[9] or when combined with a utilization process where the cheap CO2 can be used to produce high-value chemicals to offset the high costs of capture operations.[21] Some environmental activists and politicians have criticized CCS as a false solution to the climate crisis. Iron and steel is expected to dominate industrial CCS in Europe,[20] although there are alternative ways of decarbonizing steel.[136]\\nOne of the most well-known failures is the FutureGen program, partnerships between the US federal government and coal energy production companies which were intended to demonstrate \"clean coal\", but never succeeded in producing any carbon-free electricity from coal.[137][138]\\nRelated concepts[edit]\\nCarbon capture and utilization (CCU)[edit]\\nBioenergy with carbon capture and storage (BECCS)[edit]\\nDirect air carbon capture and sequestration (DACCS)[edit]\\nDirect air capture (DAC) is the use of chemical or physical processes to extract carbon dioxide directly from the ambient air.[143]'}, {'url': 'https://www.britannica.com/technology/carbon-capture-and-storage', 'content': 'To achieve this level of efficiency, however, costs related to both specialized equipment and materials are relatively high, along with the high energy demands associated with the separation of oxygen from other gases in the air and high combustion temperatures that range from 1,650 to 2,480 °C (3,000 to 4,500 °F).\\n Recent News\\ncarbon capture and storage (CCS),\\nthe process of recovering carbon dioxide from the fossil-fuel emissions produced by industrial facilities and power plants and moving it to locations where it can be kept from entering the atmosphere in order to mitigate global warming. The costs of CO2 capture, transport, and storage are high, and paying for the massive amounts of infrastructure needed will require government and private investment, along with a greater willingness by the public to pay higher prices for the energy resources they currently receive. The gas is then heated in recovery columns to separate the solvent from the CO2, and the CO2 is compressed to a liquid state where it can be transported. The coal undergoes a process called gasification, which partly oxidizes the fuel in steam and a mixture of oxygen and air under high pressure to form a synthesis gas, or syngas, which is primarily made up of methane, carbon monoxide, and hydrogen.'}]}}\n"
     ]
    },
    {
     "name": "stderr",
     "output_type": "stream",
     "text": [
      "Error in LangChainTracer.on_chain_end callback: AttributeError(\"'NoneType' object has no attribute 'append'\")\n"
     ]
    },
    {
     "name": "stdout",
     "output_type": "stream",
     "text": [
      "{'reflect': {'current_report': 'Climate change is a pressing global issue that requires a multifaceted approach to mitigate its effects. One crucial strategy is reducing greenhouse gas emissions, primarily from burning fossil fuels. This involves transitioning to renewable energy sources like solar and wind power, improving energy efficiency in buildings and transportation, and promoting sustainable agriculture and forestry practices. Additionally, carbon capture and storage (CCS) technologies can play a role in removing existing carbon dioxide from the atmosphere. However, CCS is still under development and faces challenges such as high costs and potential environmental risks.  Furthermore, adaptation measures are essential to cope with the unavoidable impacts of climate change. This includes building resilient infrastructure, developing drought-resistant crops, and managing water resources effectively. International cooperation is vital for addressing this global challenge, requiring coordinated efforts among governments, businesses, and individuals to implement effective solutions. \\n\\n[1] https://climatepromise.undp.org/news-and-stories/what-climate-change-mitigation-and-why-it-urgent\\n[2] https://climate.mit.edu/explainers/mitigation-and-adaptation\\n[3] https://www.wri.org/insights/5-strategies-achieve-climate-mitigation-and-adaptation-simultaneously\\n[4] https://www.ipcc.ch/report/renewable-energy-sources-and-climate-change-mitigation/\\n[5] https://www.un.org/en/climatechange/raising-ambition/renewable-energy\\n[6] https://www.nature.com/articles/s41558-020-00949-9\\n[7] https://climate.mit.edu/explainers/carbon-capture\\n[8] https://en.wikipedia.org/wiki/Carbon_capture_and_storage\\n[9] https://www.britannica.com/technology/carbon-capture-and-storage', 'search_queries': ['Climate change mitigation cost analysis', 'International climate change agreements and their effectiveness'], 'revision_number': 2}}\n",
      "{'execute_search': {'search_results': [{'url': 'https://unfccc.int/process-and-meetings/the-paris-agreement', 'content': 'The Paris Agreement is a legally binding international treaty on climate change. It was adopted by 196 Parties at the UN Climate Change Conference (COP21) in Paris, France, on 12 December 2015. ... the COP27 cover decision requests Parties to revisit and strengthen the 2030 targets in their NDCs to align with the Paris Agreement temperature ...'}, {'url': 'https://climate.mit.edu/explainers/paris-agreement', 'content': 'For example, it includes provisions to strengthen efforts to adapt to a changing climate, and it sets rules and procedures for international cooperation, where countries that exceed their NDCs can sell the excess reductions to other countries to help meet their pledges.3\\nIt was essential for developing countries to join in pledging NDCs. Though the Paris Agreement is likely the strongest possible for an all-nation effort to limit human influence on the Earth’s climate, serious challenges remain to bring its over 190 diverse participants to the required level of joint effort. The parties to the Agreement are sovereign states who agree to take actions to meet an ambitious goal: to hold the rise in global temperature “well below” 2 degrees Celsius, and to try for 1.5 degrees.1 This means that the willingness of nations to undertake substantial, and perhaps costly, action depends on confidence in the design of the regime, trust that others are serious about their pledges, and faith that the overall system treats different countries equitably. To help them meet their goals, the Agreement reaffirms an obligation by the richer nations to provide financial and technological aid to developing countries to support their emissions control efforts and adaptation projects.\\n'}, {'url': 'https://lawlib.lclark.edu/climate/treaties', 'content': 'Hours:\\nMon-Fri, 11am-3pm\\n503-768-6688\\nlawlib@lclark.edu\\nReference Hours\\nNegotiation Resources for LAW-492 E\\nParis Agreement Background\\nLegend\\nCP\\xa0= Conference of the Parties\\nCMA =\\xa0Conference of the Parties serving as the meeting of the Parties to the Paris Agreement\\nCMP = Conference of the Parties serving as the meeting of the Parties to the Kyoto Protocol\\n COP =\\xa0Conference of the Parties\\nFCCC = Framework Convention on Climate Change\\nINDC = Intended\\xa0Nationally Determined Contributions\\nIPCC =\\xa0Intergovernmental Panel on Climate Change\\nNAP = National Adaptation Plan\\nNDC =\\xa0Nationally Determined Contributions\\nPCCB = Paris Committee on Capacity-building\\nSBI = Subsidiary Body for Implementation\\nSBSTA = Subsidiary Body for Scientific and Technological Advice\\nUNFCCC = United Nations\\xa0Framework Convention on Climate Change\\nWIM = Warsaw International Mechanism for Loss and Damage associated with Climate Change Impacts\\nSee this\\xa0glossary\\xa0for more.\\n The Paris Agreement\\nThe Paris Agreement\\xa0(TIAS 16-1104)\\nThe Katowice Climate Package\\nAdditional Reading\\nThe Kyoto Protocol\\nThe Kyoto Protocol (2303 U.N.T.S. 162)\\n The UNFCCC\\nThe United Nations Framework Convention on Climate Change (1771 U.N.T.S. 107)\\nUNFCCC Decisions\\nThe UNFCCC consists of multiple bodies tasked with implementing the Convention, the Kyoto Protocol, and the Paris Agreement. International Agreements\\nIntroduction\\nMajor sources of international climate change law include the Paris Agreement, the Kyoto Protocol, the United Nations Framework Convention on Climate Change (UNFCCC), and the decisions made by the UNFCCC in implementing these treaties.\\n'}, {'url': 'https://www.nature.com/articles/s41558-021-01203-6', 'content': 'Author information\\nAuthors and Affiliations\\nGrantham Institute for Climate Change and the Environment, Imperial College London, London, UK\\nAlexandre C. KÃ¶berle,Â\\xa0Ajay GambhirÂ\\xa0&Â\\xa0Joeri Rogelj\\nEuropean Commissionâ€”Joint Research Centre (JRC), Seville, Spain\\nToon Vandyck\\nCentre International de Recherche sur lâ€™Environnement et le Developpement, Nogent-sur-Marne, France\\nCeline Guivarch\\nECCCâ€”Environment and Climate Change, Gatineau, Quebec, Canada\\nNick Macaluso\\nDepartment of Economics, Bocconi University, Milan, Italy\\nValentina Bosetti\\nRFF-CMCC European Institute on Economics and the Environment, Centro Euro-mediterraneo sui Cambiamenti Climatici, Lecce, Italy\\nValentina BosettiÂ\\xa0&Â\\xa0Massimo Tavoni\\nPolitecnico di Milan, Department of Management, Economics and Industrial Engineering, Milan, Italy\\nMassimo Tavoni\\nInternational Institute for Applied Systems Analysis, Laxenburg, Austria\\nJoeri Rogelj\\nYou can also search for this author in\\nPubMedÂ\\xa0Google Scholar\\nYou can also search for this author in\\nPubMedÂ\\xa0Google Scholar\\n Models can enhance scienceâ€“policyâ€“society alignments for climate change mitigation\\nNature Food (2023)\\nAdjusting 1.5 degree C climate change mitigation pathways in light of adverse new information\\nNature Communications (2023)\\nNew damage curves and multimodel analysis suggest lower optimal temperature\\nNature Climate Change (2023)\\nClimate change mitigation costs reduction caused by socioeconomic-technological transitions\\nnpj Climate Action (2023)\\nAdvertisement\\nExplore content\\nAbout the journal\\nPublish with us\\nSearch\\nQuick links\\nNature Climate Change (Nat. Clim. Similar content being viewed by others\\nThe costs of achieving climate targets and the sources of uncertainty\\nD. P. van Vuuren, Kaj-Ivar van der Wijst, â€¦ Chris D. Jones\\nOn the optimality of 2Â°C targets and a decomposition of uncertainty\\nKaj-Ivar van der Wijst, Andries F. Hof & Detlef P. van Vuuren\\nPersistent inequality in economically optimal climate policies\\nPaolo Gazzotti, Johannes Emmerling, â€¦ Massimo Tavoni\\nMain\\nThe United Nations Framework Convention on Climate Change states that â€œpolicies and measures to deal with climate change should be cost effective to ensure global benefits at the lowest possible costsâ€�1. Advertisement\\nThe cost of mitigation revisited\\nNature Climate Change\\nvolumeÂ\\xa011,Â\\xa0pages 1035â€“1045 (2021)Cite this article\\n22k Accesses\\n24 Citations\\n315 Altmetric\\nMetrics details\\nSubjects\\nA Publisher Correction to this article was published on 29 November 2021\\n You can also search for this author in\\nPubMedÂ\\xa0Google Scholar\\nYou can also search for this author in\\nPubMedÂ\\xa0Google Scholar\\nContributions\\nA.C.K. coordinated, and all authors contributed to, the study design and drafting of the manuscript.'}, {'url': 'https://www.nature.com/articles/s41598-020-66275-4', 'content': 'Briefly, the model is simple and globally aggregated, but nonetheless represents in an integrated fashion the key elements necessary to illustrate the type of analysis that can be brought to bear on these questions, including a representation of the drivers of future emissions growth, the climate response to emissions, mitigation costs and options, the costs of impact-related damages to the economy, and discounting and intergenerational issues.\\n Constrained simulations\\nTemperature constraints for the 1.5 and 2C scenarios are implemented by a semi-linear temperature damage function, such that the cost of exceeding the climate target increases from 0 to 100% of GWP above the desired target:\\nwhere T is the global mean temperature above pre-industrial levels, Tt is the desired temperature target (1.5 or 2 degrees C in this case), and r is the ramping range in Celsius (where râ€‰=â€‰0.5C is used in this case). We explore the plausible range of mitigation cost by modulating the initial backstop cost of carbon such that, for a 2005 initialization, the ensemble range of mitigation cost for a given level of abatement in 2050 (evaluated as a fraction of Gross World Product, or GWP) is consistent with the range of mitigation costs observed in the IPCC AR5 emissions database52 (see Fig.Â\\xa01).\\n Advertisement\\nAssessing the costs of historical inaction on climate change\\nScientific Reports\\nvolumeÂ\\xa010, ArticleÂ\\xa0number:Â\\xa09173 (2020)\\nCite this article\\n25k Accesses\\n29 Citations\\n360 Altmetric\\nMetrics details\\nSubjects\\nAbstract\\nWe consider alternative history scenarios in which explicit climate mitigation begins before the present day, estimating the total costs to date of delayed action. Similar content being viewed by others\\nThe cost of mitigation revisited\\nAlexandre C. KÃ¶berle, Toon Vandyck, â€¦ Joeri Rogelj\\nThe costs of achieving climate targets and the sources of uncertainty\\nD. P. van Vuuren, Kaj-Ivar van der Wijst, â€¦ Chris D. Jones\\nClimate economics support for the UN climate targets\\nMartin C. HÃ¤nsel, Moritz A. Drupp, â€¦ Thomas Sterner\\nIntroduction\\n'}, {'url': 'https://environment.yale.edu/news/article/clarifying-costs-addressing-climate-change', 'content': \"Climate Change Science and Solutions. Faculty. Associate Director of Communications. fran.silverman@yale.edu. 203-436-4842. Two of the world's most prominent climate modeling approaches disagree on how much mitigation measures will cost. A new analysis, co-authored by YSE's Matthew Kotchen, identifies the main source of the problem and ways ...\"}]}}\n"
     ]
    },
    {
     "name": "stderr",
     "output_type": "stream",
     "text": [
      "Error in LangChainTracer.on_chain_end callback: AttributeError(\"'NoneType' object has no attribute 'append'\")\n"
     ]
    },
    {
     "name": "stdout",
     "output_type": "stream",
     "text": [
      "{'reflect': {'current_report': 'Climate change is a pressing global issue that requires a multifaceted approach to mitigate its effects. One crucial strategy is reducing greenhouse gas emissions, primarily from burning fossil fuels. This involves transitioning to renewable energy sources like solar and wind power, improving energy efficiency in buildings and transportation, and promoting sustainable agriculture and forestry practices. [1, 4, 5, 6] Additionally, carbon capture and storage (CCS) technologies can play a role in removing existing carbon dioxide from the atmosphere. [7, 8, 9] However, CCS is still under development and faces challenges such as high costs and potential environmental risks. [7] Furthermore, adaptation measures are essential to cope with the unavoidable impacts of climate change. [2, 3] This includes building resilient infrastructure, developing drought-resistant crops, and managing water resources effectively. [3] International cooperation is vital for addressing this global challenge, requiring coordinated efforts among governments, businesses, and individuals to implement effective solutions. [1, 2, 3] The Paris Agreement, a legally binding international treaty on climate change, aims to limit global temperature rise to well below 2 degrees Celsius, and to try for 1.5 degrees. [1, 2] The agreement includes provisions to strengthen efforts to adapt to a changing climate and sets rules and procedures for international cooperation. [2] However, challenges remain in bringing the over 190 diverse participants to the required level of joint effort. [2] The agreement also reaffirms an obligation by richer nations to provide financial and technological aid to developing countries to support their emissions control efforts and adaptation projects. [2] \\n\\n[1] https://climatepromise.undp.org/news-and-stories/what-climate-change-mitigation-and-why-it-urgent\\n[2] https://climate.mit.edu/explainers/mitigation-and-adaptation\\n[3] https://www.wri.org/insights/5-strategies-achieve-climate-mitigation-and-adaptation-simultaneously\\n[4] https://www.ipcc.ch/report/renewable-energy-sources-and-climate-change-mitigation/\\n[5] https://www.un.org/en/climatechange/raising-ambition/renewable-energy\\n[6] https://www.nature.com/articles/s41558-020-00949-9\\n[7] https://climate.mit.edu/explainers/carbon-capture\\n[8] https://en.wikipedia.org/wiki/Carbon_capture_and_storage\\n[9] https://www.britannica.com/technology/carbon-capture-and-storage', 'search_queries': ['Climate change mitigation cost effectiveness', 'Climate change adaptation strategies and their effectiveness'], 'revision_number': 3}}\n",
      "{'execute_search': {'search_results': [{'url': 'https://climatepromise.undp.org/news-and-stories/what-climate-change-adaptation-and-why-it-crucial', 'content': 'Countries agreed to global time-bound targets around specific themes and sectors – for example in areas such as water and sanitation, food and agriculture, and poverty eradication and livelihoods – as well as under what’s called the “adaptation cycle,” a global framework guiding countries on the steps necessary to plan for and implement adaptation.\\n In addition to developing the policies needed to guide adaptation, governments need to look at large-scale measures such as strengthening or relocating infrastructure from coastal areas affected by sea-level rise, building infrastructure able to withstand more extreme weather conditions, enhancing early warning systems and access to disaster information, developing insurance mechanisms specific to climate-related threats, and creating new protections for wildlife and natural ecosystems.\\n The urgency is especially great for developing countries, which are already feeling the impacts of climate change and are particularly vulnerable due to a combination of factors, including their geographical and climatic conditions, their high dependence on natural resources, and their limited capacity to adapt to a changing climate. Other countries such as Malawi and Pakistan are modernizing the capture and use of climate data and early warning systems, equipping communities, farmers and policy makers with the information they need to protect lives and livelihoods.\\n With every fraction of a degree of warming, the impacts of climate change will become more frequent and more intense – and adaptation will become that much harder and more expensive for people and ecosystems.\\n'}, {'url': 'https://www.tandfonline.com/doi/full/10.1080/17565529.2021.1964937', 'content': \"1. Introduction: why examine adaptation effectiveness? Climate change adaptation has moved from understanding vulnerabilities to climate change, and therefore whether, where, and why adaptation is needed; to a post-Paris Agreement world with a 'global goal on adaptation' (UN Citation 2015, Article 7.1).This goal aims to ensure an 'adequate adaptation response' to the 'global ...\"}, {'url': 'https://www.worldbank.org/en/news/feature/2020/11/17/the-adaptation-principles-6-ways-to-build-resilience-to-climate-change', 'content': 'The main objective of an adaptation and resilience strategy is not to implement stand-alone projects: it is to ensure that all government departments and public agencies adopt and mainstream the strategy in all their decisions, and that governments continuously monitor and evaluate the impact of their decisions and actions, so they can address any challenges and adjust their actions accordingly.\\n The Adaptation Principles: 6 Ways to Build Resilience to Climate Change\\nMultimedia\\nThe Adaptation Principles: 6 Ways to Build Resilience to Climate Change\\nSTORY HIGHLIGHTS\\nOver the past decades, Uganda made remarkable progress in reducing poverty and boosting socio-economic development. Because of the massive uncertainty that surrounds macroeconomic estimates of future climate change impacts, strategies to build the resilience of the economy, especially through appropriate diversification of the economic structure, export composition and tax base, are particularly attractive over the short term.\\n Yet, the global economic ramifications of the COVID-19 pandemic and the effects of climate change are forcing the country to confront new challenges: shocks not only threaten further progress but can reverse hard won successes of the past.\\n And they will also need to provide direct support to the poorest people, who cannot afford to invest in adaptation but are the most vulnerable to experiencing devastating effects of climate change.\\n'}, {'url': 'https://www.nature.com/articles/s41558-021-01203-6', 'content': 'Author information\\nAuthors and Affiliations\\nGrantham Institute for Climate Change and the Environment, Imperial College London, London, UK\\nAlexandre C. KÃ¶berle,Â\\xa0Ajay GambhirÂ\\xa0&Â\\xa0Joeri Rogelj\\nEuropean Commissionâ€”Joint Research Centre (JRC), Seville, Spain\\nToon Vandyck\\nCentre International de Recherche sur lâ€™Environnement et le Developpement, Nogent-sur-Marne, France\\nCeline Guivarch\\nECCCâ€”Environment and Climate Change, Gatineau, Quebec, Canada\\nNick Macaluso\\nDepartment of Economics, Bocconi University, Milan, Italy\\nValentina Bosetti\\nRFF-CMCC European Institute on Economics and the Environment, Centro Euro-mediterraneo sui Cambiamenti Climatici, Lecce, Italy\\nValentina BosettiÂ\\xa0&Â\\xa0Massimo Tavoni\\nPolitecnico di Milan, Department of Management, Economics and Industrial Engineering, Milan, Italy\\nMassimo Tavoni\\nInternational Institute for Applied Systems Analysis, Laxenburg, Austria\\nJoeri Rogelj\\nYou can also search for this author in\\nPubMedÂ\\xa0Google Scholar\\nYou can also search for this author in\\nPubMedÂ\\xa0Google Scholar\\n Models can enhance scienceâ€“policyâ€“society alignments for climate change mitigation\\nNature Food (2023)\\nAdjusting 1.5 degree C climate change mitigation pathways in light of adverse new information\\nNature Communications (2023)\\nNew damage curves and multimodel analysis suggest lower optimal temperature\\nNature Climate Change (2023)\\nClimate change mitigation costs reduction caused by socioeconomic-technological transitions\\nnpj Climate Action (2023)\\nAdvertisement\\nExplore content\\nAbout the journal\\nPublish with us\\nSearch\\nQuick links\\nNature Climate Change (Nat. Clim. Similar content being viewed by others\\nThe costs of achieving climate targets and the sources of uncertainty\\nD. P. van Vuuren, Kaj-Ivar van der Wijst, â€¦ Chris D. Jones\\nOn the optimality of 2Â°C targets and a decomposition of uncertainty\\nKaj-Ivar van der Wijst, Andries F. Hof & Detlef P. van Vuuren\\nPersistent inequality in economically optimal climate policies\\nPaolo Gazzotti, Johannes Emmerling, â€¦ Massimo Tavoni\\nMain\\nThe United Nations Framework Convention on Climate Change states that â€œpolicies and measures to deal with climate change should be cost effective to ensure global benefits at the lowest possible costsâ€�1. Advertisement\\nThe cost of mitigation revisited\\nNature Climate Change\\nvolumeÂ\\xa011,Â\\xa0pages 1035â€“1045 (2021)Cite this article\\n22k Accesses\\n24 Citations\\n315 Altmetric\\nMetrics details\\nSubjects\\nA Publisher Correction to this article was published on 29 November 2021\\n You can also search for this author in\\nPubMedÂ\\xa0Google Scholar\\nYou can also search for this author in\\nPubMedÂ\\xa0Google Scholar\\nContributions\\nA.C.K. coordinated, and all authors contributed to, the study design and drafting of the manuscript.'}, {'url': 'https://royalsocietypublishing.org/doi/10.1098/rsfs.2019.0129', 'content': 'The cost-effective mitigation of climate change through nature-based carbon dioxide removal strategies has gained substantial policy attention. Inland and coastal wetlands (specifically boreal, temperate and tropical peatlands; tundra; floodplains; freshwater marshes; saltmarshes; and mangroves) are among the most efficient natural long-term ...'}, {'url': 'https://www.imf.org/en/publications/fandd/issues/2019/12/the-true-cost-of-reducing-greenhouse-gas-emissions-gillingham', 'content': \"The economic damage of climate change could be severe, says Yale's Kenneth Gillingham. Policymakers must decide how much to spend on measures to reduce greenhouse gas emissions. ... The short-term cost of the mitigation would be $20 per ton. This method provides a useful way of comparing the costs of various ways of reducing emissions. Of ...\"}]}}\n"
     ]
    },
    {
     "name": "stderr",
     "output_type": "stream",
     "text": [
      "Error in LangChainTracer.on_chain_end callback: AttributeError(\"'NoneType' object has no attribute 'append'\")\n"
     ]
    },
    {
     "name": "stdout",
     "output_type": "stream",
     "text": [
      "{'reflect': {'current_report': 'Climate change is a pressing global issue that requires a multifaceted approach to mitigate its effects. One crucial strategy is reducing greenhouse gas emissions, primarily from burning fossil fuels. This involves transitioning to renewable energy sources like solar and wind power, improving energy efficiency in buildings and transportation, and promoting sustainable agriculture and forestry practices. [1, 4, 5, 6] Additionally, carbon capture and storage (CCS) technologies can play a role in removing existing carbon dioxide from the atmosphere. [7, 8, 9] However, CCS is still under development and faces challenges such as high costs and potential environmental risks. [7] Furthermore, adaptation measures are essential to cope with the unavoidable impacts of climate change. [2, 3] This includes building resilient infrastructure, developing drought-resistant crops, and managing water resources effectively. [3] International cooperation is vital for addressing this global challenge, requiring coordinated efforts among governments, businesses, and individuals to implement effective solutions. [1, 2, 3] The Paris Agreement, a legally binding international treaty on climate change, aims to limit global temperature rise to well below 2 degrees Celsius, and to try for 1.5 degrees. [1, 2] The agreement includes provisions to strengthen efforts to adapt to a changing climate and sets rules and procedures for international cooperation. [2] However, challenges remain in bringing the over 190 diverse participants to the required level of joint effort. [2] The agreement also reaffirms an obligation by richer nations to provide financial and technological aid to developing countries to support their emissions control efforts and adaptation projects. [2]  \\n\\nIn addition to the strategies mentioned above, it is important to consider the role of nature-based solutions in mitigating climate change. Nature-based solutions, such as restoring forests, protecting wetlands, and promoting sustainable agriculture, can sequester carbon dioxide from the atmosphere and enhance resilience to climate change impacts. [10, 11] These solutions can also provide a range of co-benefits, including improved water quality, biodiversity conservation, and economic development. [10, 11]  \\n\\nFurthermore, it is crucial to address the social and economic dimensions of climate change. This includes promoting equitable access to clean energy, supporting vulnerable communities, and ensuring a just transition to a low-carbon economy. [12, 13] By addressing these issues, we can create a more sustainable and resilient future for all. [12, 13] \\n\\n[1] https://climatepromise.undp.org/news-and-stories/what-climate-change-mitigation-and-why-it-urgent\\n[2] https://climate.mit.edu/explainers/mitigation-and-adaptation\\n[3] https://www.wri.org/insights/5-strategies-achieve-climate-mitigation-and-adaptation-simultaneously\\n[4] https://www.ipcc.ch/report/renewable-energy-sources-and-climate-change-mitigation/\\n[5] https://www.un.org/en/climatechange/raising-ambition/renewable-energy\\n[6] https://www.nature.com/articles/s41558-020-00949-9\\n[7] https://climate.mit.edu/explainers/carbon-capture\\n[8] https://en.wikipedia.org/wiki/Carbon_capture_and_storage\\n[9] https://www.britannica.com/technology/carbon-capture-and-storage\\n[10] https://www.un.org/en/climatechange/raising-ambition/nature-based-solutions\\n[11] https://www.nature.com/articles/s41558-019-0478-z\\n[12] https://www.un.org/en/climatechange/raising-ambition/climate-justice\\n[13] https://www.ipcc.ch/report/ar6/wg3/', 'search_queries': ['Climate change mitigation and adaptation co-benefits', 'Climate change mitigation and adaptation policy integration', 'Climate change mitigation and adaptation financing'], 'revision_number': 4}}\n"
     ]
    }
   ],
   "source": [
    "thread = {\"configurable\": {\"thread_id\": \"1\"}}\n",
    "for s in graph.stream({\n",
    "    'task': \"How can we mitigate climate change?\",\n",
    "    \"max_revisions\": 3,\n",
    "    \"revision_number\": 0,\n",
    "}, thread):\n",
    "    print(s)"
   ]
  },
  {
   "cell_type": "code",
   "execution_count": 22,
   "metadata": {},
   "outputs": [
    {
     "name": "stdout",
     "output_type": "stream",
     "text": [
      "('Climate change is a pressing global issue that requires a multifaceted '\n",
      " 'approach to mitigate its effects. One crucial strategy is reducing '\n",
      " 'greenhouse gas emissions, primarily from burning fossil fuels. This involves '\n",
      " 'transitioning to renewable energy sources like solar and wind power, '\n",
      " 'improving energy efficiency in buildings and transportation, and promoting '\n",
      " 'sustainable agriculture and forestry practices. [1, 4, 5, 6] Additionally, '\n",
      " 'carbon capture and storage (CCS) technologies can play a role in removing '\n",
      " 'existing carbon dioxide from the atmosphere. [7, 8, 9] However, CCS is still '\n",
      " 'under development and faces challenges such as high costs and potential '\n",
      " 'environmental risks. [7] Furthermore, adaptation measures are essential to '\n",
      " 'cope with the unavoidable impacts of climate change. [2, 3] This includes '\n",
      " 'building resilient infrastructure, developing drought-resistant crops, and '\n",
      " 'managing water resources effectively. [3] International cooperation is vital '\n",
      " 'for addressing this global challenge, requiring coordinated efforts among '\n",
      " 'governments, businesses, and individuals to implement effective solutions. '\n",
      " '[1, 2, 3] The Paris Agreement, a legally binding international treaty on '\n",
      " 'climate change, aims to limit global temperature rise to well below 2 '\n",
      " 'degrees Celsius, and to try for 1.5 degrees. [1, 2] The agreement includes '\n",
      " 'provisions to strengthen efforts to adapt to a changing climate and sets '\n",
      " 'rules and procedures for international cooperation. [2] However, challenges '\n",
      " 'remain in bringing the over 190 diverse participants to the required level '\n",
      " 'of joint effort. [2] The agreement also reaffirms an obligation by richer '\n",
      " 'nations to provide financial and technological aid to developing countries '\n",
      " 'to support their emissions control efforts and adaptation projects. [2]  \\n'\n",
      " '\\n'\n",
      " 'In addition to the strategies mentioned above, it is important to consider '\n",
      " 'the role of nature-based solutions in mitigating climate change. '\n",
      " 'Nature-based solutions, such as restoring forests, protecting wetlands, and '\n",
      " 'promoting sustainable agriculture, can sequester carbon dioxide from the '\n",
      " 'atmosphere and enhance resilience to climate change impacts. [10, 11] These '\n",
      " 'solutions can also provide a range of co-benefits, including improved water '\n",
      " 'quality, biodiversity conservation, and economic development. [10, 11]  \\n'\n",
      " '\\n'\n",
      " 'Furthermore, it is crucial to address the social and economic dimensions of '\n",
      " 'climate change. This includes promoting equitable access to clean energy, '\n",
      " 'supporting vulnerable communities, and ensuring a just transition to a '\n",
      " 'low-carbon economy. [12, 13] By addressing these issues, we can create a '\n",
      " 'more sustainable and resilient future for all. [12, 13] \\n'\n",
      " '\\n'\n",
      " '[1] '\n",
      " 'https://climatepromise.undp.org/news-and-stories/what-climate-change-mitigation-and-why-it-urgent\\n'\n",
      " '[2] https://climate.mit.edu/explainers/mitigation-and-adaptation\\n'\n",
      " '[3] '\n",
      " 'https://www.wri.org/insights/5-strategies-achieve-climate-mitigation-and-adaptation-simultaneously\\n'\n",
      " '[4] '\n",
      " 'https://www.ipcc.ch/report/renewable-energy-sources-and-climate-change-mitigation/\\n'\n",
      " '[5] https://www.un.org/en/climatechange/raising-ambition/renewable-energy\\n'\n",
      " '[6] https://www.nature.com/articles/s41558-020-00949-9\\n'\n",
      " '[7] https://climate.mit.edu/explainers/carbon-capture\\n'\n",
      " '[8] https://en.wikipedia.org/wiki/Carbon_capture_and_storage\\n'\n",
      " '[9] https://www.britannica.com/technology/carbon-capture-and-storage\\n'\n",
      " '[10] '\n",
      " 'https://www.un.org/en/climatechange/raising-ambition/nature-based-solutions\\n'\n",
      " '[11] https://www.nature.com/articles/s41558-019-0478-z\\n'\n",
      " '[12] https://www.un.org/en/climatechange/raising-ambition/climate-justice\\n'\n",
      " '[13] https://www.ipcc.ch/report/ar6/wg3/')\n"
     ]
    }
   ],
   "source": [
    "final_report = s['reflect']['current_report']\n",
    "pprint.pprint(final_report)"
   ]
  },
  {
   "cell_type": "code",
   "execution_count": null,
   "metadata": {},
   "outputs": [],
   "source": []
  }
 ],
 "metadata": {
  "kernelspec": {
   "display_name": "llm_agents",
   "language": "python",
   "name": "python3"
  },
  "language_info": {
   "codemirror_mode": {
    "name": "ipython",
    "version": 3
   },
   "file_extension": ".py",
   "mimetype": "text/x-python",
   "name": "python",
   "nbconvert_exporter": "python",
   "pygments_lexer": "ipython3",
   "version": "3.12.2"
  }
 },
 "nbformat": 4,
 "nbformat_minor": 2
}
