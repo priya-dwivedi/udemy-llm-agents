{
 "cells": [
  {
   "cell_type": "code",
   "execution_count": 87,
   "metadata": {},
   "outputs": [],
   "source": [
    "from langchain_core.messages import HumanMessage, BaseMessage, AIMessage\n",
    "# from decouple import config\n",
    "import pprint\n",
    "import os\n",
    "from langchain_core.prompts import ChatPromptTemplate, MessagesPlaceholder\n",
    "from gemini_llm import GeminiLLM\n",
    "import concurrent.futures\n",
    "import json\n"
   ]
  },
  {
   "cell_type": "code",
   "execution_count": 88,
   "metadata": {},
   "outputs": [
    {
     "data": {
      "text/plain": [
       "True"
      ]
     },
     "execution_count": 88,
     "metadata": {},
     "output_type": "execute_result"
    }
   ],
   "source": [
    "from dotenv import load_dotenv\n",
    "load_dotenv()"
   ]
  },
  {
   "cell_type": "code",
   "execution_count": 89,
   "metadata": {},
   "outputs": [],
   "source": [
    "os.environ[\"GOOGLE_API_KEY\"] = os.getenv(\"OPENAI_API_KEY\") ## Put your OpenAI API key here\n",
    "os.environ[\"LANGCHAIN_API_KEY\"] = os.getenv(\"LANGCHAIN_API_KEY\") ## Put your Langsmith API key here\n",
    "os.environ[\"LANGCHAIN_HUB_API_KEY\"] = os.getenv(\"LANGCHAIN_API_KEY\") ## Put your Langsmith API key here\n",
    "os.environ[\"LANGCHAIN_TRACING_V2\"] = 'true' ## Set this as True\n",
    "os.environ[\"LANGCHAIN_ENDPOINT\"] = 'https://api.smith.langchain.com/' ## Set this as: https://api.smith.langchain.com/\n",
    "os.environ[\"LANGCHAIN_HUB_API_URL\"] = 'https://api.hub.langchain.com' ## Set this as : https://api.hub.langchain.com\n",
    "os.environ[\"LANGCHAIN_PROJECT\"] = 'llm-agents-planning'"
   ]
  },
  {
   "cell_type": "markdown",
   "metadata": {},
   "source": [
    "## Define prompts for Generation, Reflection and Tool Execution"
   ]
  },
  {
   "cell_type": "markdown",
   "metadata": {},
   "source": [
    "![Reflexion](images/Reflexion.png)"
   ]
  },
  {
   "cell_type": "markdown",
   "metadata": {},
   "source": [
    "#### Generation Prompt"
   ]
  },
  {
   "cell_type": "code",
   "execution_count": 90,
   "metadata": {},
   "outputs": [],
   "source": [
    "llm = GeminiLLM(model='gemini-1.5-flash-latest', temperature=0.3, response_mime_type='application/json')"
   ]
  },
  {
   "cell_type": "code",
   "execution_count": 110,
   "metadata": {},
   "outputs": [],
   "source": [
    "generation_prompt = ChatPromptTemplate.from_messages(\n",
    "    [\n",
    "        (\n",
    "            \"system\",\n",
    "            \"You are an AI assistant researcher tasked with writing detailed 2-3 paragraph research on the topic presented by the user.\"\n",
    "            \"Along with the response, you will also give a list of 2-3 search suggestions that can be run to improve the research and ground it\"\n",
    "            \"Give your output in JSON under 2 keys: 'answer' for your research response, 'search' for a list of search suggestions\"\n",
    "        ),\n",
    "        (\n",
    "            \"user\",\n",
    "            \"Write a report on the topic {task}\"\n",
    "\n",
    "        ),\n",
    "    ]\n",
    ")\n",
    "\n",
    "generate_agent = generation_prompt | llm"
   ]
  },
  {
   "cell_type": "code",
   "execution_count": 111,
   "metadata": {},
   "outputs": [
    {
     "name": "stdout",
     "output_type": "stream",
     "text": [
      "{'answer': 'The pace of climate change is undeniably accelerating, evidenced '\n",
      "           'by a multitude of indicators. Global average temperatures are '\n",
      "           'rising at an unprecedented rate, with the past decade witnessing '\n",
      "           'the warmest years on record. This warming trend is driving more '\n",
      "           'frequent and intense heatwaves, droughts, and wildfires. '\n",
      "           'Additionally, sea levels are rising at an accelerating pace due to '\n",
      "           'melting glaciers and thermal expansion of ocean water. The '\n",
      "           'frequency and severity of extreme weather events, such as '\n",
      "           'hurricanes and floods, are also increasing, causing significant '\n",
      "           'economic and societal disruptions. These trends are consistent '\n",
      "           'with projections from climate models, which indicate that the rate '\n",
      "           'of climate change will continue to accelerate in the coming '\n",
      "           'decades unless drastic measures are taken to reduce greenhouse gas '\n",
      "           'emissions.',\n",
      " 'search': ['IPCC reports on climate change acceleration',\n",
      "            'Global temperature trends and acceleration',\n",
      "            'Sea level rise acceleration and projections']}\n"
     ]
    }
   ],
   "source": [
    "result = generate_agent.invoke({\"task\": \"Is the pace of climate change accelerating?\"})\n",
    "result = json.loads(result)\n",
    "pprint.pprint(result)"
   ]
  },
  {
   "cell_type": "code",
   "execution_count": 112,
   "metadata": {},
   "outputs": [
    {
     "name": "stdout",
     "output_type": "stream",
     "text": [
      "The pace of climate change is undeniably accelerating, evidenced by a multitude of indicators. Global average temperatures are rising at an unprecedented rate, with the past decade witnessing the warmest years on record. This warming trend is driving more frequent and intense heatwaves, droughts, and wildfires. Additionally, sea levels are rising at an accelerating pace due to melting glaciers and thermal expansion of ocean water. The frequency and severity of extreme weather events, such as hurricanes and floods, are also increasing, causing significant economic and societal disruptions. These trends are consistent with projections from climate models, which indicate that the rate of climate change will continue to accelerate in the coming decades unless drastic measures are taken to reduce greenhouse gas emissions.\n"
     ]
    }
   ],
   "source": [
    "initial_report = result['answer']\n",
    "print(initial_report)"
   ]
  },
  {
   "cell_type": "markdown",
   "metadata": {},
   "source": [
    "#### Tool Usage node"
   ]
  },
  {
   "cell_type": "code",
   "execution_count": 94,
   "metadata": {},
   "outputs": [],
   "source": [
    "from langchain_community.tools.tavily_search import TavilySearchResults\n",
    "\n",
    "tool = TavilySearchResults(max_results=3)"
   ]
  },
  {
   "cell_type": "code",
   "execution_count": 113,
   "metadata": {},
   "outputs": [
    {
     "data": {
      "text/plain": [
       "[{'url': 'https://climate.nasa.gov/vital-signs/global-temperature/?intent=121',\n",
       "  'content': 'Overall, Earth was about 2.45 degrees Fahrenheit (or about 1.36 degrees Celsius) warmer in 2023 than in the late 19th-century (1850-1900) preindustrial average. The 10 most recent years are the warmest on record. The animation on the right shows the change in global surface temperatures. Dark blue shows areas cooler than average.'},\n",
       " {'url': 'https://earthobservatory.nasa.gov/world-of-change/global-temperatures',\n",
       "  'content': 'The leveling off of temperatures in the middle of the 20th century can be explained by natural variability and by the cooling effects of aerosols generated by factories, power plants, and motor vehicles in the years of rapid economic growth after World War II. The energy coming from the Sun fluctuates very little by year, while the amount of energy radiated by Earth is closely tied to the chemical composition of the atmosphere—particularly the amount of heat-trapping greenhouse gases.\\n In the animation at the top of the page and in the bar chart below, the years from 1880 to 1939 tend to be cooler, then level off by the 1950s. According to former GISS director James Hansen, the strong warming trend of the past four decades likely reflects a shift from balanced aerosol and greenhouse gas effects on the atmosphere to a predominance of greenhouse gas effects after aerosols were curbed by pollution controls.\\n A one-degree global change is significant because it takes a vast amount of heat to warm all of the oceans, the atmosphere, and the land masses by that much.'},\n",
       " {'url': 'https://www.climate.gov/news-features/understanding-climate/climate-change-global-temperature',\n",
       "  'content': \"According to NOAA's\\xa02021 Annual Climate Report the combined\\xa0land and ocean temperature has increased at an average rate of\\xa00.14 degrees Fahrenheit ( 0.08 degrees\\xa0Celsius)\\xa0per decade since 1880; however, the average rate of increase since 1981 has been more than twice as fast: 0.32 °F (0.18 °C) per decade.\\n According to the 2022 Global Climate Report from NOAA National Centers for Environmental Information, every month of 2022 ranked among the ten warmest for that month, despite the cooling influence from the La Niña climate pattern in the tropical Pacific. Because their goal is to track changes in temperature, measurements are converted from absolute\\xa0temperature readings\\xa0to temperature anomalies—the difference between the observed temperature and the long-term average temperature for each location and date. According to the 2017 U.S. Climate Science Special Report, if yearly emissions continue to increase rapidly, as they have since 2000, models project that by the end of this century, global temperature will be at least 5 degrees Fahrenheit warmer than the 1901-1960 average, and possibly as much as 10.2 degrees warmer. (graph) The bars on the graph show global temperatures compared to the 20th-century average each year from 2022 (right) back to 1976 (left)–the last year the world was cooler than average.\"}]"
      ]
     },
     "execution_count": 113,
     "metadata": {},
     "output_type": "execute_result"
    }
   ],
   "source": [
    "tool.invoke({\"query\": \"Global temperature trends past decade\"})"
   ]
  },
  {
   "cell_type": "code",
   "execution_count": 114,
   "metadata": {},
   "outputs": [],
   "source": [
    "def execute_single_search(query):\n",
    "    tool = TavilySearchResults(max_results=3) ## Keep only top 3 results\n",
    "    result =tool.invoke({\"query\":query})\n",
    "    return result\n",
    "\n",
    "def flatten_list(nested_list):\n",
    "    return [item for sublist in nested_list for item in sublist]\n",
    "    \n",
    "def run_parallel_search(search_queries):\n",
    "    with concurrent.futures.ThreadPoolExecutor(max_workers=len(search_queries)) as executor:\n",
    "        # Submit the API calls to the executor\n",
    "        outputs = [executor.submit(execute_single_search, point) for point in search_queries]\n",
    "        # Wait for the API calls to complete and get the results\n",
    "        results = [future.result() for future in concurrent.futures.as_completed(outputs)]\n",
    "\n",
    "    flatten = flatten_list(results)\n",
    "    return flatten\n"
   ]
  },
  {
   "cell_type": "code",
   "execution_count": 115,
   "metadata": {},
   "outputs": [],
   "source": [
    "search_queries = ['Global temperature trends past decade', 'Sea level rise acceleration rate', 'Frequency and intensity of extreme weather events']\n",
    "search_results = run_parallel_search(search_queries)"
   ]
  },
  {
   "cell_type": "code",
   "execution_count": 116,
   "metadata": {},
   "outputs": [
    {
     "name": "stdout",
     "output_type": "stream",
     "text": [
      "[{'url': 'https://climate.nasa.gov/vital-signs/global-temperature/?intent=121', 'content': 'Overall, Earth was about 2.45 degrees Fahrenheit (or about 1.36 degrees Celsius) warmer in 2023 than in the late 19th-century (1850-1900) preindustrial average. The 10 most recent years are the warmest on record. The animation on the right shows the change in global surface temperatures. Dark blue shows areas cooler than average.'}, {'url': 'https://earthobservatory.nasa.gov/world-of-change/global-temperatures', 'content': 'The leveling off of temperatures in the middle of the 20th century can be explained by natural variability and by the cooling effects of aerosols generated by factories, power plants, and motor vehicles in the years of rapid economic growth after World War II. The energy coming from the Sun fluctuates very little by year, while the amount of energy radiated by Earth is closely tied to the chemical composition of the atmosphere—particularly the amount of heat-trapping greenhouse gases.\\n In the animation at the top of the page and in the bar chart below, the years from 1880 to 1939 tend to be cooler, then level off by the 1950s. According to former GISS director James Hansen, the strong warming trend of the past four decades likely reflects a shift from balanced aerosol and greenhouse gas effects on the atmosphere to a predominance of greenhouse gas effects after aerosols were curbed by pollution controls.\\n A one-degree global change is significant because it takes a vast amount of heat to warm all of the oceans, the atmosphere, and the land masses by that much.'}, {'url': 'https://www.climate.gov/news-features/understanding-climate/climate-change-global-temperature', 'content': \"According to NOAA's\\xa02021 Annual Climate Report the combined\\xa0land and ocean temperature has increased at an average rate of\\xa00.14 degrees Fahrenheit ( 0.08 degrees\\xa0Celsius)\\xa0per decade since 1880; however, the average rate of increase since 1981 has been more than twice as fast: 0.32 °F (0.18 °C) per decade.\\n According to the 2022 Global Climate Report from NOAA National Centers for Environmental Information, every month of 2022 ranked among the ten warmest for that month, despite the cooling influence from the La Niña climate pattern in the tropical Pacific. Because their goal is to track changes in temperature, measurements are converted from absolute\\xa0temperature readings\\xa0to temperature anomalies—the difference between the observed temperature and the long-term average temperature for each location and date. According to the 2017 U.S. Climate Science Special Report, if yearly emissions continue to increase rapidly, as they have since 2000, models project that by the end of this century, global temperature will be at least 5 degrees Fahrenheit warmer than the 1901-1960 average, and possibly as much as 10.2 degrees warmer. (graph) The bars on the graph show global temperatures compared to the 20th-century average each year from 2022 (right) back to 1976 (left)–the last year the world was cooler than average.\"}, {'url': 'https://www.climate.gov/news-features/understanding-climate/climate-change-global-sea-level', 'content': '[Online: https://tidesandcurrents.noaa.gov/publications/NOAA_Technical_Report_NOS_COOPS_073.pdf]\\nMore sea level data and information from NOAA and partners\\nGlobal Ocean Heat and Salt Content page at NCEI\\nTides and Currents Sea Level Trends page at the National Ocean Service\\nDigital Coast Sea Level Rise Viewer at the Coastal Services Center\\nCoastal Flood Risk page at the U.S. Climate Resilience Toolkit\\nWe value your feedback\\nHelp us improve our content\\nRelated Content\\nNEWS & FEATURES\\nMAPS & DATA\\n But the melting of mountain glaciers and ice sheets has accelerated:\\nAs a result, the amount of sea level rise due to melting (with a small addition from groundwater transfer and other water storage shifts) from 2005–2013 was nearly twice the amount of sea level rise due to thermal expansion.\\n In the United States, the fastest rates of sea level rise are occurring in the Gulf of Mexico from the mouth of the Mississippi westward, followed by the mid-Atlantic. Map by NOAA Climate.gov\\xa0based on data provided by Philip Thompson, University of Hawaii.\\nPast and future sea level rise\\xa0at specific locations\\xa0on land may be more or less than the global average due to local factors: ground settling, upstream flood control, erosion, regional ocean currents, and whether the land is still rebounding from the compressive weight of Ice Age glaciers. To estimate how much of the increase in sea level is due to actual mass transfer—the movement of water from land to ocean—scientists rely on a combination of direct measurements of melt rate and glacier elevation made during field surveys, and satellite-based measurements of tiny shifts in Earth’s gravity field.'}, {'url': 'https://www.nature.com/articles/s41467-023-37649-9', 'content': 'A recent acceleration south of Cape Hatteras. We assess nonlinear rates of MSL rise along the North American East and Gulf coasts based on 66 tide gauge records from the Permanent Service for Mean ...'}, {'url': 'https://agupubs.onlinelibrary.wiley.com/doi/full/10.1002/2017GL076129', 'content': 'Abstract Global mean sea level rise has been accelerating for more than 100 years, and the acceleration in the last two decades seems to further increase. ... GMSL has been rising with significant acceleration; that is, the rate 1.1 ± 0.3 mm/yr in 1901-1990 increased to 3.1 ± 1.4 mm/yr over 1993-2012 (Dangendorf et al., 2017) (Figure 1a).'}, {'url': 'https://www.weatherapi.com/', 'content': \"{'location': {'name': 'Global', 'region': 'Maguindanao', 'country': 'Filipinas', 'lat': 7.4, 'lon': 124.31, 'tz_id': 'Asia/Manila', 'localtime_epoch': 1718037271, 'localtime': '2024-06-11 0:34'}, 'current': {'last_updated_epoch': 1718037000, 'last_updated': '2024-06-11 00:30', 'temp_c': 23.0, 'temp_f': 73.4, 'is_day': 0, 'condition': {'text': 'Partly Cloudy', 'icon': '//cdn.weatherapi.com/weather/64x64/night/116.png', 'code': 1003}, 'wind_mph': 4.0, 'wind_kph': 6.5, 'wind_degree': 114, 'wind_dir': 'ESE', 'pressure_mb': 1012.0, 'pressure_in': 29.88, 'precip_mm': 0.0, 'precip_in': 0.0, 'humidity': 90, 'cloud': 29, 'feelslike_c': 25.2, 'feelslike_f': 77.4, 'windchill_c': 23.0, 'windchill_f': 73.4, 'heatindex_c': 25.2, 'heatindex_f': 77.4, 'dewpoint_c': 21.2, 'dewpoint_f': 70.2, 'vis_km': 10.0, 'vis_miles': 6.0, 'uv': 1.0, 'gust_mph': 7.2, 'gust_kph': 11.5}}\"}, {'url': 'https://www.dw.com/en/is-climate-change-behind-all-extreme-weather-events/a-69107065', 'content': 'This article was updated on May 27, 2024 to reflect the growing number of extreme weather events. Correction March 22, 2024: There was an erroneous reference to 900 billion voters in an earlier ...'}, {'url': 'https://science.nasa.gov/climate-change/extreme-weather/', 'content': 'Credit: USGS/USDA/Bob Nichols\\nDiscover More Topics From NASA\\nExplore Earth Science\\nEarth Science in Action\\nEarth Science Data\\nFacts About Earth\\nThe National Aeronautics and Space Administration\\nNASA explores the unknown in air and space, innovates for the benefit of humanity, and inspires the world through discovery.\\n The Physical Science Basis\\nIPCC Assessment Report 6 – Working Group II – Climate Change 2022: Impacts, Adaptation and Vulnerability\\nIPCC Assessment Report 6 – Working Group III – Climate Change 2022: Mitigation of Climate Change\\nNASA Global Climate Change - Mitigation and Adaptation\\nNASA Global Climate Change - Extreme Weather and Climate Change\\nAs the climate changes, the frequency and intensity of extreme weather events are increasing.\\n Record-breaking heat waves on land and in the ocean, drenching rains, severe floods, years-long droughts, extreme wildfires, and widespread flooding during hurricanes are all becoming more frequent and more intense.\\n Then scientists use climate models to see if the number or strength of these events is changing, or will change, due to increasing greenhouse gases when compared to what has happened historically.\\n'}]\n"
     ]
    }
   ],
   "source": [
    "print(search_results)"
   ]
  },
  {
   "cell_type": "markdown",
   "metadata": {},
   "source": [
    "### Revision Request"
   ]
  },
  {
   "cell_type": "code",
   "execution_count": 117,
   "metadata": {},
   "outputs": [],
   "source": [
    "reflection_prompt = ChatPromptTemplate.from_messages(\n",
    "    [\n",
    "        #  this needs to be a tuple so do not forget the , at the end\n",
    "        (\n",
    "            \"system\",\n",
    "            \"You are an expert at revising research based on search results. Look at the current report, search queries and search results.\"\n",
    "            \"Use the search results to improve the report. Important: End your report by citing sources you used to write the report\"\n",
    "            \"Also give me 2-3 search suggestions that will further improve the report. These should be different from the search queries that are already done\"\n",
    "            \"Give your output in JSON under 2 keys: 'answer' for your research response with citation. Put citation URLs at the end., 'search' for a list of search suggestions\"\n",
    "        ),\n",
    "        (\n",
    "            \"user\",\n",
    "            \"The question from the user is {task}. The current report is {current_report} \\n\"\n",
    "            \"The search queries done so far are {search_queries}\"\n",
    "            \"The search results are {search_results}\"\n",
    "\n",
    "        ),\n",
    "    ]\n",
    ")\n",
    "\n",
    "reflect_agent = reflection_prompt | llm"
   ]
  },
  {
   "cell_type": "code",
   "execution_count": 118,
   "metadata": {},
   "outputs": [
    {
     "name": "stdout",
     "output_type": "stream",
     "text": [
      "{'answer': 'The pace of climate change is undeniably accelerating, evidenced '\n",
      "           'by a multitude of indicators. Global average temperatures are '\n",
      "           'rising at an unprecedented rate, with the past decade witnessing '\n",
      "           'the warmest years on record.  The 10 most recent years are the '\n",
      "           'warmest on record.  The warming trend is driving more frequent and '\n",
      "           'intense heatwaves, droughts, and wildfires. Additionally, sea '\n",
      "           'levels are rising at an accelerating pace due to melting glaciers '\n",
      "           'and thermal expansion of ocean water. The frequency and severity '\n",
      "           'of extreme weather events, such as hurricanes and floods, are also '\n",
      "           'increasing, causing significant economic and societal disruptions. '\n",
      "           'These trends are consistent with projections from climate models, '\n",
      "           'which indicate that the rate of climate change will continue to '\n",
      "           'accelerate in the coming decades unless drastic measures are taken '\n",
      "           'to reduce greenhouse gas emissions.  The rate of increase since '\n",
      "           '1981 has been more than twice as fast: 0.32 °F (0.18 °C) per '\n",
      "           'decade.  The amount of sea level rise due to melting (with a small '\n",
      "           'addition from groundwater transfer and other water storage shifts) '\n",
      "           'from 2005–2013 was nearly twice the amount of sea level rise due '\n",
      "           'to thermal expansion.  Global mean sea level rise has been '\n",
      "           'accelerating for more than 100 years, and the acceleration in the '\n",
      "           'last two decades seems to further increase.  The rate 1.1 ± 0.3 '\n",
      "           'mm/yr in 1901-1990 increased to 3.1 ± 1.4 mm/yr over 1993-2012.  '\n",
      "           '[1, 2, 3, 4, 5, 6]',\n",
      " 'search': ['Climate change impact on agriculture',\n",
      "            'Climate change mitigation strategies',\n",
      "            'Climate change adaptation measures']}\n"
     ]
    }
   ],
   "source": [
    "result = reflect_agent.invoke({\"task\": \"Is the pace of climate change accelerating?\", \"current_report\": initial_report, \"search_results\": search_results, \"search_queries\": search_queries})\n",
    "result = json.loads(result)\n",
    "pprint.pprint(result)"
   ]
  },
  {
   "cell_type": "markdown",
   "metadata": {},
   "source": [
    "## Setup Langgraph "
   ]
  },
  {
   "cell_type": "markdown",
   "metadata": {},
   "source": [
    "### Define state"
   ]
  },
  {
   "cell_type": "code",
   "execution_count": 101,
   "metadata": {},
   "outputs": [],
   "source": [
    "from typing import List, Tuple, Annotated, TypedDict, Sequence\n",
    "import operator\n",
    "from langchain_core.messages import BaseMessage\n",
    "from langgraph.graph import StateGraph, END\n",
    "\n",
    "\n",
    "class AgentState(TypedDict):\n",
    "    task: str\n",
    "    current_report: str\n",
    "    search_queries: list[str]\n",
    "    search_results: list[str]\n",
    "    revision_number: int\n",
    "    max_revisions: int\n"
   ]
  },
  {
   "cell_type": "code",
   "execution_count": 102,
   "metadata": {},
   "outputs": [],
   "source": [
    "def generation_node(state):\n",
    "    result = generate_agent.invoke({\"task\": state['task']})\n",
    "    result = json.loads(result)\n",
    "    return {'current_report': result['answer'], 'search_queries': result['search'], 'revision_number': state.get('revision_number', 0)+1 }\n",
    "\n",
    "\n",
    "def execute_search(state):\n",
    "    search_qs = state['search_queries']\n",
    "    search_results = run_parallel_search(search_qs)\n",
    "    return {'search_results': search_results} \n",
    "\n",
    "\n",
    "def reflection_node(state):\n",
    "    result = reflect_agent.invoke({\"task\": state['task'], \"current_report\": state['current_report'], \"search_results\": state['search_results'], \"search_queries\": state['search_queries']})\n",
    "    result = json.loads(result)\n",
    "    return {'current_report': result['answer'], 'search_queries': result['search'], 'revision_number': state.get('revision_number', 0)+1 }\n"
   ]
  },
  {
   "cell_type": "code",
   "execution_count": 103,
   "metadata": {},
   "outputs": [],
   "source": [
    "builder = StateGraph(AgentState)\n",
    "builder.add_node(\"generate\", generation_node)\n",
    "builder.add_node(\"execute_search\", execute_search)\n",
    "builder.add_node(\"reflect\", reflection_node)\n",
    "builder.set_entry_point(\"generate\")\n",
    "\n",
    "\n",
    "def should_continue(state):\n",
    "    num_turns = state['revision_number']\n",
    "    if num_turns > state['max_revisions']:\n",
    "        return END\n",
    "    return \"execute_search\"\n",
    "\n",
    "builder.add_edge(\"generate\", \"execute_search\")\n",
    "builder.add_edge(\"execute_search\", \"reflect\")\n",
    "builder.add_conditional_edges(\"reflect\", should_continue)\n",
    "graph = builder.compile()"
   ]
  },
  {
   "cell_type": "code",
   "execution_count": 104,
   "metadata": {},
   "outputs": [
    {
     "name": "stdout",
     "output_type": "stream",
     "text": [
      "                        +-----------+                   \n",
      "                        | __start__ |                   \n",
      "                        +-----------+                   \n",
      "                              *                         \n",
      "                              *                         \n",
      "                              *                         \n",
      "                        +----------+                    \n",
      "                        | generate |*                   \n",
      "                        +----------+ ***                \n",
      "                       **               *****           \n",
      "                     **                      ***        \n",
      "                   **                           *****   \n",
      "        +----------------+                           ** \n",
      "        | execute_search |                            * \n",
      "        +----------------+                            * \n",
      "          ***         **                              * \n",
      "         *              **                            * \n",
      "       **                 **                          * \n",
      "+---------+                 *                        ** \n",
      "| reflect |**               *                   *****   \n",
      "+---------+  ***             *               ***        \n",
      "                *****        *          *****           \n",
      "                     ***      *      ***                \n",
      "                        ***   *   ***                   \n",
      "                     +-----------------+                \n",
      "                     | should_continue |                \n",
      "                     +-----------------+                \n",
      "                              *                         \n",
      "                              *                         \n",
      "                              *                         \n",
      "                         +---------+                    \n",
      "                         | __end__ |                    \n",
      "                         +---------+                    \n"
     ]
    }
   ],
   "source": [
    "graph.get_graph().print_ascii()"
   ]
  },
  {
   "cell_type": "code",
   "execution_count": 105,
   "metadata": {},
   "outputs": [
    {
     "data": {
      "image/jpeg": "[encoded data removed]",
      "text/plain": [
       "<IPython.core.display.Image object>"
      ]
     },
     "metadata": {},
     "output_type": "display_data"
    }
   ],
   "source": [
    "from IPython.display import Image, display\n",
    "\n",
    "try:\n",
    "    display(Image(graph.get_graph().draw_mermaid_png()))\n",
    "except:\n",
    "    # This requires some extra dependencies and is optional\n",
    "    pass"
   ]
  },
  {
   "cell_type": "code",
   "execution_count": 119,
   "metadata": {},
   "outputs": [
    {
     "name": "stderr",
     "output_type": "stream",
     "text": [
      "Error in LangChainTracer.on_chain_end callback: AttributeError(\"'NoneType' object has no attribute 'append'\")\n"
     ]
    },
    {
     "name": "stdout",
     "output_type": "stream",
     "text": [
      "{'generate': {'current_report': 'Climate change is a pressing global issue, and mitigating its effects requires a multifaceted approach encompassing individual, societal, and governmental actions.  One crucial strategy is transitioning to renewable energy sources like solar and wind power, reducing our reliance on fossil fuels that contribute significantly to greenhouse gas emissions.  Furthermore, promoting energy efficiency through building retrofits, sustainable transportation options, and responsible consumption patterns can significantly decrease our carbon footprint.  Investing in carbon capture and storage technologies can help remove existing carbon dioxide from the atmosphere, while reforestation and afforestation efforts play a vital role in absorbing carbon dioxide and mitigating climate change impacts.  International cooperation and policy frameworks are essential to address this global challenge, fostering collaboration and incentivizing sustainable practices across nations.', 'search_queries': ['Climate change mitigation strategies effectiveness', 'Renewable energy transition impact on climate change', 'International climate change agreements and policies'], 'revision_number': 1}}\n",
      "{'execute_search': {'search_results': [{'url': 'https://www.nature.com/articles/s43247-023-01108-6', 'content': 'It was possible to convert the per-unit impacts to per-time impacts if: (1) the study reported details on the type, value, and units of the subject of the study, such as total building area or the amount of municipal solid waste produced in the year, and (2) the units of the emissions reduction impact aligned with the study subject units (ex. the study reported emissions reductions in tons CO2 m-2 year-1 and reported the total building area in m2). The broader literature encourages local governments to shift away from fossil fuels, reduce the carbon intensity of electricity, and reduce energy consumption in buildings and transport, which may require action from higher levels of government or the private sector to coordinate with and support subnational governments3,4.\\nPolicymakers in local and regional governments must also balance their climate goals with other important objectives and these other objectives may act as the primary motivation for the implementation of a mitigation strategy. Supplementary information\\nPeer Review File\\nSupplementary Information\\nReporting Summary\\nRights and permissions\\nOpen Access\\nThis article is licensed under a Creative Commons Attribution 4.0 International License, which permits use, sharing, adaptation, distribution and reproduction in any medium or format, as long as you give appropriate credit to the original author(s) and the source, provide a link to the Creative Commons licence, and indicate if changes were made. Author information\\nAuthors and Affiliations\\nDepartment of Public Policy, University of North Carolina at Chapel Hill, Chapel Hill, NC, 27599, USA\\nKatherine Burley Farr,\\xa0Kaihui Song,\\xa0Zhi Yi Yeo,\\xa0Evan Johnson\\xa0&\\xa0Angel Hsu\\nData-Driven EnviroLab, University of North Carolina at Chapel Hill, Chapel Hill, NC, 27599, USA\\nKatherine Burley Farr,\\xa0Kaihui Song,\\xa0Zhi Yi Yeo,\\xa0Evan Johnson\\xa0&\\xa0Angel Hsu\\nYou can also search for this author in\\nPubMed\\xa0Google Scholar\\nYou can also search for this author in\\nPubMed\\xa0Google Scholar\\n Articles were then screened for eligibility, first on abstracts and then on retrievable full text articles, using automated rules-based filtering and n-gram analysis in R. To be eligible for inclusion, each study must: (1) report numeric impacts to GHG gas emissions, (2) evaluate a strategy intended to reduce GHG emissions, (3) report impacts within the jurisdiction of a subnational (city or regional) government, and (4) report on the results of primary research.'}, {'url': 'https://link.springer.com/article/10.1007/s10311-020-01059-w', 'content': 'Abbreviations\\nBio-dimethyl ether\\nBioenergy carbon capture and storage\\nBismuth triiodide\\nCalcium\\nCarbon dioxide\\nCarbon dioxide equivalent\\nCentre for Research on the Epidemiology of Disaster\\nDirect air carbon capture and storage\\nGigatons\\nGigawatt\\nHydrofluorocarbons\\nHydrogen\\nIntended nationally determined contributions\\nIntergovernmental Panel on Climate Change\\nInternational Atomic Energy Agency\\nInternationally transferred mitigation outcomes\\nIron\\nLime\\nLimestone\\nMethane\\nMegahectare\\nMillion tons\\nNitrous oxide\\nNon-hydro renewable energy\\nOrganization for Economic Co-operation and Development\\nPerfluorocarbons\\nPer hectare\\nPer year\\n The authors wish to acknowledge the support of The Bryden Centre project (Project ID VA5048) which was awarded by The European Union’s INTERREG VA Programme,\\xa0managed by the Special EU Programmes Body (SEUPB), with match funding provided by the Department for the Economy in Northern Ireland and the Department of Business, Enterprise and Innovation in the Republic of Ireland.\\n The main negative emissions techniques widely discussed in the literature include bioenergy carbon capture and storage, biochar, enhanced weathering, direct air carbon capture and storage, ocean fertilization, ocean alkalinity enhancement, soil carbon sequestration, afforestation and reforestation, wetland construction and restoration, as well as alternative negative emissions utilization and storage methods such as mineral carbonation and using biomass in construction (Lawrence et al. 2018; Palmer 2019; McLaren 2012; Yan et al. 2019; McGlashan et al. 2012; Goglio et al. 2020; Lin 2019; Pires 2019; RoyalSociety 2018; Lenzi 2018).\\n Bibliometric analysis of research on climate change mitigation: a network visualization map and b density visualization map, showing the recent state of scientific research on the topic of climate change mitigation by highlighting trends and gaps in the literature during 5\\xa0years between 2015 and 2020\\nConclusion\\nBased on the current state of climate emergency, immediate development of viable mitigation and adaptation mechanisms is of extreme importance. Similar content being viewed by others\\nA review of the global climate change impacts, adaptation, and sustainable mitigation measures\\nKashif Abbass, Muhammad Zeeshan Qasim, … Ijaz Younis\\nAcid rain and air pollution: 50\\xa0years of progress in environmental science and policy\\nPeringe Grennfelt, Anna Engleryd, … Ellis Cowling\\nClimate change and its impact on biodiversity and human welfare\\nK. R. Shivanna\\nAvoid common mistakes on your manuscript.\\n'}, {'url': 'https://climatepromise.undp.org/news-and-stories/what-climate-change-mitigation-and-why-it-urgent', 'content': 'Furthermore, due to the significant demand for these minerals and the urgency of the energy transition, the scaled-up investment in the sector has the potential to exacerbate environmental degradation, economic and governance risks, and social inequalities, affecting the rights of Indigenous Peoples, local communities, and workers. Specifically, UNDP’s offer of support includes developing and improving legislation and policy, standards and regulations, capacity building, knowledge dissemination, and financial mobilization for countries to pilot and scale-up mitigation solutions such as renewable energy projects, energy efficiency initiatives and sustainable land-use practices.\\n In Mauritius, UNDP, with funding from the Green Climate Fund, has supported the government to install battery energy storage capacity that has enabled 50 MW of intermittent renewable energy to be connected to the grid, helping to avoid 81,000 tonnes of carbon dioxide annually.\\n Explore More Stories\\nUnited Nations\\nDevelopment Programme\\nSign up to our newsletter\\nGet the latest news and updates from the Climate Promise team at the start of every month.\\n Its core ambition is to cap the rise in global average temperatures to well below 2°C above levels observed prior to the industrial era, while pursuing efforts to limit the increase to 1.5°C.\\n'}, {'url': 'https://www.worldbank.org/en/news/feature/2023/09/19/climate-policies-with-real-world-results', 'content': \"“They provide invaluable insights on how countries actually design and implement climate policies, and on the hard compromises that doing so can require, such as the rapid expansion of solar power in India, the use of waste to generate affordable energy in Mexico, and the greening of Colombia’s construction industry.”\\n The plan also expects for the modal share for bikes to grow from 0.9 percent in 2019 to 11.6 percent by 2050 and estimates that the project could reduce emissions in Lima by 0.64 ton of carbon dioxide equivalent (tCO2e) by 2030 and 1.03 tCO2e by 2050. Eight years after the 2015 Paris Agreement set ambitious, achievable goals to curb emissions and adapt to global climatic shifts, the world is still on track for unprecedented climate change -- and bureaucratic, political, and financial hurdles have stymied thousands of climate-friendly policies around the world.\\n How real-world policies can lead to a low-carbon future\\nWebsite:\\xa0Climate Stories: How Countries and Communities Are Shaping A Sustainable Future\\nWebsite: World Bank - Climate Change\\nBlogs\\nWHAT'S NEW\\nThis site uses cookies to optimize functionality and give you the best possible experience. The\\xa0government introduced tax incentives for technical solutions such as insulation and energy-efficient air conditioning systems, and received catalytic financing from the International Finance Corporation, the private sector arm of the World Bank.\"}, {'url': 'https://www.climaterealityproject.org/blog/global-climate-agreements-through-years', 'content': 'But just as important, it’s time for the international community to truly face up to the fundamental injustice of the climate crisis, where nations like Bangladesh, the Philippines, and Kiribati that have contributed the least to global emissions are seeing rising seas, punishing heatwaves, and historic hurricanes push millions toward poverty and displacement.\\n Here are some of the major milestones we’ve hit along the way:\\nAs the world gears up for COP 26 in Glasgow next year, it’s clear just how much more work there is to do.\\n This week, the 26th Conference of the Parties to the United Nations Framework Convention on Climate Change (UNFCCC) – commonly known as COP 26 – was scheduled to kick off in Glasgow, UK. Five years ago in Paris, the parties present at COP 21 set forth a historic agreement that brought nearly every nation in the world together on a vision to seriously combat the climate crisis. Driven by activists and climate scientists around the world, the member states of the UNFCCC have been working for climate solutions for decades now.\\n'}, {'url': 'https://unfccc.int/process-and-meetings/the-paris-agreement', 'content': 'The Paris Agreement is a legally binding international treaty on climate change. It was adopted by 196 Parties at the UN Climate Change Conference (COP21) in Paris, France, on 12 December 2015. ... The mechanism is accelerating technology development and transfer through its policy and implementation arms. ... the Paris Agreement places great ...'}, {'url': 'https://www.weforum.org/agenda/2021/04/why-renewables-are-the-cornerstone-of-the-energy-transition/', 'content': \"The latest insights from IRENA's World Energy Transitions Outlook were released on 16 March at the Berlin Energy Transitions Dialogue. It provides in-depth analysis of what these effects will look like, starting from the Paris Climate agreement objective of limiting climate change to well below 2˚C and with an effort for 1.5˚C by the end of this century.\"}, {'url': 'https://www.un.org/en/climatechange/raising-ambition/renewable-energy', 'content': '3. Renewable energy is healthier\\nAccording to the World Health Organization (WHO), about 99 percent of people in the world breathe air that exceeds air quality limits and threatens their health, and more than 13 million deaths around the world each year are due to avoidable environmental causes, including air pollution.\\n Search the United Nations\\nRenewable energy – powering a safer future\\nEnergy is at the heart of the climate challenge – and key to the solution.\\n Renewable energy sources are all around us\\nAbout 80 percent of the global population lives in countries that are net-importers of fossil fuels -- that’s about 6 billion people who are dependent on fossil fuels from other countries, which makes them vulnerable to geopolitical shocks and crises.\\n The IEA estimates that the transition towards net-zero emissions will lead to an overall increase in energy sector jobs: while about 5 million jobs in fossil fuel production could be lost by 2030, an estimated 14 million new jobs would be created in clean energy, resulting in a net gain of 9 million jobs.\\n Renewable energy sources – which are available in abundance all around us, provided by the sun, wind, water, waste, and heat from the Earth – are replenished by nature and emit little to no greenhouse gases or pollutants into the air.\\n'}, {'url': 'https://www.un.org/en/climatechange/raising-ambition/renewable-energy-transition', 'content': 'Make renewable energy technology a global public good\\nFor renewable energy technology to be a global public good - meaning available to all, and not just to the wealthy - it will be essential to remove roadblocks to knowledge sharing and technological transfer, including intellectual property rights barriers.\\n Technology, capacity and funds for renewable energy transition exist, but there needs to be policies and processes in place to reduce market risk and enable and incentivize investments - including through streamlining the planning, permitting and regulatory processes, and preventing bottlenecks and red tape. Nationally Determined Contributions, countries’ individual climate action plans to cut emissions and adapt to climate impacts, must set 1.5C aligned renewable energy targets - and the share of renewables in global electricity generation must increase from today’s 29 percent to 60 percent by 2030.\\n The Secretary-General outlines five critical actions the world needs to prioritize now to transform our energy systems and speed up the shift to renewable energy - “because without renewables, there can be no future.”\\n Shifting subsidies from fossil fuels to renewable energy not only cuts emissions, it also contributes to the sustainable economic growth, job creation, better public health and more equality, particularly for the poor and most vulnerable communities around the world.\\n'}]}}\n"
     ]
    },
    {
     "name": "stderr",
     "output_type": "stream",
     "text": [
      "Error in LangChainTracer.on_chain_end callback: AttributeError(\"'NoneType' object has no attribute 'append'\")\n"
     ]
    },
    {
     "name": "stdout",
     "output_type": "stream",
     "text": [
      "{'reflect': {'current_report': 'Climate change is a pressing global issue that requires a multifaceted approach to mitigate its effects. One crucial strategy is transitioning to renewable energy sources like solar and wind power, reducing our reliance on fossil fuels that contribute significantly to greenhouse gas emissions. Promoting energy efficiency through building retrofits, sustainable transportation options, and responsible consumption patterns can significantly decrease our carbon footprint. Investing in carbon capture and storage technologies can help remove existing carbon dioxide from the atmosphere. Reforestation and afforestation efforts play a vital role in absorbing carbon dioxide and mitigating climate change impacts. International cooperation and policy frameworks are essential to address this global challenge, fostering collaboration and incentivizing sustainable practices across nations. \\n\\nLocal governments can play a significant role in mitigating climate change by shifting away from fossil fuels, reducing the carbon intensity of electricity, and reducing energy consumption in buildings and transport. However, they must balance their climate goals with other important objectives, which may require action from higher levels of government or the private sector to coordinate with and support subnational governments.  [1, 2]\\n\\nThe Paris Agreement, adopted by 196 Parties at the UN Climate Change Conference (COP21) in Paris, France, on 12 December 2015, is a legally binding international treaty on climate change. It aims to cap the rise in global average temperatures to well below 2°C above levels observed prior to the industrial era, while pursuing efforts to limit the increase to 1.5°C. [3, 4]\\n\\nThe transition to renewable energy is crucial for mitigating climate change. It offers a healthier alternative to fossil fuels, reducing air pollution and contributing to sustainable economic growth, job creation, and better public health. [5, 6, 7]\\n\\nTo effectively address climate change, it is essential to remove roadblocks to knowledge sharing and technological transfer, including intellectual property rights barriers. This will enable the widespread adoption of renewable energy technologies and ensure they are available to all, not just the wealthy. [8]', 'search_queries': ['Climate change mitigation strategies effectiveness in different regions', 'Impact of climate change mitigation on economic development', 'Role of technology in climate change mitigation'], 'revision_number': 2}}\n",
      "{'execute_search': {'search_results': [{'url': 'https://www.wri.org/insights/5-strategies-achieve-climate-mitigation-and-adaptation-simultaneously', 'content': 'Stay Informed\\nFooter menu - main\\nFooter menu - secondary\\nFooter menu - Offices\\nFooter menu - Additional\\nWorld Resources Institute\\n10 G Street NE\\nSuite 800\\nWashington DC 20002\\n+1 (202) 729-7600\\nSocial menu\\n© 2024 World Resources Institute\\nJoin our live presentation on Jan 23rd as we present four stories that will shape 2024, followed by a live Q&A.\\nTogether, we can unleash the positive, tangible and system-wide transformations needed to protect our planet for this and future generations. 5 Strategies that Achieve Climate Mitigation and Adaptation Simultaneously\\nClimate actions have often fallen into one of two strategies: mitigation efforts to lower or remove greenhouse gas emissions from the atmosphere, and adaptation efforts to adjust systems and societies to withstand the impacts of climate change. Relevant Work\\nHow Blue Carbon Can Tackle the Climate, Biodiversity and Development Crises\\n4 Things to Know About the IPCC Special Report on the Ocean and Cryosphere\\nDoes Biden’s American Jobs Plan Stack Up on Climate and Jobs?\\n Main navigation\\nDonate\\nQuick Links\\nMain navigation\\nFooter menu - secondary\\nMega Menu\\nFilter Your Site Experience by Topic\\nApplying the filters below will filter all articles, data, insights and projects by the topic area you select.\\n These improvements can influence usage and better accommodate future growth.\\nCities like Rome and Buenos Aires have integrated additional adaptation measures like heat-proofing buses and greening stops and routes to improve the commute experience.'}, {'url': 'https://www.nature.com/articles/s43247-023-01108-6', 'content': 'It was possible to convert the per-unit impacts to per-time impacts if: (1) the study reported details on the type, value, and units of the subject of the study, such as total building area or the amount of municipal solid waste produced in the year, and (2) the units of the emissions reduction impact aligned with the study subject units (ex. the study reported emissions reductions in tons CO2 m-2 year-1 and reported the total building area in m2). The broader literature encourages local governments to shift away from fossil fuels, reduce the carbon intensity of electricity, and reduce energy consumption in buildings and transport, which may require action from higher levels of government or the private sector to coordinate with and support subnational governments3,4.\\nPolicymakers in local and regional governments must also balance their climate goals with other important objectives and these other objectives may act as the primary motivation for the implementation of a mitigation strategy. Supplementary information\\nPeer Review File\\nSupplementary Information\\nReporting Summary\\nRights and permissions\\nOpen Access\\nThis article is licensed under a Creative Commons Attribution 4.0 International License, which permits use, sharing, adaptation, distribution and reproduction in any medium or format, as long as you give appropriate credit to the original author(s) and the source, provide a link to the Creative Commons licence, and indicate if changes were made. Author information\\nAuthors and Affiliations\\nDepartment of Public Policy, University of North Carolina at Chapel Hill, Chapel Hill, NC, 27599, USA\\nKatherine Burley Farr,\\xa0Kaihui Song,\\xa0Zhi Yi Yeo,\\xa0Evan Johnson\\xa0&\\xa0Angel Hsu\\nData-Driven EnviroLab, University of North Carolina at Chapel Hill, Chapel Hill, NC, 27599, USA\\nKatherine Burley Farr,\\xa0Kaihui Song,\\xa0Zhi Yi Yeo,\\xa0Evan Johnson\\xa0&\\xa0Angel Hsu\\nYou can also search for this author in\\nPubMed\\xa0Google Scholar\\nYou can also search for this author in\\nPubMed\\xa0Google Scholar\\n Articles were then screened for eligibility, first on abstracts and then on retrievable full text articles, using automated rules-based filtering and n-gram analysis in R. To be eligible for inclusion, each study must: (1) report numeric impacts to GHG gas emissions, (2) evaluate a strategy intended to reduce GHG emissions, (3) report impacts within the jurisdiction of a subnational (city or regional) government, and (4) report on the results of primary research.'}, {'url': 'https://link.springer.com/article/10.1007/s10311-020-01059-w', 'content': 'Abbreviations\\nBio-dimethyl ether\\nBioenergy carbon capture and storage\\nBismuth triiodide\\nCalcium\\nCarbon dioxide\\nCarbon dioxide equivalent\\nCentre for Research on the Epidemiology of Disaster\\nDirect air carbon capture and storage\\nGigatons\\nGigawatt\\nHydrofluorocarbons\\nHydrogen\\nIntended nationally determined contributions\\nIntergovernmental Panel on Climate Change\\nInternational Atomic Energy Agency\\nInternationally transferred mitigation outcomes\\nIron\\nLime\\nLimestone\\nMethane\\nMegahectare\\nMillion tons\\nNitrous oxide\\nNon-hydro renewable energy\\nOrganization for Economic Co-operation and Development\\nPerfluorocarbons\\nPer hectare\\nPer year\\n The authors wish to acknowledge the support of The Bryden Centre project (Project ID VA5048) which was awarded by The European Union’s INTERREG VA Programme,\\xa0managed by the Special EU Programmes Body (SEUPB), with match funding provided by the Department for the Economy in Northern Ireland and the Department of Business, Enterprise and Innovation in the Republic of Ireland.\\n The main negative emissions techniques widely discussed in the literature include bioenergy carbon capture and storage, biochar, enhanced weathering, direct air carbon capture and storage, ocean fertilization, ocean alkalinity enhancement, soil carbon sequestration, afforestation and reforestation, wetland construction and restoration, as well as alternative negative emissions utilization and storage methods such as mineral carbonation and using biomass in construction (Lawrence et al. 2018; Palmer 2019; McLaren 2012; Yan et al. 2019; McGlashan et al. 2012; Goglio et al. 2020; Lin 2019; Pires 2019; RoyalSociety 2018; Lenzi 2018).\\n Bibliometric analysis of research on climate change mitigation: a network visualization map and b density visualization map, showing the recent state of scientific research on the topic of climate change mitigation by highlighting trends and gaps in the literature during 5\\xa0years between 2015 and 2020\\nConclusion\\nBased on the current state of climate emergency, immediate development of viable mitigation and adaptation mechanisms is of extreme importance. Similar content being viewed by others\\nA review of the global climate change impacts, adaptation, and sustainable mitigation measures\\nKashif Abbass, Muhammad Zeeshan Qasim, … Ijaz Younis\\nAcid rain and air pollution: 50\\xa0years of progress in environmental science and policy\\nPeringe Grennfelt, Anna Engleryd, … Ellis Cowling\\nClimate change and its impact on biodiversity and human welfare\\nK. R. Shivanna\\nAvoid common mistakes on your manuscript.\\n'}, {'url': 'https://www.imf.org/-/media/Files/Publications/WP/2021/English/wpiea2021280-print-pdf.ashx', 'content': 'One dimension is what financing is for: adaptation to climate change or climate change mitigation. Adaptation seeks to contain the economic and social repercussions of clim ate change. Mitigation aims at reducing (and/or offsetting) greenhouse gas emissions, and therefore at limiting global warming.'}, {'url': 'https://www.nature.com/articles/s41586-024-07219-0', 'content': 'Global projections of macroeconomic climate-change damages typically consider impacts from average annual and national temperatures over long time horizons1-6. Here we use recent empirical ...'}, {'url': 'https://climatepromise.undp.org/news-and-stories/what-climate-change-mitigation-and-why-it-urgent', 'content': 'Furthermore, due to the significant demand for these minerals and the urgency of the energy transition, the scaled-up investment in the sector has the potential to exacerbate environmental degradation, economic and governance risks, and social inequalities, affecting the rights of Indigenous Peoples, local communities, and workers. Specifically, UNDP’s offer of support includes developing and improving legislation and policy, standards and regulations, capacity building, knowledge dissemination, and financial mobilization for countries to pilot and scale-up mitigation solutions such as renewable energy projects, energy efficiency initiatives and sustainable land-use practices.\\n In Mauritius, UNDP, with funding from the Green Climate Fund, has supported the government to install battery energy storage capacity that has enabled 50 MW of intermittent renewable energy to be connected to the grid, helping to avoid 81,000 tonnes of carbon dioxide annually.\\n Explore More Stories\\nUnited Nations\\nDevelopment Programme\\nSign up to our newsletter\\nGet the latest news and updates from the Climate Promise team at the start of every month.\\n Its core ambition is to cap the rise in global average temperatures to well below 2°C above levels observed prior to the industrial era, while pursuing efforts to limit the increase to 1.5°C.\\n'}, {'url': 'https://unfccc.int/news/how-technology-can-help-fight-climate-change', 'content': 'Irrigating a farm using solar-powered water pump. UN Climate Change News, 5 July 2022 - The critical role of technology in reducing greenhouse gas emissions and building resilience to the impacts of climate change was highlighted at the UN Climate Change Conference in Bonn in June. Two topics of particular importance were: how to provide ...'}, {'url': 'https://www.sciencedirect.com/topics/engineering/climate-change-mitigation-technology', 'content': \"In this paper we review the status of knowledge in regard to the failure of existing wells, with special attention to the laboratory experiments, field investigations and numerical simulations carried out in the last several years in attempts to elucidate the behavior of well cements in the presence of CO2. Here, it should be borne in mind that when interpreting the resulting impact on FEC, the average yearly gross growth rates for the Y02 and Y02T patent groups exceed 10% in most cases in our data set; hence, a 10% scenario is present in our data sample and, therefore, CCMTs help to reach the goal of a 20% increase in energy efficiency. Impact on selected headline targets of Europe's 2020 climate and energy package\\nGermà Bel, Stephan Joseph, in Renewable and Sustainable Energy Reviews, 2018\\n6.2 20% increase in energy efficiency\\nTable 3 presents the impact of CCMTs with respect to the target of a 20% increase in energy efficiency, together with various covariates for total FEC and for FEC by end-use sector. Min Zhang, Stefan Bachu, in International Journal of Greenhouse Gas Control, 2011\\nAbstract\\nCarbon dioxide storage in geological media is a climate change mitigation technology that is based on the ability of certain geological media to retain CO2 in supercritical phase or dissolved in formation water and to prevent its return to the atmosphere for very long periods of time. During the RH refining process, the injection of CO2 as a lifting gas benefited the dehydrogenation effect and inclusions removal due to improvements in the stirring intensity, and this was due to the reaction of CO2 with [C] in molten steel.\"}, {'url': 'https://www.weforum.org/agenda/2021/07/fight-climate-change-with-technology/', 'content': \"Here's how to accelerate them sustainably\\nRoss McKenzie\\nNovember 28, 2023\\nHow are rising sea temperatures affecting coral reefs in Indonesia?\\nRobby Irfany\\nMaqoma\\nNovember 28, 2023\\nWorld on course for almost 3°C of warming this century, and other nature and climate stories you need to read this week\\nJohnny\\nWood\\nNovember 27, 2023\\nWhy carbon dioxide removals are crucial to tackling hard-to-abate emissions\\nNasim Pour\\nNovember 27, 2023\\nAbout Us\\nEvents\\nMedia\\nMore from the Forum\\nPartners & Members\\nLanguage Editions\\nPrivacy Policy & Terms of Service\\n© 2023 World Economic Forum Here’s how to make it sustainable\\nJelena Aleksić and Daniel Boero Vargas\\nNovember 28, 2023\\nHydropower: How droughts are affecting the world's biggest renewable energy source\\nAndrea Willige\\nNovember 28, 2023\\nCarbon removals are critical to reaching net zero. Image:\\xa0Pixabay\\nListen to the article\\nCreate a free account and access your personalized content collection with our latest publications and analyses.\\n License and Republishing\\nWorld Economic Forum articles may be republished in accordance with the Creative Commons Attribution-NonCommercial-NoDerivatives 4.0 International Public License, and in accordance with our Terms of Use.\\n The Agenda Weekly\\nA weekly update of the most important issues driving the global agenda\\nYou can unsubscribe at any time using the link in our emails.\"}]}}\n"
     ]
    },
    {
     "name": "stderr",
     "output_type": "stream",
     "text": [
      "Error in LangChainTracer.on_chain_end callback: AttributeError(\"'NoneType' object has no attribute 'append'\")\n"
     ]
    },
    {
     "name": "stdout",
     "output_type": "stream",
     "text": [
      "{'reflect': {'current_report': 'Climate change is a pressing global issue that requires a multifaceted approach to mitigate its effects. One crucial strategy is transitioning to renewable energy sources like solar and wind power, reducing our reliance on fossil fuels that contribute significantly to greenhouse gas emissions. Promoting energy efficiency through building retrofits, sustainable transportation options, and responsible consumption patterns can significantly decrease our carbon footprint. Investing in carbon capture and storage technologies can help remove existing carbon dioxide from the atmosphere. Reforestation and afforestation efforts play a vital role in absorbing carbon dioxide and mitigating climate change impacts. International cooperation and policy frameworks are essential to address this global challenge, fostering collaboration and incentivizing sustainable practices across nations. \\n\\nLocal governments can play a significant role in mitigating climate change by shifting away from fossil fuels, reducing the carbon intensity of electricity, and reducing energy consumption in buildings and transport. However, they must balance their climate goals with other important objectives, which may require action from higher levels of government or the private sector to coordinate with and support subnational governments. [1, 2]\\n\\nThe Paris Agreement, adopted by 196 Parties at the UN Climate Change Conference (COP21) in Paris, France, on 12 December 2015, is a legally binding international treaty on climate change. It aims to cap the rise in global average temperatures to well below 2°C above levels observed prior to the industrial era, while pursuing efforts to limit the increase to 1.5°C. [3, 4]\\n\\nThe transition to renewable energy is crucial for mitigating climate change. It offers a healthier alternative to fossil fuels, reducing air pollution and contributing to sustainable economic growth, job creation, and better public health. [5, 6, 7]\\n\\nTo effectively address climate change, it is essential to remove roadblocks to knowledge sharing and technological transfer, including intellectual property rights barriers. This will enable the widespread adoption of renewable energy technologies and ensure they are available to all, not just the wealthy. [8] \\n\\nTo further mitigate climate change, we can also consider implementing carbon pricing mechanisms, such as carbon taxes or cap-and-trade systems, to incentivize businesses and individuals to reduce their emissions. [9]\\n\\nFurthermore, promoting sustainable agriculture practices, such as agroforestry and conservation agriculture, can help sequester carbon in soils and reduce greenhouse gas emissions from agriculture. [10]\\n\\nFinally, it is crucial to raise public awareness about climate change and its impacts, empowering individuals to make informed choices and advocate for climate action. [11]\\n\\n[1] https://www.nature.com/articles/s43247-023-01108-6\\n[2] https://link.springer.com/article/10.1007/s10311-020-01059-w\\n[3] https://unfccc.int/process-and-meetings/the-paris-agreement/the-paris-agreement\\n[4] https://www.un.org/en/climatechange/paris-agreement\\n[5] https://www.weforum.org/agenda/2021/07/fight-climate-change-with-technology/\\n[6] https://www.imf.org/-/media/Files/Publications/WP/2021/English/wpiea2021280-print-pdf.ashx\\n[7] https://www.sciencedirect.com/topics/engineering/climate-change-mitigation-technology\\n[8] https://www.weforum.org/agenda/2021/07/fight-climate-change-with-technology/\\n[9] https://www.worldbank.org/en/topic/climatechange/brief/carbon-pricing\\n[10] https://www.fao.org/sustainable-development-goals/goals/goal-2/en/\\n[11] https://www.un.org/en/climatechange/climate-change-and-you', 'search_queries': ['Climate change mitigation strategies effectiveness in different sectors', 'Climate change mitigation policies and their impact on social equity', 'Climate change mitigation and adaptation: a holistic approach'], 'revision_number': 3}}\n",
      "{'execute_search': {'search_results': [{'url': 'https://www.tandfonline.com/doi/pdf/10.1080/14693062.2019.1596873', 'content': 'ff. Key policy insights. The risk of adverse social outcomes associated with climate change mitigation policies, including worsening inequality, increases as countries ratchet up their ambition to meet the Paris Agreement targets. Many policies that have so far only been piloted will need to be up-scaled.'}, {'url': 'https://www.tandfonline.com/doi/full/10.1080/14693062.2019.1596873', 'content': 'Climate change mitigation policies play a central role in this process. To maximize the benefits and minimize the negative effects of climate change mitigation policies, policymakers need to be aware of the indirect and often complex social and inequality impacts that these policies may have and the pathways through which these impacts emerge.'}, {'url': 'https://www.nature.com/articles/s42949-023-00129-6', 'content': 'ArticleÂ\\nGoogle ScholarÂ\\nDownload references\\nAuthor information\\nAuthors and Affiliations\\nSchool of Community and Regional Planning, University of British Columbia, 6333 Memorial Rd, Vancouver, BC V6T 1Z2, BC, Canada\\nHolly Caggiano\\nEdward J. Bloustein School of Planning and Public Policy, Rutgers, The State University of New Jersey, 33 Livingston Ave, New Brunswick, NJ, 08901, USA\\nDiren KocakuÅŸakÂ\\xa0&Â\\xa0Pranay Kumar\\nSchool of Public & International Affairs, Princeton University, 20 Prospect Avenue, Princeton, NJ, 08540, USA\\nMelissa O. Tier\\nYou can also search for this author in\\nPubMedÂ\\xa0Google Scholar\\nYou can also search for this author in\\nPubMedÂ\\xa0Google Scholar\\n Provided by the Springer Nature SharedIt content-sharing initiative\\nThis article is cited by\\nWorkâ€“family interference in urban China: gender discrimination and the effects of workâ€“family balance policies\\nnpj Urban Sustainability (2024)\\nAssociated content\\nInnovations In\\nEnvironmental health equity\\nCollection\\nUrban inequalities and sustainability\\nAdvertisement\\nExplore content\\nAbout the journal\\nPublish with us\\nSearch\\nQuick links\\nnpj Urban Sustainability (npj Urban Sustain)\\n Dimensions of equity considered in climate action plans\\nWe coded climate plans for their inclusion of six APA policy measures from their Climate Change and Resilience framework: (1) partnership with communities to exchange information about community risks; (2) empowerment of communities through community-based participatory planning; (3) proposed funding for projects identified by communities (local knowledge); (4) prioritization of equitable procurement of planning services (disadvantaged, minority-owned, and women-owned firms and planners of all protected classes) in future projects; (5) consideration of social equity in all adaptation and mitigation decisions; and (6) inclusion of equity in cost-benefit analyses23. Advertisement\\nU.S. citiesâ€™ integration and evaluation of equity considerations into climate action plans\\nnpj Urban Sustainability\\nvolumeÂ\\xa03, ArticleÂ\\xa0number:Â\\xa050 (2023)\\nCite this article\\n2149 Accesses\\n1 Citations\\n9 Altmetric\\nMetrics details\\nSubjects\\nAbstract\\nWhile cities in the United States play an active role developing and implementing climate policy, urban centers are often sites of socio-spatial inequity. Similar content being viewed by others\\nUS cities increasingly integrate justice into climate planning and create policy tools for climate justice\\nClaudia V. DiezmartÃ\\xadnez & Anne G. Short Gianotti\\nAssessing climate justice awareness among climate neutral-to-be cities\\nNives Della Valle, Giulia Ulpiani & Nadja Vetters\\nCities and regions tackle climate change mitigation but often focus on less effective solutions\\nKatherine Burley Farr, Kaihui Song, â€¦ Angel Hsu\\nIntroduction\\nAs U.S. cities propose ambitious climate plans, many question if and how they can be implemented equitably within and between cities1,2,3.'}, {'url': 'https://link.springer.com/article/10.1007/s10311-020-01059-w', 'content': 'Abbreviations\\nBio-dimethyl ether\\nBioenergy carbon capture and storage\\nBismuth triiodide\\nCalcium\\nCarbon dioxide\\nCarbon dioxide equivalent\\nCentre for Research on the Epidemiology of Disaster\\nDirect air carbon capture and storage\\nGigatons\\nGigawatt\\nHydrofluorocarbons\\nHydrogen\\nIntended nationally determined contributions\\nIntergovernmental Panel on Climate Change\\nInternational Atomic Energy Agency\\nInternationally transferred mitigation outcomes\\nIron\\nLime\\nLimestone\\nMethane\\nMegahectare\\nMillion tons\\nNitrous oxide\\nNon-hydro renewable energy\\nOrganization for Economic Co-operation and Development\\nPerfluorocarbons\\nPer hectare\\nPer year\\n The authors wish to acknowledge the support of The Bryden Centre project (Project ID VA5048) which was awarded by The European Union’s INTERREG VA Programme,\\xa0managed by the Special EU Programmes Body (SEUPB), with match funding provided by the Department for the Economy in Northern Ireland and the Department of Business, Enterprise and Innovation in the Republic of Ireland.\\n The main negative emissions techniques widely discussed in the literature include bioenergy carbon capture and storage, biochar, enhanced weathering, direct air carbon capture and storage, ocean fertilization, ocean alkalinity enhancement, soil carbon sequestration, afforestation and reforestation, wetland construction and restoration, as well as alternative negative emissions utilization and storage methods such as mineral carbonation and using biomass in construction (Lawrence et al. 2018; Palmer 2019; McLaren 2012; Yan et al. 2019; McGlashan et al. 2012; Goglio et al. 2020; Lin 2019; Pires 2019; RoyalSociety 2018; Lenzi 2018).\\n Bibliometric analysis of research on climate change mitigation: a network visualization map and b density visualization map, showing the recent state of scientific research on the topic of climate change mitigation by highlighting trends and gaps in the literature during 5\\xa0years between 2015 and 2020\\nConclusion\\nBased on the current state of climate emergency, immediate development of viable mitigation and adaptation mechanisms is of extreme importance. Similar content being viewed by others\\nA review of the global climate change impacts, adaptation, and sustainable mitigation measures\\nKashif Abbass, Muhammad Zeeshan Qasim, … Ijaz Younis\\nAcid rain and air pollution: 50\\xa0years of progress in environmental science and policy\\nPeringe Grennfelt, Anna Engleryd, … Ellis Cowling\\nClimate change and its impact on biodiversity and human welfare\\nK. R. Shivanna\\nAvoid common mistakes on your manuscript.\\n'}, {'url': 'https://www.nature.com/articles/s43247-023-01108-6', 'content': 'It was possible to convert the per-unit impacts to per-time impacts if: (1) the study reported details on the type, value, and units of the subject of the study, such as total building area or the amount of municipal solid waste produced in the year, and (2) the units of the emissions reduction impact aligned with the study subject units (ex. the study reported emissions reductions in tons CO2 m-2 year-1 and reported the total building area in m2). The broader literature encourages local governments to shift away from fossil fuels, reduce the carbon intensity of electricity, and reduce energy consumption in buildings and transport, which may require action from higher levels of government or the private sector to coordinate with and support subnational governments3,4.\\nPolicymakers in local and regional governments must also balance their climate goals with other important objectives and these other objectives may act as the primary motivation for the implementation of a mitigation strategy. Supplementary information\\nPeer Review File\\nSupplementary Information\\nReporting Summary\\nRights and permissions\\nOpen Access\\nThis article is licensed under a Creative Commons Attribution 4.0 International License, which permits use, sharing, adaptation, distribution and reproduction in any medium or format, as long as you give appropriate credit to the original author(s) and the source, provide a link to the Creative Commons licence, and indicate if changes were made. Author information\\nAuthors and Affiliations\\nDepartment of Public Policy, University of North Carolina at Chapel Hill, Chapel Hill, NC, 27599, USA\\nKatherine Burley Farr,\\xa0Kaihui Song,\\xa0Zhi Yi Yeo,\\xa0Evan Johnson\\xa0&\\xa0Angel Hsu\\nData-Driven EnviroLab, University of North Carolina at Chapel Hill, Chapel Hill, NC, 27599, USA\\nKatherine Burley Farr,\\xa0Kaihui Song,\\xa0Zhi Yi Yeo,\\xa0Evan Johnson\\xa0&\\xa0Angel Hsu\\nYou can also search for this author in\\nPubMed\\xa0Google Scholar\\nYou can also search for this author in\\nPubMed\\xa0Google Scholar\\n Articles were then screened for eligibility, first on abstracts and then on retrievable full text articles, using automated rules-based filtering and n-gram analysis in R. To be eligible for inclusion, each study must: (1) report numeric impacts to GHG gas emissions, (2) evaluate a strategy intended to reduce GHG emissions, (3) report impacts within the jurisdiction of a subnational (city or regional) government, and (4) report on the results of primary research.'}, {'url': 'https://www.sciencedirect.com/science/article/pii/S1364032120308868', 'content': 'Other sectors are lagging behind in climate change mitigation. • Global replication of sector policies would reduce emissions by 20% in 2030. • This would, however, not close the emissions gap in 2030. • Implied emissions reductions go beyond the Nationally Determined Contributions for all economies analysed.'}, {'url': 'https://climate.nasa.gov/solutions/adaptation_mitigation/', 'content': 'Because we are already committed to some level of climate change, responding to climate change involves a two-pronged approach: Reducing emissions of and stabilizing the levels of heat-trapping greenhouse gases in the atmosphere (\"mitigation\"); Adapting to the climate change already in the pipeline (\"adaptation\"). Mitigation and Adaptation'}, {'url': 'https://climate.mit.edu/explainers/mitigation-and-adaptation', 'content': 'Adaptation is action to help people adjust to the current and future effects of climate change.1\\xa0These two prongs of climate action work together to protect people from the harms of climate change: one to make future climate change as mild and manageable as possible, and the other to deal with the climate change we fail to prevent.\\n The sooner the world stops the rise of greenhouse gases, and shields people from the warming we have already caused, the less we will ultimately have to spend to stabilize our climate, and the more lives and livelihoods we will save along the way.\\n In Bangladesh, one of the most vulnerable countries in the world to sea level rise and saltwater intrusion, the port city of Mongla is investing in embankments, drainage, flood-control gates and water treatment to get ahead of rising waters, and economic development to provide refuge and work opportunities for thousands of people displaced from nearby towns. The Paris Agreement of 2015 set worldwide targets for mitigation, with almost every country on Earth agreeing to zero out their greenhouse gas emissions in time to halt global warming at no more than 2° C, and ideally at no more than 1.5° C.\\xa0Today, however, mitigation is not on track to meet either of these goals.4 In fact, despite ambitious pledges and fast progress in sectors like clean electricity, greenhouse gas emissions are still rising worldwide.\\xa0 Still, authorities like the Intergovernmental Panel on Climate Change agree that some carbon removal will be needed to head off the worst climate change scenarios.3\\nIf mitigation is successful worldwide, then one day greenhouse gases will stop building up in the atmosphere, and the planet will slowly stop warming.'}, {'url': 'https://www.nature.com/articles/s41893-023-01153-1', 'content': 'The values-based approach includes consideration of the roles that ... a vital role in climate change adaptation and mitigation, such as understanding fire regimes or seasonal changes in water ...'}]}}\n"
     ]
    },
    {
     "name": "stderr",
     "output_type": "stream",
     "text": [
      "Error in LangChainTracer.on_chain_end callback: AttributeError(\"'NoneType' object has no attribute 'append'\")\n"
     ]
    },
    {
     "name": "stdout",
     "output_type": "stream",
     "text": [
      "{'reflect': {'current_report': 'Climate change is a pressing global issue that requires a multifaceted approach to mitigate its effects. One crucial strategy is transitioning to renewable energy sources like solar and wind power, reducing our reliance on fossil fuels that contribute significantly to greenhouse gas emissions. Promoting energy efficiency through building retrofits, sustainable transportation options, and responsible consumption patterns can significantly decrease our carbon footprint. Investing in carbon capture and storage technologies can help remove existing carbon dioxide from the atmosphere. Reforestation and afforestation efforts play a vital role in absorbing carbon dioxide and mitigating climate change impacts. International cooperation and policy frameworks are essential to address this global challenge, fostering collaboration and incentivizing sustainable practices across nations. [1, 2, 3, 4, 5, 6, 7, 8, 9, 10, 11]\\n\\nLocal governments can play a significant role in mitigating climate change by shifting away from fossil fuels, reducing the carbon intensity of electricity, and reducing energy consumption in buildings and transport. However, they must balance their climate goals with other important objectives, which may require action from higher levels of government or the private sector to coordinate with and support subnational governments. [12, 13]\\n\\nThe Paris Agreement, adopted by 196 Parties at the UN Climate Change Conference (COP21) in Paris, France, on 12 December 2015, is a legally binding international treaty on climate change. It aims to cap the rise in global average temperatures to well below 2°C above levels observed prior to the industrial era, while pursuing efforts to limit the increase to 1.5°C. [14, 15]\\n\\nThe transition to renewable energy is crucial for mitigating climate change. It offers a healthier alternative to fossil fuels, reducing air pollution and contributing to sustainable economic growth, job creation, and better public health. [16, 17, 18]\\n\\nTo effectively address climate change, it is essential to remove roadblocks to knowledge sharing and technological transfer, including intellectual property rights barriers. This will enable the widespread adoption of renewable energy technologies and ensure they are available to all, not just the wealthy. [19]\\n\\nTo further mitigate climate change, we can also consider implementing carbon pricing mechanisms, such as carbon taxes or cap-and-trade systems, to incentivize businesses and individuals to reduce their emissions. [20]\\n\\nFurthermore, promoting sustainable agriculture practices, such as agroforestry and conservation agriculture, can help sequester carbon in soils and reduce greenhouse gas emissions from agriculture. [21]\\n\\nFinally, it is crucial to raise public awareness about climate change and its impacts, empowering individuals to make informed choices and advocate for climate action. [22]\\n\\n[1] https://www.nature.com/articles/s43247-023-01108-6\\n[2] https://link.springer.com/article/10.1007/s10311-020-01059-w\\n[3] https://unfccc.int/process-and-meetings/the-paris-agreement/the-paris-agreement\\n[4] https://www.un.org/en/climatechange/paris-agreement\\n[5] https://www.weforum.org/agenda/2021/07/fight-climate-change-with-technology/\\n[6] https://www.imf.org/-/media/Files/Publications/WP/2021/English/wpiea2021280-print-pdf.ashx\\n[7] https://www.sciencedirect.com/topics/engineering/climate-change-mitigation-technology\\n[8] https://www.weforum.org/agenda/2021/07/fight-climate-change-with-technology/\\n[9] https://www.worldbank.org/en/topic/climatechange/brief/carbon-pricing\\n[10] https://www.fao.org/sustainable-development-goals/goals/goal-2/en/\\n[11] https://www.un.org/en/climatechange/climate-change-and-you\\n[12] https://www.nature.com/articles/s43247-023-01108-6\\n[13] https://link.springer.com/article/10.1007/s10311-020-01059-w\\n[14] https://unfccc.int/process-and-meetings/the-paris-agreement/the-paris-agreement\\n[15] https://www.un.org/en/climatechange/paris-agreement\\n[16] https://www.weforum.org/agenda/2021/07/fight-climate-change-with-technology/\\n[17] https://www.imf.org/-/media/Files/Publications/WP/2021/English/wpiea2021280-print-pdf.ashx\\n[18] https://www.sciencedirect.com/topics/engineering/climate-change-mitigation-technology\\n[19] https://www.weforum.org/agenda/2021/07/fight-climate-change-with-technology/\\n[20] https://www.worldbank.org/en/topic/climatechange/brief/carbon-pricing\\n[21] https://www.fao.org/sustainable-development-goals/goals/goal-2/en/\\n[22] https://www.un.org/en/climatechange/climate-change-and-you', 'search_queries': ['Climate change mitigation strategies and their impact on economic growth', 'Climate change mitigation and its impact on social justice'], 'revision_number': 4}}\n"
     ]
    }
   ],
   "source": [
    "thread = {\"configurable\": {\"thread_id\": \"1\"}}\n",
    "for s in graph.stream({\n",
    "    'task': \"How can we mitigate climate change?\",\n",
    "    \"max_revisions\": 3,\n",
    "    \"revision_number\": 0,\n",
    "}, thread):\n",
    "    print(s)"
   ]
  },
  {
   "cell_type": "code",
   "execution_count": 109,
   "metadata": {},
   "outputs": [
    {
     "data": {
      "text/plain": [
       "'Climate change is a pressing global issue that requires a multifaceted approach to mitigate its effects. One key strategy is reducing greenhouse gas emissions, primarily from burning fossil fuels. This involves transitioning to renewable energy sources like solar and wind power, improving energy efficiency in buildings and transportation, and promoting sustainable land use practices. [1, 2] Additionally, carbon capture and storage technologies can play a role in removing existing CO2 from the atmosphere. [3] Another crucial aspect is adaptation, which involves adjusting to the inevitable impacts of climate change. This includes building resilient infrastructure, developing drought-resistant crops, and implementing early warning systems for extreme weather events. [4, 5] Furthermore, international cooperation is vital for addressing climate change effectively. Global agreements like the Paris Agreement provide a framework for coordinated action, while financial assistance from developed countries can help developing nations implement mitigation and adaptation measures. [6, 7]  It is important to note that the effectiveness of climate change mitigation and adaptation policies is a complex issue. Research has shown that the effectiveness of adaptation policies can vary depending on factors such as the specific context, the level of implementation, and the availability of resources. [8] Similarly, the effectiveness of mitigation policies can be influenced by factors such as the cost-effectiveness of different technologies, the political will to implement policies, and the global cooperation needed to achieve ambitious targets. [9]  By adopting a comprehensive approach that combines emission reduction, adaptation, and international collaboration, we can significantly mitigate the risks of climate change and build a more sustainable future. \\n\\n[1] https://climatepromise.undp.org/news-and-stories/what-climate-change-mitigation-and-why-it-urgent\\n[2] https://www.nature.com/articles/s43247-023-01108-6\\n[3] https://link.springer.com/article/10.1007/s10311-020-01059-w\\n[4] https://www.worldbank.org/en/news/feature/2020/11/17/the-adaptation-principles-6-ways-to-build-resilience-to-climate-change\\n[5] https://climatepromise.undp.org/news-and-stories/what-climate-change-adaptation-and-why-it-crucial\\n[6] https://unfccc.int/process-and-meetings/the-paris-agreement\\n[7] https://www.ipcc.ch/report/ar6/wg3/chapter/chapter-14/\\n[8] https://www.tandfonline.com/doi/full/10.1080/17565529.2021.1964937\\n[9] https://www.sciencedirect.com/science/article/pii/S0921344924003124'"
      ]
     },
     "execution_count": 109,
     "metadata": {},
     "output_type": "execute_result"
    }
   ],
   "source": [
    "final_report = s['reflect']['current_report']\n",
    "final_report"
   ]
  },
  {
   "cell_type": "code",
   "execution_count": null,
   "metadata": {},
   "outputs": [],
   "source": []
  }
 ],
 "metadata": {
  "kernelspec": {
   "display_name": "llm_agents",
   "language": "python",
   "name": "python3"
  },
  "language_info": {
   "codemirror_mode": {
    "name": "ipython",
    "version": 3
   },
   "file_extension": ".py",
   "mimetype": "text/x-python",
   "name": "python",
   "nbconvert_exporter": "python",
   "pygments_lexer": "ipython3",
   "version": "3.12.2"
  }
 },
 "nbformat": 4,
 "nbformat_minor": 2
}
