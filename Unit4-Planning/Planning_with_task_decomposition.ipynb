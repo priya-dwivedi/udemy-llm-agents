{
 "cells": [
  {
   "cell_type": "markdown",
   "metadata": {},
   "source": [
    "### Planning with task decomposition\n",
    "\n",
    "In this notebook, we will look at several methods of planning that allow you to decompose a complex task into smaller pieces.\n",
    "\n",
    "Methods that we will cover include\n",
    "\n",
    "1. Chain of Thought prompting (COT)\n",
    "2. Tree of Thought prompting (TOT)\n",
    "3. Plan and Solve"
   ]
  },
  {
   "cell_type": "code",
   "execution_count": 1,
   "metadata": {},
   "outputs": [
    {
     "data": {
      "text/plain": [
       "True"
      ]
     },
     "execution_count": 1,
     "metadata": {},
     "output_type": "execute_result"
    }
   ],
   "source": [
    "import os\n",
    "from dotenv import load_dotenv\n",
    "load_dotenv()"
   ]
  },
  {
   "cell_type": "code",
   "execution_count": 2,
   "metadata": {},
   "outputs": [],
   "source": [
    "os.environ[\"OPENAI_API_KEY\"] = os.getenv(\"OPENAI_API_KEY\") ## Put your OpenAI API key here\n",
    "os.environ[\"TAVILY_API_KEY\"] = os.getenv(\"TAVILY_API_KEY\") ## Put your Tavily Search API key here\n",
    "os.environ[\"LANGCHAIN_API_KEY\"] = os.getenv(\"LANGCHAIN_API_KEY\") ## Put your Langsmith API key here\n",
    "os.environ[\"LANGCHAIN_HUB_API_KEY\"] = os.getenv(\"LANGCHAIN_API_KEY\") ## Put your Langsmith API key here\n",
    "os.environ[\"LANGCHAIN_TRACING_V2\"] = 'true' ## Set this as True\n",
    "os.environ[\"LANGCHAIN_ENDPOINT\"] = 'https://api.smith.langchain.com/' ## Set this as: https://api.smith.langchain.com/\n",
    "os.environ[\"LANGCHAIN_HUB_API_URL\"] = 'https://api.hub.langchain.com' ## Set this as : https://api.hub.langchain.com\n",
    "os.environ[\"LANGCHAIN_PROJECT\"] = 'llm-agents-planning'"
   ]
  },
  {
   "cell_type": "markdown",
   "metadata": {},
   "source": [
    "## Chain of Thought Prompting\n",
    "\n",
    "Learn More: https://deepgram.com/learn/chain-of-thought-prompting-guide\n",
    "\n",
    "![COT](images/cot.jpeg)"
   ]
  },
  {
   "cell_type": "code",
   "execution_count": 3,
   "metadata": {},
   "outputs": [],
   "source": [
    "open_source_model = 'mistralai/Mistral-7B-Instruct-v0.3'"
   ]
  },
  {
   "cell_type": "code",
   "execution_count": 4,
   "metadata": {},
   "outputs": [],
   "source": [
    "## Add Together API Key\n",
    "os.environ[\"TOGETHER_API_KEY\"] = os.getenv(\"TOGETHER_API_KEY\")\n",
    "### import together\n",
    "from together_llm import TogetherLLM\n",
    "## Langchain imports\n",
    "from langchain_openai import OpenAI\n"
   ]
  },
  {
   "cell_type": "code",
   "execution_count": 5,
   "metadata": {},
   "outputs": [],
   "source": [
    "llm = TogetherLLM(model=open_source_model, temperature=0.3, max_tokens=800)"
   ]
  },
  {
   "cell_type": "code",
   "execution_count": 6,
   "metadata": {},
   "outputs": [
    {
     "name": "stdout",
     "output_type": "stream",
     "text": [
      " The two trains will meet 640 km away from City A.\n",
      "\n",
      "Here are the steps to solve the problem:\n",
      "\n",
      "1. Let x be the distance the faster train travels in the two hours before the slower train starts moving.\n",
      "2. In those two hours, the slower train remains stationary, so the combined distance the faster train travels is equal to the distance between the cities minus the distance the slower train needs to travel to meet the faster train.\n",
      "3. So, we have the equation: 120t + 120(2) = 960 - 80(t - 2), where t is the time in hours it takes for the trains to meet after both start moving.\n",
      "4. Simplifying the equation, we get: 120t + 240 = 960 - 80t + 160.\n",
      "5. Combining like terms, we get: 240 + 80t = 960 - 120t.\n",
      "6. Solving for t, we get: t = (960 - 240) / (120 + 80) = 720 / 200 = 3.6 hours.\n",
      "7. Now that we know the time it takes for the trains to meet, we can find the distance the faster train travels before the slower train starts moving: 120 * 3.6 = 432 km.\n",
      "8. Since the trains meet after traveling an additional 640 - 432 = 208 km together, they meet 208 km away from City A.\n"
     ]
    }
   ],
   "source": [
    "from langchain.prompts import PromptTemplate\n",
    "\n",
    "\n",
    "# Template for the problem and the desired format of the answer\n",
    "template = \"\"\"Solve the following problem step by step. First give the answer and then the steps.\n",
    "\n",
    "{problem}\n",
    "\"\"\"\n",
    "prompt = PromptTemplate(template=template, input_variables=[\"problem\"])\n",
    "\n",
    "cot_chain = prompt | llm\n",
    "math_problem = '''\n",
    "A train leaves City A traveling towards City B at a speed of 120 km/h.\n",
    " Two hours later, a slower train leaves City B traveling towards City A at a speed of 80 km/h.\n",
    "   If the distance between the two cities is 960 km, how far from City A will the two trains meet?\n",
    "'''\n",
    "\n",
    "# Use the chain to generate the result\n",
    "result = cot_chain.invoke({\"problem\": math_problem})\n",
    "print(result)\n"
   ]
  },
  {
   "cell_type": "markdown",
   "metadata": {},
   "source": [
    "### Chain of Thought  with Self Consistency\n",
    "- Run the problem several times and take the most common answer\n",
    "\n",
    "![COT-SC](images/cot-sc.jpg)"
   ]
  },
  {
   "cell_type": "markdown",
   "metadata": {},
   "source": [
    "### COT with Examples:\n",
    "\n",
    "cot_prompt = '''Solve the following problem step-by-step, clearly showing your calculations and reasoning.\n",
    "Problem: {math_problem}\n",
    "\n",
    "Example of a math problem solved step by step\n",
    "\n",
    "\"Solve the following problem step-by-step, clearly showing your calculations and reasoning.\n",
    "Problem: A group of friends went to a restaurant. The total bill was $120, and they wanted to leave a 15% tip. How much should each person pay if there were 5 friends splitting the bill and tip evenly?\"\n",
    "\n",
    "Response:\n",
    "\n",
    "Step 1: Calculate the tip amount.\n",
    "\n",
    "15% of the $120 bill is (15/100) * $120 = $18.\n",
    "Step 2: Calculate the total cost including the tip.\n",
    "\n",
    "The bill plus tip is $120 + $18 = $138.\n",
    "Step 3: Divide the total cost by the number of friends.\n",
    "\n",
    "Each friend should pay $138 / 5 friends = $27.60.\n",
    "Therefore, each of the 5 friends should pay $27.60 to cover the bill and tip evenly..'''"
   ]
  },
  {
   "cell_type": "markdown",
   "metadata": {},
   "source": [
    "## Plan and Solve\n",
    "\n",
    "Paper: https://arxiv.org/pdf/2305.04091v3\n",
    "\n",
    "![Plan_Solve](images/plan-solve.png)"
   ]
  },
  {
   "cell_type": "code",
   "execution_count": 7,
   "metadata": {},
   "outputs": [
    {
     "name": "stdout",
     "output_type": "stream",
     "text": [
      " Step 1: Understand the problem\n",
      "- We have two trains traveling towards each other.\n",
      "- Train A leaves City A at a speed of 120 km/h.\n",
      "- Train B leaves City B (which is 960 km away from City A) at a speed of 80 km/h, 2 hours after Train A has left.\n",
      "- We need to find out how far from City A the two trains will meet.\n",
      "\n",
      "Step 2: Convert the time difference\n",
      "- Since Train B leaves 2 hours after Train A, we can say that Train A has traveled for 2 hours before Train B starts moving.\n",
      "\n",
      "Step 3: Calculate the distance covered by Train A in 2 hours\n",
      "- Distance = Speed * Time\n",
      "- Distance covered by Train A = 120 km/h * 2 hours = 240 km\n",
      "\n",
      "Step 4: Calculate the combined speed of both trains\n",
      "- Combined speed = Speed of Train A + Speed of Train B = 120 km/h + 80 km/h = 200 km/h\n",
      "\n",
      "Step 5: Calculate the remaining distance between the trains\n",
      "- Remaining distance = Total distance - Distance covered by Train A = 960 km - 240 km = 720 km\n",
      "\n",
      "Step 6: Calculate the time it takes for the trains to meet\n",
      "- Time = Remaining distance / Combined speed = 720 km / 200 km/h = 3.6 hours\n",
      "\n",
      "Step 7: Calculate the distance traveled by both trains together in the remaining 3.6 hours\n",
      "- Distance = Speed * Time = 200 km/h * 3.6 hours = 720 km\n",
      "\n",
      "Step 8: Add the distance covered by Train A and the distance traveled by both trains together to find the final meeting point\n",
      "- Final meeting point = Distance covered by Train A + Distance traveled by both trains together = 240 km + 720 km = 960 km\n",
      "\n",
      "However, this result is the total distance between the cities, not the distance from City A to the meeting point. Since the trains meet 3.6 hours after Train A leaves, they meet after traveling for 3.6 hours from City A.\n",
      "\n",
      "Step 9: Calculate the distance traveled by Train A in the 3.6 hours\n",
      "- Distance = Speed * Time = 120 km/h * 3.6 hours = 432 km\n",
      "\n",
      "Step 10: Subtract the distance traveled by Train A from the total distance to find the distance from City A to the meeting point\n",
      "- Distance from City A to the meeting point = Total distance - Distance traveled by Train A = 960 km - 432 km = 528 km\n",
      "\n",
      "So, the two trains will meet 528 km from City A.\n"
     ]
    }
   ],
   "source": [
    "# Template for the problem and the desired format of the answer\n",
    "template = \"\"\"Solve the following problem by first devising a step by step plan for solving the problem. Then carry out the plan step by step\n",
    "\n",
    "{problem}\n",
    "\"\"\"\n",
    "prompt = PromptTemplate(template=template, input_variables=[\"problem\"])\n",
    "\n",
    "plan_solve_chain = prompt | llm\n",
    "math_problem = '''\n",
    "A train leaves City A traveling towards City B at a speed of 120 km/h.\n",
    " Two hours later, a slower train leaves City B traveling towards City A at a speed of 80 km/h.\n",
    "   If the distance between the two cities is 960 km, how far from City A will the two trains meet?\n",
    "'''\n",
    "\n",
    "# Use the chain to generate the result\n",
    "result = plan_solve_chain.invoke({\"problem\": math_problem})\n",
    "print(result)"
   ]
  },
  {
   "cell_type": "markdown",
   "metadata": {},
   "source": [
    "## Tree of Thought\n",
    "\n",
    "Read more about it here: https://www.promptingguide.ai/techniques/tot\n",
    "\n",
    "![TOT](images/tot.png)"
   ]
  },
  {
   "cell_type": "code",
   "execution_count": 8,
   "metadata": {},
   "outputs": [
    {
     "name": "stdout",
     "output_type": "stream",
     "text": [
      "Step1 :\n",
      " \n",
      "I have a problem related to {input}. Could you brainstorm three distinct solutions? Please consider a variety of factors such as {perfect_factors}\n",
      "A:\n",
      "Step 2:\n",
      "\n",
      "For each of the three proposed solutions, evaluate their potential. Consider their pros and cons, initial effort needed, implementation difficulty, potential challenges, and the expected outcomes. Assign a probability of success and a confidence level to each option based on these factors\n",
      "\n",
      "{solutions}\n",
      "\n",
      "A:\n",
      "Step 3:\n",
      "\n",
      "For each solution, deepen the thought process. Generate potential scenarios, strategies for implementation, any necessary partnerships or resources, and how potential obstacles might be overcome. Also, consider any potential unexpected outcomes and how they might be handled.\n",
      "\n",
      "{review}\n",
      "\n",
      "A:\n",
      "Step 4:\n",
      "\n",
      "Based on the evaluations and scenarios, rank the solutions in order of promise. Provide a justification for each ranking and offer any final thoughts or considerations for each solution\n",
      "{deepen_thought_process}\n",
      "\n",
      "A:\n"
     ]
    }
   ],
   "source": [
    "# set the LANGCHAIN_API_KEY environment variable (create key in settings)\n",
    "from langchain import hub\n",
    "\n",
    "tot_step1 = hub.pull(\"rachnogstyle/nlw_jan24_cot_step1\")\n",
    "tot_step2 = hub.pull(\"rachnogstyle/nlw_jan24_cot_step2\")\n",
    "tot_step3 = hub.pull(\"rachnogstyle/nlw_jan24_cot_step3\")\n",
    "tot_step4 = hub.pull(\"rachnogstyle/nlw_jan24_cot_step4\")\n",
    "\n",
    "print(tot_step1.template)\n",
    "print(tot_step2.template)\n",
    "print(tot_step3.template)\n",
    "print(tot_step4.template)"
   ]
  },
  {
   "cell_type": "code",
   "execution_count": 11,
   "metadata": {},
   "outputs": [],
   "source": [
    "from langchain_openai import ChatOpenAI\n",
    "from langchain.schema.runnable import RunnablePassthrough\n",
    "\n",
    "\n",
    "llm_openai = ChatOpenAI(model=\"gpt-3.5-turbo\", temperature=0.2)"
   ]
  },
  {
   "cell_type": "code",
   "execution_count": 15,
   "metadata": {},
   "outputs": [],
   "source": [
    "\n",
    "prompt1 = PromptTemplate(template=tot_step1.template, input_variables=[\"input\", \"perfect_factors\"])\n",
    "prompt2 = PromptTemplate(template=tot_step2.template, input_variables=[\"solutions\"])\n",
    "prompt3 = PromptTemplate(template=tot_step3.template, input_variables=[\"review\"])\n",
    "prompt4 = PromptTemplate(template=tot_step4.template, input_variables=[\"deepen_thought_process\"])\n",
    "\n",
    "tot_complete_chain = (\n",
    "        prompt1\n",
    "        | llm_openai\n",
    "        | {'solutions': RunnablePassthrough()}\n",
    "        | prompt2\n",
    "        | llm_openai\n",
    "        | {'review': RunnablePassthrough()}\n",
    "        | prompt3\n",
    "        | llm_openai\n",
    "        | {'deepen_thought_process': RunnablePassthrough()}\n",
    "        | prompt4\n",
    "        | llm_openai\n",
    "        | {'ranked_solution': RunnablePassthrough()}\n",
    ")"
   ]
  },
  {
   "cell_type": "code",
   "execution_count": 16,
   "metadata": {},
   "outputs": [
    {
     "name": "stdout",
     "output_type": "stream",
     "text": [
      "{'ranked_solution': AIMessage(content='Ranking of Solutions in Order of Promise:\\n\\n1. Option 3: Establishing partnerships with other space agencies or private companies\\n2. Option 1: Developing sustainable habitats on Mars\\n3. Option 2: Creating a reliable transportation system between Earth and Mars\\n\\nJustification for Rankings:\\n\\nOption 3 is ranked the highest as it offers the most promising path forward for Mars colonization by leveraging the expertise and resources of multiple organizations. Collaboration with other space agencies and private companies can increase the likelihood of success and maximize shared knowledge and support.\\n\\nOption 1 is ranked second as developing sustainable habitats on Mars is crucial for long-term colonization. While it presents challenges such as construction and maintenance, the use of advanced technologies and partnerships with experts can overcome these obstacles.\\n\\nOption 2 is ranked last as creating a reliable transportation system, while important, may not be as immediately critical as establishing sustainable habitats or forming partnerships. However, advancements in propulsion technology and collaboration with aerospace companies can still lead to significant progress in Mars colonization.\\n\\nFinal Thoughts:\\n\\nEach solution has its own set of challenges and opportunities, and a combination of all three options may be necessary for a successful Mars colonization mission. It is important to consider the interplay between sustainable living, transportation, and collaboration in order to create a comprehensive and effective strategy for colonizing Mars.', response_metadata={'token_usage': {'completion_tokens': 263, 'prompt_tokens': 563, 'total_tokens': 826}, 'model_name': 'gpt-3.5-turbo', 'system_fingerprint': None, 'finish_reason': 'stop', 'logprobs': None}, id='run-c4b0a032-3f38-43e5-8c82-d2b18a4ce224-0')}\n"
     ]
    }
   ],
   "source": [
    "results = tot_complete_chain.invoke( {\n",
    "                \"input\": \"human colonization of Mars\",\n",
    "                \"perfect_factors\": \"The distance between Earth and Mars is very large, making regular resupply difficult\"\n",
    "            })\n",
    "print(results)"
   ]
  },
  {
   "cell_type": "code",
   "execution_count": 18,
   "metadata": {},
   "outputs": [
    {
     "name": "stdout",
     "output_type": "stream",
     "text": [
      "Ranking of Solutions in Order of Promise:\n",
      "\n",
      "1. Option 3: Establishing partnerships with other space agencies or private companies\n",
      "2. Option 1: Developing sustainable habitats on Mars\n",
      "3. Option 2: Creating a reliable transportation system between Earth and Mars\n",
      "\n",
      "Justification for Rankings:\n",
      "\n",
      "Option 3 is ranked the highest as it offers the most promising path forward for Mars colonization by leveraging the expertise and resources of multiple organizations. Collaboration with other space agencies and private companies can increase the likelihood of success and maximize shared knowledge and support.\n",
      "\n",
      "Option 1 is ranked second as developing sustainable habitats on Mars is crucial for long-term colonization. While it presents challenges such as construction and maintenance, the use of advanced technologies and partnerships with experts can overcome these obstacles.\n",
      "\n",
      "Option 2 is ranked last as creating a reliable transportation system, while important, may not be as immediately critical as establishing sustainable habitats or forming partnerships. However, advancements in propulsion technology and collaboration with aerospace companies can still lead to significant progress in Mars colonization.\n",
      "\n",
      "Final Thoughts:\n",
      "\n",
      "Each solution has its own set of challenges and opportunities, and a combination of all three options may be necessary for a successful Mars colonization mission. It is important to consider the interplay between sustainable living, transportation, and collaboration in order to create a comprehensive and effective strategy for colonizing Mars.\n"
     ]
    }
   ],
   "source": [
    "print(results['ranked_solution'].content)"
   ]
  }
 ],
 "metadata": {
  "kernelspec": {
   "display_name": "langchain",
   "language": "python",
   "name": "python3"
  },
  "language_info": {
   "codemirror_mode": {
    "name": "ipython",
    "version": 3
   },
   "file_extension": ".py",
   "mimetype": "text/x-python",
   "name": "python",
   "nbconvert_exporter": "python",
   "pygments_lexer": "ipython3",
   "version": "3.12.4"
  }
 },
 "nbformat": 4,
 "nbformat_minor": 2
}
