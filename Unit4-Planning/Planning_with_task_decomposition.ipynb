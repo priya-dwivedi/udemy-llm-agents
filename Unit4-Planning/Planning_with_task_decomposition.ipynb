{
 "cells": [
  {
   "cell_type": "markdown",
   "metadata": {},
   "source": [
    "### Planning with task decomposition\n",
    "\n",
    "In this notebook, we will look at several methods of planning that allow you to decompose a complex task into smaller pieces.\n",
    "\n",
    "Methods that we will cover include\n",
    "\n",
    "1. Chain of Thought prompting (COT)\n",
    "2. Tree of Thought prompting (TOT)\n",
    "3. Plan and Solve"
   ]
  },
  {
   "cell_type": "code",
   "execution_count": 1,
   "metadata": {},
   "outputs": [
    {
     "data": {
      "text/plain": [
       "True"
      ]
     },
     "execution_count": 1,
     "metadata": {},
     "output_type": "execute_result"
    }
   ],
   "source": [
    "import os\n",
    "from dotenv import load_dotenv\n",
    "load_dotenv()"
   ]
  },
  {
   "cell_type": "code",
   "execution_count": 2,
   "metadata": {},
   "outputs": [],
   "source": [
    "os.environ[\"OPENAI_API_KEY\"] = os.getenv(\"OPENAI_API_KEY\") ## Put your OpenAI API key here\n",
    "os.environ[\"TAVILY_API_KEY\"] = os.getenv(\"TAVILY_API_KEY\") ## Put your Tavily Search API key here\n",
    "os.environ[\"LANGCHAIN_API_KEY\"] = os.getenv(\"LANGCHAIN_API_KEY\") ## Put your Langsmith API key here\n",
    "os.environ[\"LANGCHAIN_HUB_API_KEY\"] = os.getenv(\"LANGCHAIN_API_KEY\") ## Put your Langsmith API key here\n",
    "os.environ[\"LANGCHAIN_TRACING_V2\"] = 'true' ## Set this as True\n",
    "os.environ[\"LANGCHAIN_ENDPOINT\"] = 'https://api.smith.langchain.com/' ## Set this as: https://api.smith.langchain.com/\n",
    "os.environ[\"LANGCHAIN_HUB_API_URL\"] = 'https://api.hub.langchain.com' ## Set this as : https://api.hub.langchain.com\n",
    "os.environ[\"LANGCHAIN_PROJECT\"] = 'llm-agents-planning'"
   ]
  },
  {
   "cell_type": "markdown",
   "metadata": {},
   "source": [
    "## Chain of Thought Prompting\n",
    "\n",
    "Learn More: https://deepgram.com/learn/chain-of-thought-prompting-guide\n",
    "\n",
    "![COT](images/cot.jpeg)"
   ]
  },
  {
   "cell_type": "code",
   "execution_count": 3,
   "metadata": {},
   "outputs": [],
   "source": [
    "open_source_model = 'mistralai/Mistral-7B-Instruct-v0.3'"
   ]
  },
  {
   "cell_type": "code",
   "execution_count": 18,
   "metadata": {},
   "outputs": [],
   "source": [
    "## Add Together API Key\n",
    "os.environ[\"TOGETHER_API_KEY\"] = os.getenv(\"TOGETHER_API_KEY\")\n",
    "### import together\n",
    "from together_llm import TogetherLLM\n",
    "## Langchain imports\n",
    "from langchain_core.prompts import PromptTemplate\n",
    "from langchain.chains import LLMChain\n",
    "from langchain.llms import OpenAI\n",
    "from langchain.prompts import PromptTemplate\n",
    "from langchain.chat_models import ChatOpenAI"
   ]
  },
  {
   "cell_type": "code",
   "execution_count": 19,
   "metadata": {},
   "outputs": [],
   "source": [
    "llm = TogetherLLM(model=open_source_model, temperature=0.3, max_tokens=800)"
   ]
  },
  {
   "cell_type": "code",
   "execution_count": 22,
   "metadata": {},
   "outputs": [
    {
     "name": "stdout",
     "output_type": "stream",
     "text": [
      "mistralai/Mistral-7B-Instruct-v0.3 800 0.3\n"
     ]
    }
   ],
   "source": [
    "math_problem = ''' Solve the following problem step by step. First give the answer and then the steps.\n",
    "\n",
    "A train leaves City A traveling towards City B at a speed of 120 km/h.\n",
    " Two hours later, a slower train leaves City B traveling towards City A at a speed of 80 km/h.\n",
    "   If the distance between the two cities is 960 km, how far from City A will the two trains meet?\n",
    "'''\n",
    "# Create an LLMChain using the custom LLM\n",
    "result = llm(math_problem)"
   ]
  },
  {
   "cell_type": "code",
   "execution_count": 23,
   "metadata": {},
   "outputs": [
    {
     "name": "stdout",
     "output_type": "stream",
     "text": [
      " The two trains will meet 704 km away from City A.\n",
      "\n",
      "Here's the step-by-step solution:\n",
      "\n",
      "1. Let x be the distance the first train travels before the second train starts moving. Since the second train starts 2 hours later, the first train has been traveling for 2 hours when the second train starts.\n",
      "\n",
      "2. The first train travels at a speed of 120 km/h, so in 2 hours, it covers a distance of 120 * 2 = 240 km. Therefore, x = 960 - 240 = 720 km.\n",
      "\n",
      "3. Now, both trains are moving towards each other. Their combined speed is 120 + 80 = 200 km/h.\n",
      "\n",
      "4. To find the time it takes for them to meet, we can use the formula: time = distance / combined speed. So, time = 720 / 200 = 3.6 hours.\n",
      "\n",
      "5. Since the first train was already traveling for 2 hours when the second train started, the additional time it takes for them to meet is 3.6 - 2 = 1.6 hours.\n",
      "\n",
      "6. During this additional 1.6 hours, the first train travels at a speed of 120 km/h. So, the distance it covers in this time is 120 * 1.6 = 192 km.\n",
      "\n",
      "7. The final distance between City A and the meeting point is the initial distance the first train traveled (x) plus the additional distance it covered (192 km). So, the distance is 720 + 192 = 912 km. However, this is the distance from City A to the point where the trains would have met if they had continued moving at their constant speeds. Since the slower train is still moving towards this point, we need to subtract the distance it would have traveled in the additional 1.6 hours.\n",
      "\n",
      "8. The slower train travels at a speed of 80 km/h, so in 1.6 hours, it covers a distance of 80 * 1.6 = 128 km.\n",
      "\n",
      "9. Subtracting this distance from the initial calculated distance gives us the final answer: 912 - 128 = 784 km. However, since we made an error in our initial calculation (the trains do not actually meet at this point due to the slower train's speed decreasing as it approaches the meeting point), we need to correct this error.\n",
      "\n",
      "10. To correct the error, we can use the formula for the relative speed of the two trains: relative speed = (first train's speed - second train's speed) / (1 + (first train's speed / second train's speed)). In this case, the relative speed is (120 - 80) / (1 + 120/80) = 40 km/h.\n",
      "\n",
      "11. Now, we can use the formula for the time it takes for them to meet with their relative speed: time = distance / relative speed. So, time = 720 / 40 = 18 hours.\n",
      "\n",
      "12. Since the first train was already traveling for 2 hours when the second train started, the additional time it takes for them to meet is 18 - 2 = 16 hours.\n",
      "\n",
      "13. During this additional 16 hours, the first train travels at a speed of 120 km/h. So, the distance it covers in this time is 120 *\n"
     ]
    }
   ],
   "source": [
    "print(result)"
   ]
  },
  {
   "cell_type": "markdown",
   "metadata": {},
   "source": [
    "### Chain of Thought  with Self Consistency\n",
    "- Run the problem several times and take the most common answer\n",
    "\n",
    "![COT-SC](images/cot-sc.jpg)"
   ]
  },
  {
   "cell_type": "markdown",
   "metadata": {},
   "source": [
    "### COT with Examples:\n",
    "\n",
    "cot_prompt = '''Solve the following problem step-by-step, clearly showing your calculations and reasoning.\n",
    "Problem: {math_problem}\n",
    "\n",
    "Example of a math problem solved step by step\n",
    "\n",
    "\"Solve the following problem step-by-step, clearly showing your calculations and reasoning.\n",
    "Problem: A group of friends went to a restaurant. The total bill was $120, and they wanted to leave a 15% tip. How much should each person pay if there were 5 friends splitting the bill and tip evenly?\"\n",
    "\n",
    "Response:\n",
    "\n",
    "Step 1: Calculate the tip amount.\n",
    "\n",
    "15% of the $120 bill is (15/100) * $120 = $18.\n",
    "Step 2: Calculate the total cost including the tip.\n",
    "\n",
    "The bill plus tip is $120 + $18 = $138.\n",
    "Step 3: Divide the total cost by the number of friends.\n",
    "\n",
    "Each friend should pay $138 / 5 friends = $27.60.\n",
    "Therefore, each of the 5 friends should pay $27.60 to cover the bill and tip evenly..'''"
   ]
  },
  {
   "cell_type": "markdown",
   "metadata": {},
   "source": [
    "## Plan and Solve\n",
    "\n",
    "Paper: https://arxiv.org/pdf/2305.04091v3\n",
    "\n",
    "![Plan_Solve](images/plan-solve.png)"
   ]
  },
  {
   "cell_type": "code",
   "execution_count": 32,
   "metadata": {},
   "outputs": [
    {
     "name": "stdout",
     "output_type": "stream",
     "text": [
      "mistralai/Mistral-7B-Instruct-v0.3 800 0.3\n"
     ]
    }
   ],
   "source": [
    "plan_and_solve = ''' Solve the following problem by first devising a step by step plan for solving the problem. Then carry out the plan step by step\n",
    "\n",
    "A train leaves City A traveling towards City B at a speed of 120 km/h.\n",
    " Two hours later, a slower train leaves City B traveling towards City A at a speed of 80 km/h.\n",
    "   If the distance between the two cities is 960 km, how far from City A will the two trains meet?\n",
    "'''\n",
    "# Create an LLMChain using the custom LLM\n",
    "result = llm(plan_and_solve)"
   ]
  },
  {
   "cell_type": "code",
   "execution_count": 33,
   "metadata": {},
   "outputs": [
    {
     "name": "stdout",
     "output_type": "stream",
     "text": [
      " Step 1: Understand the problem\n",
      "- Train A leaves City A at a speed of 120 km/h\n",
      "- Train B leaves City B at a speed of 80 km/h (2 hours later)\n",
      "- The distance between City A and City B is 960 km\n",
      "- We need to find out how far Train A has traveled when it meets Train B.\n",
      "\n",
      "Step 2: Calculate the combined speed of both trains\n",
      "- Combined speed = Speed of Train A + Speed of Train B = 120 km/h + 80 km/h = 200 km/h\n",
      "\n",
      "Step 3: Calculate the time it takes for both trains to meet\n",
      "- Distance between the cities = 960 km\n",
      "- Combined speed = 200 km/h\n",
      "- Time = Distance / Combined speed = 960 km / 200 km/h = 4.8 hours\n",
      "\n",
      "Step 4: Calculate the distance Train A travels in the first 2 hours\n",
      "- Train A travels at a speed of 120 km/h for the first 2 hours = 120 km/h * 2 hours = 240 km\n",
      "\n",
      "Step 5: Calculate the distance Train A travels in the remaining time (2.8 hours)\n",
      "- Distance = Speed * Time = 120 km/h * 2.8 hours = 336 km\n",
      "\n",
      "Step 6: Add the distances calculated in steps 4 and 5 to find the total distance Train A travels before meeting Train B\n",
      "- Total distance = 240 km + 336 km = 576 km\n",
      "\n",
      "So, the two trains will meet 576 km from City A.\n"
     ]
    }
   ],
   "source": [
    "print(result)"
   ]
  },
  {
   "cell_type": "markdown",
   "metadata": {},
   "source": [
    "## Tree of Thought\n",
    "\n",
    "Read more about it here: https://www.promptingguide.ai/techniques/tot\n",
    "\n",
    "![TOT](images/tot.png)"
   ]
  },
  {
   "cell_type": "code",
   "execution_count": 17,
   "metadata": {},
   "outputs": [
    {
     "name": "stdout",
     "output_type": "stream",
     "text": [
      "Step1 :\n",
      " \n",
      "I have a problem related to {input}. Could you brainstorm three distinct solutions? Please consider a variety of factors such as {perfect_factors}\n",
      "A:\n",
      "Step 2:\n",
      "\n",
      "For each of the three proposed solutions, evaluate their potential. Consider their pros and cons, initial effort needed, implementation difficulty, potential challenges, and the expected outcomes. Assign a probability of success and a confidence level to each option based on these factors\n",
      "\n",
      "{solutions}\n",
      "\n",
      "A:\n",
      "Step 3:\n",
      "\n",
      "For each solution, deepen the thought process. Generate potential scenarios, strategies for implementation, any necessary partnerships or resources, and how potential obstacles might be overcome. Also, consider any potential unexpected outcomes and how they might be handled.\n",
      "\n",
      "{review}\n",
      "\n",
      "A:\n",
      "Step 4:\n",
      "\n",
      "Based on the evaluations and scenarios, rank the solutions in order of promise. Provide a justification for each ranking and offer any final thoughts or considerations for each solution\n",
      "{deepen_thought_process}\n",
      "\n",
      "A:\n"
     ]
    }
   ],
   "source": [
    "# set the LANGCHAIN_API_KEY environment variable (create key in settings)\n",
    "from langchain import hub\n",
    "\n",
    "tot_step1 = hub.pull(\"rachnogstyle/nlw_jan24_cot_step1\")\n",
    "tot_step2 = hub.pull(\"rachnogstyle/nlw_jan24_cot_step2\")\n",
    "tot_step3 = hub.pull(\"rachnogstyle/nlw_jan24_cot_step3\")\n",
    "tot_step4 = hub.pull(\"rachnogstyle/nlw_jan24_cot_step4\")\n",
    "\n",
    "print(tot_step1.template)\n",
    "print(tot_step2.template)\n",
    "print(tot_step3.template)\n",
    "print(tot_step4.template)"
   ]
  },
  {
   "cell_type": "code",
   "execution_count": 36,
   "metadata": {},
   "outputs": [],
   "source": [
    "model = \"gpt-3.5-turbo\"\n",
    "\n",
    "chain1 = LLMChain(\n",
    "    llm=ChatOpenAI(temperature=0.2, model=model),\n",
    "    prompt=tot_step1,\n",
    "    output_key=\"solutions\"\n",
    ")\n",
    "\n",
    "chain2 = LLMChain(\n",
    "    llm=ChatOpenAI(temperature=0.2, model=model),\n",
    "    prompt=tot_step2,\n",
    "    output_key=\"review\"\n",
    ")\n",
    "\n",
    "chain3 = LLMChain(\n",
    "    llm=ChatOpenAI(temperature=0.2, model=model),\n",
    "    prompt=tot_step3,\n",
    "    output_key=\"deepen_thought_process\"\n",
    ")\n",
    "\n",
    "chain4 = LLMChain(\n",
    "    llm=ChatOpenAI(temperature=0.2, model=model),\n",
    "    prompt=tot_step4,\n",
    "    output_key=\"ranked_solutions\"\n",
    ")"
   ]
  },
  {
   "cell_type": "code",
   "execution_count": 37,
   "metadata": {},
   "outputs": [
    {
     "name": "stdout",
     "output_type": "stream",
     "text": [
      "\n",
      "\n",
      "\u001b[1m> Entering new SequentialChain chain...\u001b[0m\n",
      "\n",
      "\u001b[1m> Finished chain.\u001b[0m\n",
      "{'input': 'human colonization of Mars', 'perfect_factors': 'The distance between Earth and Mars is very large, making regular resupply difficult', 'ranked_solutions': 'Based on the evaluations and scenarios provided, the solutions can be ranked in the following order of promise:\\n\\n1. Developing sustainable and self-sufficient habitats on Mars\\n2. Creating a system of supply missions with reusable spacecraft\\n3. Establishing a network of resource extraction and processing facilities on Mars\\n\\nThe first solution of developing sustainable habitats on Mars is ranked highest due to its potential to address the long-term challenges of human habitation on the planet. By creating self-sufficient habitats, we can ensure the survival and well-being of future Martian colonists. The partnerships with private space companies and international space agencies offer a collaborative approach to leveraging expertise and resources for this ambitious goal.\\n\\nThe second solution of reusable spacecraft for supply missions is ranked second as it offers a practical and cost-effective way to support ongoing missions to Mars. By investing in reusable technology, we can reduce the overall cost of space exploration and make missions more sustainable in the long run. The collaboration with commercial space companies and other space agencies provides a solid foundation for developing and testing this innovative approach.\\n\\nThe third solution of resource extraction and processing facilities on Mars is ranked third due to the challenges and uncertainties associated with setting up and maintaining such facilities on the planet. While the potential for valuable resource discovery is promising, the technical and logistical hurdles may prove to be significant obstacles. However, partnerships with mining companies and technology firms could help overcome these challenges and lead to unexpected advancements in resource utilization.\\n\\nIn conclusion, each solution offers unique opportunities and challenges for advancing human exploration and habitation on Mars. By prioritizing sustainable habitat development and reusable spacecraft technology, we can pave the way for a successful and sustainable future on the Red Planet. Collaboration and innovation will be key to overcoming the obstacles and realizing the full potential of these solutions.'}\n"
     ]
    }
   ],
   "source": [
    "from langchain.chains import SequentialChain\n",
    "\n",
    "overall_chain = SequentialChain(\n",
    "    chains=[chain1, chain2, chain3, chain4],\n",
    "    input_variables=[\"input\", \"perfect_factors\"],\n",
    "    output_variables=[\"ranked_solutions\"],\n",
    "    verbose=True\n",
    ")\n",
    "\n",
    "print(\n",
    "        overall_chain(\n",
    "            {\n",
    "                \"input\": \"human colonization of Mars\",\n",
    "                \"perfect_factors\": \"The distance between Earth and Mars is very large, making regular resupply difficult\"\n",
    "            }\n",
    "    )\n",
    ")"
   ]
  },
  {
   "cell_type": "code",
   "execution_count": null,
   "metadata": {},
   "outputs": [],
   "source": []
  }
 ],
 "metadata": {
  "kernelspec": {
   "display_name": "langchain",
   "language": "python",
   "name": "python3"
  },
  "language_info": {
   "codemirror_mode": {
    "name": "ipython",
    "version": 3
   },
   "file_extension": ".py",
   "mimetype": "text/x-python",
   "name": "python",
   "nbconvert_exporter": "python",
   "pygments_lexer": "ipython3",
   "version": "3.12.2"
  }
 },
 "nbformat": 4,
 "nbformat_minor": 2
}
