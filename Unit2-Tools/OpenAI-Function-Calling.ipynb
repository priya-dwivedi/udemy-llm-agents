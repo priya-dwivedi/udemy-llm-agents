{
 "cells": [
  {
   "attachments": {},
   "cell_type": "markdown",
   "metadata": {},
   "source": [
    "## Function Calling Notebook\n",
    "\n",
    "This notebook walks through the steps to run function calling through OpenAI. Function Calling mimics what Langchain does internally with tools and agents. The main difference is that Langchain executes the tool whereas OpenAI function calling comes back with the parameters to call the tool"
   ]
  },
  {
   "cell_type": "code",
   "execution_count": 106,
   "metadata": {},
   "outputs": [
    {
     "data": {
      "text/plain": [
       "True"
      ]
     },
     "execution_count": 106,
     "metadata": {},
     "output_type": "execute_result"
    }
   ],
   "source": [
    "from dotenv import load_dotenv\n",
    "load_dotenv()"
   ]
  },
  {
   "cell_type": "markdown",
   "metadata": {},
   "source": [
    "![Function Calling](images/function-calling.png)"
   ]
  },
  {
   "cell_type": "code",
   "execution_count": 98,
   "metadata": {},
   "outputs": [],
   "source": [
    "import json\n",
    "import openai\n",
    "import os\n",
    "from openai import OpenAI\n",
    "openai.api_key = os.getenv(\"OPENAI_API_KEY\")\n",
    "\n",
    "from langchain_community.tools.tavily_search import TavilySearchResults, TavilyAnswer\n",
    "\n",
    "from transformers import pipeline\n",
    "from termcolor import colored\n",
    "\n"
   ]
  },
  {
   "attachments": {},
   "cell_type": "markdown",
   "metadata": {},
   "source": [
    "#### Setting OpenAI Calling from Python"
   ]
  },
  {
   "cell_type": "code",
   "execution_count": 99,
   "metadata": {},
   "outputs": [],
   "source": [
    "class Chatbot:\n",
    "    def __init__(self):\n",
    "        ## reading config file\n",
    "        self.client = OpenAI()\n",
    "        self.GPT_MODEL = \"gpt-4-turbo-preview\"\n",
    "\n",
    "    def call_openai(self, query, tools=None):\n",
    "        ## Add User Query to Messages\n",
    "        if tools:\n",
    "            completion = self.client.chat.completions.create(\n",
    "                    model=self.GPT_MODEL,\n",
    "                    messages=query,\n",
    "                    response_format={\"type\": \"json_object\"},\n",
    "                    temperature=0.2,\n",
    "                    tools = tools,\n",
    "                    tool_choice = \"auto\"\n",
    "                    )\n",
    "        else:\n",
    "            completion = self.client.chat.completions.create(\n",
    "                    model=self.GPT_MODEL,\n",
    "                    messages=query,\n",
    "                    response_format={\"type\": \"json_object\"},\n",
    "                    temperature=0.4,\n",
    "                    )\n",
    "        \n",
    "        ## Lets look at the output we got\n",
    "        # print(\"Output from the model: \", completion.choices[0].message)\n",
    "        # print(\"\\n\")\n",
    "        tools_response = []\n",
    "\n",
    "        ## Extract any content\n",
    "        result = completion.choices[0].message.content\n",
    "        ## If content is present, load it in JSON\n",
    "        if result is not None:\n",
    "            result = json.loads(result)\n",
    "            result = result['response']\n",
    "\n",
    "        ## Extract any tool calls\n",
    "        tools_output =  completion.choices[0].message.tool_calls\n",
    "        ## If tool_calls is in result iterate and extract all of them\n",
    "        if tools_output is not None:\n",
    "            for tool in tools_output:\n",
    "                tools_response.append((tool.function.name, tool.function.arguments))\n",
    "        return result, tools_response"
   ]
  },
  {
   "cell_type": "code",
   "execution_count": 100,
   "metadata": {},
   "outputs": [
    {
     "name": "stdout",
     "output_type": "stream",
     "text": [
      "Output from the model:  ChatCompletionMessage(content='{\\n  \"response\": \"Spring officially starts with the vernal equinox, which usually occurs on March 20th or 21st in North America.\"\\n}', role='assistant', function_call=None, tool_calls=None)\n",
      "\n",
      "\n",
      "Spring officially starts with the vernal equinox, which usually occurs on March 20th or 21st in North America. []\n"
     ]
    }
   ],
   "source": [
    "query = \"When does spring start in North Amercia?\"\n",
    "messages = []\n",
    "messages.append({\"role\": \"system\", \"content\":\"You are a friendly chatbot who likes to chat with users and extract relevant information. You respond back in JSON format. Put your answer in the key response\"})\n",
    "messages.append({\"role\": \"user\", \"content\": query})\n",
    "\n",
    "\n",
    "chatbot = Chatbot()\n",
    "result, tools_output = chatbot.call_openai(messages)\n",
    "print(result, tools_output)"
   ]
  },
  {
   "cell_type": "markdown",
   "metadata": {},
   "source": [
    "### Define Functions using the Schema from OpenAI\n",
    "\n",
    "We are going to have 3 functions\n",
    "* Search - Tavily Search for the user query\n",
    "* Calculator - Function that would do the math calculation\n",
    "* Sentiment - Get text sentiment using transformer pipeline"
   ]
  },
  {
   "cell_type": "code",
   "execution_count": 101,
   "metadata": {},
   "outputs": [],
   "source": [
    "tools = [\n",
    "    {\n",
    "      \"type\": \"function\",\n",
    "      \"function\": {\n",
    "        \"name\": \"get_sentiment_text\",\n",
    "        \"description\": \"Get the sentiment of the input text\",\n",
    "        \"parameters\": {\n",
    "          \"type\": \"object\",\n",
    "          \"properties\": {\n",
    "            \"query\": {\n",
    "              \"type\": \"string\",\n",
    "              \"description\": \"The text to analyze\"\n",
    "            },\n",
    "          },\n",
    "          \"required\": [\"query\"]\n",
    "        }\n",
    "      }\n",
    "    },\n",
    "    {\n",
    "      \"type\": \"function\",\n",
    "      \"function\": {\n",
    "        \"name\": \"get_search_results\",\n",
    "        \"description\": \"Search for results on a given topic\",\n",
    "        \"parameters\": {\n",
    "          \"type\": \"object\",\n",
    "          \"properties\": {\n",
    "            \"query\": {\n",
    "              \"type\": \"string\",\n",
    "              \"description\": \"The search query\"\n",
    "            },\n",
    "            \"limit\": {\n",
    "              \"type\": \"integer\",\n",
    "              \"description\": \"The number of results to return\"\n",
    "            }\n",
    "          },\n",
    "          \"required\": [\"query\"]\n",
    "        }\n",
    "      }\n",
    "    },\n",
    "   {\n",
    "      \"type\": \"function\",\n",
    "      \"function\": {\n",
    "        \"name\": \"calculator\",\n",
    "        \"description\": \"Calculate the input query. Useful when you have a math computation\",\n",
    "        \"parameters\": {\n",
    "          \"type\": \"object\",\n",
    "          \"properties\": {\n",
    "            \"query\": {\n",
    "              \"type\": \"string\",\n",
    "              \"description\": \"The calculation to be done\"\n",
    "            }\n",
    "        }\n",
    "      }\n",
    "      }\n",
    "   }\n",
    "  ]"
   ]
  },
  {
   "cell_type": "code",
   "execution_count": 102,
   "metadata": {},
   "outputs": [
    {
     "name": "stdout",
     "output_type": "stream",
     "text": [
      "Output from the model:  ChatCompletionMessage(content=None, role='assistant', function_call=None, tool_calls=[ChatCompletionMessageToolCall(id='call_R4Oj0oUrPA4vszkbgWyzxZqL', function=Function(arguments='{\"query\":\"15*6\"}', name='calculator'), type='function')])\n",
      "\n",
      "\n",
      "None [('calculator', '{\"query\":\"15*6\"}')]\n"
     ]
    }
   ],
   "source": [
    "query = \"What is the product of 15 and 6\"\n",
    "\n",
    "messages = []\n",
    "messages.append({\"role\": \"system\", \"content\":\"You are a friendly chatbot who likes to chat with users and extract relevant information. You respond back in JSON format. Put your answer in the key response\"})\n",
    "messages.append({\"role\": \"user\", \"content\": query})\n",
    "\n",
    "\n",
    "chatbot = Chatbot()\n",
    "result, tools_output = chatbot.call_openai(messages, tools)\n",
    "print(result, tools_output)\n"
   ]
  },
  {
   "cell_type": "markdown",
   "metadata": {},
   "source": [
    "### Write the defintion of functions"
   ]
  },
  {
   "cell_type": "code",
   "execution_count": 92,
   "metadata": {},
   "outputs": [],
   "source": [
    "import re\n",
    "\n",
    "def safe_calculator(query):\n",
    "    \"\"\"\n",
    "    A simple calculator that evaluates basic arithmetic expressions from a string.\n",
    "    Supports addition (+), subtraction (-), multiplication (*), and division (/).\n",
    "\n",
    "    Parameters:\n",
    "    - query: str, a mathematical expression as a string (e.g., '15*6')\n",
    "\n",
    "    Returns:\n",
    "    - The result of the arithmetic operation or an error message if the query is invalid.\n",
    "    \"\"\"\n",
    "    # Pattern to match a basic arithmetic expression\n",
    "    pattern = r'^(\\d+(\\.\\d+)?)\\s*([\\+\\-\\*/])\\s*(\\d+(\\.\\d+)?)$'\n",
    "    match = re.match(pattern, query)\n",
    "    if not match:\n",
    "        return \"Error: Invalid input format.\"\n",
    "\n",
    "    # Extract operands and operator\n",
    "    a, operator, b = float(match.group(1)), match.group(3), float(match.group(4))\n",
    "\n",
    "    # Perform calculation\n",
    "    if operator == '+':\n",
    "        return a + b\n",
    "    elif operator == '-':\n",
    "        return a - b\n",
    "    elif operator == '*':\n",
    "        return a * b\n",
    "    elif operator == '/':\n",
    "        if b == 0:\n",
    "            return \"Error: Division by zero is not allowed.\"\n",
    "        return a / b\n",
    "    else:\n",
    "        return \"Error: Unsupported operation.\"\n",
    "\n",
    "\n",
    "def tavily_search(query, limit=2):\n",
    "    \"\"\"Function to execute Google Search.\"\"\"\n",
    "    try:\n",
    "       tool = TavilyAnswer(max_results=limit)\n",
    "       results = tool.invoke({\"query\":query})\n",
    "    #    results = \" \".join(item['content'] for item in search_results)\n",
    "    except Exception as e:\n",
    "        results = f\"query failed with error: {e}\"\n",
    "    return results\n",
    "\n",
    "def math_calculator(query):\n",
    "    \"\"\"Function to run Math Calculations.\"\"\"\n",
    "    try:\n",
    "        results = safe_calculator(query)\n",
    "    except Exception as e:\n",
    "        results = f\"query failed with error: {e}\"\n",
    "    return results\n",
    "\n",
    "def text_sentiment(query):\n",
    "    \"\"\"Function to get sentiment of a text.\"\"\"\n",
    "    try:\n",
    "        pipe = pipeline(\"sentiment-analysis\")\n",
    "        results = pipe(query)\n",
    "    except Exception as e:\n",
    "        results = f\"query failed with error: {e}\"\n",
    "    return results\n",
    "\n",
    "\n",
    "def function_executor(tools_response_LLM):\n",
    "    \"\"\"Tie above functions together so either can be executed\"\"\"\n",
    "    name, params= tools_response_LLM[0]\n",
    "    params = json.loads(params)\n",
    "    if name == 'get_search_results':\n",
    "        query = params['query']\n",
    "        limit  = params.get('limit', 2)\n",
    "        results = tavily_search(query, limit)\n",
    "    elif name == 'calculator':\n",
    "        query = params['query']\n",
    "        results = math_calculator(query)\n",
    "    elif name == 'get_sentiment_text':\n",
    "        query = params['query']\n",
    "        results = text_sentiment(query)\n",
    "    else:\n",
    "        results = f\"Error: function {name} does not exist\"\n",
    "    return results"
   ]
  },
  {
   "cell_type": "code",
   "execution_count": 103,
   "metadata": {},
   "outputs": [
    {
     "data": {
      "text/plain": [
       "4.2"
      ]
     },
     "execution_count": 103,
     "metadata": {},
     "output_type": "execute_result"
    }
   ],
   "source": [
    "math_calculator(\"21/5\")"
   ]
  },
  {
   "cell_type": "code",
   "execution_count": 104,
   "metadata": {},
   "outputs": [
    {
     "name": "stderr",
     "output_type": "stream",
     "text": [
      "No model was supplied, defaulted to distilbert/distilbert-base-uncased-finetuned-sst-2-english and revision af0f99b (https://huggingface.co/distilbert/distilbert-base-uncased-finetuned-sst-2-english).\n",
      "Using a pipeline without specifying a model name and revision in production is not recommended.\n"
     ]
    },
    {
     "data": {
      "text/plain": [
       "[{'label': 'NEGATIVE', 'score': 0.9995974898338318}]"
      ]
     },
     "execution_count": 104,
     "metadata": {},
     "output_type": "execute_result"
    }
   ],
   "source": [
    "text_sentiment(\"I hated the Dune 2 movie\")"
   ]
  },
  {
   "cell_type": "code",
   "execution_count": 105,
   "metadata": {},
   "outputs": [
    {
     "data": {
      "text/plain": [
       "'Robert Downey Jr. has won one Oscar. He won the Academy Award for Best Actor in a Supporting Role at the 96th Academy Awards.'"
      ]
     },
     "execution_count": 105,
     "metadata": {},
     "output_type": "execute_result"
    }
   ],
   "source": [
    "tavily_search(\"How many Oscars has Robert Downey Jr. won?\")"
   ]
  },
  {
   "attachments": {},
   "cell_type": "markdown",
   "metadata": {},
   "source": [
    "### First Call to OpenAI\n",
    "\n",
    "We will test the code by passing in the function arguments and making a first call to OpenAI"
   ]
  },
  {
   "cell_type": "code",
   "execution_count": 96,
   "metadata": {},
   "outputs": [
    {
     "name": "stdout",
     "output_type": "stream",
     "text": [
      "/n\n",
      "\u001b[33m[{'role': 'system', 'content': '\\nYou are a friendly chatbot who looks at the tools they have and selects the best giving one.\\nYou respond back in JSON format.\\nPut your response in the key response.\\nImportant: Choose only one tool at a time. \\n'}, {'role': 'user', 'content': '\\nWhat are the latest reviews for Dune 2 movie? What is the sentiment of that\\n'}]\u001b[0m\n",
      "\u001b[32m[('get_search_results', '{\"query\": \"Dune 2 movie reviews\", \"limit\": 1}'), ('get_sentiment_text', '{\"query\": \"Dune 2 movie reviews\"}')]\u001b[0m\n",
      "\u001b[34mBased on the information from the provided sources, \"Dune: Part Two\" has received mixed reviews. The movie is praised for its character development, particularly focusing on Paul Atreides' transformation into a potential leader. The film is likened to \"The Lord of the Rings: The Two Towers\" for building on established characters and intensifying the sense of continuous battle and danger. Additionally, Austin Butler's portrayal of Feyd-Rautha is highlighted for its intensity and balance against Timothée Chalamet's performance.\n",
      "\n",
      "On the other hand, criticisms include the lack of new insights into religion as a form of control and the risks faced by indigenous communities. Despite this, the emotional depth and dynamics between characters are acknowledged as engaging elements of the film.\u001b[0m\n",
      "/n\n",
      "\u001b[33m[{'role': 'system', 'content': '\\nYou are a friendly chatbot who looks at the tools they have and selects the best giving one.\\nYou respond back in JSON format.\\nPut your response in the key response.\\nImportant: Choose only one tool at a time. \\n'}, {'role': 'user', 'content': '\\nWhat are the latest reviews for Dune 2 movie? What is the sentiment of that\\n'}, {'role': 'function', 'name': 'get_search_results', 'content': 'Based on the information from the provided sources, \"Dune: Part Two\" has received mixed reviews. The movie is praised for its character development, particularly focusing on Paul Atreides\\' transformation into a potential leader. The film is likened to \"The Lord of the Rings: The Two Towers\" for building on established characters and intensifying the sense of continuous battle and danger. Additionally, Austin Butler\\'s portrayal of Feyd-Rautha is highlighted for its intensity and balance against Timothée Chalamet\\'s performance.\\n\\nOn the other hand, criticisms include the lack of new insights into religion as a form of control and the risks faced by indigenous communities. Despite this, the emotional depth and dynamics between characters are acknowledged as engaging elements of the film.'}]\u001b[0m\n"
     ]
    },
    {
     "name": "stderr",
     "output_type": "stream",
     "text": [
      "No model was supplied, defaulted to distilbert/distilbert-base-uncased-finetuned-sst-2-english and revision af0f99b (https://huggingface.co/distilbert/distilbert-base-uncased-finetuned-sst-2-english).\n",
      "Using a pipeline without specifying a model name and revision in production is not recommended.\n"
     ]
    },
    {
     "name": "stdout",
     "output_type": "stream",
     "text": [
      "\u001b[32m[('get_sentiment_text', '{\"query\":\"Based on the information from the provided sources, \\\\\"Dune: Part Two\\\\\" has received mixed reviews. The movie is praised for its character development, particularly focusing on Paul Atreides\\' transformation into a potential leader. The film is likened to \\\\\"The Lord of the Rings: The Two Towers\\\\\" for building on established characters and intensifying the sense of continuous battle and danger. Additionally, Austin Butler\\'s portrayal of Feyd-Rautha is highlighted for its intensity and balance against Timothée Chalamet\\'s performance.\\\\n\\\\nOn the other hand, criticisms include the lack of new insights into religion as a form of control and the risks faced by indigenous communities. Despite this, the emotional depth and dynamics between characters are acknowledged as engaging elements of the film.\"}')]\u001b[0m\n",
      "\u001b[34m[{'label': 'POSITIVE', 'score': 0.9950783252716064}]\u001b[0m\n",
      "/n\n",
      "\u001b[33m[{'role': 'system', 'content': '\\nYou are a friendly chatbot who looks at the tools they have and selects the best giving one.\\nYou respond back in JSON format.\\nPut your response in the key response.\\nImportant: Choose only one tool at a time. \\n'}, {'role': 'user', 'content': '\\nWhat are the latest reviews for Dune 2 movie? What is the sentiment of that\\n'}, {'role': 'function', 'name': 'get_search_results', 'content': 'Based on the information from the provided sources, \"Dune: Part Two\" has received mixed reviews. The movie is praised for its character development, particularly focusing on Paul Atreides\\' transformation into a potential leader. The film is likened to \"The Lord of the Rings: The Two Towers\" for building on established characters and intensifying the sense of continuous battle and danger. Additionally, Austin Butler\\'s portrayal of Feyd-Rautha is highlighted for its intensity and balance against Timothée Chalamet\\'s performance.\\n\\nOn the other hand, criticisms include the lack of new insights into religion as a form of control and the risks faced by indigenous communities. Despite this, the emotional depth and dynamics between characters are acknowledged as engaging elements of the film.'}, {'role': 'function', 'name': 'get_sentiment_text', 'content': \"[{'label': 'POSITIVE', 'score': 0.9950783252716064}]\"}]\u001b[0m\n",
      "\u001b[31mThe latest reviews for 'Dune: Part Two' are mixed, with the movie being praised for its character development, particularly focusing on Paul Atreides' transformation. It is compared to 'The Lord of the Rings: The Two Towers' for its depth in character and storyline. Austin Butler's portrayal of Feyd-Rautha is also highlighted positively. However, there are criticisms regarding the lack of new insights into religion and the risks faced by indigenous communities. Despite this, the emotional depth and dynamics between characters are seen as engaging. The overall sentiment of these reviews is positive.\u001b[0m\n"
     ]
    }
   ],
   "source": [
    "# user_request = \"\"\"\n",
    "# Find Harry Styles' age. What is their current age, multiplied by 2.1 ?\n",
    "# \"\"\"\n",
    "\n",
    "# user_request = \"\"\"\n",
    "# What is current US unemployment rate? What will it be if it doubles?\n",
    "# \"\"\"\n",
    "\n",
    "user_request = \"\"\"\n",
    "What are the latest reviews for Dune 2 movie? What is the sentiment of that\n",
    "\"\"\"\n",
    "\n",
    "\n",
    "system_message = '''\n",
    "You are a friendly chatbot who looks at the tools they have and selects the best giving one.\n",
    "You respond back in JSON format.\n",
    "Put your response in the key response.\n",
    "Important: Choose only one tool at a time. \n",
    "'''\n",
    "\n",
    "messages = []\n",
    "messages.append({\"role\": \"system\", \"content\":system_message})\n",
    "messages.append({\"role\": \"user\", \"content\": user_request})\n",
    "chatbot = Chatbot()\n",
    "\n",
    "keep_running = True\n",
    "while keep_running:\n",
    "    print('/n')\n",
    "    print(colored(messages, 'yellow'))\n",
    "    result, tools_output = chatbot.call_openai(messages, tools=tools)\n",
    "\n",
    "    if result is not None:\n",
    "        messages.append({\"role\": \"assistant\", \"content\": result})\n",
    "        print(colored(result, 'red'))\n",
    "        keep_running = False\n",
    "\n",
    "    if len(tools_output) >0:\n",
    "        ## Run the tool request from LLM\n",
    "        print(colored(tools_output, 'green'))\n",
    "        function_results = function_executor(tools_output)\n",
    "        print(colored(function_results, 'blue'))\n",
    "\n",
    "        ### Pass the tool output back to LLM\n",
    "        messages.append({\"role\": \"function\", \"name\": str(tools_output[0][0]), \"content\": str(function_results)})\n",
    "        keep_running = True"
   ]
  },
  {
   "cell_type": "code",
   "execution_count": 97,
   "metadata": {},
   "outputs": [
    {
     "name": "stdout",
     "output_type": "stream",
     "text": [
      "/n\n",
      "\u001b[33m[{'role': 'system', 'content': '\\nYou are a friendly chatbot who looks at the tools they have and selects the best giving one.\\nYou respond back in JSON format.\\nPut your response in the key response.\\nImportant: Choose only one tool at a time. \\n'}, {'role': 'user', 'content': '\\nWhat is current US unemployment rate? What will it be if it doubles?\\n'}]\u001b[0m\n",
      "\u001b[32m[('get_search_results', '{\"query\":\"current US unemployment rate\",\"limit\":1}')]\u001b[0m\n",
      "\u001b[34mThe current US unemployment rate is 3.7% as of November 2023. This rate marks a decrease from the previous month's rate of 3.9%.\u001b[0m\n",
      "/n\n",
      "\u001b[33m[{'role': 'system', 'content': '\\nYou are a friendly chatbot who looks at the tools they have and selects the best giving one.\\nYou respond back in JSON format.\\nPut your response in the key response.\\nImportant: Choose only one tool at a time. \\n'}, {'role': 'user', 'content': '\\nWhat is current US unemployment rate? What will it be if it doubles?\\n'}, {'role': 'function', 'name': 'get_search_results', 'content': \"The current US unemployment rate is 3.7% as of November 2023. This rate marks a decrease from the previous month's rate of 3.9%.\"}]\u001b[0m\n",
      "\u001b[32m[('calculator', '{\"query\":\"3.7*2\"}')]\u001b[0m\n",
      "\u001b[34m7.4\u001b[0m\n",
      "/n\n",
      "\u001b[33m[{'role': 'system', 'content': '\\nYou are a friendly chatbot who looks at the tools they have and selects the best giving one.\\nYou respond back in JSON format.\\nPut your response in the key response.\\nImportant: Choose only one tool at a time. \\n'}, {'role': 'user', 'content': '\\nWhat is current US unemployment rate? What will it be if it doubles?\\n'}, {'role': 'function', 'name': 'get_search_results', 'content': \"The current US unemployment rate is 3.7% as of November 2023. This rate marks a decrease from the previous month's rate of 3.9%.\"}, {'role': 'function', 'name': 'calculator', 'content': '7.4'}]\u001b[0m\n",
      "\u001b[31m{'current_unemployment_rate': '3.7%', 'doubled_unemployment_rate': '7.4%'}\u001b[0m\n"
     ]
    }
   ],
   "source": [
    "\n",
    "user_request = \"\"\"\n",
    "What is current US unemployment rate? What will it be if it doubles?\n",
    "\"\"\"\n",
    "\n",
    "\n",
    "system_message = '''\n",
    "You are a friendly chatbot who looks at the tools they have and selects the best giving one.\n",
    "You respond back in JSON format.\n",
    "Put your response in the key response.\n",
    "Important: Choose only one tool at a time. \n",
    "'''\n",
    "\n",
    "messages = []\n",
    "messages.append({\"role\": \"system\", \"content\":system_message})\n",
    "messages.append({\"role\": \"user\", \"content\": user_request})\n",
    "chatbot = Chatbot()\n",
    "\n",
    "keep_running = True\n",
    "while keep_running:\n",
    "    print('/n')\n",
    "    print(colored(messages, 'yellow'))\n",
    "    result, tools_output = chatbot.call_openai(messages, tools=tools)\n",
    "\n",
    "    if result is not None:\n",
    "        messages.append({\"role\": \"assistant\", \"content\": result})\n",
    "        print(colored(result, 'red'))\n",
    "        keep_running = False\n",
    "\n",
    "    if len(tools_output) >0:\n",
    "        ## Run the tool request from LLM\n",
    "        print(colored(tools_output, 'green'))\n",
    "        function_results = function_executor(tools_output)\n",
    "        print(colored(function_results, 'blue'))\n",
    "\n",
    "        ### Pass the tool output back to LLM\n",
    "        messages.append({\"role\": \"function\", \"name\": str(tools_output[0][0]), \"content\": str(function_results)})\n",
    "        keep_running = True"
   ]
  },
  {
   "cell_type": "code",
   "execution_count": null,
   "metadata": {},
   "outputs": [],
   "source": []
  }
 ],
 "metadata": {
  "kernelspec": {
   "display_name": "llm_agents",
   "language": "python",
   "name": "python3"
  },
  "language_info": {
   "codemirror_mode": {
    "name": "ipython",
    "version": 3
   },
   "file_extension": ".py",
   "mimetype": "text/x-python",
   "name": "python",
   "nbconvert_exporter": "python",
   "pygments_lexer": "ipython3",
   "version": "3.12.2"
  },
  "orig_nbformat": 4
 },
 "nbformat": 4,
 "nbformat_minor": 2
}
