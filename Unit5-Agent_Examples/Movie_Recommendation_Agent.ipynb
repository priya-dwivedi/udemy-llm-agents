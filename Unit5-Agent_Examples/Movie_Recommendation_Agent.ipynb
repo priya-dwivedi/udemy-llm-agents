{
 "cells": [
  {
   "cell_type": "code",
   "execution_count": 22,
   "metadata": {},
   "outputs": [],
   "source": [
    "import pandas as pd"
   ]
  },
  {
   "cell_type": "markdown",
   "metadata": {},
   "source": [
    "### Look at the Movies Database"
   ]
  },
  {
   "cell_type": "code",
   "execution_count": 23,
   "metadata": {},
   "outputs": [
    {
     "data": {
      "text/plain": [
       "(2610, 14)"
      ]
     },
     "execution_count": 23,
     "metadata": {},
     "output_type": "execute_result"
    }
   ],
   "source": [
    "df = pd.read_csv('data/movie_ratings.csv')\n",
    "df=df.dropna()\n",
    "df.shape"
   ]
  },
  {
   "cell_type": "code",
   "execution_count": 3,
   "metadata": {},
   "outputs": [
    {
     "data": {
      "text/html": [
       "<div>\n",
       "<style scoped>\n",
       "    .dataframe tbody tr th:only-of-type {\n",
       "        vertical-align: middle;\n",
       "    }\n",
       "\n",
       "    .dataframe tbody tr th {\n",
       "        vertical-align: top;\n",
       "    }\n",
       "\n",
       "    .dataframe thead th {\n",
       "        text-align: right;\n",
       "    }\n",
       "</style>\n",
       "<table border=\"1\" class=\"dataframe\">\n",
       "  <thead>\n",
       "    <tr style=\"text-align: right;\">\n",
       "      <th></th>\n",
       "      <th>tmdb_id</th>\n",
       "      <th>original_title</th>\n",
       "      <th>popularity</th>\n",
       "      <th>vote_average</th>\n",
       "      <th>vote_count</th>\n",
       "      <th>imdb_id</th>\n",
       "      <th>title</th>\n",
       "      <th>genres</th>\n",
       "      <th>runtime</th>\n",
       "      <th>overview</th>\n",
       "      <th>movie_id</th>\n",
       "      <th>rating</th>\n",
       "      <th>year</th>\n",
       "      <th>movie_genres</th>\n",
       "    </tr>\n",
       "  </thead>\n",
       "  <tbody>\n",
       "    <tr>\n",
       "      <th>2609</th>\n",
       "      <td>37799</td>\n",
       "      <td>The Social Network</td>\n",
       "      <td>16.972995</td>\n",
       "      <td>7.1</td>\n",
       "      <td>3492</td>\n",
       "      <td>tt1285016</td>\n",
       "      <td>The Social Network</td>\n",
       "      <td>[{'id': 18, 'name': 'Drama'}]</td>\n",
       "      <td>120</td>\n",
       "      <td>On a fall night in 2003, Harvard undergrad and...</td>\n",
       "      <td>the+social+network+2010</td>\n",
       "      <td>4.0</td>\n",
       "      <td>2010</td>\n",
       "      <td>Drama</td>\n",
       "    </tr>\n",
       "    <tr>\n",
       "      <th>2610</th>\n",
       "      <td>16234</td>\n",
       "      <td>Batman Beyond: Return of the Joker</td>\n",
       "      <td>7.872438</td>\n",
       "      <td>7.5</td>\n",
       "      <td>152</td>\n",
       "      <td>tt0233298</td>\n",
       "      <td>Batman Beyond: Return of the Joker</td>\n",
       "      <td>[{'id': 16, 'name': 'Animation'}, {'id': 10751...</td>\n",
       "      <td>74</td>\n",
       "      <td>The Joker is back with a vengeance, and Gotham...</td>\n",
       "      <td>batman+beyond+return+of+the+joker+2000</td>\n",
       "      <td>3.0</td>\n",
       "      <td>2000</td>\n",
       "      <td>Animation_Family</td>\n",
       "    </tr>\n",
       "    <tr>\n",
       "      <th>2611</th>\n",
       "      <td>1581</td>\n",
       "      <td>The Holiday</td>\n",
       "      <td>14.043416</td>\n",
       "      <td>6.7</td>\n",
       "      <td>1259</td>\n",
       "      <td>tt0457939</td>\n",
       "      <td>The Holiday</td>\n",
       "      <td>[{'id': 35, 'name': 'Comedy'}, {'id': 10749, '...</td>\n",
       "      <td>136</td>\n",
       "      <td>Two women, one (Cameron Diaz) from America and...</td>\n",
       "      <td>the+holiday+2006</td>\n",
       "      <td>5.0</td>\n",
       "      <td>2006</td>\n",
       "      <td>Comedy_Romance</td>\n",
       "    </tr>\n",
       "    <tr>\n",
       "      <th>2612</th>\n",
       "      <td>10344</td>\n",
       "      <td>The Fly II</td>\n",
       "      <td>9.207436</td>\n",
       "      <td>5.2</td>\n",
       "      <td>159</td>\n",
       "      <td>tt0097368</td>\n",
       "      <td>The Fly II</td>\n",
       "      <td>[{'id': 27, 'name': 'Horror'}, {'id': 878, 'na...</td>\n",
       "      <td>105</td>\n",
       "      <td>Martin Brundle, born of the human/fly, is adop...</td>\n",
       "      <td>the+fly+ii+1989</td>\n",
       "      <td>4.0</td>\n",
       "      <td>1989</td>\n",
       "      <td>Horror_Science Fiction_Thriller</td>\n",
       "    </tr>\n",
       "    <tr>\n",
       "      <th>2613</th>\n",
       "      <td>6963</td>\n",
       "      <td>The Weather Man</td>\n",
       "      <td>8.345866</td>\n",
       "      <td>6.0</td>\n",
       "      <td>292</td>\n",
       "      <td>tt0384680</td>\n",
       "      <td>The Weather Man</td>\n",
       "      <td>[{'id': 35, 'name': 'Comedy'}, {'id': 18, 'nam...</td>\n",
       "      <td>101</td>\n",
       "      <td>A Chicago weather man, separated from his wife...</td>\n",
       "      <td>the+weather+man+2005</td>\n",
       "      <td>4.0</td>\n",
       "      <td>2005</td>\n",
       "      <td>Comedy_Drama</td>\n",
       "    </tr>\n",
       "  </tbody>\n",
       "</table>\n",
       "</div>"
      ],
      "text/plain": [
       "      tmdb_id                      original_title  popularity  vote_average  \\\n",
       "2609    37799                  The Social Network   16.972995           7.1   \n",
       "2610    16234  Batman Beyond: Return of the Joker    7.872438           7.5   \n",
       "2611     1581                         The Holiday   14.043416           6.7   \n",
       "2612    10344                          The Fly II    9.207436           5.2   \n",
       "2613     6963                     The Weather Man    8.345866           6.0   \n",
       "\n",
       "      vote_count    imdb_id                               title  \\\n",
       "2609        3492  tt1285016                  The Social Network   \n",
       "2610         152  tt0233298  Batman Beyond: Return of the Joker   \n",
       "2611        1259  tt0457939                         The Holiday   \n",
       "2612         159  tt0097368                          The Fly II   \n",
       "2613         292  tt0384680                     The Weather Man   \n",
       "\n",
       "                                                 genres  runtime  \\\n",
       "2609                      [{'id': 18, 'name': 'Drama'}]      120   \n",
       "2610  [{'id': 16, 'name': 'Animation'}, {'id': 10751...       74   \n",
       "2611  [{'id': 35, 'name': 'Comedy'}, {'id': 10749, '...      136   \n",
       "2612  [{'id': 27, 'name': 'Horror'}, {'id': 878, 'na...      105   \n",
       "2613  [{'id': 35, 'name': 'Comedy'}, {'id': 18, 'nam...      101   \n",
       "\n",
       "                                               overview  \\\n",
       "2609  On a fall night in 2003, Harvard undergrad and...   \n",
       "2610  The Joker is back with a vengeance, and Gotham...   \n",
       "2611  Two women, one (Cameron Diaz) from America and...   \n",
       "2612  Martin Brundle, born of the human/fly, is adop...   \n",
       "2613  A Chicago weather man, separated from his wife...   \n",
       "\n",
       "                                    movie_id  rating  year  \\\n",
       "2609                 the+social+network+2010     4.0  2010   \n",
       "2610  batman+beyond+return+of+the+joker+2000     3.0  2000   \n",
       "2611                        the+holiday+2006     5.0  2006   \n",
       "2612                         the+fly+ii+1989     4.0  1989   \n",
       "2613                    the+weather+man+2005     4.0  2005   \n",
       "\n",
       "                         movie_genres  \n",
       "2609                            Drama  \n",
       "2610                 Animation_Family  \n",
       "2611                   Comedy_Romance  \n",
       "2612  Horror_Science Fiction_Thriller  \n",
       "2613                     Comedy_Drama  "
      ]
     },
     "execution_count": 3,
     "metadata": {},
     "output_type": "execute_result"
    }
   ],
   "source": [
    "df.tail()"
   ]
  },
  {
   "cell_type": "code",
   "execution_count": 24,
   "metadata": {},
   "outputs": [],
   "source": [
    "def count_genres(df):\n",
    "    all_genres = []\n",
    "\n",
    "    for index, row in df.iterrows():\n",
    "        all_genres.extend(row['movie_genres'].split('_'))\n",
    "            \n",
    "    genre_counts = pd.Series(all_genres).value_counts()\n",
    "    unique_genres = list(set(all_genres))\n",
    "\n",
    "    return genre_counts, unique_genres"
   ]
  },
  {
   "cell_type": "code",
   "execution_count": 25,
   "metadata": {},
   "outputs": [
    {
     "data": {
      "text/plain": [
       "Drama              1307\n",
       "Comedy             1013\n",
       "Thriller            647\n",
       "Action              585\n",
       "Romance             532\n",
       "Adventure           465\n",
       "Crime               427\n",
       "Science Fiction     324\n",
       "Family              305\n",
       "Fantasy             286\n",
       "Mystery             216\n",
       "Horror              200\n",
       "Animation           143\n",
       "Music               110\n",
       "History             106\n",
       "War                  83\n",
       "Documentary          50\n",
       "Western              46\n",
       "Foreign              17\n",
       "TV Movie              1\n",
       "Name: count, dtype: int64"
      ]
     },
     "execution_count": 25,
     "metadata": {},
     "output_type": "execute_result"
    }
   ],
   "source": [
    "genre_counts, unique_genres = count_genres(df)\n",
    "genre_counts"
   ]
  },
  {
   "cell_type": "code",
   "execution_count": 26,
   "metadata": {},
   "outputs": [
    {
     "name": "stdout",
     "output_type": "stream",
     "text": [
      "['Horror', 'Animation', 'Drama', 'Adventure', 'Comedy', 'Music', 'War', 'Mystery', 'Family', 'Science Fiction', 'Western', 'History', 'Romance', 'Action', 'Thriller', 'Crime', 'Foreign', 'TV Movie', 'Fantasy', 'Documentary']\n"
     ]
    }
   ],
   "source": [
    "print(unique_genres)"
   ]
  },
  {
   "cell_type": "code",
   "execution_count": 27,
   "metadata": {},
   "outputs": [
    {
     "data": {
      "text/html": [
       "<div>\n",
       "<style scoped>\n",
       "    .dataframe tbody tr th:only-of-type {\n",
       "        vertical-align: middle;\n",
       "    }\n",
       "\n",
       "    .dataframe tbody tr th {\n",
       "        vertical-align: top;\n",
       "    }\n",
       "\n",
       "    .dataframe thead th {\n",
       "        text-align: right;\n",
       "    }\n",
       "</style>\n",
       "<table border=\"1\" class=\"dataframe\">\n",
       "  <thead>\n",
       "    <tr style=\"text-align: right;\">\n",
       "      <th></th>\n",
       "      <th>tmdb_id</th>\n",
       "      <th>popularity</th>\n",
       "      <th>vote_average</th>\n",
       "      <th>vote_count</th>\n",
       "      <th>runtime</th>\n",
       "      <th>rating</th>\n",
       "      <th>year</th>\n",
       "    </tr>\n",
       "  </thead>\n",
       "  <tbody>\n",
       "    <tr>\n",
       "      <th>count</th>\n",
       "      <td>2610.000000</td>\n",
       "      <td>2610.000000</td>\n",
       "      <td>2610.000000</td>\n",
       "      <td>2610.000000</td>\n",
       "      <td>2610.000000</td>\n",
       "      <td>2610.000000</td>\n",
       "      <td>2610.000000</td>\n",
       "    </tr>\n",
       "    <tr>\n",
       "      <th>mean</th>\n",
       "      <td>13976.872797</td>\n",
       "      <td>9.595678</td>\n",
       "      <td>6.574023</td>\n",
       "      <td>782.794253</td>\n",
       "      <td>110.775862</td>\n",
       "      <td>3.486532</td>\n",
       "      <td>1992.096935</td>\n",
       "    </tr>\n",
       "    <tr>\n",
       "      <th>std</th>\n",
       "      <td>21744.483732</td>\n",
       "      <td>8.087959</td>\n",
       "      <td>0.895938</td>\n",
       "      <td>1322.397057</td>\n",
       "      <td>23.678065</td>\n",
       "      <td>0.935763</td>\n",
       "      <td>15.182049</td>\n",
       "    </tr>\n",
       "    <tr>\n",
       "      <th>min</th>\n",
       "      <td>5.000000</td>\n",
       "      <td>0.000603</td>\n",
       "      <td>0.000000</td>\n",
       "      <td>0.000000</td>\n",
       "      <td>0.000000</td>\n",
       "      <td>1.000000</td>\n",
       "      <td>1921.000000</td>\n",
       "    </tr>\n",
       "    <tr>\n",
       "      <th>25%</th>\n",
       "      <td>1835.000000</td>\n",
       "      <td>5.931711</td>\n",
       "      <td>6.000000</td>\n",
       "      <td>91.000000</td>\n",
       "      <td>96.000000</td>\n",
       "      <td>3.000000</td>\n",
       "      <td>1988.000000</td>\n",
       "    </tr>\n",
       "    <tr>\n",
       "      <th>50%</th>\n",
       "      <td>9612.500000</td>\n",
       "      <td>8.768547</td>\n",
       "      <td>6.700000</td>\n",
       "      <td>290.000000</td>\n",
       "      <td>107.000000</td>\n",
       "      <td>3.666667</td>\n",
       "      <td>1996.000000</td>\n",
       "    </tr>\n",
       "    <tr>\n",
       "      <th>75%</th>\n",
       "      <td>13596.500000</td>\n",
       "      <td>12.098665</td>\n",
       "      <td>7.200000</td>\n",
       "      <td>858.750000</td>\n",
       "      <td>121.000000</td>\n",
       "      <td>4.000000</td>\n",
       "      <td>2001.000000</td>\n",
       "    </tr>\n",
       "    <tr>\n",
       "      <th>max</th>\n",
       "      <td>266856.000000</td>\n",
       "      <td>185.070892</td>\n",
       "      <td>8.700000</td>\n",
       "      <td>14075.000000</td>\n",
       "      <td>392.000000</td>\n",
       "      <td>5.000000</td>\n",
       "      <td>2014.000000</td>\n",
       "    </tr>\n",
       "  </tbody>\n",
       "</table>\n",
       "</div>"
      ],
      "text/plain": [
       "             tmdb_id   popularity  vote_average    vote_count      runtime  \\\n",
       "count    2610.000000  2610.000000   2610.000000   2610.000000  2610.000000   \n",
       "mean    13976.872797     9.595678      6.574023    782.794253   110.775862   \n",
       "std     21744.483732     8.087959      0.895938   1322.397057    23.678065   \n",
       "min         5.000000     0.000603      0.000000      0.000000     0.000000   \n",
       "25%      1835.000000     5.931711      6.000000     91.000000    96.000000   \n",
       "50%      9612.500000     8.768547      6.700000    290.000000   107.000000   \n",
       "75%     13596.500000    12.098665      7.200000    858.750000   121.000000   \n",
       "max    266856.000000   185.070892      8.700000  14075.000000   392.000000   \n",
       "\n",
       "            rating         year  \n",
       "count  2610.000000  2610.000000  \n",
       "mean      3.486532  1992.096935  \n",
       "std       0.935763    15.182049  \n",
       "min       1.000000  1921.000000  \n",
       "25%       3.000000  1988.000000  \n",
       "50%       3.666667  1996.000000  \n",
       "75%       4.000000  2001.000000  \n",
       "max       5.000000  2014.000000  "
      ]
     },
     "execution_count": 27,
     "metadata": {},
     "output_type": "execute_result"
    }
   ],
   "source": [
    "df.describe()"
   ]
  },
  {
   "cell_type": "markdown",
   "metadata": {},
   "source": [
    "### Make movie selector function"
   ]
  },
  {
   "cell_type": "code",
   "execution_count": 28,
   "metadata": {},
   "outputs": [],
   "source": [
    "def selector(df, selected_genres, min_year, max_year):\n",
    "\n",
    "    important_columns = ['title', 'movie_genres', 'year', 'rating', 'runtime', 'overview', 'vote_average', 'vote_count']\n",
    "    # Filter by selected genres\n",
    "    genres_filter = df['movie_genres'].apply(lambda x: any(item for item in selected_genres if item in x))\n",
    "    df = df[genres_filter]\n",
    "    \n",
    "    # Filter by year\n",
    "    year_filter = (df['year'] >= min_year) & (df['year'] <= max_year)\n",
    "    df = df[year_filter]\n",
    "\n",
    "    min_rating =3\n",
    "    df = df[df['rating'] > min_rating]\n",
    "\n",
    "    df = df[important_columns]\n",
    "    \n",
    "    return df"
   ]
  },
  {
   "cell_type": "code",
   "execution_count": 29,
   "metadata": {},
   "outputs": [
    {
     "name": "stdout",
     "output_type": "stream",
     "text": [
      "(237, 8)\n"
     ]
    }
   ],
   "source": [
    "selected_genres = ['Comedy', 'Romance']\n",
    "min_year = 1995\n",
    "max_year = 2000\n",
    "\n",
    "subset = selector(df, selected_genres, min_year, max_year)\n",
    "print(subset.shape)"
   ]
  },
  {
   "cell_type": "code",
   "execution_count": 30,
   "metadata": {},
   "outputs": [
    {
     "data": {
      "text/html": [
       "<div>\n",
       "<style scoped>\n",
       "    .dataframe tbody tr th:only-of-type {\n",
       "        vertical-align: middle;\n",
       "    }\n",
       "\n",
       "    .dataframe tbody tr th {\n",
       "        vertical-align: top;\n",
       "    }\n",
       "\n",
       "    .dataframe thead th {\n",
       "        text-align: right;\n",
       "    }\n",
       "</style>\n",
       "<table border=\"1\" class=\"dataframe\">\n",
       "  <thead>\n",
       "    <tr style=\"text-align: right;\">\n",
       "      <th></th>\n",
       "      <th>title</th>\n",
       "      <th>movie_genres</th>\n",
       "      <th>year</th>\n",
       "      <th>rating</th>\n",
       "      <th>runtime</th>\n",
       "      <th>overview</th>\n",
       "      <th>vote_average</th>\n",
       "      <th>vote_count</th>\n",
       "    </tr>\n",
       "  </thead>\n",
       "  <tbody>\n",
       "    <tr>\n",
       "      <th>2</th>\n",
       "      <td>As Good as It Gets</td>\n",
       "      <td>Comedy_Romance</td>\n",
       "      <td>1997</td>\n",
       "      <td>3.538462</td>\n",
       "      <td>139</td>\n",
       "      <td>New York City. Melvin Udall, a cranky, bigoted...</td>\n",
       "      <td>7.2</td>\n",
       "      <td>946</td>\n",
       "    </tr>\n",
       "    <tr>\n",
       "      <th>13</th>\n",
       "      <td>Men in Black</td>\n",
       "      <td>Action_Adventure_Comedy_Science Fiction</td>\n",
       "      <td>1997</td>\n",
       "      <td>3.692308</td>\n",
       "      <td>98</td>\n",
       "      <td>Men in Black follows the exploits of agents Ka...</td>\n",
       "      <td>6.9</td>\n",
       "      <td>4521</td>\n",
       "    </tr>\n",
       "    <tr>\n",
       "      <th>17</th>\n",
       "      <td>Life Is Beautiful</td>\n",
       "      <td>Comedy_Drama</td>\n",
       "      <td>1997</td>\n",
       "      <td>4.000000</td>\n",
       "      <td>116</td>\n",
       "      <td>A touching story of an Italian book seller of ...</td>\n",
       "      <td>8.3</td>\n",
       "      <td>3643</td>\n",
       "    </tr>\n",
       "    <tr>\n",
       "      <th>29</th>\n",
       "      <td>The Big Lebowski</td>\n",
       "      <td>Comedy_Crime</td>\n",
       "      <td>1998</td>\n",
       "      <td>4.000000</td>\n",
       "      <td>117</td>\n",
       "      <td>Jeffrey \"The Dude\" Lebowski, a Los Angeles sla...</td>\n",
       "      <td>7.8</td>\n",
       "      <td>3001</td>\n",
       "    </tr>\n",
       "    <tr>\n",
       "      <th>30</th>\n",
       "      <td>The First Wives Club</td>\n",
       "      <td>Comedy</td>\n",
       "      <td>1996</td>\n",
       "      <td>3.625000</td>\n",
       "      <td>102</td>\n",
       "      <td>After years of helping their hubbies climb the...</td>\n",
       "      <td>6.5</td>\n",
       "      <td>172</td>\n",
       "    </tr>\n",
       "  </tbody>\n",
       "</table>\n",
       "</div>"
      ],
      "text/plain": [
       "                   title                             movie_genres  year  \\\n",
       "2     As Good as It Gets                           Comedy_Romance  1997   \n",
       "13          Men in Black  Action_Adventure_Comedy_Science Fiction  1997   \n",
       "17     Life Is Beautiful                             Comedy_Drama  1997   \n",
       "29      The Big Lebowski                             Comedy_Crime  1998   \n",
       "30  The First Wives Club                                   Comedy  1996   \n",
       "\n",
       "      rating  runtime                                           overview  \\\n",
       "2   3.538462      139  New York City. Melvin Udall, a cranky, bigoted...   \n",
       "13  3.692308       98  Men in Black follows the exploits of agents Ka...   \n",
       "17  4.000000      116  A touching story of an Italian book seller of ...   \n",
       "29  4.000000      117  Jeffrey \"The Dude\" Lebowski, a Los Angeles sla...   \n",
       "30  3.625000      102  After years of helping their hubbies climb the...   \n",
       "\n",
       "    vote_average  vote_count  \n",
       "2            7.2         946  \n",
       "13           6.9        4521  \n",
       "17           8.3        3643  \n",
       "29           7.8        3001  \n",
       "30           6.5         172  "
      ]
     },
     "execution_count": 30,
     "metadata": {},
     "output_type": "execute_result"
    }
   ],
   "source": [
    "subset.head()"
   ]
  },
  {
   "cell_type": "markdown",
   "metadata": {},
   "source": [
    "### Create custom Langchain tool for movie selection"
   ]
  },
  {
   "cell_type": "markdown",
   "metadata": {},
   "source": [
    "![movie-bot](images/movie-bot.png)"
   ]
  },
  {
   "cell_type": "code",
   "execution_count": 31,
   "metadata": {},
   "outputs": [],
   "source": [
    "### Langchain imports\n",
    "from langchain_core.prompts import ChatPromptTemplate, MessagesPlaceholder, PromptTemplate\n",
    "from langchain.chains import LLMChain\n",
    "from langchain_community.tools import tool\n",
    "from langchain.agents import AgentExecutor, create_openai_tools_agent\n",
    "from langchain_openai.chat_models import ChatOpenAI\n",
    "from langchain.memory import ChatMessageHistory\n",
    "from langchain_core.messages import SystemMessage, AIMessage, HumanMessage\n",
    "from langchain_core.runnables.history import RunnableWithMessageHistory"
   ]
  },
  {
   "cell_type": "code",
   "execution_count": 32,
   "metadata": {},
   "outputs": [],
   "source": [
    "class MovieSelectionTool():\n",
    "\n",
    "  @tool(\"Movie_Selector\")\n",
    "  def movie_selector(data):\n",
    "    \"\"\"Call this tool to get a list of movies that match the user's criteria.\n",
    "       The input to this tool is a movie genres, min and max year of the movie.\n",
    "       All genres should be pipe sepearated and years should be / separated. \n",
    "       Example if the user is look for comedy and drama from 1990 to 2000, then input should be `Comedy|Drama/1990/2000`\n",
    "       Example if the user is looking for Romance, Family and Animation from 1995 to 2005 then input should be: Romance|Family|Animation/1995/2005\n",
    "       The output from this tool will be all the movies that match that criteria\n",
    "    \"\"\"\n",
    "    try:\n",
    "      genres_piped, min_year, max_year = data.split('/')\n",
    "      min_year = int(min_year)\n",
    "      max_year = int(max_year)\n",
    "      genres = genres_piped.split('|')\n",
    "\n",
    "      print(f\"Tool Run with inputs: Genres: {genres}  Min Year: {min_year}  Max Year: {max_year}\")\n",
    "\n",
    "      ## Step 1: Load CSV\n",
    "      important_columns = ['title', 'movie_genres', 'year', 'rating', 'overview']\n",
    "      df = pd.read_csv('data/movie_ratings.csv')\n",
    "      df = df.dropna()\n",
    "      df = df[important_columns]\n",
    "\n",
    "      ## Step 2: Filter based on criteria\n",
    "      #### Filter by selected genres\n",
    "      genres_filter = df['movie_genres'].apply(lambda x: any(item for item in selected_genres if item in x))\n",
    "      df = df[genres_filter]\n",
    "      #### Filter by year\n",
    "      year_filter = (df['year'] >= min_year) & (df['year'] <= max_year)\n",
    "      df = df[year_filter]\n",
    "      ### Filter by rating\n",
    "      min_rating =3\n",
    "      df = df[df['rating'] >= min_rating]\n",
    "\n",
    "\n",
    "      ##Step 3: Sort DF by number of matched genres\n",
    "      df['matched_genres'] = df['movie_genres'].apply(lambda x: len([item for item in genres if item in x]))\n",
    "      df.sort_values(by='matched_genres', ascending=False, inplace=True)\n",
    "      df = df.head(100)\n",
    "\n",
    "      ## Step 4: Create data for loading in the model\n",
    "      text_to_llm = ''\n",
    "      for index, row in df.iterrows():\n",
    "        text_to_llm += f\"--- Movie Title {row['title']} --- \"\n",
    "        text_to_llm += f\"--- Movie Plot {row['overview']} --- \"\n",
    "        text_to_llm += f\"--- Movie Genres {row['movie_genres']} ---\"\n",
    "        text_to_llm += f\"--- Movie Release Year {row['year']} ---\"\n",
    "        text_to_llm += f\"--- Movie Rating {row['rating']} ---\"\n",
    "        text_to_llm += '\\n'\n",
    "      \n",
    "      return text_to_llm\n",
    "    except Exception as e:\n",
    "      print(e)\n",
    "      return \"Error with the input format for the tool.\"\n",
    "    "
   ]
  },
  {
   "cell_type": "code",
   "execution_count": 33,
   "metadata": {},
   "outputs": [
    {
     "name": "stdout",
     "output_type": "stream",
     "text": [
      "Movie_Selector Call this tool to get a list of movies that match the user's criteria.\n",
      "       The input to this tool is a movie genres, min and max year of the movie.\n",
      "       All genres should be pipe sepearated and years should be / separated. \n",
      "       Example if the user is look for comedy and drama from 1990 to 2000, then input should be `Comedy|Drama/1990/2000`\n",
      "       Example if the user is looking for Romance, Family and Animation from 1995 to 2005 then input should be: Romance|Family|Animation/1995/2005\n",
      "       The output from this tool will be all the movies that match that criteria\n"
     ]
    }
   ],
   "source": [
    "movie_tool = MovieSelectionTool.movie_selector\n",
    "print(movie_tool.name, movie_tool.description)"
   ]
  },
  {
   "cell_type": "code",
   "execution_count": 34,
   "metadata": {},
   "outputs": [
    {
     "name": "stdout",
     "output_type": "stream",
     "text": [
      "Tool Run with inputs: Genres: ['Romance', 'Family', 'Animation']  Min Year: 1995  Max Year: 2005\n",
      "--- Movie Title A Goofy Movie --- --- Movie Plot Though Goofy always means well, his amiable cluelessness and klutzy pratfalls regularly embarrass his awkward adolescent son, Max. When Max's lighthearted prank on his high-school principal finally gets his longtime crush, Roxanne, to notice him, he asks her on a date. Max's trouble at school convinces Goofy that he and the boy need to bond over a cross-country fishing trip like the one he took with his dad when he was Max's age, which throws a kink in his son's plans to impress Roxanne. --- --- Movie Genres Romance_Animation_Family_Comedy_Adventure ------ Movie Release Year 1995 ------ Movie Rating 4.0 ---\n",
      "--- Movie Title Hercules --- --- Movie Plot Bestowed with superhuman strength, a young mortal named Hercules sets out to prove himself a hero in the eyes of his father, the great god Zeus. Along with his friends Pegasus, a flying horse, and Phil, a personal trainer, Hercules is tricked by the hilarious, hotheaded villain Hades, who's plotting to take over Mount Olympus! --- --- Movie Genres Animation_Family_Fantasy_Adventure_Comedy_Romance ------ Movie Release Year 1997 ------ Movie Rating 3.0 ---\n",
      "--- Movie Title Monsters, Inc. --- --- Movie Plot James Sullivan and Mike Wazowski are monsters, they earn their living scaring children and are the best in the business... even though they're more afraid of the children than they are of them. When a child accidentally enters their world, James and Mike suddenly find that kids are not to be afraid of and they uncover a conspiracy that could threaten all children across the world. --- --- Movie Genres Animation_Comedy_Family ------ Movie Release Year 2001 ------ Movie Rating 3.5 ---\n",
      "--- Movie Title A Close Shave --- --- Movie Plot Wallace falls in love with wool-shop owner Wendolene, not suspecting that she (or rather, her dog) is at the head of a fiendish sheep-rustling plot. Gromit is set up and jailed, but his new-found sheepish friend is determine to give Wallace a helping hand in finding out the real truth. --- --- Movie Genres Family_Animation_Comedy ------ Movie Release Year 1995 ------ Movie Rating 4.5 ---\n",
      "--- Movie Title Antz --- --- Movie Plot In this animated hit, a neurotic worker ant in love with a rebellious princess rises to unlikely stardom when he switches places with a soldier. Signing up to march in a parade, he ends up under the command of a bloodthirsty general. But he's actually been enlisted to fight against a termite army. --- --- Movie Genres Adventure_Animation_Comedy_Family ------ Movie Release Year 1998 ------ Movie Rating 3.0 ---\n",
      "--- Movie Title Shrek 2 --- --- Movie Plot Shrek, Fiona and Donkey set off to Far, Far Away to meet Fiona's mother and father. But not everyone is happy. Shrek and the King find it hard to get along, and there's tension in the marriage. The fairy godmother discovers that Shrek has married Fiona instead of her Son Prince Charming and sets about destroying their marriage. --- --- Movie Genres Adventure_Animation_Comedy_Family_Fantasy ------ Movie Release Year 2004 ------ Movie Rating 4.25 ---\n",
      "--- Movie Title Space Jam --- --- Movie Plot In a desperate attempt to win a basketball match and earn their freedom, the Looney Tunes seek the aid of retired basketball champion, Michael Jordan. --- --- Movie Genres Animation_Comedy_Drama_Family_Fantasy ------ Movie Release Year 1996 ------ Movie Rating 3.142857142857143 ---\n",
      "--- Movie Title Save the Last Dance --- --- Movie Plot A white midwestern girl moves to Chicago, where her new boyfriend is a black teen from the South Side with a rough, semi-criminal past. --- --- Movie Genres Drama_Family_Romance_Music ------ Movie Release Year 2001 ------ Movie Rating 4.0 ---\n",
      "--- Movie Title Chicken Run --- --- Movie Plot Having been hopelessly repressed and facing eventual certain death at the British chicken farm where they are held, Rocky the american rooster and Ginger the chicken decide to rebel against the evil Mr. and Mrs. Tweedy, the farm's owners. Rocky and Ginger lead their fellow chickens in a great escape from the murderous farmers and their farm of doom. --- --- Movie Genres Animation_Comedy_Family ------ Movie Release Year 2000 ------ Movie Rating 4.333333333333333 ---\n",
      "--- Movie Title The Emperor's New Groove --- --- Movie Plot Kuzco is a self-centered emperor who summons Pacha from a village and to tell him that his home will be destroyed to make room for Kuzco's new summer home. Kuzco's advisor, Yzma, tries to poison Kuzco and accidentally turns him into a llama, who accidentally ends up in Pacha's village. Pacha offers to help Kuzco if he doesn't destroy his house, and so they form an unlikely partnership. --- --- Movie Genres Adventure_Animation_Comedy_Family_Fantasy ------ Movie Release Year 2000 ------ Movie Rating 3.5 ---\n",
      "--- Movie Title The Road to El Dorado --- --- Movie Plot After a failed swindle, two con-men end up with a map to El Dorado, the fabled \"city of gold,\" and an unintended trip to the New World.  Much to their surprise, the map does lead the pair to the mythical city, where the startled inhabitants promptly begin to worship them as gods.  The only question is, do they take the worshipful natives for all they're worth, or is there a bit more to El Dorado than riches? --- --- Movie Genres Adventure_Animation_Comedy_Family ------ Movie Release Year 2000 ------ Movie Rating 3.0 ---\n",
      "--- Movie Title Angus --- --- Movie Plot Angus is a large, pathetic 14 year old whose thoughts are most often filled with the image of one Melissa Lefevre. Angus is shy and thinks that he has no chance of ever 'getting' her. Being especially uncool, he is incredibly surprised (along with the rest of the school) that he is chosen to dance with her at the Winter Ball. The only one not surprised is the cool-kid who set him up to fail, but Angus' best friend is going to help him win the heart of Melissa by developing a new look for him --- --- Movie Genres Comedy_Drama_Family_Romance ------ Movie Release Year 1995 ------ Movie Rating 3.0 ---\n",
      "--- Movie Title Shrek --- --- Movie Plot It ain't easy bein' green -- especially if you're a likable (albeit smelly) ogre named Shrek. On a mission to retrieve a gorgeous princess from the clutches of a fire-breathing dragon, Shrek teams up with an unlikely compatriot -- a wisecracking donkey. --- --- Movie Genres Adventure_Animation_Comedy_Family_Fantasy ------ Movie Release Year 2001 ------ Movie Rating 3.647058823529412 ---\n",
      "--- Movie Title Ice Age --- --- Movie Plot With the impending ice age almost upon them, a mismatched trio of prehistoric critters – Manny the woolly mammoth, Diego the saber-toothed tiger and Sid the giant sloth – find an orphaned infant and decide to return it to its human parents. Along the way, the unlikely allies become friends but, when enemies attack, their quest takes on far nobler aims. --- --- Movie Genres Animation_Comedy_Family_Adventure ------ Movie Release Year 2002 ------ Movie Rating 3.6666666666666665 ---\n",
      "--- Movie Title The Evening Star --- --- Movie Plot Continuing the story of Aurora Greenway in her latter years. After the death of her daughter, Aurora struggled to keep her family together, but has one grandson in jail, a rebellious granddaughter, and another grandson living just above the poverty line. --- --- Movie Genres Drama_Romance_Family_Comedy ------ Movie Release Year 1996 ------ Movie Rating 3.0 ---\n",
      "--- Movie Title The Curse of the Were-Rabbit --- --- Movie Plot Cheese-loving eccentric Wallace and his cunning canine pal, Gromit, investigate a mystery in Nick Park's animated adventure, in which the lovable inventor and his intrepid pup run a business ridding the town of garden pests. Using only humane methods that turn their home into a halfway house for evicted vermin, the pair stumble upon a mystery involving a voracious vegetarian monster that threatens to ruin the annual veggie-growing contest. --- --- Movie Genres Adventure_Animation_Comedy_Family ------ Movie Release Year 2005 ------ Movie Rating 4.0 ---\n",
      "--- Movie Title Jimmy Neutron: Boy Genius --- --- Movie Plot Jimmy Neutron is a boy genius and way ahead of his friends, but when it comes to being cool, he's a little behind. All until one day when his parents, and parents all over Earth are kidnapped by aliens, it's up to him to lead all the children of the world to rescue their parents. --- --- Movie Genres Action_Adventure_Animation_Comedy_Family_Fantasy_Science Fiction ------ Movie Release Year 2001 ------ Movie Rating 4.0 ---\n",
      "--- Movie Title Toy Story --- --- Movie Plot Led by Woody, Andy's toys live happily in his room until Andy's birthday brings Buzz Lightyear onto the scene. Afraid of losing his place in Andy's heart, Woody plots against Buzz. But when circumstances separate Buzz and Woody from their owner, the duo eventually learns to put aside their differences. --- --- Movie Genres Animation_Comedy_Family ------ Movie Release Year 1995 ------ Movie Rating 4.0588235294117645 ---\n",
      "--- Movie Title A Bug's Life --- --- Movie Plot On behalf of \"oppressed bugs everywhere,\" an inventive ant named Flik hires a troupe of warrior bugs to defend his bustling colony from a horde of freeloading grasshoppers led by the evil-minded Hopper. --- --- Movie Genres Adventure_Animation_Comedy_Family ------ Movie Release Year 1998 ------ Movie Rating 4.083333333333333 ---\n",
      "--- Movie Title Toy Story 2 --- --- Movie Plot Andy heads off to Cowboy Camp, leaving his toys to their own devices. Things shift into high gear when an obsessive toy collector named Al McWhiggen, owner of Al's Toy Barn kidnaps Woody. Andy's toys mount a daring rescue mission, Buzz Lightyear meets his match and Woody has to decide where he and his heart truly belong. --- --- Movie Genres Animation_Comedy_Family ------ Movie Release Year 1999 ------ Movie Rating 4.0 ---\n",
      "--- Movie Title Circle of Friends --- --- Movie Plot 'Circle Of Friends' is set in 1950's Ireland. The movie focuses on Benny Hogan and her best friend, Eve Malone. The story centers around Benny and Eve as they enter student life at University College, Dublin. Here Benny and Eve reunite with their childhood friend, the ice-cool Nan Mahon, the 'college belle'. They also encounter the handsome and charming Jack Foley, whom Benny quickly falls for. --- --- Movie Genres Drama_Family_Romance ------ Movie Release Year 1995 ------ Movie Rating 4.0 ---\n",
      "--- Movie Title Dr. Dolittle 2 --- --- Movie Plot Dr. John Dolittle the beloved doctor is back, but this time around he plays cupid to bumbling circus bear Archie as he's so smitten by a Pacific Western bear female, Ava. Dr. Dolittle must help a group of forest creatures to save their forest. But with the aid of his mangy, madcap animal friends, Dr. Dolittle must teach Archie the ways of true romance in time to save his species and his home before their habit is gone. So John held a meeting for every animal in the forest to not give up without a fight no matter what kind of animal expression they have and everyone agrees to do it and save their home. --- --- Movie Genres Comedy_Family_Romance_Fantasy ------ Movie Release Year 2001 ------ Movie Rating 3.0 ---\n",
      "--- Movie Title Loser --- --- Movie Plot On a university scholarship, a good natured student from the midwest gets a crash course in city life while dealing with three evil roommates. He befriends a virtually homeless college student whom he falls for, but she's dating a nasty professor. --- --- Movie Genres Drama_Comedy_Romance_Family ------ Movie Release Year 2000 ------ Movie Rating 3.6666666666666665 ---\n",
      "--- Movie Title Nico and Dani --- --- Movie Plot A Spanish coming of age story focusing on the antics of two 17 year olds, who have a posh beach house almost all to themselves one summer. This is also a summer of sexual awakenings. --- --- Movie Genres Drama_Comedy_Romance ------ Movie Release Year 2000 ------ Movie Rating 4.0 ---\n",
      "--- Movie Title Broken Flowers --- --- Movie Plot As the devoutly single Don Johnston is dumped by his latest girlfriend, he receives an anonymous pink letter informing him that he has a son who may be looking for him. --- --- Movie Genres Comedy_Drama_Mystery_Romance ------ Movie Release Year 2005 ------ Movie Rating 3.0 ---\n",
      "--- Movie Title Match Point --- --- Movie Plot Match Point is Woody Allen’s satire of the British High Society and the ambition of a young tennis instructor to enter into it. Yet when he must decide between two women - one assuring him his place in high society, and the other that would bring him far from it - palms start to sweat and a dark psychological match in his head begins. --- --- Movie Genres Drama_Thriller_Crime_Romance ------ Movie Release Year 2005 ------ Movie Rating 5.0 ---\n",
      "--- Movie Title Man on the Moon --- --- Movie Plot A film about the life and career of the eccentric avant-garde comedian, Andy Kaufman. --- --- Movie Genres Comedy_Drama_Romance ------ Movie Release Year 1999 ------ Movie Rating 3.3333333333333335 ---\n",
      "--- Movie Title Chocolat --- --- Movie Plot A fable of emotional liberation and chocolate. A mother and daughter move to a small French town where they open a chocolate shop. The town, religious and morally strict, is against them as they represent free-thinking and indulgence. When a group of Boat Gypsies float down the river the prejudices of the Mayor leads to a crisis. --- --- Movie Genres Comedy_Drama_Romance ------ Movie Release Year 2000 ------ Movie Rating 3.5 ---\n",
      "--- Movie Title What Women Want --- --- Movie Plot Advertising executive Nick Marshall is as cocky as they come, but what happens to a chauvinistic guy when he can suddenly hear what women are thinking? Nick gets passed over for a promotion, but after an accident enables him to hear women's thoughts, he puts his newfound talent to work against Darcy, his new boss, who seems to be infatuated with him. --- --- Movie Genres Comedy_Romance ------ Movie Release Year 2000 ------ Movie Rating 3.0 ---\n",
      "--- Movie Title The Parent Trap --- --- Movie Plot Hallie Parker and Annie James are identical twins separated at a young age because of their parents' divorce. unknowingly to their parents, the girls are sent to the same summer camp where they meet, discover the truth about themselves, and then plot with each other to switch places. Hallie meets her mother, and Annie meets her father for the first time in years. --- --- Movie Genres Comedy_Drama_Family ------ Movie Release Year 1998 ------ Movie Rating 4.0 ---\n",
      "--- Movie Title Addicted to Love --- --- Movie Plot Good-natured astronomer Sam is devastated when the love of his life, Linda, leaves him for a suave Frenchman named Anton. He therefore does what every other normal dumpee would do; go to New York and set up home in the abandoned building opposite his ex-girlfriend's apartment, intent on winning her back and waiting until she decides to leave her current lover. --- --- Movie Genres Comedy_Romance ------ Movie Release Year 1997 ------ Movie Rating 3.6666666666666665 ---\n",
      "--- Movie Title Tiptoes --- --- Movie Plot A man is reluctant to tell his fiancee that his parents, uncle and brother are dwarfs. --- --- Movie Genres Comedy_Drama_Romance ------ Movie Release Year 2003 ------ Movie Rating 3.0 ---\n",
      "--- Movie Title Les Misérables --- --- Movie Plot Jean Valjean, a Frenchman imprisoned for stealing bread, must flee a police officer named Javert. The pursuit consumes both men's lives, and soon Valjean finds himself in the midst of the student revolutions in France. --- --- Movie Genres Crime_Drama_History_Romance ------ Movie Release Year 1998 ------ Movie Rating 4.666666666666667 ---\n",
      "--- Movie Title Stealing Beauty --- --- Movie Plot Lucy Harmon, an American teenager is arriving in the lush Tuscan countryside to be sculpted by a family friend who lives in a beautiful villa. Lucy visited there four years earlier and exchanged a kiss with an Italian boy with whom she hopes to become reacquainted. --- --- Movie Genres Drama_Romance ------ Movie Release Year 1996 ------ Movie Rating 3.5 ---\n",
      "--- Movie Title Bridget Jones's Diary --- --- Movie Plot A chaotic Bridget Jones meets a snobbish lawyer, and he soon enters her world of imperfections. --- --- Movie Genres Comedy_Romance_Drama ------ Movie Release Year 2001 ------ Movie Rating 3.0 ---\n",
      "--- Movie Title The American President --- --- Movie Plot Widowed U.S. president Andrew Shepherd, one of the world's most powerful men, can have anything he wants -- and what he covets most is Sydney Ellen Wade, a Washington lobbyist. But Shepherd's attempts at courting her spark wild rumors and decimate his approval ratings. --- --- Movie Genres Comedy_Drama_Romance ------ Movie Release Year 1995 ------ Movie Rating 3.75 ---\n",
      "--- Movie Title Waiting to Exhale --- --- Movie Plot Cheated on, mistreated and stepped on, the women are holding their breath, waiting for the elusive \"good man\" to break a string of less-than-stellar lovers. Friends and confidants Vannah, Bernie, Glo and Robin talk it all out, determined to find a better way to breathe. --- --- Movie Genres Comedy_Drama_Romance ------ Movie Release Year 1995 ------ Movie Rating 3.0 ---\n",
      "--- Movie Title Jeffrey --- --- Movie Plot Jeffery, a young gay man in New York, decides that sex is too much and decided to become celibate. He immediately meets the man of his dreams and must decide whether or not love is worth the danger of a boyfriend dying. --- --- Movie Genres Comedy_Drama_Romance ------ Movie Release Year 1995 ------ Movie Rating 3.5 ---\n",
      "--- Movie Title Angels and Insects --- --- Movie Plot In Victorian England, wealthy patriarch Sir Harald Alabaster invites an impoverished biologist, William Adamson, into his home. There, William tries to continue his work, but is distracted by Alabaster's seductive daughter, Eugenia. William and Eugenia begin a torrid romance, but as the couple become closer, the young scientist begins to realize that dark, disturbing things are happening behind the closed doors of the Alabaster manor. --- --- Movie Genres Drama_Romance ------ Movie Release Year 1995 ------ Movie Rating 4.0 ---\n",
      "--- Movie Title Garden State --- --- Movie Plot Andrew returns to his hometown for the funeral of his mother, a journey that reconnects him with past friends. The trip coincides with his decision to stop taking his powerful antidepressants. A chance meeting with Sam - a girl also suffering from various maladies - opens up the possibility of rekindling emotional attachments, confronting his psychologist father, and perhaps beginning a new life. --- --- Movie Genres Comedy_Drama_Romance ------ Movie Release Year 2004 ------ Movie Rating 4.25 ---\n",
      "--- Movie Title Happy Together --- --- Movie Plot Lai and his boyfriend, Ho, arrive in Argentina from Hong Kong, seeking a better life. Their highly contentious relationship turns abusive and results in numerous break-ups and reconciliations. When Lai befriends another man, Chang, he sees the futility of continuing with the promiscuous Ho. Chang, however, is on his own personal journey and, ultimately, both Lai and Ho find themselves far from home and desperately lonely. --- --- Movie Genres Drama_Romance ------ Movie Release Year 1997 ------ Movie Rating 5.0 ---\n",
      "--- Movie Title Bed of Roses --- --- Movie Plot The seeds of love are planted when Lisa, a high-powered investment banker, receives flowers from a secret admirer. But when his fairy-tale fantasies clash with her workaholic ways, they soon find out that sometimes, it's harder than it seems for love to conquer all. --- --- Movie Genres Drama_Romance ------ Movie Release Year 1996 ------ Movie Rating 3.4 ---\n",
      "--- Movie Title Why Do Fools Fall In Love --- --- Movie Plot In the mid-80s, three women (each with an attorney) arrive at the office of New York entertainment manager, Morris Levy. One is an L.A. singer, formerly of the Platters; one is a petty thief from Philly; one teaches school in a small Georgia town. Each claims to be the widow of long-dead doo-wop singer-songwriter Frankie Lyman, and each wants years of royalties due to his estate, money Levy has never shared. During an ensuing civil trial, flashbacks tell the story of each one's life with Lyman, a boyish, high-pitched, dynamic performer, lost to heroin. Slowly, the three wives establish their own bond. --- --- Movie Genres Drama_Romance ------ Movie Release Year 1998 ------ Movie Rating 4.0 ---\n",
      "--- Movie Title As Good as It Gets --- --- Movie Plot New York City. Melvin Udall, a cranky, bigoted, obsessive-compulsive writer, finds his life turned upside down when neighboring gay artist Simon is hospitalized and his dog is entrusted to Melvin. In addition, Carol, the only waitress who will tolerate him, must leave work to care for her sick son, making it impossible for Melvin to eat breakfast. --- --- Movie Genres Comedy_Romance ------ Movie Release Year 1997 ------ Movie Rating 3.5384615384615383 ---\n",
      "--- Movie Title Shallow Hal --- --- Movie Plot A shallow man falls in love with a 300 pound woman because of her \"inner beauty\". --- --- Movie Genres Comedy_Romance ------ Movie Release Year 2001 ------ Movie Rating 4.0 ---\n",
      "--- Movie Title Monster's Ball --- --- Movie Plot Set in the southern USA, a racist white man, Hank, falls in love with a black woman named Leticia. Ironically, Hank is a prison guard working on Death Row who executed Leticia's husband. Hank and Leticia's inter-racial affair leads to confusion and new ideas for the two unlikely lovers. --- --- Movie Genres Drama_Romance ------ Movie Release Year 2001 ------ Movie Rating 3.0 ---\n",
      "--- Movie Title The Brothers --- --- Movie Plot This is the story of four African-American \"yuppies\" (a banker, a doctor, a lawyer, and a \"playboy\") who call themselves \"The Brothers\". When the playboy gets engaged, the other three friends find themselves having to come to terms with their own issues of commitment and honesty... --- --- Movie Genres Comedy_Drama_Romance ------ Movie Release Year 2001 ------ Movie Rating 3.0 ---\n",
      "--- Movie Title Phenomenon --- --- Movie Plot An ordinary man sees a bright light descend from the sky, and discovers he now has super-intelligence and telekinesis. --- --- Movie Genres Drama_Fantasy_Romance_Science Fiction ------ Movie Release Year 1996 ------ Movie Rating 3.636363636363636 ---\n",
      "--- Movie Title You Can Count on Me --- --- Movie Plot A single mother's life is thrown into turmoil after her struggling, rarely-seen younger brother returns to town. --- --- Movie Genres Drama_Romance ------ Movie Release Year 2000 ------ Movie Rating 4.0 ---\n",
      "--- Movie Title Sliding Doors --- --- Movie Plot Gwyneth Paltrow plays London publicist Helen, effortlessly sliding between parallel storylines that show what happens if she does or does not catch a train back to her apartment. Love. Romantic entanglements. Deception. Trust. Friendship. Comedy. All come into focus as the two stories shift back and forth, overlap and surprisingly converge. --- --- Movie Genres Comedy_Drama_Fantasy_Romance ------ Movie Release Year 1998 ------ Movie Rating 3.1666666666666665 ---\n",
      "--- Movie Title In America --- --- Movie Plot An Irish immigrant family adjusts to life in the United States, a chance to get over the lost son. They have no money and the apartment is in bad condition. --- --- Movie Genres Drama_Romance ------ Movie Release Year 2003 ------ Movie Rating 4.0 ---\n",
      "--- Movie Title Before Sunset --- --- Movie Plot Nine years ago two strangers met by chance and spent a night in Vienna that ended before sunrise. They are about to meet for the first time since. Now they have one afternoon to find out if they belong together. --- --- Movie Genres Drama_Romance ------ Movie Release Year 2004 ------ Movie Rating 3.0 ---\n",
      "--- Movie Title About a Boy --- --- Movie Plot Will Freeman is a hip Londoner who one day realizes that his friends are all involved with the responsibilities of married life and that leaves him alone in the cold. Passing himself off as a single father, he starts to meet a string of single mums, confident in his ability to leave them behind when they start to ask for a commitment. But Will's hope of a continued bachelorhood is interrupted when he meets 12-year old Marcus, in many ways his complete opposite. --- --- Movie Genres Drama_Comedy_Romance ------ Movie Release Year 2002 ------ Movie Rating 4.0 ---\n",
      "--- Movie Title Hitch --- --- Movie Plot Dating coach Alex 'Hitch' Hitchens mentors a bumbling client, Albert, who hopes to win the heart of the glamorous Allegra Cole. While Albert makes progress, Hitch faces his own romantic setbacks when proven techniques fail to work on Sara Melas, a tabloid reporter digging for dirt on Allegra Cole's love life. When Sara discovers Hitch's connection to Albert – now Allegra's boyfriend – it threatens to destroy both relationships. --- --- Movie Genres Comedy_Drama_Romance ------ Movie Release Year 2005 ------ Movie Rating 4.0 ---\n",
      "--- Movie Title Guinevere --- --- Movie Plot A young girl from an affluent family rebels and becomes involved with a much older photographer. --- --- Movie Genres Drama_Romance ------ Movie Release Year 1999 ------ Movie Rating 4.0 ---\n",
      "--- Movie Title Thieves --- --- Movie Plot In the middle of the night, someone brings Ivan's body home to his wife and his sad-faced, jug-eared son. Through flashbacks, the film discloses the relationships among Ivan and his brother Alex, a cop with a cleanliness fetish; siblings Juliette and Jimmy, Ivan's partners in a seedy nightclub; the love triangle of Alex, Juliette, and Marie, a professor of philosophy; and of Alex and his nephew, Ivan's dour, stoic son. Ivan's death changes every relationship. --- --- Movie Genres Romance_Crime_Drama ------ Movie Release Year 1996 ------ Movie Rating 4.0 ---\n",
      "--- Movie Title Jane Eyre --- --- Movie Plot Jane Eyre is an orphan cast out as a young girl by her aunt, Mrs. Reed, and sent to be raised in a harsh charity school for girls. There she learns to be come a teacher and eventually seeks employment outside the school. Her advertisement is answered by the housekeeper of Thornfield Hall, Mrs. Fairfax. --- --- Movie Genres Drama_Romance ------ Movie Release Year 1996 ------ Movie Rating 4.0 ---\n",
      "--- Movie Title Romeo + Juliet --- --- Movie Plot In director Baz Luhrmann's contemporary take on William Shakespeare's classic tragedy, the Montagues and Capulets have moved their ongoing feud to the sweltering suburb of Verona Beach, where Romeo and Juliet fall in love and secretly wed. Though the film is visually modern, the bard's dialogue remains. --- --- Movie Genres Drama_Romance ------ Movie Release Year 1996 ------ Movie Rating 3.6666666666666665 ---\n",
      "--- Movie Title Houseguest --- --- Movie Plot In hot water with the mob over an unpaid debt, a con man poses as a family friend in an affluent Pennsylvania suburb. --- --- Movie Genres Comedy_Family ------ Movie Release Year 1995 ------ Movie Rating 3.0 ---\n",
      "--- Movie Title Flirting with Disaster --- --- Movie Plot Adopted as a child, new father Mel Colpin (Ben Stiller) decides he cannot name his son until he knows his birth parents, and determines to make a cross-country quest to find them. Accompanied by his wife, Nancy (Patricia Arquette), and an inept yet gorgeous adoption agent, Tina (Tea Leoni), he departs on an epic road trip that quickly devolves into a farce of mistaken identities, wrong turns, and overzealous and love-struck ATF agents (Josh Brolin, Richard Jenkins). --- --- Movie Genres Comedy_Romance ------ Movie Release Year 1996 ------ Movie Rating 3.0 ---\n",
      "--- Movie Title Mr. Jealousy --- --- Movie Plot After his first date at age 15 ended with the girl making out with another man at a party, aspiring writer Lester Grimm has treated all his girlfriends with jealousy and suspicion. While dating Ramona Ray, paranoia gets the best of him when he discovers that her most recent ex is successful novelist Dashiell Frank. Lester begins attending the same group therapy sessions as Dashiell to learn about Ramona's past with him. --- --- Movie Genres Comedy_Romance ------ Movie Release Year 1997 ------ Movie Rating 4.0 ---\n",
      "--- Movie Title Sgt. Bilko --- --- Movie Plot The army is known for churning out lean mean fighting machines intent on protecting our great nation. Martin is the inexplicable the incorrigible the invicible sgt. Ernie bilko leader of a ragtag group of the sorriest soldiers ever to enlist in the armed forces. --- --- Movie Genres Comedy_Family ------ Movie Release Year 1996 ------ Movie Rating 3.3333333333333335 ---\n",
      "--- Movie Title How To Make An American Quilt --- --- Movie Plot Soon-to-be-wed graduate student Finn Dodd develops cold feet when she suspects her fiancé is cheating on her. In order to clear her head, Finn visits her grandmother, Hy, and great aunt, Glady Joe Cleary, in Grasse, Calif. There, Finn learns that Hy and Glady Joe are members of a group of passionate quilters, and over the course of her visit she is regaled with tales of love and life by women who have collected rich experiences and much wisdom. --- --- Movie Genres Drama_Romance ------ Movie Release Year 1995 ------ Movie Rating 4.0 ---\n",
      "--- Movie Title Love Actually --- --- Movie Plot Follows seemingly unrelated people as their lives begin to intertwine while they fall in – and out – of love. Affections languish and develop as Christmas draws near. --- --- Movie Genres Comedy_Romance_Drama ------ Movie Release Year 2003 ------ Movie Rating 4.0 ---\n",
      "--- Movie Title Wedding Bell Blues --- --- Movie Plot Micki, Tanya and Jasmine have 24 hours to get divorced. There's just one problem...They're still single.  When Jasmine, Tanya and Micki decide they'd rather be divorced than unmarried, they take off to Las Vegas in search of the perfect ex. In the tangled web that follows, Micki lassos a cowboy, Tanya acquires a rich businessman, and Jasmine finds true love in the arms of a regular guy. The result is an outrageous comedy of love, marriage and misadventure.  As intelligent as it is absurd, Wedding Bell Blues pokes great fun at the twists and turns of modern love, with outstanding performances from a talented young cast, including Illeana Douglas, Paulina Porizkova and Julie Warner, it is without a doubt one of the year's most hilarious movies. --- --- Movie Genres Comedy_Romance ------ Movie Release Year 1996 ------ Movie Rating 5.0 ---\n",
      "--- Movie Title The Cooler --- --- Movie Plot (William H. Macy) works at a Las Vegas casino, where he uses his innate ability to bring about misfortune in those around him to jinx gamblers into losing. His imposing boss, Shelly Kaplow (Alec Baldwin), is happy with the arrangement. But Bernie finds unexpected happiness when he begins dating attractive waitress Natalie Belisario (Maria Bello). --- --- Movie Genres Drama_Romance ------ Movie Release Year 2003 ------ Movie Rating 3.0 ---\n",
      "--- Movie Title Mighty Aphrodite --- --- Movie Plot When Lenny and his wife, Amanda, adopt a baby, Lenny realizes that his son is a genius and becomes obsessed with finding the boy's biological mother in hopes that she will be brilliant too. But when he learns that Max's mother is Linda Ash, a kindhearted prostitute and porn star, Lenny is determined to reform her immoral lifestyle. A Greek chorus chimes in to relate the plot to Greek mythology in this quirky comedy. --- --- Movie Genres Comedy_Romance ------ Movie Release Year 1995 ------ Movie Rating 4.0 ---\n",
      "--- Movie Title Great Expectations --- --- Movie Plot Loosely based on the Charles Dickens' classic novel, \"Great Expectations\" is a sensual tale of a young man's unforgettable passage into manhood, and the three individuals who will undeniably change his life forever. Through the surprising interactions of these vivid characters, \"Great Expectations\" takes a unique and contemporary look at life's great coincidences. --- --- Movie Genres Comedy_Drama_Romance ------ Movie Release Year 1998 ------ Movie Rating 3.0 ---\n",
      "--- Movie Title Shooting Fish --- --- Movie Plot Two con artists (Dan Futterman, Stuart Townsend) hire an unwitting medical-school student (Kate Beckinsale) as a secretary for their latest scam. --- --- Movie Genres Crime_Comedy_Romance ------ Movie Release Year 1997 ------ Movie Rating 5.0 ---\n",
      "--- Movie Title RocketMan --- --- Movie Plot Fred Z. Randall is geeky and obnoxious spacecraft designer, who gets the chance to make his dream come true and travel to Mars as a member of the first manned flight there. --- --- Movie Genres Comedy_Family_Science Fiction ------ Movie Release Year 1997 ------ Movie Rating 3.0 ---\n",
      "--- Movie Title Fair Game --- --- Movie Plot Max Kirkpatrick is a cop who protects Kate McQuean, a civil law attorney, from a renegade KGB team out to terminate her --- --- Movie Genres Action_Thriller_Romance ------ Movie Release Year 1995 ------ Movie Rating 3.0 ---\n",
      "--- Movie Title Autumn Tale --- --- Movie Plot Magali (Béatrice Romand), forty-something, is a winemaker and a widow: she loves her work but feels lonely. Her friends Rosine (Alexia Portal) and Isabelle (Marie Rivière) both want secretly to find a husband for Magali. --- --- Movie Genres Drama_Romance ------ Movie Release Year 1998 ------ Movie Rating 3.0 ---\n",
      "--- Movie Title The Bow --- --- Movie Plot On a fishing boat at sea, a 60-year old man has been raising a girl since she was a child. It is agreed that they will get married on her 17th birthday. They live a quiet and secluded life, renting the boat to day fishermen and practicing strange divination rites. Their life changes when a teenage student comes aboard. --- --- Movie Genres Drama_Romance ------ Movie Release Year 2005 ------ Movie Rating 5.0 ---\n",
      "--- Movie Title Girl with a Pearl Earring --- --- Movie Plot This film, adapted from a work of fiction by author Tracy Chevalier, tells a story about the events surrounding the creation of the painting \"Girl With A Pearl Earring\" by 17th century Dutch master Johannes Vermeer. A young peasant maid working in the house of painter Johannes Vermeer becomes his talented assistant and the model for one of his most famous works. --- --- Movie Genres Drama_Romance ------ Movie Release Year 2003 ------ Movie Rating 3.0 ---\n",
      "--- Movie Title Charlie and the Chocolate Factory --- --- Movie Plot A young boy wins a tour through the most magnificent chocolate factory in the world, led by the world's most unusual candy maker. --- --- Movie Genres Adventure_Comedy_Family_Fantasy ------ Movie Release Year 2005 ------ Movie Rating 4.0 ---\n",
      "--- Movie Title Cinderella Man --- --- Movie Plot The true story of boxer, Jim Braddock who, in the 1920’s after his retirement, has a surprise comeback in order to get him and his family out of a socially poor state. --- --- Movie Genres Romance_Drama_History ------ Movie Release Year 2005 ------ Movie Rating 5.0 ---\n",
      "--- Movie Title Superstar --- --- Movie Plot Orphan Mary Katherine Gallagher, an ugly duckling at St. Monica High School, has a dream: to be kissed soulfully. She decides she can realize this dream if she becomes a superstar, so her prayers, her fantasies, and her conversations with her only friend focus on achieving super-stardom. --- --- Movie Genres Comedy_Family ------ Movie Release Year 1999 ------ Movie Rating 3.0 ---\n",
      "--- Movie Title Intermission --- --- Movie Plot A raucous story of the interweaving lives and loves of small-town delinquents, shady cops, pretty good girls and very bad boys. With Irish guts and grit, lives collide, preconceptions shatter and romance is tested to the extreme. An ill-timed and poorly executed couple's break-up sets off a chain of events affecting everyone in town. --- --- Movie Genres Romance_Action_Comedy_Crime_Mystery_Drama ------ Movie Release Year 2003 ------ Movie Rating 4.0 ---\n",
      "--- Movie Title Home for the Holidays --- --- Movie Plot After losing her job, making out with her soon to be ex-boss, and finding out that her daughter plans to spend Thanksgiving with her boyfriend, Claudia Larson has to face spending the holiday with her family. She wonders if she can survive their crazy antics. --- --- Movie Genres Comedy_Drama_Romance ------ Movie Release Year 1995 ------ Movie Rating 3.75 ---\n",
      "--- Movie Title 10 Things I Hate About You --- --- Movie Plot Bianca, a tenth grader, has never gone on a date, but she isn't allowed to go out with boys until her older sister Kat gets a boyfriend. The problem is, Kat rubs nearly everyone the wrong way. But Bianca and the guy she has her eye on, Joey, are eager, so Joey fixes Kat up with Patrick, a new kid in town just bitter enough for Kat. --- --- Movie Genres Comedy_Romance_Drama ------ Movie Release Year 1999 ------ Movie Rating 3.7777777777777777 ---\n",
      "--- Movie Title Swept from the Sea --- --- Movie Plot The film tells the story of Russian emigree and the only survivor from ship crash Yanko Goorall and servant Amy Foster in the end of 19th century. When Yanko enters a farm sick and hungry after the shipwreck, everyone is afraid of him, except for Amy, who is very kind and helps him. Soon he becomes like a son for Dr. James Kennedy and romance between Yanko and Amy follows. --- --- Movie Genres Drama_Romance ------ Movie Release Year 1998 ------ Movie Rating 3.0 ---\n",
      "--- Movie Title Message in a Bottle --- --- Movie Plot A woman finds a romantic letter in a bottle washed ashore and tracks down the author, a widowed shipbuilder whose wife died tragically early. As a deep and mutual attraction blossoms, the man struggles to make peace with his past so that he can move on and find happiness. --- --- Movie Genres Romance_Drama ------ Movie Release Year 1999 ------ Movie Rating 4.0 ---\n",
      "--- Movie Title How to Lose a Guy in 10 Days --- --- Movie Plot An advice columnist, Andie Anderson (Kate Hudson), tries pushing the boundaries of what she can write about in her new piece about how to get a man to leave you in 10 days. Her editor, Lana (Bebe Neuwirth), loves it, and Andie goes off to find a man she can use for the experiment. Enter executive Ben Berry (Matthew McConaughey), who is so confident in his romantic prowess that he thinks he can make any woman fall in love with him in 10 days. When Andie and Ben meet, their plans backfire. --- --- Movie Genres Comedy_Romance ------ Movie Release Year 2003 ------ Movie Rating 5.0 ---\n",
      "--- Movie Title Entrapment --- --- Movie Plot Two thieves, who travel in elegant circles, try to outsmart each other and, in the process, end up falling in love. --- --- Movie Genres Romance_Drama_Mystery ------ Movie Release Year 1999 ------ Movie Rating 4.0 ---\n",
      "--- Movie Title Gun Shy --- --- Movie Plot Legendary undercover DEA agent Charlie Mayough has suddenly lost his nerves of steel. On the verge of a career-induced mental breakdown, and in complete fear of trigger-happy Mafia leader Fulvio Nesstra, Charlie seeks psychiatric help and finds himself relying on the support of an unstable therapy group and nurse Judy just to get through his work. --- --- Movie Genres Action_Comedy_Romance_Thriller ------ Movie Release Year 2000 ------ Movie Rating 3.0 ---\n",
      "--- Movie Title City of Angels --- --- Movie Plot When guardian angel Seth -- who invisibly watches over the citizens of Los Angeles -- becomes captivated by Maggie, a strong-willed heart surgeon, he ponders trading in his pure, otherworldly existence for a mortal life with his beloved. The couple embarks on a tender but forbidden romance spanning heaven and Earth. --- --- Movie Genres Drama_Fantasy_Romance ------ Movie Release Year 1998 ------ Movie Rating 4.25 ---\n",
      "--- Movie Title Mostly Martha --- --- Movie Plot Martha is a single woman who lives for one passion: cooking. The head chef at a chic restaurant, Martha has no time for anything - or anyone - else. But Martha's solitary life is shaken when a fateful accident brings her sister's eight-year-old daughter, Lina, to her doorstep. --- --- Movie Genres Romance_Drama_Comedy ------ Movie Release Year 2001 ------ Movie Rating 4.0 ---\n",
      "--- Movie Title Bound --- --- Movie Plot Corky, a tough female ex con and her lover Violet concoct a scheme to steal millions of stashed mob money and pin the blame on Violet's crooked boyfriend Caeser. --- --- Movie Genres Crime_Drama_Romance_Thriller ------ Movie Release Year 1996 ------ Movie Rating 3.0 ---\n",
      "--- Movie Title Before Sunrise --- --- Movie Plot A dialogue marathon of a film, this fairytale love story of an American boy and French girl. During a day and a night together in Vienna their two hearts collide. --- --- Movie Genres Drama_Romance ------ Movie Release Year 1995 ------ Movie Rating 3.75 ---\n",
      "--- Movie Title You've Got Mail --- --- Movie Plot Book superstore magnate, Joe Fox and independent book shop owner, Kathleen Kelly fall in love in the anonymity of the Internet – both blissfully unaware that he's putting her out of business. --- --- Movie Genres Comedy_Romance ------ Movie Release Year 1998 ------ Movie Rating 3.0 ---\n",
      "--- Movie Title Woman on Top --- --- Movie Plot Set to the intoxicating rhythms of Brazil, \"Woman on Top\" is a spicy, sexy comedy about the magic of food, love and music. Meet Isabella, a sultry enchantress born with the special gift of melting the palates and hearts of men everywhere. When she decides to break free from her rocky marriage and the stifling kitchen of her husband's restaurant in Brazil, she spirits off to San Francisco in pursuit of her dreams of a real culinary career. --- --- Movie Genres Comedy_Drama_Romance ------ Movie Release Year 2000 ------ Movie Rating 3.0 ---\n",
      "--- Movie Title Mansfield Park --- --- Movie Plot This fun and sexy comedy tells a timelessly entertaining story where wealthy, secret passions and mischievous women put love to the test.. When a spirited young woman, Fanny Price, is sent away to live on the great country estate of her rich cousins, she's meant to learn the ways of proper society. But while Fanny learns \"their\" ways, she also enlightens them with a wit and sparkle all her own! --- --- Movie Genres Drama_Romance ------ Movie Release Year 1999 ------ Movie Rating 4.0 ---\n",
      "--- Movie Title A Life Less Ordinary --- --- Movie Plot A couple of angels, O'Reilly and Jackson, are sent to Earth to make sure that their next supervised love-connection succeeds. They follow Celine, a spoiled rich girl who has just accidentally shot a suitor and, due to a misunderstanding, is kidnapped by janitor Robert. Although Celine quickly frees herself, she stays with Robert for thrills. O'Reilly and Jackson pursue, hoping to unite the prospective lovers. --- --- Movie Genres Fantasy_Drama_Comedy_Thriller_Science Fiction_Romance ------ Movie Release Year 1997 ------ Movie Rating 4.0 ---\n",
      "--- Movie Title Alexander --- --- Movie Plot Alexander, the King of Macedonia, leads his legions against the giant Persian Empire. After defeating the Persians, he leads his army across the then known world, venturing farther than any westerner had ever gone, all the way to India. --- --- Movie Genres War_History_Action_Adventure_Drama_Romance ------ Movie Release Year 2004 ------ Movie Rating 3.0 ---\n",
      "--- Movie Title Female Perversions --- --- Movie Plot An ambitious female attorney wallows in excess and meaningless sex with both male and female partners, while dealing with her personal life problems including helping her kleptomaniac sister. --- --- Movie Genres Drama_Romance ------ Movie Release Year 1996 ------ Movie Rating 3.0 ---\n",
      "--- Movie Title Confessions of a Dangerous Mind --- --- Movie Plot Television made him famous, but his biggest hits happened off screen. Television producer by day, CIA assassin by night, Chuck Barris was recruited by the CIA at the height of his TV career and trained to become a covert operative. Or so Barris said. --- --- Movie Genres Comedy_Crime_Drama_Romance_Thriller ------ Movie Release Year 2002 ------ Movie Rating 4.333333333333333 ---\n",
      "--- Movie Title Doctor Dolittle --- --- Movie Plot A successful physician and devoted family man, John Dolittle (Eddie Murphy) seems to have the world by the tail, until a long suppressed talent he possessed as a child, the ability to communicate with animals is suddenly reawakened with a vengeance! Now every creature within squawking distance wants the good doctor's advice, unleashing an outrageous chain of events that turns his world upside down! --- --- Movie Genres Comedy_Family_Fantasy ------ Movie Release Year 1998 ------ Movie Rating 4.0 ---\n",
      "--- Movie Title Muppets from Space --- --- Movie Plot When Gonzo's breakfast cereal tells him that he's the descendant of aliens from another planet, his attempts at extraterrestrial communication get him kidnapped by a secret government agency, prompting the Muppets to spring into action. It's hard to believe Gonzo's story at first, but Kermit and friends soon find themselves on an epic journey into outer space filled with plenty of intergalactic misadventures. --- --- Movie Genres Fantasy_Comedy_Science Fiction_Family ------ Movie Release Year 1999 ------ Movie Rating 3.0 ---\n",
      "--- Movie Title The New World --- --- Movie Plot A drama about explorer John Smith and the clash between Native Americans and English settlers in the 17th century. --- --- Movie Genres Drama_History_Romance ------ Movie Release Year 2005 ------ Movie Rating 4.0 ---\n",
      "--- Movie Title Ever After: A Cinderella Story --- --- Movie Plot A unique 16th century woman, Danielle possesses a love of books, and can easily quote from Sir Thomas More’s Utopia. An intriguing mix of tomboyish athleticism and physical beauty, she has more than enough charm to capture the heart of a prince ... after beaning him with an apple. --- --- Movie Genres Drama_Romance_Comedy ------ Movie Release Year 1998 ------ Movie Rating 3.5 ---\n",
      "\n"
     ]
    }
   ],
   "source": [
    "data = 'Romance|Family|Animation/1995/2005'\n",
    "text_to_llm = movie_tool.run(data)\n",
    "print(text_to_llm)"
   ]
  },
  {
   "cell_type": "code",
   "execution_count": 35,
   "metadata": {},
   "outputs": [],
   "source": [
    "import tiktoken\n",
    "def count_token(text):\n",
    "    # Initialize the tokenizer\n",
    "    encoding = tiktoken.get_encoding(\"cl100k_base\")\n",
    "    # Tokenize the text\n",
    "    tokens = encoding.encode(text,allowed_special={'<|endoftext|>', '<|endofprompt|>'})\n",
    "    # Count the number of tokens\n",
    "    number_of_tokens = len(tokens)\n",
    "    # Print the number of tokens\n",
    "    print(\"Number of tokens:\", number_of_tokens)"
   ]
  },
  {
   "cell_type": "code",
   "execution_count": 36,
   "metadata": {},
   "outputs": [
    {
     "name": "stdout",
     "output_type": "stream",
     "text": [
      "Number of tokens: 10222\n"
     ]
    }
   ],
   "source": [
    "count_token(text_to_llm)"
   ]
  },
  {
   "cell_type": "code",
   "execution_count": 37,
   "metadata": {},
   "outputs": [],
   "source": [
    "class Chatbot:\n",
    "    def __init__(self, model='gpt-4o', temperature=0.3):\n",
    "        self.llm_rec = ChatOpenAI(model=model, temperature=temperature)\n",
    "        self.system_prompt = ''' You are a friendly assistant who will guide customers to select movies of their choice from a database I have.\n",
    "        You will follow a multi-stage approach to finding the best movies for a customer\n",
    "\n",
    "        Introduction: Introduce yourself as a movie recommendation bot who will help customers find the best movies from a wide selection of classical movies from 1980 to 2010.\n",
    "\n",
    "        Stage 1: Understand the customer's interests\n",
    "        Ask only one question at a time. Always end your responses with a question\n",
    "        1. Ask 3-4 questions to understand the customer's interests and what kind of movies they like\n",
    "        2. Infer the genre of the movie based on their preferences or explicitely ask it. I have movies from the following genres:\n",
    "        'Science Fiction', 'Fantasy', 'War', 'Adventure', 'Romance', 'Documentary', 'Family', 'Animation', 'Comedy', 'TV Movie', 'Thriller', 'Drama', 'Crime', 'Mystery', 'Music', 'Horror', 'Action', 'History'\n",
    "        3. I have movies from 1985-2005. Understand which decade, range of years they are interested in\n",
    "\n",
    "        Stage 2: Use the tool you have to get a database of movies you have\n",
    "        The input to the tool is the genres and min and max years\n",
    "        The tool takes the following inputs:\n",
    "        Genres as a list. Genres should be from the above selections\n",
    "        Min and max years as int\n",
    "        All genres should be pipe sepearated and years should be / separated. \n",
    "        Example if the user is look for comedy and drama from 1990 to 2000, then input should be `Comedy|Drama/1990/2000`\n",
    "        Example if the user is looking for Romance, Family and Animation from 1995 to 2005 then input should be: Romance|Family|Animation/1995/2005\n",
    "        Example if the user is looking for Comedy and Drama from 1990 to 2000 then input should be: Comedy|Drama/1990/2000\n",
    "\n",
    "        Stage 3: The tool will give you all the movies that match the criteria you shared and are well rated\n",
    "        From this set, you now need to present top 3 choices to the customer and explain your rationale\n",
    "        Try and match the movies to the type they like\n",
    "\n",
    "        Stage 4: Adjust your choices if the user doesn't like your recommendation\n",
    "        Ask them about the kind of plot they would like to see and then look for movies with those plots\n",
    "        Present the top 3 choices again\n",
    "\n",
    "        General rules:\n",
    "        1. Ask one question at a time. Wait for the user's response before asking the next question\n",
    "        2. End your responses with questions so you can continue the conversation\n",
    "        '''\n",
    "        self.memory = ChatMessageHistory(session_id=\"test-session\")\n",
    "        self.tools = [movie_tool]\n",
    "    \n",
    "    def run(self, input):\n",
    "        ## Load Current Profile\n",
    "\n",
    "        prompt_rec = ChatPromptTemplate.from_messages(\n",
    "        [\n",
    "            SystemMessage(\n",
    "            content=self.system_prompt\n",
    "        ),\n",
    "          MessagesPlaceholder(variable_name=\"chat_history\"),   \n",
    "          MessagesPlaceholder(variable_name=\"agent_scratchpad\"),\n",
    "\n",
    "         (\"user\", \"{input}\"),            \n",
    "        ]\n",
    "    )\n",
    "        # Construct the OpenAI Functions agent\n",
    "        recommendation_agent = create_openai_tools_agent(self.llm_rec, self.tools, prompt_rec)\n",
    "        agent_executor = AgentExecutor(agent=recommendation_agent, tools=self.tools)\n",
    "        agent_with_chat_history = RunnableWithMessageHistory(\n",
    "            agent_executor,\n",
    "            # This is needed because in most real world scenarios, a session id is needed\n",
    "            # It isn't really used here because we are using a simple in memory ChatMessageHistory\n",
    "            lambda session_id: self.memory,\n",
    "            input_messages_key=\"input\",\n",
    "            history_messages_key=\"chat_history\",\n",
    "        )\n",
    "        result = agent_with_chat_history.invoke({'input': input,}, config={\"configurable\": {\"session_id\": \"1234\"}})\n",
    "        return result['output']"
   ]
  },
  {
   "cell_type": "code",
   "execution_count": 38,
   "metadata": {},
   "outputs": [
    {
     "name": "stdout",
     "output_type": "stream",
     "text": [
      "Hi there! I'm your movie recommendation bot, here to help you find the best classical movies from 1985 to 2005. Let's start by understanding your interests. What kind of movies do you usually enjoy watching?\n"
     ]
    }
   ],
   "source": [
    "rec_agent = Chatbot(model='gpt-4o', temperature=0.3)\n",
    "print(rec_agent.run(\"Hello!\"))"
   ]
  },
  {
   "cell_type": "code",
   "execution_count": 39,
   "metadata": {},
   "outputs": [
    {
     "name": "stdout",
     "output_type": "stream",
     "text": [
      "Got it! Action movies with a touch of comedy and not too much violence. \n",
      "\n",
      "Do you have any favorite actors or directors whose movies you enjoy?\n"
     ]
    }
   ],
   "source": [
    "print(rec_agent.run(\"I am looking for action movies that also have a touch of comedy without too much violence\"))"
   ]
  },
  {
   "cell_type": "code",
   "execution_count": 40,
   "metadata": {},
   "outputs": [
    {
     "data": {
      "text/plain": [
       "'Great choices! Will Smith and Arnold Schwarzenegger have been in some fantastic action-comedy movies.\\n\\nIs there a specific time period within 1985 to 2005 that you are particularly interested in?'"
      ]
     },
     "execution_count": 40,
     "metadata": {},
     "output_type": "execute_result"
    }
   ],
   "source": [
    "rec_agent.run(\"How about movies from Will Smith or Arnold S.?\")"
   ]
  },
  {
   "cell_type": "code",
   "execution_count": 41,
   "metadata": {},
   "outputs": [
    {
     "name": "stdout",
     "output_type": "stream",
     "text": [
      "Tool Run with inputs: Genres: ['Action', 'Comedy']  Min Year: 1995  Max Year: 2005\n",
      "Sure! Here are three top recommendations for action-comedy movies from the late 1990s to early 2000s that feature either Will Smith or Arnold Schwarzenegger:\n",
      "\n",
      "### 1. **Men in Black (1997)**\n",
      "- **Plot:** Men in Black follows the exploits of agents Kay and Jay, members of a top-secret organization established to monitor and police alien activity on Earth. The two Men in Black find themselves in the middle of a deadly plot by an intergalactic terrorist who has arrived on Earth to assassinate two ambassadors from opposing galaxies. In order to prevent worlds from colliding, the MiB must track down the terrorist and prevent the destruction of Earth.\n",
      "- **Why You'll Like It:** This movie features Will Smith in a fun and action-packed role, combining humor with sci-fi elements.\n",
      "\n",
      "### 2. **Rush Hour (1998)**\n",
      "- **Plot:** When Hong Kong Inspector Lee is summoned to Los Angeles to investigate a kidnapping, the FBI doesn't want any outside help and assigns cocky LAPD Detective James Carter to distract Lee from the case. Not content to watch the action from the sidelines, Lee and Carter form an unlikely partnership and investigate the case themselves.\n",
      "- **Why You'll Like It:** Although it doesn't feature Will Smith or Arnold Schwarzenegger, this movie stars Jackie Chan and Chris Tucker, delivering a perfect blend of action and comedy.\n",
      "\n",
      "### 3. **Bad Boys II (2003)**\n",
      "- **Plot:** Out-of-control, trash-talking buddy cops Marcus Burnett and Mike Lowrey of the Miami Narcotics Task Force reunite, and bullets fly, cars crash and laughs explode as they pursue a whacked-out drug lord from the streets of Miami to the barrios of Cuba. But the real fireworks result when Marcus discovers that playboy Mike is secretly romancing Marcus’ sexy sister.\n",
      "- **Why You'll Like It:** Will Smith returns in this sequel, bringing more action and comedy, along with his dynamic chemistry with Martin Lawrence.\n",
      "\n",
      "Do any of these movies catch your interest?\n"
     ]
    }
   ],
   "source": [
    "print(rec_agent.run(\"How about movies from late 1990s to early 2000s\"))"
   ]
  },
  {
   "cell_type": "code",
   "execution_count": 42,
   "metadata": {},
   "outputs": [
    {
     "name": "stdout",
     "output_type": "stream",
     "text": [
      "Tool Run with inputs: Genres: ['Science Fiction']  Min Year: 1995  Max Year: 2005\n"
     ]
    },
    {
     "data": {
      "text/plain": [
       "\"Sure! Here are three top sci-fi movies starring Will Smith from the late 1990s to early 2000s:\\n\\n### 1. **Men in Black (1997)**\\n- **Plot:** Men in Black follows the exploits of agents Kay and Jay, members of a top-secret organization established to monitor and police alien activity on Earth. The two Men in Black find themselves in the middle of a deadly plot by an intergalactic terrorist who has arrived on Earth to assassinate two ambassadors from opposing galaxies. In order to prevent worlds from colliding, the MiB must track down the terrorist and prevent the destruction of Earth.\\n- **Why You'll Like It:** This movie features Will Smith in a fun and action-packed role, combining humor with sci-fi elements.\\n\\n### 2. **Men in Black II (2002)**\\n- **Plot:** Kay and Jay reunite to provide our best, last and only line of defense against a sinister seductress who levels the toughest challenge yet to the MIB's untarnished mission statement – protecting Earth from the scum of the universe. It's been four years since the alien-seeking agents averted an intergalactic disaster of epic proportions. Now it's a race against the clock as Jay must convince Kay – who not only has absolutely no memory of his time spent with the MIB, but is also the only living person left with the expertise to save the galaxy – to reunite with the MIB before the earth submits to ultimate destruction.\\n- **Why You'll Like It:** Will Smith returns in this sequel, bringing more action and comedy, along with his dynamic chemistry with Tommy Lee Jones.\\n\\n### 3. **Independence Day (1996)**\\n- **Plot:** The aliens are coming and their goal is to invade and destroy Earth. Fighting superior technology, mankind's best weapon is the will to survive. On July 2nd, communications systems worldwide are sent into chaos by a strange atmospheric interference. It is soon learned by the military that a number of enormous objects are on a collision course with Earth. At first thought to be meteors, they are later revealed to be gigantic spacecraft, piloted by a mysterious alien species. After attempts to communicate with the aliens go nowhere, David Levinson, an ex-scientist turned cable technician, discovers that the aliens are going to attack major points around the globe in less than a day. On July 3rd, the aliens all but obliterate New York, Los Angeles, and Washington when a band of survivors devise a plan to fight back against the enslaving aliens, and July 4th becomes the day humanity will fight for its freedom.\\n- **Why You'll Like It:** Although not strictly a comedy, Will Smith's charm and humor shine through in this action-packed sci-fi epic.\\n\\nDo any of these movies catch your interest?\""
      ]
     },
     "execution_count": 42,
     "metadata": {},
     "output_type": "execute_result"
    }
   ],
   "source": [
    "rec_agent.run(\"Do you have any sci-fi movies starring will smith?\")"
   ]
  },
  {
   "cell_type": "code",
   "execution_count": null,
   "metadata": {},
   "outputs": [],
   "source": []
  }
 ],
 "metadata": {
  "kernelspec": {
   "display_name": "llm_agents",
   "language": "python",
   "name": "python3"
  },
  "language_info": {
   "codemirror_mode": {
    "name": "ipython",
    "version": 3
   },
   "file_extension": ".py",
   "mimetype": "text/x-python",
   "name": "python",
   "nbconvert_exporter": "python",
   "pygments_lexer": "ipython3",
   "version": "3.12.2"
  }
 },
 "nbformat": 4,
 "nbformat_minor": 2
}
