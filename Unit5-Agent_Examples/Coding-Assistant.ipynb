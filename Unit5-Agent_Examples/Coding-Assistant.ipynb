{
 "cells": [
  {
   "cell_type": "markdown",
   "metadata": {},
   "source": [
    "# Coding Assistant with Code Checks\n",
    "\n",
    "Idea borrowed from Langchain: https://www.youtube.com/watch?v=MvNdgmM7uyc"
   ]
  },
  {
   "cell_type": "markdown",
   "metadata": {},
   "source": [
    "![coding_assistant](images/code-assistant.png)"
   ]
  },
  {
   "cell_type": "code",
   "execution_count": 1,
   "metadata": {},
   "outputs": [
    {
     "data": {
      "text/plain": [
       "True"
      ]
     },
     "execution_count": 1,
     "metadata": {},
     "output_type": "execute_result"
    }
   ],
   "source": [
    "import os\n",
    "import json\n",
    "from dotenv import load_dotenv\n",
    "import pprint\n",
    "import subprocess\n",
    "##to load credentials\n",
    "load_dotenv()\n"
   ]
  },
  {
   "cell_type": "code",
   "execution_count": 2,
   "metadata": {},
   "outputs": [],
   "source": [
    "os.environ[\"OPENAI_API_KEY\"] = os.getenv(\"OPENAI_API_KEY\") ## Put your OpenAI API key here\n",
    "os.environ[\"LANGCHAIN_API_KEY\"] = os.getenv(\"LANGCHAIN_API_KEY\") ## Put your Langsmith API key here\n",
    "os.environ[\"LANGCHAIN_HUB_API_KEY\"] = os.getenv(\"LANGCHAIN_API_KEY\") ## Put your Langsmith API key here\n",
    "os.environ[\"LANGCHAIN_TRACING_V2\"] = 'true' ## Set this as True\n",
    "os.environ[\"LANGCHAIN_ENDPOINT\"] = 'https://api.smith.langchain.com/' ## Set this as: https://api.smith.langchain.com/\n",
    "os.environ[\"LANGCHAIN_HUB_API_URL\"] = 'https://api.hub.langchain.com' ## Set this as : https://api.hub.langchain.com\n",
    "os.environ[\"LANGCHAIN_PROJECT\"] = 'llm-agents'"
   ]
  },
  {
   "cell_type": "markdown",
   "metadata": {},
   "source": [
    "## Create Code Generation node"
   ]
  },
  {
   "cell_type": "code",
   "execution_count": 3,
   "metadata": {},
   "outputs": [],
   "source": [
    "### Generate\n",
    "\n",
    "from langchain_core.prompts import PromptTemplate\n",
    "from langchain_core.output_parsers import StrOutputParser\n",
    "from langchain_openai import ChatOpenAI\n",
    "\n",
    "# Prompt\n",
    "system_prompt = '''You are an expert coding assistant. You help answer the coding request from the user.\n",
    "You should focus on generating concise and accurate code\n",
    "I need you to answer in JSON format with the following 4 outputs:\n",
    "1. Code description - under key description\n",
    "2. Code Imports - under key imports\n",
    "3. Main body of the code - under key code\n",
    "4. One test case of the code with the expected output - under a dictionary test with input key and output key. Input should include the name of the function along with sample inputs\n",
    "\n",
    "Don't include \\n in your JSON output except in the code key as needed\n",
    "Example of this is:\n",
    "User Request: I need the code to generate fibonacci numbers\n",
    "Answer: \n",
    "{{\n",
    "  \"description\": \"This function generates Fibonacci numbers up to a specified limit.\",\n",
    "  \"imports\": \"None\",\n",
    "  \"code\": \"def fibonacci(limit):\\n    sequence = [0, 1]\\n    for i in range(2, limit):\\n        sequence.append(sequence[i - 1] + sequence[i - 2])\\n    return sequence\",\n",
    "  \"test\": {{\n",
    "    \"input\": \" result = fibonacci(10) \\n print(result)\",\n",
    "    \"output\": \"[0, 1, 1, 2, 3, 5, 8, 13, 21, 34]\"\n",
    "  }}\n",
    "}}\n",
    "\n",
    "Look at the chain of messages below that include the user request. If your previous code had an error, you can use that to revise your code\n",
    "Message History: {messages}\n",
    "'''\n",
    "\n",
    "generate_answer_prompt = PromptTemplate(\n",
    "        input_variables=[\"messages\"], template=system_prompt)\n",
    "\n",
    "# LLM\n",
    "llm = ChatOpenAI(model_name=\"gpt-4o\", temperature=0.1, model_kwargs={\"response_format\": {\"type\": \"json_object\"}},)\n",
    "\n",
    "# LLM Chain\n",
    "code_generation = generate_answer_prompt | llm "
   ]
  },
  {
   "cell_type": "code",
   "execution_count": 4,
   "metadata": {},
   "outputs": [
    {
     "name": "stdout",
     "output_type": "stream",
     "text": [
      "{'code': 'def find_largest_index(numbers):\\n'\n",
      "         '    if not numbers:\\n'\n",
      "         '        return -1\\n'\n",
      "         '    largest_index = 0\\n'\n",
      "         '    for i in range(1, len(numbers)):\\n'\n",
      "         '        if numbers[i] > numbers[largest_index]:\\n'\n",
      "         '            largest_index = i\\n'\n",
      "         '    return largest_index',\n",
      " 'description': 'This function finds the index of the largest number in a '\n",
      "                'list.',\n",
      " 'imports': 'None',\n",
      " 'test': {'input': 'result = find_largest_index([3, 1, 4, 1, 5, 9, 2, 6, 5, 3, '\n",
      "                   '5])\\n'\n",
      "                   'print(result)',\n",
      "          'output': '5'}}\n"
     ]
    }
   ],
   "source": [
    "# Run\n",
    "messages = list(\"How do I find the location of the largest number in a list in python?\")\n",
    "generation = code_generation.invoke({\"messages\": messages}).content\n",
    "generation = json.loads(generation)\n",
    "pprint.pprint(generation)"
   ]
  },
  {
   "cell_type": "markdown",
   "metadata": {},
   "source": [
    "## Test the generated code"
   ]
  },
  {
   "cell_type": "code",
   "execution_count": 5,
   "metadata": {},
   "outputs": [
    {
     "name": "stdout",
     "output_type": "stream",
     "text": [
      "def find_largest_index(numbers):\n",
      "    if not numbers:\n",
      "        return -1\n",
      "    largest_index = 0\n",
      "    for i in range(1, len(numbers)):\n",
      "        if numbers[i] > numbers[largest_index]:\n",
      "            largest_index = i\n",
      "    return largest_index\n",
      "result = find_largest_index([3, 1, 4, 1, 5, 9, 2, 6, 5, 3, 5])\n",
      "print(result)\n",
      "5\n",
      "Code executed successfully\n"
     ]
    }
   ],
   "source": [
    "code_block = generation['code'] + '\\n' + generation['test']['input']\n",
    "print(code_block)\n",
    "try:\n",
    "    exec(code_block)\n",
    "    print(\"Code executed successfully\")  # Only reached if no exceptions\n",
    "except Exception as e:  # Catch any type of exception\n",
    "    print(f\"Error executing code: {e}\")"
   ]
  },
  {
   "cell_type": "code",
   "execution_count": 6,
   "metadata": {},
   "outputs": [
    {
     "name": "stdout",
     "output_type": "stream",
     "text": [
      "Test passed!\n"
     ]
    }
   ],
   "source": [
    "try:\n",
    "    # Evaluate the input string to get the function call and arguments\n",
    "    test_case = code_block\n",
    "    with open(\"temp_test.py\", \"w\") as f:\n",
    "        f.write(test_case)\n",
    "\n",
    "    # Build the command to execute the temporary file\n",
    "    command = [\"python\", \"temp_test.py\"]  # Replace with your python execution path if needed\n",
    "\n",
    "    # Run the command and capture the output\n",
    "    result = subprocess.run(command, capture_output=True, text=True)\n",
    "\n",
    "    # Convert the expected output to the correct data type (integer in this case)\n",
    "    expected_output = int(generation['test']['output']) \n",
    "\n",
    "    # Check if the process ran successfully\n",
    "    if result.returncode == 0:\n",
    "        output = int(result.stdout.strip())  # Get the output and convert to int\n",
    "        if output == expected_output:\n",
    "            print(\"Test passed!\")\n",
    "        else:\n",
    "            print(f\"Test failed. Expected: {expected_output}, Got: {output}\")\n",
    "    else:\n",
    "        print(\"Error executing code:\", result.stderr)\n",
    "except Exception as e:  # Catch any type of exception\n",
    "    print(f\"Error executing code: {e}\")"
   ]
  },
  {
   "cell_type": "markdown",
   "metadata": {},
   "source": [
    "## Create the Langgraph graph"
   ]
  },
  {
   "cell_type": "markdown",
   "metadata": {},
   "source": [
    "### Graph State"
   ]
  },
  {
   "cell_type": "code",
   "execution_count": 7,
   "metadata": {},
   "outputs": [],
   "source": [
    "from typing_extensions import TypedDict\n",
    "from typing import Annotated\n",
    "from langgraph.graph.message import AnyMessage, add_messages\n",
    "\n",
    "\n",
    "class GraphState(TypedDict):\n",
    "    \"\"\"\n",
    "    Represents the state of our graph.\n",
    "\n",
    "    Attributes:\n",
    "        code_generation: Code generated by the code generator\n",
    "        error: tracks whether code executed without error\n",
    "        messages : With user question, error messages, reasoning\n",
    "        iterations: Total number of iterations\n",
    "    \"\"\"\n",
    "\n",
    "    code_generation: dict\n",
    "    error: bool\n",
    "    messages: Annotated[list[AnyMessage], add_messages]\n",
    "    iterations: int"
   ]
  },
  {
   "cell_type": "code",
   "execution_count": 8,
   "metadata": {},
   "outputs": [],
   "source": [
    "### Parameters\n",
    "max_iterations = 3"
   ]
  },
  {
   "cell_type": "code",
   "execution_count": 9,
   "metadata": {},
   "outputs": [],
   "source": [
    "import json\n",
    "\n",
    "def parse_code_solution(code_solution_result):\n",
    "    \"\"\"Parses the code_solution output from LangChain into its components.\n",
    "\n",
    "    Args:\n",
    "        code_solution_result: The output from running a LangChain RunnableSequence.\n",
    "\n",
    "    Returns:\n",
    "        dict: A dictionary containing the parsed \"imports\", \"code\", and \"test\" information.\n",
    "    \"\"\"\n",
    "\n",
    "    try:\n",
    "        # Run the RunnableSequence to get the actual output string\n",
    "        output_str = code_solution_result.invoke({})\n",
    "\n",
    "        # Now, you can parse the output string as JSON\n",
    "        parsed_json = json.loads(output_str)\n",
    "\n",
    "        # Extract and clean up the code (remove the extra spaces and line breaks)\n",
    "        code = parsed_json[\"code\"].strip().replace(\"\\n \", \"\\n\")\n",
    "\n",
    "        return {\n",
    "            \"imports\": parsed_json.get(\"imports\", None),\n",
    "            \"code\": code,\n",
    "            \"test\": parsed_json.get(\"test\", None)\n",
    "        }\n",
    "    except (json.JSONDecodeError) as e:\n",
    "        print(f\"Error parsing JSON or running RunnableSequence: {e}\")\n",
    "        return None\n",
    "\n"
   ]
  },
  {
   "cell_type": "markdown",
   "metadata": {},
   "source": [
    "### Define Graph Nodes"
   ]
  },
  {
   "cell_type": "code",
   "execution_count": 10,
   "metadata": {},
   "outputs": [],
   "source": [
    "def code_generation_node(state: GraphState):\n",
    "    \"\"\"\n",
    "    Code Generation and re-generation for an error\n",
    "\n",
    "    Args:\n",
    "        state (dict): The current graph state\n",
    "\n",
    "    Returns:\n",
    "        state (dict): New key added to state - code solution\n",
    "    \"\"\"\n",
    "    # State\n",
    "    messages = state[\"messages\"]\n",
    "    iterations = state[\"iterations\"]\n",
    "    error = state[\"error\"]\n",
    "\n",
    "    ## Generate code for the first time\n",
    "    if error == \"no\":\n",
    "        code_solution = code_generation.invoke(messages).content\n",
    "        code_solution = json.loads(code_solution)\n",
    "        print(\"Code Solution after generation: \", code_solution)\n",
    "        \n",
    "        messages += [\n",
    "            (\n",
    "                \"assistant\",\n",
    "                f\"Here is my attempt to solve the problem: {code_solution['description']} \\n Imports: {code_solution['imports']} \\n Code: {code_solution['code']}. The test case I shared are \\n Test Case: {code_solution['test']}\",\n",
    "            )\n",
    "        ]\n",
    "\n",
    "        # Increment\n",
    "        iterations = iterations + 1\n",
    "        return {\"code_generation\": code_solution, \"messages\": messages, \"iterations\": iterations}\n",
    "    \n",
    "    elif error == \"yes\":\n",
    "        ## Regenerate to fix error\n",
    "        messages += [\n",
    "            (\n",
    "                \"user\",\n",
    "                \"Your code did not run successfully. Look at the message history to check errors. Regenerate a new code following the JSON output format I want \",\n",
    "            )\n",
    "        ]\n",
    "\n",
    "        # Solution\n",
    "        code_solution = code_generation.invoke(messages).content\n",
    "        code_solution = json.loads(code_solution)\n",
    "\n",
    "        messages += [\n",
    "            (\n",
    "                \"assistant\",\n",
    "                f\"Here is my new solution: {code_solution['description']} \\n Imports: {code_solution['imports']} \\n Code: {code_solution['code']}. The test case I shared are \\n Test Case: {code_solution['test']}\",\n",
    "            )\n",
    "        ]\n",
    "\n",
    "        # Increment\n",
    "        iterations = iterations + 1\n",
    "        return {\"code_generation\": code_solution, \"messages\": messages, \"iterations\": iterations}\n",
    "\n",
    "\n",
    "def code_execution_check(state: GraphState):\n",
    "    \"\"\"\n",
    "    Check code\n",
    "\n",
    "    Args:\n",
    "        state (dict): The current graph state\n",
    "\n",
    "    Returns:\n",
    "        state (dict): New key added to state, error. Messages updated with error\n",
    "    \"\"\"\n",
    "    print(\"----CHECKING CODE EXECUTION---------\")\n",
    "    # State\n",
    "    code_solution = state[\"code_generation\"]\n",
    "\n",
    "    imports = code_solution['imports']\n",
    "    code = code_solution['code']\n",
    "    messages = state[\"messages\"]\n",
    "\n",
    "    # Check imports\n",
    "    try:\n",
    "        exec(imports)\n",
    "    except Exception as e:\n",
    "        print(\"---CODE IMPORT CHECK: FAILED---\")\n",
    "        error_message = [(\"user\", f\"Your solution failed the import test: {e}\")]\n",
    "        messages += error_message\n",
    "        return {\n",
    "            \"messages\": messages,\n",
    "            \"error\": \"yes\",\n",
    "        }\n",
    "\n",
    "    # Check execution\n",
    "    try:\n",
    "        exec(imports + \"\\n\" + code)\n",
    "    except Exception as e:\n",
    "        print(\"---CODE BLOCK CHECK: FAILED---\")\n",
    "        error_message = [(\"user\", f\"Your solution failed the code execution test: {e}\")]\n",
    "        messages += error_message\n",
    "        return {\n",
    "            \"messages\": messages,\n",
    "            \"error\": \"yes\",\n",
    "        }\n",
    "\n",
    "    # No errors\n",
    "    print(\"---NO CODE EXECUTION FAILURES---\")\n",
    "    return {\n",
    "        \"messages\": messages,\n",
    "        \"error\": \"no\",\n",
    "    }\n",
    "\n",
    "\n",
    "def code_test_cases_check(state: GraphState):\n",
    "    \"\"\"\n",
    "    Check test case from the LLM\n",
    "\n",
    "    Args:\n",
    "        state (dict): The current graph state\n",
    "\n",
    "    Returns:\n",
    "        state (dict): New key added to state, error. Messages updated with error\n",
    "    \"\"\"\n",
    "    print(\"----CHECKING TEST CASES---------\")\n",
    "\n",
    "    # State\n",
    "    code_solution = state[\"code_generation\"]\n",
    "\n",
    "    imports = code_solution['imports']\n",
    "    code = code_solution['code']\n",
    "    test_input = code_solution['test']['input']\n",
    "    test_output = code_solution['test']['output']\n",
    "    messages = state['messages']\n",
    "\n",
    "    if imports != \"None\":\n",
    "        full_code = imports + \"\\n\" + code + \"\\n\" + test_input\n",
    "    else:\n",
    "        full_code = code + \"\\n\" + test_input\n",
    "\n",
    "    ## Check test input\n",
    "    try:\n",
    "        # Evaluate the input string to get the function call and arguments\n",
    "        with open(\"temp_test.py\", \"w\") as f:\n",
    "            f.write(full_code)\n",
    "\n",
    "        # Build the command to execute the temporary file\n",
    "        command = [\"python\", \"temp_test.py\"]  # Replace with your python execution path if needed\n",
    "\n",
    "        # Run the command and capture the output\n",
    "        result = subprocess.run(command, capture_output=True, text=True)\n",
    "\n",
    "        # Check if the process ran successfully\n",
    "        if result.returncode == 0:\n",
    "            output = result.stdout.strip()  # Get the output and convert to int\n",
    "            if str(output) == str(test_output):\n",
    "                print(\"TEST CASE CHECK - PASSED!\")\n",
    "                return {\n",
    "                \"messages\": messages,\n",
    "                \"error\": \"no\",\n",
    "                }\n",
    "            else:\n",
    "                print(\"---TEST CASE CHECK: FAILED---\")\n",
    "                error_message = [(\"user\", f\"Your test case run failed. Expected: {expected_output}, Got: {output}\")]\n",
    "                messages += error_message\n",
    "                return {\n",
    "                    \"messages\": messages,\n",
    "                    \"error\": \"yes\",\n",
    "                }\n",
    "        else:\n",
    "            print(\"---TEST CASE CHECK: FAILED---\")\n",
    "            error_message = [(\"user\", f\"Your test case run failed: { result.stderr}\")]\n",
    "            messages += error_message\n",
    "            return {\n",
    "                \"messages\": messages,\n",
    "                \"error\": \"yes\",\n",
    "            }\n",
    "    except Exception as e:  # Catch any type of exception\n",
    "        print(\"---TEST CASE CHECK: FAILED---\")\n",
    "        error_message = [(\"user\", f\"Your test case run failed with exception: {e}\")]\n",
    "        messages += error_message\n",
    "        return {\n",
    "            \"messages\": messages,\n",
    "            \"error\": \"yes\",\n",
    "        }\n",
    "\n",
    "## Add conditional edges\n",
    "\n",
    "def run_test_cases(state: GraphState):\n",
    "    \"\"\"\n",
    "    Determines whether to run test cases.\n",
    "\n",
    "    Args:\n",
    "        state (dict): The current graph state\n",
    "\n",
    "    Returns:\n",
    "        str: Next node to call\n",
    "    \"\"\"\n",
    "    error = state[\"error\"]\n",
    "\n",
    "    if error == \"no\":\n",
    "        print(\"---DECISION: Code Worked. Run Test cases---\")\n",
    "        return \"test_cases\"\n",
    "    else:\n",
    "        print(\"---DECISION: RE-TRY CODE GENERATION---\")\n",
    "        return \"generate\"\n",
    "\n",
    "def end_flow_decision(state: GraphState):\n",
    "    \"\"\"\n",
    "    Determines whether to finish.\n",
    "\n",
    "    Args:\n",
    "        state (dict): The current graph state\n",
    "\n",
    "    Returns:\n",
    "        str: Next node to call\n",
    "    \"\"\"\n",
    "    error = state[\"error\"]\n",
    "    iterations = state[\"iterations\"]\n",
    "\n",
    "    if error == \"no\" or iterations == max_iterations:\n",
    "        print(\"---DECISION: FINISH---\")\n",
    "        return \"end\"\n",
    "    else:\n",
    "        print(\"---DECISION: RE-TRY SOLUTION---\")\n",
    "        return \"generate\"\n"
   ]
  },
  {
   "cell_type": "markdown",
   "metadata": {},
   "source": [
    "### Define Graph Flow"
   ]
  },
  {
   "cell_type": "code",
   "execution_count": 11,
   "metadata": {},
   "outputs": [],
   "source": [
    "from langgraph.graph import END, StateGraph\n",
    "from langgraph.checkpoint.sqlite import SqliteSaver\n",
    "\n",
    "workflow = StateGraph(GraphState)\n",
    "\n",
    "\n",
    "# Define the nodes\n",
    "workflow.add_node(\"generate\", code_generation_node) \n",
    "workflow.add_node(\"check_code\", code_execution_check) \n",
    "workflow.add_node(\"test_cases\", code_test_cases_check) \n",
    "\n",
    "# Build graph\n",
    "workflow.set_entry_point(\"generate\")\n",
    "workflow.add_edge(\"generate\", \"check_code\")\n",
    "workflow.add_conditional_edges(\n",
    "    \"check_code\",\n",
    "    run_test_cases,\n",
    "    {\n",
    "        \"test_cases\": \"test_cases\",\n",
    "        \"generate\": \"generate\",\n",
    "    },\n",
    ")\n",
    "\n",
    "workflow.add_conditional_edges(\n",
    "    \"test_cases\",\n",
    "    end_flow_decision,\n",
    "    {\n",
    "        \"end\": END,\n",
    "        \"generate\": \"generate\",\n",
    "    },\n",
    ")\n",
    "\n",
    "memory = SqliteSaver.from_conn_string(\":memory:\")\n",
    "graph = workflow.compile(checkpointer=memory)\n",
    "\n",
    "\n",
    "graph = workflow.compile()"
   ]
  },
  {
   "cell_type": "code",
   "execution_count": 12,
   "metadata": {},
   "outputs": [
    {
     "name": "stdout",
     "output_type": "stream",
     "text": [
      "             +-----------+        \n",
      "             | __start__ |        \n",
      "             +-----------+        \n",
      "                   *              \n",
      "                   *              \n",
      "                   *              \n",
      "             +----------+         \n",
      "             | generate |         \n",
      "             +----------+         \n",
      "            ...          ..       \n",
      "           .               ..     \n",
      "         ..                  ..   \n",
      "+------------+                 .. \n",
      "| check_code |               ..   \n",
      "+------------+             ..     \n",
      "            ...          ..       \n",
      "               .       ..         \n",
      "                ..   ..           \n",
      "            +------------+        \n",
      "            | test_cases |        \n",
      "            +------------+        \n",
      "                   .              \n",
      "                   .              \n",
      "                   .              \n",
      "              +---------+         \n",
      "              | __end__ |         \n",
      "              +---------+         \n"
     ]
    }
   ],
   "source": [
    "graph.get_graph().print_ascii()"
   ]
  },
  {
   "cell_type": "code",
   "execution_count": 13,
   "metadata": {},
   "outputs": [
    {
     "data": {
      "image/jpeg": "[encoded data removed]",
      "text/plain": [
       "<IPython.core.display.Image object>"
      ]
     },
     "metadata": {},
     "output_type": "display_data"
    }
   ],
   "source": [
    "from IPython.display import Image, display\n",
    "\n",
    "try:\n",
    "    display(Image(graph.get_graph().draw_mermaid_png()))\n",
    "except:\n",
    "    # This requires some extra dependencies and is optional\n",
    "    pass"
   ]
  },
  {
   "cell_type": "markdown",
   "metadata": {},
   "source": [
    "### Run the graph"
   ]
  },
  {
   "cell_type": "code",
   "execution_count": 14,
   "metadata": {},
   "outputs": [
    {
     "name": "stdout",
     "output_type": "stream",
     "text": [
      "{'error': 'no', 'messages': [HumanMessage(content='Write a Python program that finds the index of the maximum value in a list.', id='b65e761c-9026-4a78-8246-64165062c00a')], 'iterations': 0}\n",
      "Code Solution after generation:  {'description': 'This function finds the index of the maximum value in a list.', 'imports': 'None', 'code': 'def find_max_index(lst):\\n    if not lst:\\n        return -1\\n    max_index = 0\\n    for i in range(1, len(lst)):\\n        if lst[i] > lst[max_index]:\\n            max_index = i\\n    return max_index', 'test': {'input': 'result = find_max_index([1, 3, 7, 2, 5])\\nprint(result)', 'output': '2'}}\n",
      "{'code_generation': {'description': 'This function finds the index of the maximum value in a list.', 'imports': 'None', 'code': 'def find_max_index(lst):\\n    if not lst:\\n        return -1\\n    max_index = 0\\n    for i in range(1, len(lst)):\\n        if lst[i] > lst[max_index]:\\n            max_index = i\\n    return max_index', 'test': {'input': 'result = find_max_index([1, 3, 7, 2, 5])\\nprint(result)', 'output': '2'}}, 'error': 'no', 'messages': [HumanMessage(content='Write a Python program that finds the index of the maximum value in a list.', id='b65e761c-9026-4a78-8246-64165062c00a'), AIMessage(content=\"Here is my attempt to solve the problem: This function finds the index of the maximum value in a list. \\n Imports: None \\n Code: def find_max_index(lst):\\n    if not lst:\\n        return -1\\n    max_index = 0\\n    for i in range(1, len(lst)):\\n        if lst[i] > lst[max_index]:\\n            max_index = i\\n    return max_index. The test case I shared are \\n Test Case: {'input': 'result = find_max_index([1, 3, 7, 2, 5])\\\\nprint(result)', 'output': '2'}\", id='41cb290d-3c92-45d5-b318-903ad2acd5de'), AIMessage(content=\"Here is my attempt to solve the problem: This function finds the index of the maximum value in a list. \\n Imports: None \\n Code: def find_max_index(lst):\\n    if not lst:\\n        return -1\\n    max_index = 0\\n    for i in range(1, len(lst)):\\n        if lst[i] > lst[max_index]:\\n            max_index = i\\n    return max_index. The test case I shared are \\n Test Case: {'input': 'result = find_max_index([1, 3, 7, 2, 5])\\\\nprint(result)', 'output': '2'}\", id='d0614454-6ef9-4cef-87d4-3d5150127923')], 'iterations': 1}\n",
      "----CHECKING CODE EXECUTION---------\n",
      "---NO CODE EXECUTION FAILURES---\n",
      "---DECISION: Code Worked. Run Test cases---\n",
      "{'code_generation': {'description': 'This function finds the index of the maximum value in a list.', 'imports': 'None', 'code': 'def find_max_index(lst):\\n    if not lst:\\n        return -1\\n    max_index = 0\\n    for i in range(1, len(lst)):\\n        if lst[i] > lst[max_index]:\\n            max_index = i\\n    return max_index', 'test': {'input': 'result = find_max_index([1, 3, 7, 2, 5])\\nprint(result)', 'output': '2'}}, 'error': 'no', 'messages': [HumanMessage(content='Write a Python program that finds the index of the maximum value in a list.', id='b65e761c-9026-4a78-8246-64165062c00a'), AIMessage(content=\"Here is my attempt to solve the problem: This function finds the index of the maximum value in a list. \\n Imports: None \\n Code: def find_max_index(lst):\\n    if not lst:\\n        return -1\\n    max_index = 0\\n    for i in range(1, len(lst)):\\n        if lst[i] > lst[max_index]:\\n            max_index = i\\n    return max_index. The test case I shared are \\n Test Case: {'input': 'result = find_max_index([1, 3, 7, 2, 5])\\\\nprint(result)', 'output': '2'}\", id='41cb290d-3c92-45d5-b318-903ad2acd5de'), AIMessage(content=\"Here is my attempt to solve the problem: This function finds the index of the maximum value in a list. \\n Imports: None \\n Code: def find_max_index(lst):\\n    if not lst:\\n        return -1\\n    max_index = 0\\n    for i in range(1, len(lst)):\\n        if lst[i] > lst[max_index]:\\n            max_index = i\\n    return max_index. The test case I shared are \\n Test Case: {'input': 'result = find_max_index([1, 3, 7, 2, 5])\\\\nprint(result)', 'output': '2'}\", id='d0614454-6ef9-4cef-87d4-3d5150127923')], 'iterations': 1}\n",
      "----CHECKING TEST CASES---------\n",
      "TEST CASE CHECK - PASSED!\n",
      "---DECISION: FINISH---\n",
      "{'code_generation': {'description': 'This function finds the index of the maximum value in a list.', 'imports': 'None', 'code': 'def find_max_index(lst):\\n    if not lst:\\n        return -1\\n    max_index = 0\\n    for i in range(1, len(lst)):\\n        if lst[i] > lst[max_index]:\\n            max_index = i\\n    return max_index', 'test': {'input': 'result = find_max_index([1, 3, 7, 2, 5])\\nprint(result)', 'output': '2'}}, 'error': 'no', 'messages': [HumanMessage(content='Write a Python program that finds the index of the maximum value in a list.', id='b65e761c-9026-4a78-8246-64165062c00a'), AIMessage(content=\"Here is my attempt to solve the problem: This function finds the index of the maximum value in a list. \\n Imports: None \\n Code: def find_max_index(lst):\\n    if not lst:\\n        return -1\\n    max_index = 0\\n    for i in range(1, len(lst)):\\n        if lst[i] > lst[max_index]:\\n            max_index = i\\n    return max_index. The test case I shared are \\n Test Case: {'input': 'result = find_max_index([1, 3, 7, 2, 5])\\\\nprint(result)', 'output': '2'}\", id='41cb290d-3c92-45d5-b318-903ad2acd5de'), AIMessage(content=\"Here is my attempt to solve the problem: This function finds the index of the maximum value in a list. \\n Imports: None \\n Code: def find_max_index(lst):\\n    if not lst:\\n        return -1\\n    max_index = 0\\n    for i in range(1, len(lst)):\\n        if lst[i] > lst[max_index]:\\n            max_index = i\\n    return max_index. The test case I shared are \\n Test Case: {'input': 'result = find_max_index([1, 3, 7, 2, 5])\\\\nprint(result)', 'output': '2'}\", id='d0614454-6ef9-4cef-87d4-3d5150127923')], 'iterations': 1}\n"
     ]
    }
   ],
   "source": [
    "import uuid\n",
    "thread_id = str(uuid.uuid4())\n",
    "config = {\n",
    "    \"configurable\": {\n",
    "        # Checkpoints are accessed by thread_id\n",
    "        \"thread_id\": thread_id,\n",
    "    }\n",
    "}\n",
    "\n",
    "question = \"Write a Python program that finds the index of the maximum value in a list.\"\n",
    "for s in graph.stream(\n",
    "    {\"messages\": [(\"user\", question)], \"iterations\": 0, \"error\": \"no\"}, config, stream_mode=\"values\"):\n",
    "    print(s)"
   ]
  },
  {
   "cell_type": "code",
   "execution_count": 18,
   "metadata": {},
   "outputs": [
    {
     "name": "stdout",
     "output_type": "stream",
     "text": [
      "{'code': 'def find_max_index(lst):\\n'\n",
      "         '    if not lst:\\n'\n",
      "         '        return -1\\n'\n",
      "         '    max_index = 0\\n'\n",
      "         '    for i in range(1, len(lst)):\\n'\n",
      "         '        if lst[i] > lst[max_index]:\\n'\n",
      "         '            max_index = i\\n'\n",
      "         '    return max_index',\n",
      " 'description': 'This function finds the index of the maximum value in a list.',\n",
      " 'imports': 'None',\n",
      " 'test': {'input': 'result = find_max_index([1, 3, 7, 2, 5])\\nprint(result)',\n",
      "          'output': '2'}}\n"
     ]
    }
   ],
   "source": [
    "final_solution = s['code_generation']\n",
    "\n",
    "pprint.pprint(final_solution)"
   ]
  },
  {
   "cell_type": "code",
   "execution_count": 19,
   "metadata": {},
   "outputs": [
    {
     "name": "stdout",
     "output_type": "stream",
     "text": [
      "{'error': 'no', 'messages': [HumanMessage(content='Write a Python program that takes two strings as input and returns the largest common substring between them.', id='92baedca-014a-402f-a472-9aeb00ea7359')], 'iterations': 0}\n",
      "Code Solution after generation:  {'description': 'This function takes two strings as input and returns the largest common substring between them.', 'imports': 'None', 'code': \"def largest_common_substring(str1, str2):\\n    m = len(str1)\\n    n = len(str2)\\n    result = ''\\n    length = 0\\n    dp = [[0] * (n + 1) for _ in range(m + 1)]\\n\\n    for i in range(1, m + 1):\\n        for j in range(1, n + 1):\\n            if str1[i - 1] == str2[j - 1]:\\n                dp[i][j] = dp[i - 1][j - 1] + 1\\n                if dp[i][j] > length:\\n                    length = dp[i][j]\\n                    result = str1[i - length:i]\\n            else:\\n                dp[i][j] = 0\\n\\n    return result\", 'test': {'input': \"result = largest_common_substring('abcdef', 'zabcf')\\nprint(result)\", 'output': 'abc'}}\n",
      "{'code_generation': {'description': 'This function takes two strings as input and returns the largest common substring between them.', 'imports': 'None', 'code': \"def largest_common_substring(str1, str2):\\n    m = len(str1)\\n    n = len(str2)\\n    result = ''\\n    length = 0\\n    dp = [[0] * (n + 1) for _ in range(m + 1)]\\n\\n    for i in range(1, m + 1):\\n        for j in range(1, n + 1):\\n            if str1[i - 1] == str2[j - 1]:\\n                dp[i][j] = dp[i - 1][j - 1] + 1\\n                if dp[i][j] > length:\\n                    length = dp[i][j]\\n                    result = str1[i - length:i]\\n            else:\\n                dp[i][j] = 0\\n\\n    return result\", 'test': {'input': \"result = largest_common_substring('abcdef', 'zabcf')\\nprint(result)\", 'output': 'abc'}}, 'error': 'no', 'messages': [HumanMessage(content='Write a Python program that takes two strings as input and returns the largest common substring between them.', id='92baedca-014a-402f-a472-9aeb00ea7359'), AIMessage(content='Here is my attempt to solve the problem: This function takes two strings as input and returns the largest common substring between them. \\n Imports: None \\n Code: def largest_common_substring(str1, str2):\\n    m = len(str1)\\n    n = len(str2)\\n    result = \\'\\'\\n    length = 0\\n    dp = [[0] * (n + 1) for _ in range(m + 1)]\\n\\n    for i in range(1, m + 1):\\n        for j in range(1, n + 1):\\n            if str1[i - 1] == str2[j - 1]:\\n                dp[i][j] = dp[i - 1][j - 1] + 1\\n                if dp[i][j] > length:\\n                    length = dp[i][j]\\n                    result = str1[i - length:i]\\n            else:\\n                dp[i][j] = 0\\n\\n    return result. The test case I shared are \\n Test Case: {\\'input\\': \"result = largest_common_substring(\\'abcdef\\', \\'zabcf\\')\\\\nprint(result)\", \\'output\\': \\'abc\\'}', id='a2108456-887d-419f-acc4-5cf50ac345eb'), AIMessage(content='Here is my attempt to solve the problem: This function takes two strings as input and returns the largest common substring between them. \\n Imports: None \\n Code: def largest_common_substring(str1, str2):\\n    m = len(str1)\\n    n = len(str2)\\n    result = \\'\\'\\n    length = 0\\n    dp = [[0] * (n + 1) for _ in range(m + 1)]\\n\\n    for i in range(1, m + 1):\\n        for j in range(1, n + 1):\\n            if str1[i - 1] == str2[j - 1]:\\n                dp[i][j] = dp[i - 1][j - 1] + 1\\n                if dp[i][j] > length:\\n                    length = dp[i][j]\\n                    result = str1[i - length:i]\\n            else:\\n                dp[i][j] = 0\\n\\n    return result. The test case I shared are \\n Test Case: {\\'input\\': \"result = largest_common_substring(\\'abcdef\\', \\'zabcf\\')\\\\nprint(result)\", \\'output\\': \\'abc\\'}', id='97dc8c4f-56d0-4536-bad9-f092e9f17bd6')], 'iterations': 1}\n",
      "----CHECKING CODE EXECUTION---------\n",
      "---NO CODE EXECUTION FAILURES---\n",
      "---DECISION: Code Worked. Run Test cases---\n",
      "{'code_generation': {'description': 'This function takes two strings as input and returns the largest common substring between them.', 'imports': 'None', 'code': \"def largest_common_substring(str1, str2):\\n    m = len(str1)\\n    n = len(str2)\\n    result = ''\\n    length = 0\\n    dp = [[0] * (n + 1) for _ in range(m + 1)]\\n\\n    for i in range(1, m + 1):\\n        for j in range(1, n + 1):\\n            if str1[i - 1] == str2[j - 1]:\\n                dp[i][j] = dp[i - 1][j - 1] + 1\\n                if dp[i][j] > length:\\n                    length = dp[i][j]\\n                    result = str1[i - length:i]\\n            else:\\n                dp[i][j] = 0\\n\\n    return result\", 'test': {'input': \"result = largest_common_substring('abcdef', 'zabcf')\\nprint(result)\", 'output': 'abc'}}, 'error': 'no', 'messages': [HumanMessage(content='Write a Python program that takes two strings as input and returns the largest common substring between them.', id='92baedca-014a-402f-a472-9aeb00ea7359'), AIMessage(content='Here is my attempt to solve the problem: This function takes two strings as input and returns the largest common substring between them. \\n Imports: None \\n Code: def largest_common_substring(str1, str2):\\n    m = len(str1)\\n    n = len(str2)\\n    result = \\'\\'\\n    length = 0\\n    dp = [[0] * (n + 1) for _ in range(m + 1)]\\n\\n    for i in range(1, m + 1):\\n        for j in range(1, n + 1):\\n            if str1[i - 1] == str2[j - 1]:\\n                dp[i][j] = dp[i - 1][j - 1] + 1\\n                if dp[i][j] > length:\\n                    length = dp[i][j]\\n                    result = str1[i - length:i]\\n            else:\\n                dp[i][j] = 0\\n\\n    return result. The test case I shared are \\n Test Case: {\\'input\\': \"result = largest_common_substring(\\'abcdef\\', \\'zabcf\\')\\\\nprint(result)\", \\'output\\': \\'abc\\'}', id='a2108456-887d-419f-acc4-5cf50ac345eb'), AIMessage(content='Here is my attempt to solve the problem: This function takes two strings as input and returns the largest common substring between them. \\n Imports: None \\n Code: def largest_common_substring(str1, str2):\\n    m = len(str1)\\n    n = len(str2)\\n    result = \\'\\'\\n    length = 0\\n    dp = [[0] * (n + 1) for _ in range(m + 1)]\\n\\n    for i in range(1, m + 1):\\n        for j in range(1, n + 1):\\n            if str1[i - 1] == str2[j - 1]:\\n                dp[i][j] = dp[i - 1][j - 1] + 1\\n                if dp[i][j] > length:\\n                    length = dp[i][j]\\n                    result = str1[i - length:i]\\n            else:\\n                dp[i][j] = 0\\n\\n    return result. The test case I shared are \\n Test Case: {\\'input\\': \"result = largest_common_substring(\\'abcdef\\', \\'zabcf\\')\\\\nprint(result)\", \\'output\\': \\'abc\\'}', id='97dc8c4f-56d0-4536-bad9-f092e9f17bd6')], 'iterations': 1}\n",
      "----CHECKING TEST CASES---------\n",
      "TEST CASE CHECK - PASSED!\n",
      "---DECISION: FINISH---\n",
      "{'code_generation': {'description': 'This function takes two strings as input and returns the largest common substring between them.', 'imports': 'None', 'code': \"def largest_common_substring(str1, str2):\\n    m = len(str1)\\n    n = len(str2)\\n    result = ''\\n    length = 0\\n    dp = [[0] * (n + 1) for _ in range(m + 1)]\\n\\n    for i in range(1, m + 1):\\n        for j in range(1, n + 1):\\n            if str1[i - 1] == str2[j - 1]:\\n                dp[i][j] = dp[i - 1][j - 1] + 1\\n                if dp[i][j] > length:\\n                    length = dp[i][j]\\n                    result = str1[i - length:i]\\n            else:\\n                dp[i][j] = 0\\n\\n    return result\", 'test': {'input': \"result = largest_common_substring('abcdef', 'zabcf')\\nprint(result)\", 'output': 'abc'}}, 'error': 'no', 'messages': [HumanMessage(content='Write a Python program that takes two strings as input and returns the largest common substring between them.', id='92baedca-014a-402f-a472-9aeb00ea7359'), AIMessage(content='Here is my attempt to solve the problem: This function takes two strings as input and returns the largest common substring between them. \\n Imports: None \\n Code: def largest_common_substring(str1, str2):\\n    m = len(str1)\\n    n = len(str2)\\n    result = \\'\\'\\n    length = 0\\n    dp = [[0] * (n + 1) for _ in range(m + 1)]\\n\\n    for i in range(1, m + 1):\\n        for j in range(1, n + 1):\\n            if str1[i - 1] == str2[j - 1]:\\n                dp[i][j] = dp[i - 1][j - 1] + 1\\n                if dp[i][j] > length:\\n                    length = dp[i][j]\\n                    result = str1[i - length:i]\\n            else:\\n                dp[i][j] = 0\\n\\n    return result. The test case I shared are \\n Test Case: {\\'input\\': \"result = largest_common_substring(\\'abcdef\\', \\'zabcf\\')\\\\nprint(result)\", \\'output\\': \\'abc\\'}', id='a2108456-887d-419f-acc4-5cf50ac345eb'), AIMessage(content='Here is my attempt to solve the problem: This function takes two strings as input and returns the largest common substring between them. \\n Imports: None \\n Code: def largest_common_substring(str1, str2):\\n    m = len(str1)\\n    n = len(str2)\\n    result = \\'\\'\\n    length = 0\\n    dp = [[0] * (n + 1) for _ in range(m + 1)]\\n\\n    for i in range(1, m + 1):\\n        for j in range(1, n + 1):\\n            if str1[i - 1] == str2[j - 1]:\\n                dp[i][j] = dp[i - 1][j - 1] + 1\\n                if dp[i][j] > length:\\n                    length = dp[i][j]\\n                    result = str1[i - length:i]\\n            else:\\n                dp[i][j] = 0\\n\\n    return result. The test case I shared are \\n Test Case: {\\'input\\': \"result = largest_common_substring(\\'abcdef\\', \\'zabcf\\')\\\\nprint(result)\", \\'output\\': \\'abc\\'}', id='97dc8c4f-56d0-4536-bad9-f092e9f17bd6')], 'iterations': 1}\n"
     ]
    }
   ],
   "source": [
    "import uuid\n",
    "thread_id = str(uuid.uuid4())\n",
    "config = {\n",
    "    \"configurable\": {\n",
    "        # Checkpoints are accessed by thread_id\n",
    "        \"thread_id\": thread_id,\n",
    "    }\n",
    "}\n",
    "\n",
    "question = \"Write a Python program that takes two strings as input and returns the largest common substring between them.\"\n",
    "for s in graph.stream(\n",
    "    {\"messages\": [(\"user\", question)], \"iterations\": 0, \"error\": \"no\"}, config, stream_mode=\"values\"):\n",
    "    print(s)"
   ]
  },
  {
   "cell_type": "code",
   "execution_count": 21,
   "metadata": {},
   "outputs": [
    {
     "name": "stdout",
     "output_type": "stream",
     "text": [
      "{'code': 'def largest_common_substring(str1, str2):\\n'\n",
      "         '    m = len(str1)\\n'\n",
      "         '    n = len(str2)\\n'\n",
      "         \"    result = ''\\n\"\n",
      "         '    length = 0\\n'\n",
      "         '    dp = [[0] * (n + 1) for _ in range(m + 1)]\\n'\n",
      "         '\\n'\n",
      "         '    for i in range(1, m + 1):\\n'\n",
      "         '        for j in range(1, n + 1):\\n'\n",
      "         '            if str1[i - 1] == str2[j - 1]:\\n'\n",
      "         '                dp[i][j] = dp[i - 1][j - 1] + 1\\n'\n",
      "         '                if dp[i][j] > length:\\n'\n",
      "         '                    length = dp[i][j]\\n'\n",
      "         '                    result = str1[i - length:i]\\n'\n",
      "         '            else:\\n'\n",
      "         '                dp[i][j] = 0\\n'\n",
      "         '\\n'\n",
      "         '    return result',\n",
      " 'description': 'This function takes two strings as input and returns the '\n",
      "                'largest common substring between them.',\n",
      " 'imports': 'None',\n",
      " 'test': {'input': \"result = largest_common_substring('abcdef', 'zabcf')\\n\"\n",
      "                   'print(result)',\n",
      "          'output': 'abc'}}\n"
     ]
    }
   ],
   "source": [
    "final_solution = s['code_generation']\n",
    "pprint.pprint(final_solution)"
   ]
  },
  {
   "cell_type": "code",
   "execution_count": null,
   "metadata": {},
   "outputs": [],
   "source": []
  }
 ],
 "metadata": {
  "kernelspec": {
   "display_name": "base",
   "language": "python",
   "name": "python3"
  },
  "language_info": {
   "codemirror_mode": {
    "name": "ipython",
    "version": 3
   },
   "file_extension": ".py",
   "mimetype": "text/x-python",
   "name": "python",
   "nbconvert_exporter": "python",
   "pygments_lexer": "ipython3",
   "version": "3.12.4"
  }
 },
 "nbformat": 4,
 "nbformat_minor": 2
}
