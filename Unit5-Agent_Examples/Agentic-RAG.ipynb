{
 "cells": [
  {
   "cell_type": "markdown",
   "metadata": {},
   "source": [
    "# Agentic RAG with Routing"
   ]
  },
  {
   "cell_type": "markdown",
   "metadata": {},
   "source": [
    "![agentic-rag](images/agentic-rag.png)"
   ]
  },
  {
   "cell_type": "code",
   "execution_count": 40,
   "metadata": {},
   "outputs": [
    {
     "data": {
      "text/plain": [
       "True"
      ]
     },
     "execution_count": 40,
     "metadata": {},
     "output_type": "execute_result"
    }
   ],
   "source": [
    "import os\n",
    "import yaml\n",
    "from dotenv import load_dotenv\n",
    "import pprint\n",
    "##to load credentials\n",
    "load_dotenv()\n"
   ]
  },
  {
   "cell_type": "code",
   "execution_count": 3,
   "metadata": {},
   "outputs": [],
   "source": [
    "os.environ[\"GOOGLE_API_KEY\"] = os.getenv(\"OPENAI_API_KEY\") ## Put your OpenAI API key here\n",
    "os.environ[\"TAVILY_API_KEY\"] = os.getenv(\"TAVILY_API_KEY\") ## Put your Tavily Search API key here\n",
    "os.environ[\"LANGCHAIN_API_KEY\"] = os.getenv(\"LANGCHAIN_API_KEY\") ## Put your Langsmith API key here\n",
    "os.environ[\"LANGCHAIN_HUB_API_KEY\"] = os.getenv(\"LANGCHAIN_API_KEY\") ## Put your Langsmith API key here\n",
    "os.environ[\"LANGCHAIN_TRACING_V2\"] = 'true' ## Set this as True\n",
    "os.environ[\"LANGCHAIN_ENDPOINT\"] = 'https://api.smith.langchain.com/' ## Set this as: https://api.smith.langchain.com/\n",
    "os.environ[\"LANGCHAIN_HUB_API_URL\"] = 'https://api.hub.langchain.com' ## Set this as : https://api.hub.langchain.com\n",
    "os.environ[\"LANGCHAIN_PROJECT\"] = 'llm-agents'"
   ]
  },
  {
   "cell_type": "markdown",
   "metadata": {},
   "source": [
    "## Defining Databases for the Query Router"
   ]
  },
  {
   "cell_type": "markdown",
   "metadata": {},
   "source": [
    "### Web Search Tool"
   ]
  },
  {
   "cell_type": "code",
   "execution_count": 4,
   "metadata": {},
   "outputs": [],
   "source": [
    "from langchain_community.tools.tavily_search import TavilySearchResults\n",
    "\n",
    "web_search_tool = TavilySearchResults(max_results=3)"
   ]
  },
  {
   "cell_type": "code",
   "execution_count": 5,
   "metadata": {},
   "outputs": [
    {
     "data": {
      "text/plain": [
       "[{'url': 'https://www.morningstar.com/markets/when-will-fed-start-cutting-interest-rates',\n",
       "  'content': 'At many points in the past 10 years (when the Fed first started issuing multiyear projections for the fed-funds rate), the Fed has veered from its initial forecasts owing to shifts in the data.\\n Then, starting around the beginning of 2024 (we expect in the first meeting in March 2024), we expect the Fed to begin cutting the fed-funds rate.\\n U.S. Interest-Rate Forecast: What We See for the Future\\nIn the short run, our interest-rate forecast is centered on the Fed and its attempt to smooth out economic cycles. Because the yield curve has inverted so much, the Fed has been forced to hike the federal-funds rate more than it would have otherwise in order to sufficiently cool off the economy.\\n When the economy is overheated (the output gap is positive and inflation is high), as today, then the Fed seeks to hike interest rates to slow growth.\\n'},\n",
       " {'url': 'https://apnews.com/article/federal-reserve-rate-cuts-inflation-spending-b85c813418a1d00cfcf0391e9441ce02',\n",
       "  'content': \"The Fed has pushed its key rate to a 23-year high of 5.3% in an effort to bring down inflation, which peaked at 9.1% in June 2022. Yet despite those sharp increases, Americans, on average, spent just 9.8% of their after-tax income paying interest and principal on their debts in last year's fourth quarter. Two years earlier — before the Fed ...\"},\n",
       " {'url': 'https://www.cnn.com/2024/06/12/economy/june-fed-decision/index.html',\n",
       "  'content': 'The Fed has kept interest rates at a 23-year high for nearly a year, after kicking off an aggressive rate-hiking campaign in March 2022. Central bankers are waiting for more evidence that ...'}]"
      ]
     },
     "execution_count": 5,
     "metadata": {},
     "output_type": "execute_result"
    }
   ],
   "source": [
    "web_results = web_search_tool.invoke({\"query\": \"when will interest rates fall?\"})\n",
    "web_results"
   ]
  },
  {
   "cell_type": "markdown",
   "metadata": {},
   "source": [
    "### Arxiv Search Tool"
   ]
  },
  {
   "cell_type": "code",
   "execution_count": 6,
   "metadata": {},
   "outputs": [
    {
     "data": {
      "text/plain": [
       "'Published: 2024-06-09\\nTitle: RATT: A Thought Structure for Coherent and Correct LLM Reasoning\\nAuthors: Jinghan Zhang, Xiting Wang, Weijieying Ren, Lu Jiang, Dongjie Wang, Kunpeng Liu\\nSummary: Large Language Models (LLMs) gain substantial reasoning and decision-making\\ncapabilities from thought structures. However, existing methods such as Tree of\\nThought and Retrieval Augmented Thoughts often fall short in complex tasks due\\nto the limitations of insufficient local retrieval of factual knowledge and\\ninadequate global selection of strategies. These limitations make it\\nchallenging for these methods to balance factual accuracy and comprehensive\\nlogical optimization effectively. To address these limitations, we introduce\\nthe Retrieval Augmented Thought Tree (RATT), a novel thought structure that\\nconsiders both overall logical soundness and factual correctness at each step\\nof the thinking process. Specifically, at every point of a thought branch, RATT\\nperforms planning and lookahead to explore and evaluate multiple potential\\nreasoning steps, and integrate the fact-checking ability of Retrieval-Augmented\\nGeneration (RAG) with LLM\\'s ability to assess overall strategy. Through this\\ncombination of factual knowledge and strategic feasibility, the RATT adjusts\\nand integrates the thought tree structure to search for the most promising\\nbranches within the search space. This thought structure significantly enhances\\nthe model\\'s coherence in logical inference and efficiency in decision-making,\\nand thus increases the limit of the capacity of LLM to generate reliable\\ninferences and decisions based on thought structures. A broad range of\\nexperiments on different types of tasks showcases that the RATT structure\\nsignificantly outperforms existing methods in factual correctness and logical\\ncoherence.\\n\\nPublished: 2024-02-23\\nTitle: Everything of Thoughts: Defying the Law of Penrose Triangle for Thought Generation\\nAuthors: Ruomeng Ding, Chaoyun Zhang, Lu Wang, Yong Xu, Minghua Ma, Wei Zhang, Si Qin, Saravan Rajmohan, Qingwei Lin, Dongmei Zhang\\nSummary: Recent advancements in Large Language Models (LLMs) have revolutionized\\ndecision-making by breaking down complex problems into more manageable language\\nsequences referred to as \"thoughts\". An effective thought design should\\nconsider three key perspectives: performance, efficiency, and flexibility.\\nHowever, existing thought can at most exhibit two of these attributes. To\\naddress these limitations, we introduce a novel thought prompting approach\\ncalled \"Everything of Thoughts\" (XoT) to defy the law of \"Penrose triangle of\\nexisting thought paradigms. XoT leverages pretrained reinforcement learning and\\nMonte Carlo Tree Search (MCTS) to incorporate external domain knowledge into\\nthoughts, thereby enhancing LLMs\\' capabilities and enabling them to generalize\\nto unseen problems efficiently. Through the utilization of the MCTS-LLM\\ncollaborative thought revision framework, this approach autonomously produces\\nhigh-quality comprehensive cognitive mappings with minimal LLM interactions.\\nAdditionally, XoT empowers LLMs to engage in unconstrained thinking, allowing\\nfor flexible cognitive mappings for problems with multiple solutions. We\\nevaluate XoT on several challenging multi-solution problem-solving tasks,\\nincluding Game of 24, 8-Puzzle, and Pocket Cube. Our results demonstrate that\\nXoT significantly outperforms existing approaches. Notably, XoT can yield\\nmultiple solutions with just one LLM call, showcasing its remarkable\\nproficiency in addressing complex problems across diverse domains.\\n\\nPublished: 2023-09-14\\nTitle: Tree of Uncertain Thoughts Reasoning for Large Language Models\\nAuthors: Shentong Mo, Miao Xin\\nSummary: While the recently introduced Tree of Thoughts (ToT) has heralded\\nadvancements in allowing Large Language Models (LLMs) to reason through\\nforesight and backtracking for global decision-making, it has overlooked the\\ninherent local uncertainties in intermediate decision points or \"thoughts\".\\nThese local uncertainties, intrinsic to LLMs given their potential for diverse\\nresponses, remain a significant concern in the reasoning process. Addressing\\nthis pivotal gap, we introduce the Tree of Uncertain Thoughts (TouT) - a\\nreasoning framework tailored for LLMs. Our TouT effectively leverages Monte\\nCarlo Dropout to quantify uncertainty scores associated with LLMs\\' diverse\\nlocal responses at these intermediate steps. By marrying this local uncertainty\\nquantification with global search algorithms, TouT enhances the model\\'s\\nprecision in response generation. We substantiate our approach with rigorous\\nexperiments on two demanding planning tasks: Game of 24 and Mini Crosswords.\\nThe empirical evidence underscores TouT\\'s superiority over both ToT and\\nchain-of-thought prompting methods.'"
      ]
     },
     "execution_count": 6,
     "metadata": {},
     "output_type": "execute_result"
    }
   ],
   "source": [
    "from langchain_community.utilities.arxiv import ArxivAPIWrapper\n",
    "arxiv = ArxivAPIWrapper(\n",
    "    top_k_results = 3,\n",
    "    ARXIV_MAX_QUERY_LENGTH = 300,\n",
    "    load_max_docs = 3,\n",
    "    load_all_available_meta = False,\n",
    "    doc_content_chars_max = 40000\n",
    ")\n",
    "arxiv.run(\"tree of thought llm\")"
   ]
  },
  {
   "cell_type": "markdown",
   "metadata": {},
   "source": [
    "### Private Database"
   ]
  },
  {
   "cell_type": "code",
   "execution_count": 7,
   "metadata": {},
   "outputs": [
    {
     "name": "stdout",
     "output_type": "stream",
     "text": [
      "We have: 64 pages\n",
      "We have: 126 chunks\n"
     ]
    }
   ],
   "source": [
    "from langchain_community.document_loaders import PyPDFLoader\n",
    "from langchain.text_splitter import RecursiveCharacterTextSplitter\n",
    "from langchain_community.vectorstores import Chroma\n",
    "from langchain_openai import OpenAIEmbeddings\n",
    "\n",
    "loader = PyPDFLoader(\"data/recipes.pdf\")\n",
    "pages = loader.load_and_split()\n",
    "print(f\"We have: {len(pages)} pages\")\n",
    "\n",
    "text_splitter = RecursiveCharacterTextSplitter.from_tiktoken_encoder(\n",
    "    chunk_size=250, chunk_overlap=0\n",
    ")\n",
    "doc_splits = text_splitter.split_documents(pages)\n",
    "print(f\"We have: {len(doc_splits)} chunks\")\n",
    "\n",
    "# Add to vectorDB\n",
    "vectorstore = Chroma.from_documents(\n",
    "    documents=doc_splits,\n",
    "    collection_name=\"rag-chroma\",\n",
    "    embedding=OpenAIEmbeddings(),\n",
    ")\n",
    "recipe_retriever = vectorstore.as_retriever()"
   ]
  },
  {
   "cell_type": "code",
   "execution_count": 8,
   "metadata": {},
   "outputs": [
    {
     "name": "stdout",
     "output_type": "stream",
     "text": [
      "[Document(page_content='2. Mix the vegetables with lentils and leave \\nto boil for 20 minutes.\\n3. Grind lentils, carrots and onion in the \\nblender. \\n4. Add the remaining ingredients to the soup \\nand return to the heat to boil for a while. \\n5. Serve the soup and garnish with parsley.\\nPreferred for\\nRamadan', metadata={'page': 3, 'source': 'data/recipes.pdf'}), Document(page_content='1 teaspoon of ginger \\n1 clove garlic \\n1 teaspoon of cumin   \\n1 tablespoon of tomato paste 4 cups of water \\n1 tablespoon soft coriander\\na pinch of turmeric\\na pinch of salt\\nPreparation : \\n1.  Wash vegetables and chop finely.2.  Sprinkle the canola oil in the pot then add onions, garlic, ginger and stir until they wilt. \\n3.  Add vegetables to pot, starting with potatoes, carrots, celery, pumpkin, zucchini and tomato. \\n4.  Mix the vegetables and sprinkle salt, spices, tomato paste and add water then leave on the \\nheat for half an hour. \\n5.  Sprinkle coriander on hot the soup and serve.Vegetable Soup\\nPreferred for\\nRamadan', metadata={'page': 4, 'source': 'data/recipes.pdf'}), Document(page_content='over medium-low heat.\\n2. Add onion and cook, stirring frequently, until onion \\nis very limp (about 10 minutes), taking care to not \\nlet the onion brown.\\n3. Add thyme, oregano, tomatoes with their juice,     and chicken broth. Bring to a boil; reduce heat        \\nto low and simmer, partially cover for 20 minutes.\\n4. Taste soup, add salt and pepper.\\n5. Stir in evaporated milk and heat through.\\n Do not let mixture actually boil.\\nCream of Tomato Soup', metadata={'page': 2, 'source': 'data/recipes.pdf'}), Document(page_content='4. When boiling, add spices, cover the pot and leave the mixture over low heat for 40 minutes. \\n5. Put all 4 slices toasted bread in clay bowl, add 2 tablespoons of cheese and 2 serving spoons of hot soup \\nin each bowl. \\n6. Put the bowls in the preheated oven at (250º) until content becomes brown.\\n7. Serve hot. Preferred for\\nRamadan', metadata={'page': 6, 'source': 'data/recipes.pdf'})]\n"
     ]
    }
   ],
   "source": [
    "docs = recipe_retriever.invoke(\"How do I make a lentil soup\")\n",
    "print(docs)"
   ]
  },
  {
   "cell_type": "markdown",
   "metadata": {},
   "source": [
    "## Query Router"
   ]
  },
  {
   "cell_type": "markdown",
   "metadata": {},
   "source": [
    "### Use semantic routing for fast routing of queries\n",
    "\n",
    "Learn more here: https://github.com/aurelio-labs/semantic-router"
   ]
  },
  {
   "cell_type": "code",
   "execution_count": 9,
   "metadata": {},
   "outputs": [
    {
     "name": "stderr",
     "output_type": "stream",
     "text": [
      "/Users/pdwivedi/miniconda3/envs/llm_agents/lib/python3.12/site-packages/tqdm/auto.py:21: TqdmWarning: IProgress not found. Please update jupyter and ipywidgets. See https://ipywidgets.readthedocs.io/en/stable/user_install.html\n",
      "  from .autonotebook import tqdm as notebook_tqdm\n"
     ]
    }
   ],
   "source": [
    "from semantic_router import Route\n",
    "\n",
    "# we could use this as a guide for our chatbot to avoid political conversations\n",
    "recipes = Route(\n",
    "    name=\"recipes\",\n",
    "    utterances = [\n",
    "    \"How do I make lentil soup?\",\n",
    "    \"Share recipe for chicken soup\",\n",
    "    \"Do you have any salad recipes?\",\n",
    "    \"How do I make falafel?\"\n",
    "    ])\n",
    "\n",
    "ai = Route(\n",
    "    name=\"ai\",\n",
    "    utterances = [\n",
    "    \"What is tree of thought prompting?\",\n",
    "    \"Why is dropout using in neural networks?\",\n",
    "    \"How was Mistral model trained?\",\n",
    "    \"Tell me about RLHF\"\n",
    "    ])\n",
    "\n",
    "chitchat = Route(\n",
    "    name=\"chitchat\",\n",
    "    utterances=[\n",
    "        \"how's the weather today?\",\n",
    "        \"how are things going?\",\n",
    "        \"plans for the weekend\"\n",
    "    ],\n",
    ")\n",
    "\n",
    "# we place both of our decisions together into single list\n",
    "routes = [recipes, ai, chitchat]\n"
   ]
  },
  {
   "cell_type": "code",
   "execution_count": 10,
   "metadata": {},
   "outputs": [
    {
     "name": "stderr",
     "output_type": "stream",
     "text": [
      "\u001b[32m2024-06-15 08:21:41 INFO semantic_router.utils.logger local\u001b[0m\n"
     ]
    }
   ],
   "source": [
    "from semantic_router.encoders import OpenAIEncoder\n",
    "encoder = OpenAIEncoder()\n",
    "\n",
    "from semantic_router.layer import RouteLayer\n",
    "rl = RouteLayer(encoder=encoder, routes=routes)"
   ]
  },
  {
   "cell_type": "code",
   "execution_count": 11,
   "metadata": {},
   "outputs": [
    {
     "name": "stdout",
     "output_type": "stream",
     "text": [
      "recipes\n"
     ]
    }
   ],
   "source": [
    "print(rl(\"How do I make onion soup?\").name)"
   ]
  },
  {
   "cell_type": "code",
   "execution_count": 12,
   "metadata": {},
   "outputs": [
    {
     "name": "stdout",
     "output_type": "stream",
     "text": [
      "ai\n"
     ]
    }
   ],
   "source": [
    "print(rl(\"What is chain of thought prompting?\").name)"
   ]
  },
  {
   "cell_type": "code",
   "execution_count": 13,
   "metadata": {},
   "outputs": [
    {
     "name": "stdout",
     "output_type": "stream",
     "text": [
      "None\n"
     ]
    }
   ],
   "source": [
    "print(rl(\"how do I go from NY to LA?\").name)"
   ]
  },
  {
   "cell_type": "markdown",
   "metadata": {},
   "source": [
    "## Retrieval Grader or document grader\n",
    "<i>This module will grade the quality of retrieved documents </i>"
   ]
  },
  {
   "cell_type": "code",
   "execution_count": 14,
   "metadata": {},
   "outputs": [],
   "source": [
    "from langchain_openai import ChatOpenAI\n",
    "from langchain_core.prompts import ChatPromptTemplate\n",
    "from together_llm import TogetherLLM\n",
    "\n",
    "\n",
    "llm_grader = TogetherLLM(model='meta-llama/Llama-3-8b-chat-hf', temperature=0.2, max_tokens=4)\n",
    "\n",
    "\n",
    "# Prompt\n",
    "system = \"\"\"You are a grader assessing relevance of a retrieved document to a user question. \\n \n",
    "    If the document contains keyword(s) or semantic meaning related to the question, grade it as relevant. \\n\n",
    "    Give a binary score 'yes' or 'no' score to indicate whether the document is relevant to the question.\n",
    "    Only answer with the binary score as yes or no. I don't need explanation\"\"\"\n",
    "\n",
    "grade_prompt = ChatPromptTemplate.from_messages(\n",
    "    [\n",
    "        (\"system\", system),\n",
    "        (\"human\", \"Retrieved document: \\n\\n {document} \\n\\n User question: {question}\"),\n",
    "    ]\n",
    ")\n",
    "\n",
    "retrieval_grader = grade_prompt | llm_grader"
   ]
  },
  {
   "cell_type": "code",
   "execution_count": 15,
   "metadata": {},
   "outputs": [
    {
     "name": "stderr",
     "output_type": "stream",
     "text": [
      "/Users/pdwivedi/miniconda3/envs/llm_agents/lib/python3.12/site-packages/langchain_core/_api/deprecation.py:119: LangChainDeprecationWarning: The method `BaseRetriever.get_relevant_documents` was deprecated in langchain-core 0.1.46 and will be removed in 0.3.0. Use invoke instead.\n",
      "  warn_deprecated(\n"
     ]
    },
    {
     "name": "stdout",
     "output_type": "stream",
     "text": [
      "yes\n"
     ]
    }
   ],
   "source": [
    "question = \"lentil soup recipe\"\n",
    "docs = recipe_retriever.get_relevant_documents(question)\n",
    "doc_txt = docs[1].page_content + docs[2].page_content + docs[3].page_content\n",
    "print(retrieval_grader.invoke({\"question\": question, \"document\": doc_txt}))"
   ]
  },
  {
   "cell_type": "markdown",
   "metadata": {},
   "source": [
    "## Generate answer"
   ]
  },
  {
   "cell_type": "code",
   "execution_count": 30,
   "metadata": {},
   "outputs": [
    {
     "name": "stdout",
     "output_type": "stream",
     "text": [
      "To make lentil soup, you need to put lentils, carrots, onion, and water in a pot and place it on high heat until boiling, then reduce the heat. Mix the vegetables with lentils and let it boil for 20 minutes. Grind lentils, carrots, and onion in a blender. Add the remaining ingredients to the soup and return it to the heat to boil for a while. Serve the soup and garnish with parsley.\n"
     ]
    }
   ],
   "source": [
    "### Generate\n",
    "\n",
    "from langchain_core.prompts import PromptTemplate\n",
    "from langchain_core.output_parsers import StrOutputParser\n",
    "\n",
    "# Prompt\n",
    "system_prompt = '''You are an assistant for question-answering tasks. Use the following pieces of retrieved context to \n",
    "answer the question. If you don't know the answer, just say that you don't know.\n",
    ".\\nQuestion: {question} \\nContext: {context} \\nAnswer:\n",
    "'''\n",
    "\n",
    "generate_answer_prompt = PromptTemplate(\n",
    "        input_variables=[\"context\", \"question\"], template=system_prompt)\n",
    "\n",
    "# LLM\n",
    "llm = ChatOpenAI(model_name=\"gpt-3.5-turbo\", temperature=0)\n",
    "\n",
    "\n",
    "# Post-processing\n",
    "def format_docs(docs):\n",
    "    return \"\\n\\n\".join(doc.page_content for doc in docs)\n",
    "\n",
    "\n",
    "# Chain\n",
    "rag_chain = generate_answer_prompt | llm | StrOutputParser()\n",
    "\n",
    "# Run\n",
    "generation = rag_chain.invoke({\"context\": docs, \"question\": question})\n",
    "print(generation)"
   ]
  },
  {
   "cell_type": "markdown",
   "metadata": {},
   "source": [
    "## Define the flow using Langgraph"
   ]
  },
  {
   "cell_type": "markdown",
   "metadata": {},
   "source": [
    "![Agentic-RAG-block](images/agentic-rag-block.png)"
   ]
  },
  {
   "cell_type": "markdown",
   "metadata": {},
   "source": [
    "### Graph State"
   ]
  },
  {
   "cell_type": "code",
   "execution_count": 31,
   "metadata": {},
   "outputs": [],
   "source": [
    "from typing_extensions import TypedDict\n",
    "from typing import List\n",
    "\n",
    "\n",
    "class GraphState(TypedDict):\n",
    "    \"\"\"\n",
    "    Represents the state of our graph.\n",
    "\n",
    "    Attributes:\n",
    "        question: Question from the user\n",
    "        route: Route chosen by the Query Router\n",
    "        documents: list of documents from either RAG, Arxiv or websearch\n",
    "        score: document relevance score\n",
    "        answer: final response to user's question\n",
    "    \"\"\"\n",
    "\n",
    "    question: str\n",
    "    route: str\n",
    "    documents: str\n",
    "    score: str\n",
    "    answer: str"
   ]
  },
  {
   "cell_type": "markdown",
   "metadata": {},
   "source": [
    "### Define Graph Nodes"
   ]
  },
  {
   "cell_type": "code",
   "execution_count": 32,
   "metadata": {},
   "outputs": [],
   "source": [
    "def query_router(state):\n",
    "    \"\"\"\n",
    "    Route Queries\n",
    "    Args:\n",
    "        state (dict): The current graph state\n",
    "    Returns:\n",
    "        state (dict): New key added to state that contains the route\n",
    "    \"\"\"\n",
    "    print(\"---ROUTING---\")\n",
    "    question = state[\"question\"]\n",
    "    chosen_route = ''\n",
    "\n",
    "    # Retrieval\n",
    "    if rl(question).name==None:\n",
    "        chosen_route =  \"web_search\"\n",
    "    else:\n",
    "        chosen_route = rl(question).name\n",
    "    return {'route': chosen_route}\n",
    "\n",
    "\n",
    "def retriever(state):\n",
    "    \"\"\"\n",
    "    Retrieving Docs\n",
    "    Args:\n",
    "        state (dict): The current graph state\n",
    "    Returns:\n",
    "        state (dict): New key added to state that contains the retrieved documents\n",
    "    \"\"\"\n",
    "    print(\"---RETRIEVING---\")\n",
    "    chosen_route = state['route']\n",
    "    question = state['question']\n",
    "    if chosen_route =='web_search' or chosen_route=='chitchat':\n",
    "        results = web_search_tool.invoke({\"query\": question})\n",
    "        result_content = [result['content'] for result in results]\n",
    "        docs = '/n'.join(result_content)\n",
    "    elif chosen_route=='ai':\n",
    "        docs = arxiv.run(question)\n",
    "    elif chosen_route=='recipes':\n",
    "        results = recipe_retriever.invoke(question)\n",
    "        result_content = [result.page_content for result in results]\n",
    "        docs = '/n'.join(result_content)\n",
    "    return {'documents': docs}\n",
    "\n",
    "\n",
    "def grade_documents(state):\n",
    "    \"\"\"\n",
    "    Determines whether the retrieved documents are relevant to the question.\n",
    "    Args:\n",
    "        state (dict): The current graph state\n",
    "    Returns:\n",
    "        state (dict): Adds a document relevance score to the state\n",
    "    \"\"\"\n",
    "\n",
    "    print(\"---GRADE DOCUMENT RELEVANCE---\")\n",
    "    question = state[\"question\"]\n",
    "    documents = state[\"documents\"]\n",
    "\n",
    "    score = retrieval_grader.invoke({\"question\": question, \"document\": documents})\n",
    "    if score.lower() ==\"yes\":\n",
    "        print(\"Documents are relevant\")\n",
    "    else:\n",
    "        print(\"Documents are irrelevant\")\n",
    "    return {'score': score.lower()}\n",
    "\n",
    "\n",
    "def generate_answer(state):\n",
    "    \"\"\"\n",
    "    Determines whether the retrieved documents are relevant to the question.\n",
    "    Args:\n",
    "        state (dict): The current graph state\n",
    "    Returns:\n",
    "        state (dict): Updates documents key with only filtered relevant documents\n",
    "    \"\"\"\n",
    "\n",
    "    print(\"---GENERATE ANSWER---\")\n",
    "    question = state[\"question\"]\n",
    "    documents = state[\"documents\"]\n",
    "    score = state['score']\n",
    "    \n",
    "    if score == 'no':\n",
    "        ## Run websearch \n",
    "        results = web_search_tool.invoke({\"query\": question})\n",
    "        result_content = [result['content'] for result in results]\n",
    "        documents = '/n'.join(result_content)\n",
    "\n",
    "    # RAG generation\n",
    "    generation = rag_chain.invoke({\"context\": documents, \"question\": question})\n",
    "    return {'answer': generation, 'documents': documents}\n"
   ]
  },
  {
   "cell_type": "markdown",
   "metadata": {},
   "source": [
    "### Define Graph Flow"
   ]
  },
  {
   "cell_type": "code",
   "execution_count": 33,
   "metadata": {},
   "outputs": [],
   "source": [
    "from langgraph.graph import END, StateGraph\n",
    "\n",
    "workflow = StateGraph(GraphState)\n",
    "\n",
    "\n",
    "# Define the nodes\n",
    "workflow.add_node(\"query_router\", query_router) \n",
    "workflow.add_node(\"retrieve\", retriever) \n",
    "workflow.add_node(\"grade_documents\", grade_documents)\n",
    "workflow.add_node(\"generate\", generate_answer)\n",
    "\n",
    "\n",
    "## Define Flow\n",
    "workflow.set_entry_point(\"query_router\")\n",
    "workflow.add_edge(\"query_router\", \"retrieve\")\n",
    "workflow.add_edge(\"retrieve\", \"grade_documents\")\n",
    "workflow.add_edge(\"grade_documents\", \"generate\")\n",
    "workflow.add_edge(\"generate\", END)\n",
    "\n",
    "graph = workflow.compile()"
   ]
  },
  {
   "cell_type": "code",
   "execution_count": 34,
   "metadata": {},
   "outputs": [
    {
     "name": "stdout",
     "output_type": "stream",
     "text": [
      "   +-----------+     \n",
      "   | __start__ |     \n",
      "   +-----------+     \n",
      "          *          \n",
      "          *          \n",
      "          *          \n",
      "  +--------------+   \n",
      "  | query_router |   \n",
      "  +--------------+   \n",
      "          *          \n",
      "          *          \n",
      "          *          \n",
      "    +----------+     \n",
      "    | retrieve |     \n",
      "    +----------+     \n",
      "          *          \n",
      "          *          \n",
      "          *          \n",
      "+-----------------+  \n",
      "| grade_documents |  \n",
      "+-----------------+  \n",
      "          *          \n",
      "          *          \n",
      "          *          \n",
      "    +----------+     \n",
      "    | generate |     \n",
      "    +----------+     \n",
      "          *          \n",
      "          *          \n",
      "          *          \n",
      "    +---------+      \n",
      "    | __end__ |      \n",
      "    +---------+      \n"
     ]
    }
   ],
   "source": [
    "graph.get_graph().print_ascii()"
   ]
  },
  {
   "cell_type": "code",
   "execution_count": 35,
   "metadata": {},
   "outputs": [
    {
     "data": {
      "image/jpeg": "[encoded data removed]",
      "text/plain": [
       "<IPython.core.display.Image object>"
      ]
     },
     "metadata": {},
     "output_type": "display_data"
    }
   ],
   "source": [
    "from IPython.display import Image, display\n",
    "\n",
    "try:\n",
    "    display(Image(graph.get_graph().draw_mermaid_png()))\n",
    "except:\n",
    "    # This requires some extra dependencies and is optional\n",
    "    pass"
   ]
  },
  {
   "cell_type": "markdown",
   "metadata": {},
   "source": [
    "### Run the graph"
   ]
  },
  {
   "cell_type": "code",
   "execution_count": 42,
   "metadata": {},
   "outputs": [
    {
     "name": "stdout",
     "output_type": "stream",
     "text": [
      "---ROUTING---\n",
      "{'query_router': {'route': 'recipes'}}\n",
      "---RETRIEVING---\n"
     ]
    },
    {
     "name": "stderr",
     "output_type": "stream",
     "text": [
      "Error in LangChainTracer.on_chain_end callback: AttributeError(\"'NoneType' object has no attribute 'append'\")\n"
     ]
    },
    {
     "name": "stdout",
     "output_type": "stream",
     "text": [
      "{'retrieve': {'documents': 'decorate with radish.Nutritional value per serving: \\n• Calories: 36kcal• Fat: 2g • Saturated fat: 0g • Cholesterol: 0g• Carbohydrates: 4g • Protein: 1g• Sodium: 93mg• Fiber: 1gCucumber and Radish Salad\\nPreferred for\\nRamadan/nkcal = kilo calories; g = grams; mg = milligrams\\nWafaa Helmi Ayesh, Director of Clinical Nutrition Department. Clinical Support Services Sector  - Dubai Health Authority - UAEReference\\n© 2013 - LifeScan Middle East & Africa a division of Johnson & Johnson (Middle East) Inc - AW MEA 0313CG-MEANAR-ED1.Ingredients:\\n10 radishes \\n2 pieces seedless cucumber \\n1 fresh hot pepper cut into rings without seeds  \\n2 tablespoons chopped fresh basil\\n½ teaspoon sugar\\n1/4 teaspoon salt \\n1 tablespoon olive oil \\n1 tablespoon vinegar\\nPreparation:\\n1. Take one piece of radish aside for decoration. \\n2. Then cut 5 radishes into slices, and cut the rest of the radishes into halves or four. \\n3. Cut the cucumber into strips.\\n4. Take a pot and mix the sliced radish, cucumber ribbons, chili, basil, sugar, and \\nsalt.  \\n5. Add olive oil and white vinegar and mix all lightly to blend with vegetable and/nkcal = kilo calories; g = grams; mg = milligrams\\nWafaa Helmi Ayesh, Director of Clinical Nutrition Department. Clinical Support Services Sector  - Dubai Health Authority - UAEReference\\n© 2013 - LifeScan Middle East & Africa a division of Johnson & Johnson (Middle East) Inc - AW MEA 0313CG-MEANAR-ED1.\\nIngredients:\\n1 small cabbage (or ½ large cabbage) \\n1 carrot \\n½ cup labna1 tablespoon mayonnaise\\n2 tablespoons low-fat yoghurt\\n½ tablespoon sugar \\n½ teaspoon vinegar\\nPreparation:\\n1. Grate the carrots.\\n2. Mix the following ingredients: mayonnaise, labna, milk, sugar and vinegar.\\n3. Soak the carrot with the above sauce and cover it. Keep in refrigerator for 20 mins. \\n4. Chop or shred the cabbage. \\n5. Combine the cabbage, carrots and sauce serve cold.Cabbage Salad (Coleslaw) \\nThis dish is enough for 4 people and is prepared in a way to make it low in calories for those who \\nfollow a healthy diet or weight reducing diet./n5. Mix in a deep dish the yoghurt, curry, salt and pepper until mix become homogeneous. \\n6. Put the vegetables in a deep dish and add this sauce. \\n7. Put chopped almonds on top.Preferred for\\nRamadan'}}\n",
      "---GRADE DOCUMENT RELEVANCE---\n"
     ]
    },
    {
     "name": "stderr",
     "output_type": "stream",
     "text": [
      "Error in LangChainTracer.on_chain_end callback: AttributeError(\"'NoneType' object has no attribute 'append'\")\n"
     ]
    },
    {
     "name": "stdout",
     "output_type": "stream",
     "text": [
      "Documents are relevant\n",
      "{'grade_documents': {'score': 'yes'}}\n",
      "---GENERATE ANSWER---\n"
     ]
    },
    {
     "name": "stderr",
     "output_type": "stream",
     "text": [
      "Error in LangChainTracer.on_chain_end callback: AttributeError(\"'NoneType' object has no attribute 'append'\")\n"
     ]
    },
    {
     "name": "stdout",
     "output_type": "stream",
     "text": [
      "{'generate': {'documents': 'decorate with radish.Nutritional value per serving: \\n• Calories: 36kcal• Fat: 2g • Saturated fat: 0g • Cholesterol: 0g• Carbohydrates: 4g • Protein: 1g• Sodium: 93mg• Fiber: 1gCucumber and Radish Salad\\nPreferred for\\nRamadan/nkcal = kilo calories; g = grams; mg = milligrams\\nWafaa Helmi Ayesh, Director of Clinical Nutrition Department. Clinical Support Services Sector  - Dubai Health Authority - UAEReference\\n© 2013 - LifeScan Middle East & Africa a division of Johnson & Johnson (Middle East) Inc - AW MEA 0313CG-MEANAR-ED1.Ingredients:\\n10 radishes \\n2 pieces seedless cucumber \\n1 fresh hot pepper cut into rings without seeds  \\n2 tablespoons chopped fresh basil\\n½ teaspoon sugar\\n1/4 teaspoon salt \\n1 tablespoon olive oil \\n1 tablespoon vinegar\\nPreparation:\\n1. Take one piece of radish aside for decoration. \\n2. Then cut 5 radishes into slices, and cut the rest of the radishes into halves or four. \\n3. Cut the cucumber into strips.\\n4. Take a pot and mix the sliced radish, cucumber ribbons, chili, basil, sugar, and \\nsalt.  \\n5. Add olive oil and white vinegar and mix all lightly to blend with vegetable and/nkcal = kilo calories; g = grams; mg = milligrams\\nWafaa Helmi Ayesh, Director of Clinical Nutrition Department. Clinical Support Services Sector  - Dubai Health Authority - UAEReference\\n© 2013 - LifeScan Middle East & Africa a division of Johnson & Johnson (Middle East) Inc - AW MEA 0313CG-MEANAR-ED1.\\nIngredients:\\n1 small cabbage (or ½ large cabbage) \\n1 carrot \\n½ cup labna1 tablespoon mayonnaise\\n2 tablespoons low-fat yoghurt\\n½ tablespoon sugar \\n½ teaspoon vinegar\\nPreparation:\\n1. Grate the carrots.\\n2. Mix the following ingredients: mayonnaise, labna, milk, sugar and vinegar.\\n3. Soak the carrot with the above sauce and cover it. Keep in refrigerator for 20 mins. \\n4. Chop or shred the cabbage. \\n5. Combine the cabbage, carrots and sauce serve cold.Cabbage Salad (Coleslaw) \\nThis dish is enough for 4 people and is prepared in a way to make it low in calories for those who \\nfollow a healthy diet or weight reducing diet./n5. Mix in a deep dish the yoghurt, curry, salt and pepper until mix become homogeneous. \\n6. Put the vegetables in a deep dish and add this sauce. \\n7. Put chopped almonds on top.Preferred for\\nRamadan', 'answer': 'Cucumber and Radish Salad Recipe:\\n\\nIngredients:\\n- 10 radishes\\n- 2 seedless cucumbers\\n- 1 fresh hot pepper (without seeds), cut into rings\\n- 2 tablespoons chopped fresh basil\\n- 1/2 teaspoon sugar\\n- 1/4 teaspoon salt\\n- 1 tablespoon olive oil\\n- 1 tablespoon vinegar\\n\\nPreparation:\\n1. Set aside one radish for decoration.\\n2. Slice 5 radishes and cut the rest into halves or quarters.\\n3. Cut the cucumbers into strips.\\n4. In a bowl, mix the sliced radishes, cucumber strips, hot pepper, basil, sugar, and salt.\\n5. Add olive oil and vinegar, then lightly mix to blend with the vegetables.\\n6. Decorate with the remaining radish.\\n\\nEnjoy your Cucumber and Radish Salad!'}}\n"
     ]
    }
   ],
   "source": [
    "thread = {\"configurable\": {\"thread_id\": \"1\"}}\n",
    "for s in graph.stream({\n",
    "    'question': \"Share the recipe for cucumber and radish salad\",\n",
    "}, thread):\n",
    "    print(s)"
   ]
  },
  {
   "cell_type": "code",
   "execution_count": 43,
   "metadata": {},
   "outputs": [
    {
     "name": "stdout",
     "output_type": "stream",
     "text": [
      "('Cucumber and Radish Salad Recipe:\\n'\n",
      " '\\n'\n",
      " 'Ingredients:\\n'\n",
      " '- 10 radishes\\n'\n",
      " '- 2 seedless cucumbers\\n'\n",
      " '- 1 fresh hot pepper (without seeds), cut into rings\\n'\n",
      " '- 2 tablespoons chopped fresh basil\\n'\n",
      " '- 1/2 teaspoon sugar\\n'\n",
      " '- 1/4 teaspoon salt\\n'\n",
      " '- 1 tablespoon olive oil\\n'\n",
      " '- 1 tablespoon vinegar\\n'\n",
      " '\\n'\n",
      " 'Preparation:\\n'\n",
      " '1. Set aside one radish for decoration.\\n'\n",
      " '2. Slice 5 radishes and cut the rest into halves or quarters.\\n'\n",
      " '3. Cut the cucumbers into strips.\\n'\n",
      " '4. In a bowl, mix the sliced radishes, cucumber strips, hot pepper, basil, '\n",
      " 'sugar, and salt.\\n'\n",
      " '5. Add olive oil and vinegar, then lightly mix to blend with the '\n",
      " 'vegetables.\\n'\n",
      " '6. Decorate with the remaining radish.\\n'\n",
      " '\\n'\n",
      " 'Enjoy your Cucumber and Radish Salad!')\n"
     ]
    }
   ],
   "source": [
    "pprint.pprint(s['generate']['answer'])"
   ]
  },
  {
   "cell_type": "code",
   "execution_count": 44,
   "metadata": {},
   "outputs": [
    {
     "name": "stdout",
     "output_type": "stream",
     "text": [
      "---ROUTING---\n",
      "{'query_router': {'route': 'ai'}}\n",
      "---RETRIEVING---\n",
      "{'retrieve': {'documents': 'Published: 2024-05-09\\nTitle: Hypothesis Testing Prompting Improves Deductive Reasoning in Large Language Models\\nAuthors: Yitian Li, Jidong Tian, Hao He, Yaohui Jin\\nSummary: Combining different forms of prompts with pre-trained large language models\\nhas yielded remarkable results on reasoning tasks (e.g. Chain-of-Thought\\nprompting). However, along with testing on more complex reasoning, these\\nmethods also expose problems such as invalid reasoning and fictional reasoning\\npaths. In this paper, we develop \\\\textit{Hypothesis Testing Prompting}, which\\nadds conclusion assumptions, backward reasoning, and fact verification during\\nintermediate reasoning steps. \\\\textit{Hypothesis Testing prompting} involves\\nmultiple assumptions and reverses validation of conclusions leading to its\\nunique correct answer. Experiments on two challenging deductive reasoning\\ndatasets ProofWriter and RuleTaker show that hypothesis testing prompting not\\nonly significantly improves the effect, but also generates a more reasonable\\nand standardized reasoning process.\\n\\nPublished: 2023-10-09\\nTitle: Guiding Large Language Models via Directional Stimulus Prompting\\nAuthors: Zekun Li, Baolin Peng, Pengcheng He, Michel Galley, Jianfeng Gao, Xifeng Yan\\nSummary: We introduce Directional Stimulus Prompting, a novel framework for guiding\\nblack-box large language models (LLMs) toward specific desired outputs. Instead\\nof directly adjusting LLMs, our method employs a small tunable policy model\\n(e.g., T5) to generate an auxiliary directional stimulus prompt for each input\\ninstance. These directional stimulus prompts act as nuanced, instance-specific\\nhints and clues to guide LLMs in generating desired outcomes, such as including\\nspecific keywords in the generated summary. Our approach sidesteps the\\nchallenges of direct LLM tuning by optimizing the policy model to explore\\ndirectional stimulus prompts that align LLMs with desired behaviors. The policy\\nmodel can be optimized through 1) supervised fine-tuning using labeled data and\\n2) reinforcement learning from offline or online rewards based on the LLM\\'s\\noutput. We assess our method across summarization, dialogue response\\ngeneration, and chain-of-thought reasoning tasks. Our experiments demonstrate\\nthat the framework consistently improves LLMs\\' (e.g., ChatGPT, Codex,\\nInstructGPT) performance on these supervised tasks using minimal labeled data.\\nNotably, using just 80 dialogues on the MultiWOZ dataset, our approach enhances\\nChatGPT\\'s performance by an impressive 41.4%, matching or surpassing some fully\\nsupervised start-of-the-art models. Additionally, the instance-specific\\nchain-of-thought prompt generated by our approach improves InstructGPT\\'s\\nreasoning accuracy compared to human-crafted or automatically generated\\nprompts. The code and data are publicly available at\\n\\\\url{https://github.com/Leezekun/Directional-Stimulus-Prompting}.\\n\\nPublished: 2024-04-15\\nTitle: Symbolic Chain-of-Thought Distillation: Small Models Can Also \"Think\" Step-by-Step\\nAuthors: Liunian Harold Li, Jack Hessel, Youngjae Yu, Xiang Ren, Kai-Wei Chang, Yejin Choi\\nSummary: Chain-of-thought prompting (e.g., \"Let\\'s think step-by-step\") primes large\\nlanguage models to verbalize rationalization for their predictions. While\\nchain-of-thought can lead to dramatic performance gains, benefits appear to\\nemerge only for sufficiently large models (beyond 50B parameters). We show that\\norders-of-magnitude smaller models (125M -- 1.3B parameters) can still benefit\\nfrom chain-of-thought prompting. To achieve this, we introduce Symbolic\\nChain-of-Thought Distillation (SCoTD), a method to train a smaller student\\nmodel on rationalizations sampled from a significantly larger teacher model.\\nExperiments across several commonsense benchmarks show that: 1) SCoTD enhances\\nthe performance of the student model in both supervised and few-shot settings,\\nand especially for challenge sets; 2) sampling many reasoning chains per\\ninstance from the teacher is paramount; and 3) after distillation, student\\nchain-of-thoughts are judged by humans as comparable to the teacher, despite\\norders of magnitude fewer parameters. We test several hypotheses regarding what\\nproperties of chain-of-thought samples are important, e.g., diversity vs.\\nteacher likelihood vs. open-endedness. We release our corpus of\\nchain-of-thought samples and code.'}}\n",
      "---GRADE DOCUMENT RELEVANCE---\n"
     ]
    },
    {
     "name": "stderr",
     "output_type": "stream",
     "text": [
      "Error in LangChainTracer.on_chain_end callback: AttributeError(\"'NoneType' object has no attribute 'append'\")\n"
     ]
    },
    {
     "name": "stdout",
     "output_type": "stream",
     "text": [
      "Documents are relevant\n",
      "{'grade_documents': {'score': 'yes'}}\n",
      "---GENERATE ANSWER---\n"
     ]
    },
    {
     "name": "stderr",
     "output_type": "stream",
     "text": [
      "Error in LangChainTracer.on_chain_end callback: AttributeError(\"'NoneType' object has no attribute 'append'\")\n"
     ]
    },
    {
     "name": "stdout",
     "output_type": "stream",
     "text": [
      "{'generate': {'documents': 'Published: 2024-05-09\\nTitle: Hypothesis Testing Prompting Improves Deductive Reasoning in Large Language Models\\nAuthors: Yitian Li, Jidong Tian, Hao He, Yaohui Jin\\nSummary: Combining different forms of prompts with pre-trained large language models\\nhas yielded remarkable results on reasoning tasks (e.g. Chain-of-Thought\\nprompting). However, along with testing on more complex reasoning, these\\nmethods also expose problems such as invalid reasoning and fictional reasoning\\npaths. In this paper, we develop \\\\textit{Hypothesis Testing Prompting}, which\\nadds conclusion assumptions, backward reasoning, and fact verification during\\nintermediate reasoning steps. \\\\textit{Hypothesis Testing prompting} involves\\nmultiple assumptions and reverses validation of conclusions leading to its\\nunique correct answer. Experiments on two challenging deductive reasoning\\ndatasets ProofWriter and RuleTaker show that hypothesis testing prompting not\\nonly significantly improves the effect, but also generates a more reasonable\\nand standardized reasoning process.\\n\\nPublished: 2023-10-09\\nTitle: Guiding Large Language Models via Directional Stimulus Prompting\\nAuthors: Zekun Li, Baolin Peng, Pengcheng He, Michel Galley, Jianfeng Gao, Xifeng Yan\\nSummary: We introduce Directional Stimulus Prompting, a novel framework for guiding\\nblack-box large language models (LLMs) toward specific desired outputs. Instead\\nof directly adjusting LLMs, our method employs a small tunable policy model\\n(e.g., T5) to generate an auxiliary directional stimulus prompt for each input\\ninstance. These directional stimulus prompts act as nuanced, instance-specific\\nhints and clues to guide LLMs in generating desired outcomes, such as including\\nspecific keywords in the generated summary. Our approach sidesteps the\\nchallenges of direct LLM tuning by optimizing the policy model to explore\\ndirectional stimulus prompts that align LLMs with desired behaviors. The policy\\nmodel can be optimized through 1) supervised fine-tuning using labeled data and\\n2) reinforcement learning from offline or online rewards based on the LLM\\'s\\noutput. We assess our method across summarization, dialogue response\\ngeneration, and chain-of-thought reasoning tasks. Our experiments demonstrate\\nthat the framework consistently improves LLMs\\' (e.g., ChatGPT, Codex,\\nInstructGPT) performance on these supervised tasks using minimal labeled data.\\nNotably, using just 80 dialogues on the MultiWOZ dataset, our approach enhances\\nChatGPT\\'s performance by an impressive 41.4%, matching or surpassing some fully\\nsupervised start-of-the-art models. Additionally, the instance-specific\\nchain-of-thought prompt generated by our approach improves InstructGPT\\'s\\nreasoning accuracy compared to human-crafted or automatically generated\\nprompts. The code and data are publicly available at\\n\\\\url{https://github.com/Leezekun/Directional-Stimulus-Prompting}.\\n\\nPublished: 2024-04-15\\nTitle: Symbolic Chain-of-Thought Distillation: Small Models Can Also \"Think\" Step-by-Step\\nAuthors: Liunian Harold Li, Jack Hessel, Youngjae Yu, Xiang Ren, Kai-Wei Chang, Yejin Choi\\nSummary: Chain-of-thought prompting (e.g., \"Let\\'s think step-by-step\") primes large\\nlanguage models to verbalize rationalization for their predictions. While\\nchain-of-thought can lead to dramatic performance gains, benefits appear to\\nemerge only for sufficiently large models (beyond 50B parameters). We show that\\norders-of-magnitude smaller models (125M -- 1.3B parameters) can still benefit\\nfrom chain-of-thought prompting. To achieve this, we introduce Symbolic\\nChain-of-Thought Distillation (SCoTD), a method to train a smaller student\\nmodel on rationalizations sampled from a significantly larger teacher model.\\nExperiments across several commonsense benchmarks show that: 1) SCoTD enhances\\nthe performance of the student model in both supervised and few-shot settings,\\nand especially for challenge sets; 2) sampling many reasoning chains per\\ninstance from the teacher is paramount; and 3) after distillation, student\\nchain-of-thoughts are judged by humans as comparable to the teacher, despite\\norders of magnitude fewer parameters. We test several hypotheses regarding what\\nproperties of chain-of-thought samples are important, e.g., diversity vs.\\nteacher likelihood vs. open-endedness. We release our corpus of\\nchain-of-thought samples and code.', 'answer': 'Chain of Thought prompting is a method that primes large language models to verbalize rationalization for their predictions. It involves guiding the model through a series of reasoning steps to improve reasoning accuracy and generate a more reasonable and standardized reasoning process.'}}\n"
     ]
    }
   ],
   "source": [
    "thread = {\"configurable\": {\"thread_id\": \"1\"}}\n",
    "for s in graph.stream({\n",
    "    'question': \"What is Chain of Thought prompting?\",\n",
    "}, thread):\n",
    "    print(s)"
   ]
  },
  {
   "cell_type": "code",
   "execution_count": 45,
   "metadata": {},
   "outputs": [
    {
     "name": "stdout",
     "output_type": "stream",
     "text": [
      "('Chain of Thought prompting is a method that primes large language models to '\n",
      " 'verbalize rationalization for their predictions. It involves guiding the '\n",
      " 'model through a series of reasoning steps to improve reasoning accuracy and '\n",
      " 'generate a more reasonable and standardized reasoning process.')\n"
     ]
    }
   ],
   "source": [
    "pprint.pprint(s['generate']['answer'])"
   ]
  },
  {
   "cell_type": "code",
   "execution_count": 46,
   "metadata": {},
   "outputs": [
    {
     "name": "stdout",
     "output_type": "stream",
     "text": [
      "---ROUTING---\n",
      "{'query_router': {'route': 'web_search'}}\n",
      "---RETRIEVING---\n"
     ]
    },
    {
     "name": "stderr",
     "output_type": "stream",
     "text": [
      "Error in LangChainTracer.on_chain_end callback: AttributeError(\"'NoneType' object has no attribute 'append'\")\n"
     ]
    },
    {
     "name": "stdout",
     "output_type": "stream",
     "text": [
      "{'retrieve': {'documents': 'Change currency. Feedback. Help. Flights from New York to Los Angeles. Use Google Flights to plan your next trip and find cheap one way or round trip flights from New York to Los Angeles./nNonstop departures\\nMonday\\nAeromexico, Air China, Air Europa, +27 more\\nAeromexico, Air China, +28 more\\n26\\n27\\nTuesday\\nAeromexico, Air Europa, Air France, +28 more\\nAeromexico, Air Europa, +29 more\\n27\\n28\\nWednesday\\nAeromexico, Air China, Air Europa, +27 more\\nAeromexico, Air China, +28 more\\n26\\n27\\nThursday\\nAeromexico, Air Europa, Air France, +26 more\\nAeromexico, Air Europa, +27 more\\n25\\n26\\nFriday\\nAeromexico, Air Europa, Air France, +27 more\\nAeromexico, Air Europa, +28 more\\n26\\n27\\nSaturday\\nAeromexico, Air China, Air Europa, +27 more\\nAeromexico, Air China, +28 more\\n26\\n27\\nSunday\\nAeromexico, Air Europa, Air France, +26 more\\nAeromexico, Air Europa, +27 more\\n25\\n26\\nNonstop returns\\nMonday\\nAeromexico, Air Europa, Air France, +26 more\\nAeromexico, Air Europa, +27 more\\n25\\n26\\nTuesday\\nAeromexico, Air Europa, Air France, +27 more\\nAeromexico, Air Europa, +28 more\\n26\\n27\\nWednesday\\nAeromexico, Air Europa, Air France, +26 more\\nAeromexico, Air Europa, +27 more\\n25\\n26\\nThursday\\nAeromexico, Air Europa, Air France, +26 more\\nAeromexico, Air Europa, +27 more\\n25\\n26\\nFriday\\nAeromexico, Air Europa, Air France, +25 more\\nAeromexico, Air Europa, +26 more\\n24\\n25\\nSaturday\\nAeromexico, Air Europa, Air France, +26 more\\nAeromexico, Air Europa, +27 more\\n25\\n26\\nSunday\\nAeromexico, Air Europa, Air France, +27 more\\nAeromexico, Air Europa, +28 more\\n26\\n27\\nTop 5 airlines serving from New York to Los Angeles\\nItâ€™s ridiculous to not have TV screens for a flight that is 5hours long!!!! Book cheap flights from New York to Los Angeles\\nRecent one-way flight deals\\nSearch by stops\\nSearch by airline\\nSearch by price\\nLast minute flights from New York to Los Angeles\\nLast minute flight, train and bus deals\\nSearch by stops\\nSearch by airline\\nSearch by price\\nFlights to Los Angeles\\nDestination:\\nLos Angeles (LAX)United States\\nReturn flight deals:\\nLos Angeles - New York\\nCabin classes:\\n Flights from New York to Los Angeles - Travel Insights & Trends\\nGood to know\\nWhen to book flights from New York to Los Angeles\\nFAQs for booking flights from New York to Los Angeles\\nLAX is devoted to meeting the needs of all its customers and has numerous accessible facilities. Top tips for finding a cheap flight from New York to Los Angeles\\nPrefer to fly non-stop from New York to Los Angeles?\\nFind which airlines fly direct from New York to Los Angeles, which days they fly and book direct flights.\\n Search hundreds of travel sites at once for deals on flights to Los Angeles\\nHow much is the cheapest flight from New York to Los Angeles?\\n/nThe most efficient way to travel from New York to Los Angeles is by flying, which takes around 8 hours and 40 minutes with prices ranging from $100 to $430. Alternatively, you can opt for a bus journey, which takes approximately 2 days and 14 hours, with costs ranging from $310 to $650. Another option is to take a train route via New Orleans ...'}}\n",
      "---GRADE DOCUMENT RELEVANCE---\n"
     ]
    },
    {
     "name": "stderr",
     "output_type": "stream",
     "text": [
      "Error in LangChainTracer.on_chain_end callback: AttributeError(\"'NoneType' object has no attribute 'append'\")\n"
     ]
    },
    {
     "name": "stdout",
     "output_type": "stream",
     "text": [
      "Documents are relevant\n",
      "{'grade_documents': {'score': 'yes'}}\n",
      "---GENERATE ANSWER---\n"
     ]
    },
    {
     "name": "stderr",
     "output_type": "stream",
     "text": [
      "Error in LangChainTracer.on_chain_end callback: AttributeError(\"'NoneType' object has no attribute 'append'\")\n"
     ]
    },
    {
     "name": "stdout",
     "output_type": "stream",
     "text": [
      "{'generate': {'documents': 'Change currency. Feedback. Help. Flights from New York to Los Angeles. Use Google Flights to plan your next trip and find cheap one way or round trip flights from New York to Los Angeles./nNonstop departures\\nMonday\\nAeromexico, Air China, Air Europa, +27 more\\nAeromexico, Air China, +28 more\\n26\\n27\\nTuesday\\nAeromexico, Air Europa, Air France, +28 more\\nAeromexico, Air Europa, +29 more\\n27\\n28\\nWednesday\\nAeromexico, Air China, Air Europa, +27 more\\nAeromexico, Air China, +28 more\\n26\\n27\\nThursday\\nAeromexico, Air Europa, Air France, +26 more\\nAeromexico, Air Europa, +27 more\\n25\\n26\\nFriday\\nAeromexico, Air Europa, Air France, +27 more\\nAeromexico, Air Europa, +28 more\\n26\\n27\\nSaturday\\nAeromexico, Air China, Air Europa, +27 more\\nAeromexico, Air China, +28 more\\n26\\n27\\nSunday\\nAeromexico, Air Europa, Air France, +26 more\\nAeromexico, Air Europa, +27 more\\n25\\n26\\nNonstop returns\\nMonday\\nAeromexico, Air Europa, Air France, +26 more\\nAeromexico, Air Europa, +27 more\\n25\\n26\\nTuesday\\nAeromexico, Air Europa, Air France, +27 more\\nAeromexico, Air Europa, +28 more\\n26\\n27\\nWednesday\\nAeromexico, Air Europa, Air France, +26 more\\nAeromexico, Air Europa, +27 more\\n25\\n26\\nThursday\\nAeromexico, Air Europa, Air France, +26 more\\nAeromexico, Air Europa, +27 more\\n25\\n26\\nFriday\\nAeromexico, Air Europa, Air France, +25 more\\nAeromexico, Air Europa, +26 more\\n24\\n25\\nSaturday\\nAeromexico, Air Europa, Air France, +26 more\\nAeromexico, Air Europa, +27 more\\n25\\n26\\nSunday\\nAeromexico, Air Europa, Air France, +27 more\\nAeromexico, Air Europa, +28 more\\n26\\n27\\nTop 5 airlines serving from New York to Los Angeles\\nItâ€™s ridiculous to not have TV screens for a flight that is 5hours long!!!! Book cheap flights from New York to Los Angeles\\nRecent one-way flight deals\\nSearch by stops\\nSearch by airline\\nSearch by price\\nLast minute flights from New York to Los Angeles\\nLast minute flight, train and bus deals\\nSearch by stops\\nSearch by airline\\nSearch by price\\nFlights to Los Angeles\\nDestination:\\nLos Angeles (LAX)United States\\nReturn flight deals:\\nLos Angeles - New York\\nCabin classes:\\n Flights from New York to Los Angeles - Travel Insights & Trends\\nGood to know\\nWhen to book flights from New York to Los Angeles\\nFAQs for booking flights from New York to Los Angeles\\nLAX is devoted to meeting the needs of all its customers and has numerous accessible facilities. Top tips for finding a cheap flight from New York to Los Angeles\\nPrefer to fly non-stop from New York to Los Angeles?\\nFind which airlines fly direct from New York to Los Angeles, which days they fly and book direct flights.\\n Search hundreds of travel sites at once for deals on flights to Los Angeles\\nHow much is the cheapest flight from New York to Los Angeles?\\n/nThe most efficient way to travel from New York to Los Angeles is by flying, which takes around 8 hours and 40 minutes with prices ranging from $100 to $430. Alternatively, you can opt for a bus journey, which takes approximately 2 days and 14 hours, with costs ranging from $310 to $650. Another option is to take a train route via New Orleans ...', 'answer': 'The most efficient and cheapest way to travel from New York to Los Angeles is by flying, with prices ranging from $100 to $430.'}}\n"
     ]
    }
   ],
   "source": [
    "thread = {\"configurable\": {\"thread_id\": \"1\"}}\n",
    "for s in graph.stream({\n",
    "    'question': \"What are the different ways to go from NY to LA and which is the cheapest?\",\n",
    "}, thread):\n",
    "    print(s)"
   ]
  },
  {
   "cell_type": "code",
   "execution_count": 47,
   "metadata": {},
   "outputs": [
    {
     "name": "stdout",
     "output_type": "stream",
     "text": [
      "('The most efficient and cheapest way to travel from New York to Los Angeles '\n",
      " 'is by flying, with prices ranging from $100 to $430.')\n"
     ]
    }
   ],
   "source": [
    "pprint.pprint(s['generate']['answer'])"
   ]
  },
  {
   "cell_type": "code",
   "execution_count": null,
   "metadata": {},
   "outputs": [],
   "source": []
  }
 ],
 "metadata": {
  "kernelspec": {
   "display_name": "base",
   "language": "python",
   "name": "python3"
  },
  "language_info": {
   "codemirror_mode": {
    "name": "ipython",
    "version": 3
   },
   "file_extension": ".py",
   "mimetype": "text/x-python",
   "name": "python",
   "nbconvert_exporter": "python",
   "pygments_lexer": "ipython3",
   "version": "3.12.2"
  }
 },
 "nbformat": 4,
 "nbformat_minor": 2
}
