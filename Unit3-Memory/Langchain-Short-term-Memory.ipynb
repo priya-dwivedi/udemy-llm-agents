{
 "cells": [
  {
   "cell_type": "code",
   "execution_count": 1,
   "metadata": {},
   "outputs": [],
   "source": [
    "from langchain_openai import ChatOpenAI\n",
    "from langchain_core.prompts import PromptTemplate\n",
    "\n",
    "from langchain.chains import LLMChain\n",
    "from langchain.memory import ConversationBufferMemory, ConversationBufferWindowMemory, ConversationSummaryMemory, ConversationEntityMemory, CombinedMemory\n",
    "import os"
   ]
  },
  {
   "cell_type": "code",
   "execution_count": 2,
   "metadata": {},
   "outputs": [
    {
     "data": {
      "text/plain": [
       "True"
      ]
     },
     "execution_count": 2,
     "metadata": {},
     "output_type": "execute_result"
    }
   ],
   "source": [
    "from dotenv import load_dotenv\n",
    "load_dotenv()"
   ]
  },
  {
   "cell_type": "markdown",
   "metadata": {},
   "source": [
    "### Setup your environment"
   ]
  },
  {
   "cell_type": "code",
   "execution_count": 3,
   "metadata": {},
   "outputs": [],
   "source": [
    "os.environ[\"OPENAI_API_KEY\"] = os.getenv(\"OPENAI_API_KEY\") ## Put your OpenAI API key here\n",
    "os.environ[\"TAVILY_API_KEY\"] = os.getenv(\"TAVILY_API_KEY\") ## Put your Tavily Search API key here\n",
    "os.environ[\"LANGCHAIN_API_KEY\"] = os.getenv(\"LANGCHAIN_API_KEY\") ## Put your Langsmith API key here\n",
    "os.environ[\"LANGCHAIN_HUB_API_KEY\"] = os.getenv(\"LANGCHAIN_API_KEY\") ## Put your Langsmith API key here\n",
    "os.environ[\"LANGCHAIN_TRACING_V2\"] = 'true' ## Set this as True\n",
    "os.environ[\"LANGCHAIN_ENDPOINT\"] = 'https://api.smith.langchain.com/' ## Set this as: https://api.smith.langchain.com/\n",
    "os.environ[\"LANGCHAIN_HUB_API_URL\"] = 'https://api.hub.langchain.com' ## Set this as : https://api.hub.langchain.com\n",
    "os.environ[\"LANGCHAIN_PROJECT\"] = 'llm-agents-memory'"
   ]
  },
  {
   "cell_type": "markdown",
   "metadata": {},
   "source": [
    "## Memory types in Langchain"
   ]
  },
  {
   "cell_type": "markdown",
   "metadata": {},
   "source": [
    "There are different short term memory types supported in Langchain. Important Ones are:\n",
    "* Conversation Buffer Memory\n",
    "* Conversation Buffer Window Memory\n",
    "* Conversation Summary Memory\n",
    "* Entity Memory\n",
    "\n",
    "Read about Langchain memory types here: "
   ]
  },
  {
   "cell_type": "markdown",
   "metadata": {},
   "source": [
    "### Simple Conversation Buffer Memory\n",
    "\n",
    "![Buffer Memory](images/buffer-memory.png)"
   ]
  },
  {
   "cell_type": "markdown",
   "metadata": {},
   "source": [
    "| Pros      | Cons |\n",
    "| ----------- | ----------- |\n",
    "| Simple to implement      | Longer prompt -> Higher cost and Latency       |\n",
    "| Passes everything to the LLM   | Very long conversations will hit the model token limit        |"
   ]
  },
  {
   "cell_type": "code",
   "execution_count": 4,
   "metadata": {},
   "outputs": [
    {
     "name": "stderr",
     "output_type": "stream",
     "text": [
      "/Users/pdwivedi/miniconda3/envs/test/lib/python3.12/site-packages/langchain_core/_api/deprecation.py:119: LangChainDeprecationWarning: The class `LLMChain` was deprecated in LangChain 0.1.17 and will be removed in 0.3.0. Use RunnableSequence, e.g., `prompt | llm` instead.\n",
      "  warn_deprecated(\n"
     ]
    }
   ],
   "source": [
    "\n",
    "llm = ChatOpenAI()\n",
    "template = \"\"\"You are a chatbot having a conversation with a human.\n",
    "\n",
    "{chat_history}\n",
    "Human: {human_input}\n",
    "Chatbot:\"\"\"\n",
    "\n",
    "prompt = PromptTemplate(\n",
    "    input_variables=[\"chat_history\", \"human_input\"], template=template\n",
    ")\n",
    "# Notice that we `return_messages=True` to fit into the MessagesPlaceholder\n",
    "# Notice that `\"chat_history\"` aligns with the MessagesPlaceholder name.\n",
    "memory = ConversationBufferMemory(memory_key=\"chat_history\", return_messages=True)\n",
    "conversation = LLMChain(\n",
    "    llm=llm,\n",
    "    prompt=prompt,\n",
    "    verbose=False,\n",
    "    memory=memory\n",
    ")"
   ]
  },
  {
   "cell_type": "code",
   "execution_count": 5,
   "metadata": {},
   "outputs": [
    {
     "name": "stdout",
     "output_type": "stream",
     "text": [
      "That sounds delicious! What kind of pasta are you thinking of having?\n"
     ]
    }
   ],
   "source": [
    "result = conversation.invoke({\"human_input\": \"hi, I am thinking of having pasta for lunch\"})\n",
    "print(result['text'])"
   ]
  },
  {
   "cell_type": "code",
   "execution_count": 6,
   "metadata": {},
   "outputs": [
    {
     "name": "stdout",
     "output_type": "stream",
     "text": [
      "White sauce pasta is a classic choice! You can add some protein like chicken or shrimp, or some vegetables like broccoli, mushrooms, or spinach to make it more filling and nutritious. You can also top it with some grated parmesan cheese or fresh herbs for extra flavor. Enjoy your lunch!\n"
     ]
    }
   ],
   "source": [
    "result = conversation.invoke({\"human_input\": \"hi,I like white sauce. What else goes with it?\"})\n",
    "print(result['text'])"
   ]
  },
  {
   "cell_type": "code",
   "execution_count": 7,
   "metadata": {},
   "outputs": [
    {
     "name": "stdout",
     "output_type": "stream",
     "text": [
      "For a vegetarian white sauce pasta, you can add ingredients like roasted cherry tomatoes, roasted bell peppers, artichokes, and fresh basil or parsley for herbs. As for wine pairing, a nice crisp white wine like a Pinot Grigio or Sauvignon Blanc would complement the flavors of the pasta well. Enjoy your meal!\n"
     ]
    }
   ],
   "source": [
    "result = conversation.invoke({\"human_input\": \"hi, add vegetarian ingredients and herbs. Also suggest good wine\"})\n",
    "print(result['text'])"
   ]
  },
  {
   "cell_type": "code",
   "execution_count": 8,
   "metadata": {},
   "outputs": [
    {
     "name": "stdout",
     "output_type": "stream",
     "text": [
      "[HumanMessage(content='hi, I am thinking of having pasta for lunch'),\n",
      " AIMessage(content='That sounds delicious! What kind of pasta are you thinking of having?'),\n",
      " HumanMessage(content='hi,I like white sauce. What else goes with it?'),\n",
      " AIMessage(content='White sauce pasta is a classic choice! You can add some protein like chicken or shrimp, or some vegetables like broccoli, mushrooms, or spinach to make it more filling and nutritious. You can also top it with some grated parmesan cheese or fresh herbs for extra flavor. Enjoy your lunch!'),\n",
      " HumanMessage(content='hi, add vegetarian ingredients and herbs. Also suggest good wine'),\n",
      " AIMessage(content='For a vegetarian white sauce pasta, you can add ingredients like roasted cherry tomatoes, roasted bell peppers, artichokes, and fresh basil or parsley for herbs. As for wine pairing, a nice crisp white wine like a Pinot Grigio or Sauvignon Blanc would complement the flavors of the pasta well. Enjoy your meal!')]\n"
     ]
    }
   ],
   "source": [
    "### Look at the chat history stored\n",
    "import pprint\n",
    "pprint.pprint(result['chat_history'])"
   ]
  },
  {
   "cell_type": "markdown",
   "metadata": {},
   "source": [
    "### Conversation Buffer Window Memory\n",
    "\n",
    "![Buffer Memory](images/buffer-window-memory.png)"
   ]
  },
  {
   "cell_type": "markdown",
   "metadata": {},
   "source": [
    "| Pros      | Cons |\n",
    "| ----------- | ----------- |\n",
    "| Simple to implement      | May not pass all the relevant context      |\n",
    "| Passes only recent temporally relevant messages    |"
   ]
  },
  {
   "cell_type": "code",
   "execution_count": 9,
   "metadata": {},
   "outputs": [],
   "source": [
    "llm = ChatOpenAI()\n",
    "template = \"\"\"You are a chatbot having a conversation with a human.\n",
    "\n",
    "{chat_history}\n",
    "Human: {human_input}\n",
    "Chatbot:\"\"\"\n",
    "\n",
    "prompt = PromptTemplate(\n",
    "    input_variables=[\"chat_history\", \"human_input\"], template=template\n",
    ")\n",
    "# Notice that `\"chat_history\"` aligns with the MessagesPlaceholder name.\n",
    "memory = ConversationBufferWindowMemory(memory_key=\"chat_history\", k=2, return_messages=True)\n",
    "conversation = LLMChain(\n",
    "    llm=llm,\n",
    "    prompt=prompt,\n",
    "    verbose=False,\n",
    "    memory=memory\n",
    ")"
   ]
  },
  {
   "cell_type": "code",
   "execution_count": 10,
   "metadata": {},
   "outputs": [
    {
     "name": "stdout",
     "output_type": "stream",
     "text": [
      "Hello! Some of the latest trends in AI include advancements in natural language processing, computer vision, autonomous vehicles, and reinforcement learning. There is also a growing focus on ethical AI and responsible AI development practices. Is there a specific aspect of AI you are interested in?\n"
     ]
    }
   ],
   "source": [
    "result = conversation.invoke({\"human_input\": \"hi! What are the latest trends in AI?\"})\n",
    "print(result['text'])"
   ]
  },
  {
   "cell_type": "code",
   "execution_count": 11,
   "metadata": {},
   "outputs": [
    {
     "name": "stdout",
     "output_type": "stream",
     "text": [
      "Autonomous driving, also known as self-driving cars, is a rapidly advancing field in AI. It involves developing vehicles that can operate without human intervention. These vehicles use a combination of sensors, cameras, radar, and AI algorithms to navigate roads, detect obstacles, and make decisions in real-time. Companies like Tesla, Waymo, and Uber are investing heavily in autonomous driving technology. The goal is to improve road safety, reduce traffic congestion, and provide greater mobility for people who are unable to drive. There are still challenges to overcome, such as ensuring the safety and reliability of autonomous vehicles in all driving conditions.\n"
     ]
    }
   ],
   "source": [
    "result = conversation.invoke({\"human_input\": \"hi! Tell me about autonomous driving?\"})\n",
    "print(result['text'])"
   ]
  },
  {
   "cell_type": "code",
   "execution_count": 12,
   "metadata": {},
   "outputs": [
    {
     "name": "stdout",
     "output_type": "stream",
     "text": [
      "It's difficult to determine a single leader in the field of autonomous driving, as there are several companies making significant advancements in this area. Companies like Tesla, Waymo, and Uber are often considered key players in the development of autonomous driving technology. Each of these companies has its own unique approach and strengths in this field. Tesla is known for its innovative use of AI and machine learning in its vehicles, Waymo has been testing autonomous vehicles on public roads for several years, and Uber has been working on autonomous driving technology for its ride-sharing services. Ultimately, the leader in autonomous driving may vary depending on the specific criteria or metrics being considered.\n"
     ]
    }
   ],
   "source": [
    "result = conversation.invoke({\"human_input\": \"Which do you think is the leader?\"})\n",
    "print(result['text'])"
   ]
  },
  {
   "cell_type": "code",
   "execution_count": 13,
   "metadata": {},
   "outputs": [
    {
     "name": "stdout",
     "output_type": "stream",
     "text": [
      "While autonomous driving technology has the potential to improve road safety by reducing human error, there are still concerns about the safety and reliability of autonomous vehicles in all driving conditions. Companies developing autonomous driving technology are continuously testing and improving their systems to ensure safety. It's important to consider that like any emerging technology, there may be risks and challenges that need to be addressed before autonomous driving becomes widely adopted.\n"
     ]
    }
   ],
   "source": [
    "result = conversation.invoke({\"human_input\": \"Is this really safe?\"})\n",
    "print(result['text'])"
   ]
  },
  {
   "cell_type": "code",
   "execution_count": 14,
   "metadata": {},
   "outputs": [
    {
     "name": "stdout",
     "output_type": "stream",
     "text": [
      "[HumanMessage(content='hi! Tell me about autonomous driving?'),\n",
      " AIMessage(content='Autonomous driving, also known as self-driving cars, is a rapidly advancing field in AI. It involves developing vehicles that can operate without human intervention. These vehicles use a combination of sensors, cameras, radar, and AI algorithms to navigate roads, detect obstacles, and make decisions in real-time. Companies like Tesla, Waymo, and Uber are investing heavily in autonomous driving technology. The goal is to improve road safety, reduce traffic congestion, and provide greater mobility for people who are unable to drive. There are still challenges to overcome, such as ensuring the safety and reliability of autonomous vehicles in all driving conditions.'),\n",
      " HumanMessage(content='Which do you think is the leader?'),\n",
      " AIMessage(content=\"It's difficult to determine a single leader in the field of autonomous driving, as there are several companies making significant advancements in this area. Companies like Tesla, Waymo, and Uber are often considered key players in the development of autonomous driving technology. Each of these companies has its own unique approach and strengths in this field. Tesla is known for its innovative use of AI and machine learning in its vehicles, Waymo has been testing autonomous vehicles on public roads for several years, and Uber has been working on autonomous driving technology for its ride-sharing services. Ultimately, the leader in autonomous driving may vary depending on the specific criteria or metrics being considered.\")]\n"
     ]
    }
   ],
   "source": [
    "### Look at the chat history stored\n",
    "import pprint\n",
    "pprint.pprint(result['chat_history'])"
   ]
  },
  {
   "cell_type": "markdown",
   "metadata": {},
   "source": [
    "You can also use token buffer memory to take a fixed token limit from the past. See here for more details:\n",
    "https://python.langchain.com/docs/modules/memory/types/token_buffer/"
   ]
  },
  {
   "cell_type": "markdown",
   "metadata": {},
   "source": [
    "### Conversation Summary Memory\n",
    "\n",
    "![Buffer Memory](images/summary-memory.png)"
   ]
  },
  {
   "cell_type": "markdown",
   "metadata": {},
   "source": [
    "| Pros      | Cons |\n",
    "| ----------- | ----------- |\n",
    "| Summarizes long conversations     | Involves Time and cost to create summaries    |\n",
    "| Can work with bringing in old context from long conversations    | Pertinent information many not be in summary|"
   ]
  },
  {
   "cell_type": "code",
   "execution_count": 15,
   "metadata": {},
   "outputs": [],
   "source": [
    "llm = ChatOpenAI()\n",
    "template = \"\"\"You are a chatbot having a conversation with a human.\n",
    "\n",
    "{chat_history}\n",
    "Human: {human_input}\n",
    "Chatbot:\"\"\"\n",
    "\n",
    "prompt = PromptTemplate(\n",
    "    input_variables=[\"chat_history\", \"human_input\"], template=template\n",
    ")\n",
    "# Notice that we `return_messages=True` to fit into the MessagesPlaceholder\n",
    "# Notice that `\"chat_history\"` aligns with the MessagesPlaceholder name.\n",
    "memory = ConversationSummaryMemory(llm=ChatOpenAI(temperature=0), memory_key='chat_history', return_messages=True)\n",
    "conversation = LLMChain(\n",
    "    llm=llm,\n",
    "    prompt=prompt,\n",
    "    verbose=False,\n",
    "    memory=memory\n",
    ")"
   ]
  },
  {
   "cell_type": "code",
   "execution_count": 16,
   "metadata": {},
   "outputs": [
    {
     "name": "stdout",
     "output_type": "stream",
     "text": [
      "Hi there! Some of the latest trends in AI include advancements in natural language processing, computer vision, reinforcement learning, and the increasing use of AI in healthcare, finance, and other industries. Is there a specific area of AI you're interested in?\n"
     ]
    }
   ],
   "source": [
    "result = conversation.invoke({\"human_input\": \"hi! What are the latest trends in AI?\"})\n",
    "print(result['text'])"
   ]
  },
  {
   "cell_type": "code",
   "execution_count": 17,
   "metadata": {},
   "outputs": [
    {
     "name": "stdout",
     "output_type": "stream",
     "text": [
      "Autonomous driving is a fascinating area of AI that has seen significant advancements in recent years. It involves developing vehicles that can operate without human intervention. Companies like Tesla, Waymo, and Uber are leading the way in this technology, using AI algorithms to navigate roads, detect obstacles, and make decisions in real-time. Autonomous driving has the potential to revolutionize transportation, making it safer, more efficient, and convenient. Is there anything specific you'd like to know about autonomous driving?\n"
     ]
    }
   ],
   "source": [
    "result = conversation.invoke({\"human_input\": \"Tell me about autonomous driving\"})\n",
    "print(result['text'])"
   ]
  },
  {
   "cell_type": "code",
   "execution_count": 18,
   "metadata": {},
   "outputs": [
    {
     "name": "stdout",
     "output_type": "stream",
     "text": [
      "It's difficult to predict an exact timeline, but many experts believe that fully autonomous vehicles could be on the roads within the next 5-10 years. However, the widespread adoption of self-driving cars will depend on various factors such as regulatory approval, technological advancements, and public acceptance. Companies like Tesla, Waymo, and Uber are making significant progress in this area, so it's definitely an exciting time for autonomous driving technology.\n"
     ]
    }
   ],
   "source": [
    "result = conversation.invoke({\"human_input\": \"How many years do you think till we have self driving cars?\"})\n",
    "print(result['text'])"
   ]
  },
  {
   "cell_type": "code",
   "execution_count": 19,
   "metadata": {},
   "outputs": [
    {
     "name": "stdout",
     "output_type": "stream",
     "text": [
      "The development of autonomous vehicles is focused on safety, with AI algorithms constantly analyzing data from sensors to make split-second decisions to prevent accidents. Companies are conducting extensive testing to ensure the safety of these vehicles before they are deployed on public roads. However, there are still challenges to overcome, such as unpredictable human behavior and adverse weather conditions. Regulatory bodies are also working on establishing guidelines for autonomous vehicles to ensure they meet safety standards. Overall, the goal is to make autonomous driving as safe as possible for all road users.\n"
     ]
    }
   ],
   "source": [
    "result = conversation.invoke({\"human_input\": \"Will these cars be safe?\"})\n",
    "print(result['text'])"
   ]
  },
  {
   "cell_type": "code",
   "execution_count": 20,
   "metadata": {},
   "outputs": [
    {
     "name": "stdout",
     "output_type": "stream",
     "text": [
      "[SystemMessage(content='The human asks about the latest trends in AI, and the AI responds by mentioning advancements in natural language processing, computer vision, reinforcement learning, and the increasing use of AI in industries like healthcare and finance. The AI also asks if there is a specific area of AI the human is interested in. The human inquires about autonomous driving, and the AI explains that companies like Tesla, Waymo, and Uber are leading the way in developing vehicles that can operate without human intervention using AI algorithms. The AI mentions that experts believe fully autonomous vehicles could be on the roads within the next 5-10 years, but widespread adoption will depend on factors like regulatory approval and public acceptance.')]\n"
     ]
    }
   ],
   "source": [
    "### Look at the chat history stored\n",
    "import pprint\n",
    "pprint.pprint(result['chat_history'])"
   ]
  },
  {
   "cell_type": "code",
   "execution_count": 21,
   "metadata": {},
   "outputs": [
    {
     "name": "stdout",
     "output_type": "stream",
     "text": [
      "{'human_input': 'Will these cars be safe?', 'chat_history': [SystemMessage(content='The human asks about the latest trends in AI, and the AI responds by mentioning advancements in natural language processing, computer vision, reinforcement learning, and the increasing use of AI in industries like healthcare and finance. The AI also asks if there is a specific area of AI the human is interested in. The human inquires about autonomous driving, and the AI explains that companies like Tesla, Waymo, and Uber are leading the way in developing vehicles that can operate without human intervention using AI algorithms. The AI mentions that experts believe fully autonomous vehicles could be on the roads within the next 5-10 years, but widespread adoption will depend on factors like regulatory approval and public acceptance.')], 'text': 'The development of autonomous vehicles is focused on safety, with AI algorithms constantly analyzing data from sensors to make split-second decisions to prevent accidents. Companies are conducting extensive testing to ensure the safety of these vehicles before they are deployed on public roads. However, there are still challenges to overcome, such as unpredictable human behavior and adverse weather conditions. Regulatory bodies are also working on establishing guidelines for autonomous vehicles to ensure they meet safety standards. Overall, the goal is to make autonomous driving as safe as possible for all road users.'}\n"
     ]
    }
   ],
   "source": [
    "print(result)"
   ]
  },
  {
   "cell_type": "markdown",
   "metadata": {},
   "source": [
    "### Combine 2 kinds of memory"
   ]
  },
  {
   "cell_type": "code",
   "execution_count": 22,
   "metadata": {},
   "outputs": [],
   "source": [
    "llm = ChatOpenAI()\n",
    "template = \"\"\"You are a chatbot having a conversation with a human.\n",
    "\n",
    "Summary of conversation:\n",
    "{history}\n",
    "\n",
    "Current conversation:\n",
    "{recent_conversation}\n",
    "\n",
    "Human: {input}\n",
    "Chatbot:\n",
    "\n",
    "\"\"\"\n",
    "\n",
    "prompt = PromptTemplate(\n",
    "    input_variables=[\"history\", \"recent_conversation\", \"input\"], template=template\n",
    ")\n",
    "# Notice that we `return_messages=True` to fit into the MessagesPlaceholder\n",
    "conv_memory = ConversationBufferWindowMemory(memory_key=\"recent_conversation\", k=2, input_key='input', return_messages=True)\n",
    "summary_memory = ConversationSummaryMemory(llm=ChatOpenAI(temperature=0), memory_key='history', input_key='input', return_messages=True)\n",
    "memory = CombinedMemory(memories=[conv_memory, summary_memory])\n",
    "\n",
    "conversation = LLMChain(\n",
    "    llm=llm,\n",
    "    prompt=prompt,\n",
    "    verbose=False,\n",
    "    memory=memory\n",
    ")"
   ]
  },
  {
   "cell_type": "code",
   "execution_count": 23,
   "metadata": {},
   "outputs": [
    {
     "name": "stdout",
     "output_type": "stream",
     "text": [
      "Of course! I can help you find some gift ideas or recommend some popular items. What are you looking for in particular?\n"
     ]
    }
   ],
   "source": [
    "result = conversation.invoke({\"input\": \"help me with my Christmas shopping please\"})\n",
    "print(result['text'])"
   ]
  },
  {
   "cell_type": "code",
   "execution_count": 24,
   "metadata": {},
   "outputs": [
    {
     "name": "stdout",
     "output_type": "stream",
     "text": [
      "For your dad who enjoys woodworking, you could consider getting him a new set of high-quality chisels or a versatile multi-tool that could come in handy for various projects. For your mom who loves to cook, a popular kitchen gadget you could consider is a high-end stand mixer or a high-tech kitchen scale. Let me know if you need more suggestions for any other family members!\n"
     ]
    }
   ],
   "source": [
    "result = conversation.invoke({\"input\": \"for my entire family. Lets start with my parents. My dad likes to do wood working so suggest a new tool for him. My mom likes to cook so suggest a new kitchen gadget for her\"})\n",
    "print(result['text'])"
   ]
  },
  {
   "cell_type": "code",
   "execution_count": 25,
   "metadata": {},
   "outputs": [
    {
     "name": "stdout",
     "output_type": "stream",
     "text": [
      "For your sister who enjoys massages and spa, you could consider getting her a gift certificate for a relaxing spa day, a set of luxurious bath bombs or essential oils for at-home relaxation, or a massage pillow or massager for stress relief. Let me know if you need more suggestions for any other family members!\n"
     ]
    }
   ],
   "source": [
    "result = conversation.invoke({\"input\": \"My sister likes massages and spa.\"})\n",
    "print(result['text'])"
   ]
  },
  {
   "cell_type": "code",
   "execution_count": 26,
   "metadata": {},
   "outputs": [
    {
     "name": "stdout",
     "output_type": "stream",
     "text": [
      "For your wife who likes jewelry, you could consider getting her a beautiful piece of jewelry such as a necklace, bracelet, or earrings. You could also consider a jewelry box or organizer to help keep her collection organized. Let me know if you need more suggestions for any other family members!\n"
     ]
    }
   ],
   "source": [
    "result = conversation.invoke({\"input\": \"My wife likes jewellery.\"})\n",
    "print(result['text'])"
   ]
  },
  {
   "cell_type": "code",
   "execution_count": 27,
   "metadata": {},
   "outputs": [
    {
     "name": "stdout",
     "output_type": "stream",
     "text": [
      "{'history': [SystemMessage(content='The human asks the AI to help with Christmas shopping, starting with gift ideas for their parents. The AI suggests a new set of high-quality chisels or a versatile multi-tool for the dad who enjoys woodworking, and a high-end stand mixer or a high-tech kitchen scale for the mom who loves to cook. The AI then recommends a gift certificate for a relaxing spa day, luxurious bath bombs, or a massage pillow for the sister who enjoys massages and spa. The AI offers to provide more suggestions for other family members if needed.')],\n",
      " 'input': 'My wife likes jewellery.',\n",
      " 'recent_conversation': [HumanMessage(content='for my entire family. Lets start with my parents. My dad likes to do wood working so suggest a new tool for him. My mom likes to cook so suggest a new kitchen gadget for her'),\n",
      "                         AIMessage(content='For your dad who enjoys woodworking, you could consider getting him a new set of high-quality chisels or a versatile multi-tool that could come in handy for various projects. For your mom who loves to cook, a popular kitchen gadget you could consider is a high-end stand mixer or a high-tech kitchen scale. Let me know if you need more suggestions for any other family members!'),\n",
      "                         HumanMessage(content='My sister likes massages and spa.'),\n",
      "                         AIMessage(content='For your sister who enjoys massages and spa, you could consider getting her a gift certificate for a relaxing spa day, a set of luxurious bath bombs or essential oils for at-home relaxation, or a massage pillow or massager for stress relief. Let me know if you need more suggestions for any other family members!')],\n",
      " 'text': 'For your wife who likes jewelry, you could consider getting her a '\n",
      "         'beautiful piece of jewelry such as a necklace, bracelet, or '\n",
      "         'earrings. You could also consider a jewelry box or organizer to help '\n",
      "         'keep her collection organized. Let me know if you need more '\n",
      "         'suggestions for any other family members!'}\n"
     ]
    }
   ],
   "source": [
    "pprint.pprint(result)"
   ]
  },
  {
   "cell_type": "markdown",
   "metadata": {},
   "source": [
    "### Entity Memory\n",
    "\n",
    "![Entity Memory](images/entity-example.png)"
   ]
  },
  {
   "cell_type": "markdown",
   "metadata": {},
   "source": [
    "| Pros      | Cons |\n",
    "| ----------- | ----------- |\n",
    "| Organizes relevant information by entity     | Involves Time and cost to create entities    |\n",
    "| More likely to capture relevant details for long conversations    | Can become very large for long conversations|"
   ]
  },
  {
   "cell_type": "code",
   "execution_count": 28,
   "metadata": {},
   "outputs": [
    {
     "name": "stdout",
     "output_type": "stream",
     "text": [
      "input_variables=['entities', 'history', 'input'] template='You are an assistant to a human, powered by a large language model trained by OpenAI.\\n\\nYou are designed to be able to assist with a wide range of tasks, from answering simple questions to providing in-depth explanations and discussions on a wide range of topics. As a language model, you are able to generate human-like text based on the input you receive, allowing you to engage in natural-sounding conversations and provide responses that are coherent and relevant to the topic at hand.\\n\\nYou are constantly learning and improving, and your capabilities are constantly evolving. You are able to process and understand large amounts of text, and can use this knowledge to provide accurate and informative responses to a wide range of questions. You have access to some personalized information provided by the human in the Context section below. Additionally, you are able to generate your own text based on the input you receive, allowing you to engage in discussions and provide explanations and descriptions on a wide range of topics.\\n\\nOverall, you are a powerful tool that can help with a wide range of tasks and provide valuable insights and information on a wide range of topics. Whether the human needs help with a specific question or just wants to have a conversation about a particular topic, you are here to assist.\\n\\nContext:\\n{entities}\\n\\nCurrent conversation:\\n{history}\\nLast line:\\nHuman: {input}\\nYou:'\n"
     ]
    }
   ],
   "source": [
    "from langchain.memory.prompt import ENTITY_MEMORY_CONVERSATION_TEMPLATE\n",
    "print(ENTITY_MEMORY_CONVERSATION_TEMPLATE)"
   ]
  },
  {
   "cell_type": "code",
   "execution_count": 29,
   "metadata": {},
   "outputs": [],
   "source": [
    "llm = ChatOpenAI()\n",
    "# Notice that `\"chat_history\"` aligns with the MessagesPlaceholder name.\n",
    "memory = ConversationEntityMemory(llm=ChatOpenAI(temperature=0), memory_key='chat_history', return_messages=True)\n",
    "conversation = LLMChain(\n",
    "    llm=llm,\n",
    "    prompt=ENTITY_MEMORY_CONVERSATION_TEMPLATE,\n",
    "    verbose=False,\n",
    "    memory=memory\n",
    ")"
   ]
  },
  {
   "cell_type": "code",
   "execution_count": 30,
   "metadata": {},
   "outputs": [
    {
     "data": {
      "text/plain": [
       "'That sounds like a lovely plan! Family dinners are a great way to spend quality time together and enjoy some good food. Do you have a favorite dish or restaurant you like to go to for family dinners?'"
      ]
     },
     "execution_count": 30,
     "metadata": {},
     "output_type": "execute_result"
    }
   ],
   "source": [
    "result = conversation.invoke({\"input\": \"We are all going for a family dinner\"})\n",
    "result['text']"
   ]
  },
  {
   "cell_type": "code",
   "execution_count": 31,
   "metadata": {},
   "outputs": [
    {
     "data": {
      "text/plain": [
       "\"That's wonderful to hear that you're going for an Italian dinner! Since you and your family have different preferences for the main course, it's great to have a variety of options. \\n\\nFor starters, you could consider ordering some classic Italian appetizers like bruschetta, caprese salad, or antipasto platter. These options are light and flavorful, and they can help set the tone for a delicious meal ahead. Additionally, you could also consider ordering some garlic bread or garlic knots for a simple yet tasty starter.\\n\\nI hope these suggestions help enhance your family dinner experience! Enjoy your meal with your loved ones. If you have any other preferences or dietary restrictions, feel free to let me know for more personalized recommendations.\""
      ]
     },
     "execution_count": 31,
     "metadata": {},
     "output_type": "execute_result"
    }
   ],
   "source": [
    "result = conversation.invoke({\"input\": \"I agree. We are going for an Italian dinner. I like to order raviola pasta. My husband like gnocci. My son Sam likes margarita pizza and my daughter Bella likes fettucini alfredo. Can you suggest starters for us?\"})\n",
    "result['text']"
   ]
  },
  {
   "cell_type": "code",
   "execution_count": 32,
   "metadata": {},
   "outputs": [
    {
     "data": {
      "text/plain": [
       "'For drinks to accompany your Italian dinner, you could consider some classic options such as a glass of wine. For a family-friendly option, you could go for some Italian sodas like Limonata or Aranciata, which are refreshing and pair well with Italian cuisine. If you prefer non-alcoholic options, you could also consider ordering some sparkling water or fruit juices. Enjoy your meal with these delicious drink choices!'"
      ]
     },
     "execution_count": 32,
     "metadata": {},
     "output_type": "execute_result"
    }
   ],
   "source": [
    "result = conversation.invoke({\"input\": \"Perfect. Me and my husband will like the Caprese salad. The kids will like to share a bruschetta. What drinks will you suggest?\"})\n",
    "result['text']"
   ]
  },
  {
   "cell_type": "code",
   "execution_count": 33,
   "metadata": {},
   "outputs": [
    {
     "data": {
      "text/plain": [
       "\"That sounds like a great choice! Soda for the kids and prosecco for the adults is a perfect combination to cater to everyone's preferences. The kids can enjoy a refreshing and fun soda, while the adults can savor the sparkling and elegant prosecco. It's a thoughtful selection that will surely complement your Italian dinner experience. Enjoy your meal with these delightful drink choices!\""
      ]
     },
     "execution_count": 33,
     "metadata": {},
     "output_type": "execute_result"
    }
   ],
   "source": [
    "result = conversation.invoke({\"input\": \"Soda for the kids and prosecco for the adults\"})\n",
    "result['text']"
   ]
  },
  {
   "cell_type": "code",
   "execution_count": 34,
   "metadata": {},
   "outputs": [
    {
     "data": {
      "text/plain": [
       "{'Italian': 'Italian cuisine offers a variety of dishes such as raviola pasta, gnocci, margarita pizza, and fettucini alfredo, catering to different preferences within the family.',\n",
       " 'Sam': 'Sam likes margarita pizza.',\n",
       " 'Bella': 'Bella likes fettucini alfredo.',\n",
       " 'Caprese': 'Caprese salad is preferred by the human and their husband for the family dinner.',\n",
       " 'bruschetta': 'Bruschetta is a shared appetizer that the kids enjoy during family dinners.',\n",
       " 'Soda': 'Soda is a refreshing and fun drink choice for kids, while prosecco is a sparkling and elegant option for adults.',\n",
       " 'Prosecco': 'Prosecco is a sparkling and elegant drink choice for adults to savor during an Italian dinner.'}"
      ]
     },
     "execution_count": 34,
     "metadata": {},
     "output_type": "execute_result"
    }
   ],
   "source": [
    "conversation.memory.entity_store.store"
   ]
  },
  {
   "cell_type": "markdown",
   "metadata": {},
   "source": [
    "### Exercise\n",
    "\n",
    "Explore the CONVERSATION_TOKEN_BUFFER memory from Langchain. What are its advantages/disadvantages compared to conversation window memory?\n",
    "\n",
    "https://python.langchain.com/docs/modules/memory/types/token_buffer/"
   ]
  },
  {
   "cell_type": "code",
   "execution_count": null,
   "metadata": {},
   "outputs": [],
   "source": []
  }
 ],
 "metadata": {
  "kernelspec": {
   "display_name": "llm_agents",
   "language": "python",
   "name": "python3"
  },
  "language_info": {
   "codemirror_mode": {
    "name": "ipython",
    "version": 3
   },
   "file_extension": ".py",
   "mimetype": "text/x-python",
   "name": "python",
   "nbconvert_exporter": "python",
   "pygments_lexer": "ipython3",
   "version": "3.12.4"
  }
 },
 "nbformat": 4,
 "nbformat_minor": 2
}
